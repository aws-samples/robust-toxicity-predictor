{
 "cells": [
  {
   "cell_type": "markdown",
   "id": "687fc795",
   "metadata": {},
   "source": [
    "# Building a Robust Text-based toxicity Predictor\n",
    "\n",
    "Author: Yi Xiang \n",
    "\n",
    "In this notebook, we provide an end to end implementation of training a Binary Toxicity Classifier and improve its robustness against Text Adversarial Attacks using Adversarial Training. "
   ]
  },
  {
   "cell_type": "markdown",
   "id": "43d367e4",
   "metadata": {},
   "source": [
    "# Load Packages"
   ]
  },
  {
   "cell_type": "code",
   "execution_count": 2,
   "id": "0a03187d",
   "metadata": {
    "collapsed": true,
    "jupyter": {
     "outputs_hidden": true
    },
    "scrolled": true
   },
   "outputs": [
    {
     "name": "stdout",
     "output_type": "stream",
     "text": [
      "Requirement already satisfied: transformers in /home/ec2-user/anaconda3/envs/pytorch_latest_p36/lib/python3.6/site-packages (4.12.2)\n",
      "Collecting transformers\n",
      "  Using cached transformers-4.18.0-py3-none-any.whl (4.0 MB)\n",
      "Requirement already satisfied: datasets in /home/ec2-user/anaconda3/envs/pytorch_latest_p36/lib/python3.6/site-packages (1.15.0)\n",
      "Collecting datasets\n",
      "  Using cached datasets-2.4.0-py3-none-any.whl (365 kB)\n",
      "Requirement already satisfied: dataclasses in /home/ec2-user/anaconda3/envs/pytorch_latest_p36/lib/python3.6/site-packages (from transformers) (0.8)\n",
      "Requirement already satisfied: sacremoses in /home/ec2-user/anaconda3/envs/pytorch_latest_p36/lib/python3.6/site-packages (from transformers) (0.0.53)\n",
      "Requirement already satisfied: filelock in /home/ec2-user/anaconda3/envs/pytorch_latest_p36/lib/python3.6/site-packages (from transformers) (3.4.1)\n",
      "Requirement already satisfied: tqdm>=4.27 in /home/ec2-user/anaconda3/envs/pytorch_latest_p36/lib/python3.6/site-packages (from transformers) (4.62.3)\n",
      "Requirement already satisfied: requests in /home/ec2-user/anaconda3/envs/pytorch_latest_p36/lib/python3.6/site-packages (from transformers) (2.26.0)\n",
      "Collecting tokenizers!=0.11.3,<0.13,>=0.11.1\n",
      "  Using cached tokenizers-0.12.1-cp36-cp36m-manylinux_2_12_x86_64.manylinux2010_x86_64.whl (6.6 MB)\n",
      "Requirement already satisfied: packaging>=20.0 in /home/ec2-user/anaconda3/envs/pytorch_latest_p36/lib/python3.6/site-packages (from transformers) (21.3)\n",
      "Requirement already satisfied: importlib-metadata in /home/ec2-user/anaconda3/envs/pytorch_latest_p36/lib/python3.6/site-packages (from transformers) (3.7.0)\n",
      "Requirement already satisfied: huggingface-hub<1.0,>=0.1.0 in /home/ec2-user/anaconda3/envs/pytorch_latest_p36/lib/python3.6/site-packages (from transformers) (0.4.0)\n",
      "Requirement already satisfied: pyyaml>=5.1 in /home/ec2-user/anaconda3/envs/pytorch_latest_p36/lib/python3.6/site-packages (from transformers) (5.4.1)\n",
      "Requirement already satisfied: numpy>=1.17 in /home/ec2-user/anaconda3/envs/pytorch_latest_p36/lib/python3.6/site-packages (from transformers) (1.19.2)\n",
      "Requirement already satisfied: regex!=2019.12.17 in /home/ec2-user/anaconda3/envs/pytorch_latest_p36/lib/python3.6/site-packages (from transformers) (2020.11.13)\n",
      "Requirement already satisfied: fsspec[http]>=2021.11.1 in /home/ec2-user/anaconda3/envs/pytorch_latest_p36/lib/python3.6/site-packages (from datasets) (2022.1.0)\n",
      "Requirement already satisfied: xxhash in /home/ec2-user/anaconda3/envs/pytorch_latest_p36/lib/python3.6/site-packages (from datasets) (3.1.0)\n",
      "Requirement already satisfied: pyarrow>=6.0.0 in /home/ec2-user/anaconda3/envs/pytorch_latest_p36/lib/python3.6/site-packages (from datasets) (6.0.1)\n",
      "Requirement already satisfied: multiprocess in /home/ec2-user/anaconda3/envs/pytorch_latest_p36/lib/python3.6/site-packages (from datasets) (0.70.12.2)\n",
      "Requirement already satisfied: responses<0.19 in /home/ec2-user/anaconda3/envs/pytorch_latest_p36/lib/python3.6/site-packages (from datasets) (0.17.0)\n",
      "Requirement already satisfied: dill<0.3.6 in /home/ec2-user/anaconda3/envs/pytorch_latest_p36/lib/python3.6/site-packages (from datasets) (0.3.4)\n",
      "Requirement already satisfied: aiohttp in /home/ec2-user/anaconda3/envs/pytorch_latest_p36/lib/python3.6/site-packages (from datasets) (3.8.1)\n",
      "Requirement already satisfied: pandas in /home/ec2-user/anaconda3/envs/pytorch_latest_p36/lib/python3.6/site-packages (from datasets) (1.1.5)\n",
      "Requirement already satisfied: typing-extensions>=3.7.4.3 in /home/ec2-user/anaconda3/envs/pytorch_latest_p36/lib/python3.6/site-packages (from huggingface-hub<1.0,>=0.1.0->transformers) (3.7.4.3)\n",
      "Requirement already satisfied: pyparsing!=3.0.5,>=2.0.2 in /home/ec2-user/anaconda3/envs/pytorch_latest_p36/lib/python3.6/site-packages (from packaging>=20.0->transformers) (2.4.7)\n",
      "Requirement already satisfied: charset-normalizer~=2.0.0 in /home/ec2-user/anaconda3/envs/pytorch_latest_p36/lib/python3.6/site-packages (from requests->transformers) (2.0.9)\n",
      "Requirement already satisfied: certifi>=2017.4.17 in /home/ec2-user/anaconda3/envs/pytorch_latest_p36/lib/python3.6/site-packages (from requests->transformers) (2021.5.30)\n",
      "Requirement already satisfied: urllib3<1.27,>=1.21.1 in /home/ec2-user/anaconda3/envs/pytorch_latest_p36/lib/python3.6/site-packages (from requests->transformers) (1.26.8)\n",
      "Requirement already satisfied: idna<4,>=2.5 in /home/ec2-user/anaconda3/envs/pytorch_latest_p36/lib/python3.6/site-packages (from requests->transformers) (3.1)\n",
      "Requirement already satisfied: six in /home/ec2-user/anaconda3/envs/pytorch_latest_p36/lib/python3.6/site-packages (from responses<0.19->datasets) (1.15.0)\n",
      "Requirement already satisfied: attrs>=17.3.0 in /home/ec2-user/anaconda3/envs/pytorch_latest_p36/lib/python3.6/site-packages (from aiohttp->datasets) (20.3.0)\n",
      "Requirement already satisfied: asynctest==0.13.0 in /home/ec2-user/anaconda3/envs/pytorch_latest_p36/lib/python3.6/site-packages (from aiohttp->datasets) (0.13.0)\n",
      "Requirement already satisfied: multidict<7.0,>=4.5 in /home/ec2-user/anaconda3/envs/pytorch_latest_p36/lib/python3.6/site-packages (from aiohttp->datasets) (5.1.0)\n",
      "Requirement already satisfied: idna-ssl>=1.0 in /home/ec2-user/anaconda3/envs/pytorch_latest_p36/lib/python3.6/site-packages (from aiohttp->datasets) (1.1.0)\n",
      "Requirement already satisfied: yarl<2.0,>=1.0 in /home/ec2-user/anaconda3/envs/pytorch_latest_p36/lib/python3.6/site-packages (from aiohttp->datasets) (1.6.3)\n",
      "Requirement already satisfied: aiosignal>=1.1.2 in /home/ec2-user/anaconda3/envs/pytorch_latest_p36/lib/python3.6/site-packages (from aiohttp->datasets) (1.2.0)\n",
      "Requirement already satisfied: async-timeout<5.0,>=4.0.0a3 in /home/ec2-user/anaconda3/envs/pytorch_latest_p36/lib/python3.6/site-packages (from aiohttp->datasets) (4.0.1)\n",
      "Requirement already satisfied: frozenlist>=1.1.1 in /home/ec2-user/anaconda3/envs/pytorch_latest_p36/lib/python3.6/site-packages (from aiohttp->datasets) (1.2.0)\n",
      "Requirement already satisfied: zipp>=0.5 in /home/ec2-user/anaconda3/envs/pytorch_latest_p36/lib/python3.6/site-packages (from importlib-metadata->transformers) (3.4.0)\n",
      "Requirement already satisfied: python-dateutil>=2.7.3 in /home/ec2-user/anaconda3/envs/pytorch_latest_p36/lib/python3.6/site-packages (from pandas->datasets) (2.8.1)\n",
      "Requirement already satisfied: pytz>=2017.2 in /home/ec2-user/anaconda3/envs/pytorch_latest_p36/lib/python3.6/site-packages (from pandas->datasets) (2021.1)\n",
      "Requirement already satisfied: joblib in /home/ec2-user/anaconda3/envs/pytorch_latest_p36/lib/python3.6/site-packages (from sacremoses->transformers) (1.0.1)\n",
      "Requirement already satisfied: click in /home/ec2-user/anaconda3/envs/pytorch_latest_p36/lib/python3.6/site-packages (from sacremoses->transformers) (7.1.2)\n",
      "Installing collected packages: tokenizers, transformers, datasets\n",
      "  Attempting uninstall: tokenizers\n",
      "    Found existing installation: tokenizers 0.10.3\n",
      "    Uninstalling tokenizers-0.10.3:\n",
      "      Successfully uninstalled tokenizers-0.10.3\n",
      "  Attempting uninstall: transformers\n",
      "    Found existing installation: transformers 4.12.2\n",
      "    Uninstalling transformers-4.12.2:\n",
      "      Successfully uninstalled transformers-4.12.2\n",
      "  Attempting uninstall: datasets\n",
      "    Found existing installation: datasets 1.15.0\n",
      "    Uninstalling datasets-1.15.0:\n",
      "      Successfully uninstalled datasets-1.15.0\n",
      "\u001b[31mERROR: pip's dependency resolver does not currently take into account all the packages that are installed. This behaviour is the source of the following dependency conflicts.\n",
      "textattack 0.3.5 requires datasets==1.15, but you have datasets 2.4.0 which is incompatible.\u001b[0m\n",
      "Successfully installed datasets-2.4.0 tokenizers-0.12.1 transformers-4.18.0\n",
      "Note: you may need to restart the kernel to use updated packages.\n",
      "Requirement already satisfied: textattack[tensorflow] in /home/ec2-user/anaconda3/envs/pytorch_latest_p36/lib/python3.6/site-packages (0.3.5)\n",
      "Requirement already satisfied: editdistance in /home/ec2-user/anaconda3/envs/pytorch_latest_p36/lib/python3.6/site-packages (from textattack[tensorflow]) (0.6.1)\n",
      "Requirement already satisfied: torch!=1.8,>=1.7.0 in /home/ec2-user/anaconda3/envs/pytorch_latest_p36/lib/python3.6/site-packages (from textattack[tensorflow]) (1.7.1)\n",
      "Requirement already satisfied: more-itertools in /home/ec2-user/anaconda3/envs/pytorch_latest_p36/lib/python3.6/site-packages (from textattack[tensorflow]) (8.7.0)\n",
      "Requirement already satisfied: flair in /home/ec2-user/anaconda3/envs/pytorch_latest_p36/lib/python3.6/site-packages (from textattack[tensorflow]) (0.11.3)\n",
      "Requirement already satisfied: PySocks!=1.5.7,>=1.5.6 in /home/ec2-user/anaconda3/envs/pytorch_latest_p36/lib/python3.6/site-packages (from textattack[tensorflow]) (1.7.1)\n",
      "Requirement already satisfied: terminaltables in /home/ec2-user/anaconda3/envs/pytorch_latest_p36/lib/python3.6/site-packages (from textattack[tensorflow]) (3.1.10)\n",
      "Requirement already satisfied: pycld2 in /home/ec2-user/anaconda3/envs/pytorch_latest_p36/lib/python3.6/site-packages (from textattack[tensorflow]) (0.41)\n",
      "Requirement already satisfied: lru-dict in /home/ec2-user/anaconda3/envs/pytorch_latest_p36/lib/python3.6/site-packages (from textattack[tensorflow]) (1.1.8)\n",
      "Requirement already satisfied: numpy>=1.19.2 in /home/ec2-user/anaconda3/envs/pytorch_latest_p36/lib/python3.6/site-packages (from textattack[tensorflow]) (1.19.2)\n",
      "Requirement already satisfied: filelock in /home/ec2-user/anaconda3/envs/pytorch_latest_p36/lib/python3.6/site-packages (from textattack[tensorflow]) (3.4.1)\n",
      "Requirement already satisfied: num2words in /home/ec2-user/anaconda3/envs/pytorch_latest_p36/lib/python3.6/site-packages (from textattack[tensorflow]) (0.5.12)\n",
      "Collecting datasets==1.15\n",
      "  Using cached datasets-1.15.0-py3-none-any.whl (290 kB)\n",
      "Requirement already satisfied: transformers>=3.3.0 in /home/ec2-user/anaconda3/envs/pytorch_latest_p36/lib/python3.6/site-packages (from textattack[tensorflow]) (4.18.0)\n",
      "Requirement already satisfied: language-tool-python in /home/ec2-user/anaconda3/envs/pytorch_latest_p36/lib/python3.6/site-packages (from textattack[tensorflow]) (2.7.1)\n",
      "Requirement already satisfied: pandas>=1.0.1 in /home/ec2-user/anaconda3/envs/pytorch_latest_p36/lib/python3.6/site-packages (from textattack[tensorflow]) (1.1.5)\n",
      "Requirement already satisfied: jieba in /home/ec2-user/anaconda3/envs/pytorch_latest_p36/lib/python3.6/site-packages (from textattack[tensorflow]) (0.42.1)\n",
      "Requirement already satisfied: scipy>=1.4.1 in /home/ec2-user/anaconda3/envs/pytorch_latest_p36/lib/python3.6/site-packages (from textattack[tensorflow]) (1.5.3)\n",
      "Requirement already satisfied: bert-score>=0.3.5 in /home/ec2-user/anaconda3/envs/pytorch_latest_p36/lib/python3.6/site-packages (from textattack[tensorflow]) (0.3.12)\n",
      "Requirement already satisfied: nltk in /home/ec2-user/anaconda3/envs/pytorch_latest_p36/lib/python3.6/site-packages (from textattack[tensorflow]) (3.4.4)\n",
      "Requirement already satisfied: word2number in /home/ec2-user/anaconda3/envs/pytorch_latest_p36/lib/python3.6/site-packages (from textattack[tensorflow]) (1.1)\n",
      "Requirement already satisfied: tqdm in /home/ec2-user/anaconda3/envs/pytorch_latest_p36/lib/python3.6/site-packages (from textattack[tensorflow]) (4.62.3)\n",
      "Requirement already satisfied: lemminflect in /home/ec2-user/anaconda3/envs/pytorch_latest_p36/lib/python3.6/site-packages (from textattack[tensorflow]) (0.2.3)\n",
      "Requirement already satisfied: pinyin==0.4.0 in /home/ec2-user/anaconda3/envs/pytorch_latest_p36/lib/python3.6/site-packages (from textattack[tensorflow]) (0.4.0)\n",
      "Requirement already satisfied: click<8.1.0 in /home/ec2-user/anaconda3/envs/pytorch_latest_p36/lib/python3.6/site-packages (from textattack[tensorflow]) (7.1.2)\n",
      "Requirement already satisfied: OpenHowNet in /home/ec2-user/anaconda3/envs/pytorch_latest_p36/lib/python3.6/site-packages (from textattack[tensorflow]) (2.0)\n",
      "Requirement already satisfied: tensorflow-estimator==2.5.0 in /home/ec2-user/anaconda3/envs/pytorch_latest_p36/lib/python3.6/site-packages (from textattack[tensorflow]) (2.5.0)\n",
      "Requirement already satisfied: tensorflow==2.5.0 in /home/ec2-user/anaconda3/envs/pytorch_latest_p36/lib/python3.6/site-packages (from textattack[tensorflow]) (2.5.0)\n",
      "Requirement already satisfied: tensorflow-text>=2 in /home/ec2-user/anaconda3/envs/pytorch_latest_p36/lib/python3.6/site-packages (from textattack[tensorflow]) (2.5.0)\n",
      "Requirement already satisfied: tensorboardX in /home/ec2-user/anaconda3/envs/pytorch_latest_p36/lib/python3.6/site-packages (from textattack[tensorflow]) (2.5.1)\n",
      "Requirement already satisfied: tensorflow-hub in /home/ec2-user/anaconda3/envs/pytorch_latest_p36/lib/python3.6/site-packages (from textattack[tensorflow]) (0.12.0)\n",
      "Requirement already satisfied: aiohttp in /home/ec2-user/anaconda3/envs/pytorch_latest_p36/lib/python3.6/site-packages (from datasets==1.15->textattack[tensorflow]) (3.8.1)\n",
      "Requirement already satisfied: fsspec[http]>=2021.05.0 in /home/ec2-user/anaconda3/envs/pytorch_latest_p36/lib/python3.6/site-packages (from datasets==1.15->textattack[tensorflow]) (2022.1.0)\n",
      "Collecting huggingface-hub<0.1.0,>=0.0.19\n",
      "  Using cached huggingface_hub-0.0.19-py3-none-any.whl (56 kB)\n",
      "Requirement already satisfied: requests>=2.19.0 in /home/ec2-user/anaconda3/envs/pytorch_latest_p36/lib/python3.6/site-packages (from datasets==1.15->textattack[tensorflow]) (2.26.0)\n",
      "Requirement already satisfied: xxhash in /home/ec2-user/anaconda3/envs/pytorch_latest_p36/lib/python3.6/site-packages (from datasets==1.15->textattack[tensorflow]) (3.1.0)\n",
      "Requirement already satisfied: multiprocess in /home/ec2-user/anaconda3/envs/pytorch_latest_p36/lib/python3.6/site-packages (from datasets==1.15->textattack[tensorflow]) (0.70.12.2)\n",
      "Requirement already satisfied: packaging in /home/ec2-user/anaconda3/envs/pytorch_latest_p36/lib/python3.6/site-packages (from datasets==1.15->textattack[tensorflow]) (21.3)\n",
      "Requirement already satisfied: dataclasses in /home/ec2-user/anaconda3/envs/pytorch_latest_p36/lib/python3.6/site-packages (from datasets==1.15->textattack[tensorflow]) (0.8)\n",
      "Requirement already satisfied: importlib-metadata in /home/ec2-user/anaconda3/envs/pytorch_latest_p36/lib/python3.6/site-packages (from datasets==1.15->textattack[tensorflow]) (3.7.0)\n",
      "Requirement already satisfied: dill in /home/ec2-user/anaconda3/envs/pytorch_latest_p36/lib/python3.6/site-packages (from datasets==1.15->textattack[tensorflow]) (0.3.4)\n",
      "Requirement already satisfied: pyarrow!=4.0.0,>=1.0.0 in /home/ec2-user/anaconda3/envs/pytorch_latest_p36/lib/python3.6/site-packages (from datasets==1.15->textattack[tensorflow]) (6.0.1)\n",
      "Requirement already satisfied: opt-einsum~=3.3.0 in /home/ec2-user/anaconda3/envs/pytorch_latest_p36/lib/python3.6/site-packages (from tensorflow==2.5.0->textattack[tensorflow]) (3.3.0)\n",
      "Requirement already satisfied: tensorboard~=2.5 in /home/ec2-user/anaconda3/envs/pytorch_latest_p36/lib/python3.6/site-packages (from tensorflow==2.5.0->textattack[tensorflow]) (2.10.1)\n",
      "Requirement already satisfied: six~=1.15.0 in /home/ec2-user/anaconda3/envs/pytorch_latest_p36/lib/python3.6/site-packages (from tensorflow==2.5.0->textattack[tensorflow]) (1.15.0)\n",
      "Requirement already satisfied: gast==0.4.0 in /home/ec2-user/anaconda3/envs/pytorch_latest_p36/lib/python3.6/site-packages (from tensorflow==2.5.0->textattack[tensorflow]) (0.4.0)\n",
      "Requirement already satisfied: protobuf>=3.9.2 in /home/ec2-user/anaconda3/envs/pytorch_latest_p36/lib/python3.6/site-packages (from tensorflow==2.5.0->textattack[tensorflow]) (3.19.1)\n",
      "Requirement already satisfied: keras-preprocessing~=1.1.2 in /home/ec2-user/anaconda3/envs/pytorch_latest_p36/lib/python3.6/site-packages (from tensorflow==2.5.0->textattack[tensorflow]) (1.1.2)\n",
      "Requirement already satisfied: flatbuffers~=1.12.0 in /home/ec2-user/anaconda3/envs/pytorch_latest_p36/lib/python3.6/site-packages (from tensorflow==2.5.0->textattack[tensorflow]) (1.12)\n",
      "Requirement already satisfied: h5py~=3.1.0 in /home/ec2-user/anaconda3/envs/pytorch_latest_p36/lib/python3.6/site-packages (from tensorflow==2.5.0->textattack[tensorflow]) (3.1.0)\n",
      "Requirement already satisfied: typing-extensions~=3.7.4 in /home/ec2-user/anaconda3/envs/pytorch_latest_p36/lib/python3.6/site-packages (from tensorflow==2.5.0->textattack[tensorflow]) (3.7.4.3)\n",
      "Requirement already satisfied: keras-nightly~=2.5.0.dev in /home/ec2-user/anaconda3/envs/pytorch_latest_p36/lib/python3.6/site-packages (from tensorflow==2.5.0->textattack[tensorflow]) (2.5.0.dev2021032900)\n",
      "Requirement already satisfied: wheel~=0.35 in /home/ec2-user/anaconda3/envs/pytorch_latest_p36/lib/python3.6/site-packages (from tensorflow==2.5.0->textattack[tensorflow]) (0.36.2)\n",
      "Requirement already satisfied: termcolor~=1.1.0 in /home/ec2-user/anaconda3/envs/pytorch_latest_p36/lib/python3.6/site-packages (from tensorflow==2.5.0->textattack[tensorflow]) (1.1.0)\n",
      "Requirement already satisfied: grpcio~=1.34.0 in /home/ec2-user/anaconda3/envs/pytorch_latest_p36/lib/python3.6/site-packages (from tensorflow==2.5.0->textattack[tensorflow]) (1.34.1)\n",
      "Requirement already satisfied: wrapt~=1.12.1 in /home/ec2-user/anaconda3/envs/pytorch_latest_p36/lib/python3.6/site-packages (from tensorflow==2.5.0->textattack[tensorflow]) (1.12.1)\n",
      "Requirement already satisfied: astunparse~=1.6.3 in /home/ec2-user/anaconda3/envs/pytorch_latest_p36/lib/python3.6/site-packages (from tensorflow==2.5.0->textattack[tensorflow]) (1.6.3)\n",
      "Requirement already satisfied: absl-py~=0.10 in /home/ec2-user/anaconda3/envs/pytorch_latest_p36/lib/python3.6/site-packages (from tensorflow==2.5.0->textattack[tensorflow]) (0.15.0)\n",
      "Requirement already satisfied: google-pasta~=0.2 in /home/ec2-user/anaconda3/envs/pytorch_latest_p36/lib/python3.6/site-packages (from tensorflow==2.5.0->textattack[tensorflow]) (0.2.0)\n",
      "Requirement already satisfied: matplotlib in /home/ec2-user/anaconda3/envs/pytorch_latest_p36/lib/python3.6/site-packages (from bert-score>=0.3.5->textattack[tensorflow]) (3.3.4)\n",
      "Requirement already satisfied: python-dateutil>=2.7.3 in /home/ec2-user/anaconda3/envs/pytorch_latest_p36/lib/python3.6/site-packages (from pandas>=1.0.1->textattack[tensorflow]) (2.8.1)\n",
      "Requirement already satisfied: pytz>=2017.2 in /home/ec2-user/anaconda3/envs/pytorch_latest_p36/lib/python3.6/site-packages (from pandas>=1.0.1->textattack[tensorflow]) (2021.1)\n",
      "Requirement already satisfied: pyyaml>=5.1 in /home/ec2-user/anaconda3/envs/pytorch_latest_p36/lib/python3.6/site-packages (from transformers>=3.3.0->textattack[tensorflow]) (5.4.1)\n",
      "Requirement already satisfied: sacremoses in /home/ec2-user/anaconda3/envs/pytorch_latest_p36/lib/python3.6/site-packages (from transformers>=3.3.0->textattack[tensorflow]) (0.0.53)\n",
      "Requirement already satisfied: tokenizers!=0.11.3,<0.13,>=0.11.1 in /home/ec2-user/anaconda3/envs/pytorch_latest_p36/lib/python3.6/site-packages (from transformers>=3.3.0->textattack[tensorflow]) (0.12.1)\n",
      "Requirement already satisfied: regex!=2019.12.17 in /home/ec2-user/anaconda3/envs/pytorch_latest_p36/lib/python3.6/site-packages (from transformers>=3.3.0->textattack[tensorflow]) (2020.11.13)\n",
      "Collecting transformers>=3.3.0\n",
      "  Using cached transformers-4.17.0-py3-none-any.whl (3.8 MB)\n",
      "  Using cached transformers-4.16.2-py3-none-any.whl (3.5 MB)\n",
      "  Using cached transformers-4.16.1-py3-none-any.whl (3.5 MB)\n",
      "  Using cached transformers-4.16.0-py3-none-any.whl (3.5 MB)\n",
      "  Using cached transformers-4.15.0-py3-none-any.whl (3.4 MB)\n",
      "Collecting tokenizers<0.11,>=0.10.1\n",
      "  Using cached tokenizers-0.10.3-cp36-cp36m-manylinux_2_5_x86_64.manylinux1_x86_64.manylinux_2_12_x86_64.manylinux2010_x86_64.whl (3.3 MB)\n",
      "Collecting transformers>=3.3.0\n",
      "  Using cached transformers-4.14.1-py3-none-any.whl (3.4 MB)\n",
      "  Using cached transformers-4.13.0-py3-none-any.whl (3.3 MB)\n",
      "  Using cached transformers-4.12.5-py3-none-any.whl (3.1 MB)\n",
      "  Using cached transformers-4.12.4-py3-none-any.whl (3.1 MB)\n",
      "  Using cached transformers-4.12.3-py3-none-any.whl (3.1 MB)\n",
      "  Using cached transformers-4.12.2-py3-none-any.whl (3.1 MB)\n",
      "Requirement already satisfied: mpld3==0.3 in /home/ec2-user/anaconda3/envs/pytorch_latest_p36/lib/python3.6/site-packages (from flair->textattack[tensorflow]) (0.3)\n",
      "Requirement already satisfied: deprecated>=1.2.4 in /home/ec2-user/anaconda3/envs/pytorch_latest_p36/lib/python3.6/site-packages (from flair->textattack[tensorflow]) (1.2.13)\n",
      "Requirement already satisfied: scikit-learn>=0.21.3 in /home/ec2-user/anaconda3/envs/pytorch_latest_p36/lib/python3.6/site-packages (from flair->textattack[tensorflow]) (0.24.1)\n",
      "Requirement already satisfied: wikipedia-api in /home/ec2-user/anaconda3/envs/pytorch_latest_p36/lib/python3.6/site-packages (from flair->textattack[tensorflow]) (0.5.4)\n",
      "Requirement already satisfied: ftfy in /home/ec2-user/anaconda3/envs/pytorch_latest_p36/lib/python3.6/site-packages (from flair->textattack[tensorflow]) (6.0.3)\n",
      "Requirement already satisfied: janome in /home/ec2-user/anaconda3/envs/pytorch_latest_p36/lib/python3.6/site-packages (from flair->textattack[tensorflow]) (0.4.2)\n",
      "Requirement already satisfied: konoha<5.0.0,>=4.0.0 in /home/ec2-user/anaconda3/envs/pytorch_latest_p36/lib/python3.6/site-packages (from flair->textattack[tensorflow]) (4.6.5)\n",
      "Requirement already satisfied: hyperopt>=0.2.7 in /home/ec2-user/anaconda3/envs/pytorch_latest_p36/lib/python3.6/site-packages (from flair->textattack[tensorflow]) (0.2.7)\n",
      "Requirement already satisfied: tabulate in /home/ec2-user/anaconda3/envs/pytorch_latest_p36/lib/python3.6/site-packages (from flair->textattack[tensorflow]) (0.8.9)\n",
      "Requirement already satisfied: sentencepiece==0.1.95 in /home/ec2-user/anaconda3/envs/pytorch_latest_p36/lib/python3.6/site-packages (from flair->textattack[tensorflow]) (0.1.95)\n",
      "Requirement already satisfied: segtok>=1.5.7 in /home/ec2-user/anaconda3/envs/pytorch_latest_p36/lib/python3.6/site-packages (from flair->textattack[tensorflow]) (1.5.11)\n",
      "Requirement already satisfied: gensim>=3.4.0 in /home/ec2-user/anaconda3/envs/pytorch_latest_p36/lib/python3.6/site-packages (from flair->textattack[tensorflow]) (4.2.0)\n",
      "Requirement already satisfied: lxml in /home/ec2-user/anaconda3/envs/pytorch_latest_p36/lib/python3.6/site-packages (from flair->textattack[tensorflow]) (4.6.4)\n",
      "Requirement already satisfied: bpemb>=0.3.2 in /home/ec2-user/anaconda3/envs/pytorch_latest_p36/lib/python3.6/site-packages (from flair->textattack[tensorflow]) (0.3.4)\n",
      "Requirement already satisfied: conllu>=4.0 in /home/ec2-user/anaconda3/envs/pytorch_latest_p36/lib/python3.6/site-packages (from flair->textattack[tensorflow]) (4.5.2)\n",
      "Requirement already satisfied: gdown==4.4.0 in /home/ec2-user/anaconda3/envs/pytorch_latest_p36/lib/python3.6/site-packages (from flair->textattack[tensorflow]) (4.4.0)\n",
      "Requirement already satisfied: pptree in /home/ec2-user/anaconda3/envs/pytorch_latest_p36/lib/python3.6/site-packages (from flair->textattack[tensorflow]) (3.1)\n",
      "Requirement already satisfied: sqlitedict>=1.6.0 in /home/ec2-user/anaconda3/envs/pytorch_latest_p36/lib/python3.6/site-packages (from flair->textattack[tensorflow]) (2.0.0)\n",
      "Requirement already satisfied: langdetect in /home/ec2-user/anaconda3/envs/pytorch_latest_p36/lib/python3.6/site-packages (from flair->textattack[tensorflow]) (1.0.9)\n",
      "Requirement already satisfied: beautifulsoup4 in /home/ec2-user/anaconda3/envs/pytorch_latest_p36/lib/python3.6/site-packages (from gdown==4.4.0->flair->textattack[tensorflow]) (4.9.3)\n",
      "Requirement already satisfied: docopt>=0.6.2 in /home/ec2-user/anaconda3/envs/pytorch_latest_p36/lib/python3.6/site-packages (from num2words->textattack[tensorflow]) (0.6.2)\n",
      "Requirement already satisfied: setuptools in /home/ec2-user/anaconda3/envs/pytorch_latest_p36/lib/python3.6/site-packages (from OpenHowNet->textattack[tensorflow]) (49.6.0.post20210108)\n",
      "Requirement already satisfied: anytree in /home/ec2-user/anaconda3/envs/pytorch_latest_p36/lib/python3.6/site-packages (from OpenHowNet->textattack[tensorflow]) (2.8.0)\n",
      "Requirement already satisfied: smart-open>=1.8.1 in /home/ec2-user/anaconda3/envs/pytorch_latest_p36/lib/python3.6/site-packages (from gensim>=3.4.0->flair->textattack[tensorflow]) (6.2.0)\n",
      "Requirement already satisfied: cached-property in /home/ec2-user/anaconda3/envs/pytorch_latest_p36/lib/python3.6/site-packages (from h5py~=3.1.0->tensorflow==2.5.0->textattack[tensorflow]) (1.5.1)\n",
      "Requirement already satisfied: py4j in /home/ec2-user/anaconda3/envs/pytorch_latest_p36/lib/python3.6/site-packages (from hyperopt>=0.2.7->flair->textattack[tensorflow]) (0.10.7)\n",
      "Requirement already satisfied: future in /home/ec2-user/anaconda3/envs/pytorch_latest_p36/lib/python3.6/site-packages (from hyperopt>=0.2.7->flair->textattack[tensorflow]) (0.18.2)\n",
      "Requirement already satisfied: networkx>=2.2 in /home/ec2-user/anaconda3/envs/pytorch_latest_p36/lib/python3.6/site-packages (from hyperopt>=0.2.7->flair->textattack[tensorflow]) (2.5)\n",
      "Requirement already satisfied: cloudpickle in /home/ec2-user/anaconda3/envs/pytorch_latest_p36/lib/python3.6/site-packages (from hyperopt>=0.2.7->flair->textattack[tensorflow]) (1.6.0)\n",
      "Requirement already satisfied: overrides<4.0.0,>=3.0.0 in /home/ec2-user/anaconda3/envs/pytorch_latest_p36/lib/python3.6/site-packages (from konoha<5.0.0,>=4.0.0->flair->textattack[tensorflow]) (3.1.0)\n",
      "Requirement already satisfied: zipp>=0.5 in /home/ec2-user/anaconda3/envs/pytorch_latest_p36/lib/python3.6/site-packages (from importlib-metadata->datasets==1.15->textattack[tensorflow]) (3.4.0)\n",
      "Requirement already satisfied: pyparsing!=2.0.4,!=2.1.2,!=2.1.6,>=2.0.3 in /home/ec2-user/anaconda3/envs/pytorch_latest_p36/lib/python3.6/site-packages (from matplotlib->bert-score>=0.3.5->textattack[tensorflow]) (2.4.7)\n",
      "Requirement already satisfied: pillow>=6.2.0 in /home/ec2-user/anaconda3/envs/pytorch_latest_p36/lib/python3.6/site-packages (from matplotlib->bert-score>=0.3.5->textattack[tensorflow]) (8.4.0)\n",
      "Requirement already satisfied: cycler>=0.10 in /home/ec2-user/anaconda3/envs/pytorch_latest_p36/lib/python3.6/site-packages (from matplotlib->bert-score>=0.3.5->textattack[tensorflow]) (0.10.0)\n",
      "Requirement already satisfied: kiwisolver>=1.0.1 in /home/ec2-user/anaconda3/envs/pytorch_latest_p36/lib/python3.6/site-packages (from matplotlib->bert-score>=0.3.5->textattack[tensorflow]) (1.3.1)\n",
      "Requirement already satisfied: urllib3<1.27,>=1.21.1 in /home/ec2-user/anaconda3/envs/pytorch_latest_p36/lib/python3.6/site-packages (from requests>=2.19.0->datasets==1.15->textattack[tensorflow]) (1.26.8)\n",
      "Requirement already satisfied: charset-normalizer~=2.0.0 in /home/ec2-user/anaconda3/envs/pytorch_latest_p36/lib/python3.6/site-packages (from requests>=2.19.0->datasets==1.15->textattack[tensorflow]) (2.0.9)\n",
      "Requirement already satisfied: idna<4,>=2.5 in /home/ec2-user/anaconda3/envs/pytorch_latest_p36/lib/python3.6/site-packages (from requests>=2.19.0->datasets==1.15->textattack[tensorflow]) (3.1)\n",
      "Requirement already satisfied: certifi>=2017.4.17 in /home/ec2-user/anaconda3/envs/pytorch_latest_p36/lib/python3.6/site-packages (from requests>=2.19.0->datasets==1.15->textattack[tensorflow]) (2021.5.30)\n",
      "Requirement already satisfied: threadpoolctl>=2.0.0 in /home/ec2-user/anaconda3/envs/pytorch_latest_p36/lib/python3.6/site-packages (from scikit-learn>=0.21.3->flair->textattack[tensorflow]) (2.1.0)\n",
      "Requirement already satisfied: joblib>=0.11 in /home/ec2-user/anaconda3/envs/pytorch_latest_p36/lib/python3.6/site-packages (from scikit-learn>=0.21.3->flair->textattack[tensorflow]) (1.0.1)\n",
      "Requirement already satisfied: google-auth-oauthlib<0.5,>=0.4.1 in /home/ec2-user/anaconda3/envs/pytorch_latest_p36/lib/python3.6/site-packages (from tensorboard~=2.5->tensorflow==2.5.0->textattack[tensorflow]) (0.4.6)\n",
      "Requirement already satisfied: google-auth<3,>=1.6.3 in /home/ec2-user/anaconda3/envs/pytorch_latest_p36/lib/python3.6/site-packages (from tensorboard~=2.5->tensorflow==2.5.0->textattack[tensorflow]) (2.14.1)\n",
      "Requirement already satisfied: markdown>=2.6.8 in /home/ec2-user/anaconda3/envs/pytorch_latest_p36/lib/python3.6/site-packages (from tensorboard~=2.5->tensorflow==2.5.0->textattack[tensorflow]) (3.3.4)\n",
      "Requirement already satisfied: tensorboard-data-server<0.7.0,>=0.6.0 in /home/ec2-user/anaconda3/envs/pytorch_latest_p36/lib/python3.6/site-packages (from tensorboard~=2.5->tensorflow==2.5.0->textattack[tensorflow]) (0.6.1)\n",
      "Requirement already satisfied: werkzeug>=1.0.1 in /home/ec2-user/anaconda3/envs/pytorch_latest_p36/lib/python3.6/site-packages (from tensorboard~=2.5->tensorflow==2.5.0->textattack[tensorflow]) (2.0.2)\n",
      "Requirement already satisfied: tensorboard-plugin-wit>=1.6.0 in /home/ec2-user/anaconda3/envs/pytorch_latest_p36/lib/python3.6/site-packages (from tensorboard~=2.5->tensorflow==2.5.0->textattack[tensorflow]) (1.8.1)\n",
      "Requirement already satisfied: frozenlist>=1.1.1 in /home/ec2-user/anaconda3/envs/pytorch_latest_p36/lib/python3.6/site-packages (from aiohttp->datasets==1.15->textattack[tensorflow]) (1.2.0)\n",
      "Requirement already satisfied: aiosignal>=1.1.2 in /home/ec2-user/anaconda3/envs/pytorch_latest_p36/lib/python3.6/site-packages (from aiohttp->datasets==1.15->textattack[tensorflow]) (1.2.0)\n",
      "Requirement already satisfied: yarl<2.0,>=1.0 in /home/ec2-user/anaconda3/envs/pytorch_latest_p36/lib/python3.6/site-packages (from aiohttp->datasets==1.15->textattack[tensorflow]) (1.6.3)\n",
      "Requirement already satisfied: attrs>=17.3.0 in /home/ec2-user/anaconda3/envs/pytorch_latest_p36/lib/python3.6/site-packages (from aiohttp->datasets==1.15->textattack[tensorflow]) (20.3.0)\n",
      "Requirement already satisfied: idna-ssl>=1.0 in /home/ec2-user/anaconda3/envs/pytorch_latest_p36/lib/python3.6/site-packages (from aiohttp->datasets==1.15->textattack[tensorflow]) (1.1.0)\n",
      "Requirement already satisfied: asynctest==0.13.0 in /home/ec2-user/anaconda3/envs/pytorch_latest_p36/lib/python3.6/site-packages (from aiohttp->datasets==1.15->textattack[tensorflow]) (0.13.0)\n",
      "Requirement already satisfied: async-timeout<5.0,>=4.0.0a3 in /home/ec2-user/anaconda3/envs/pytorch_latest_p36/lib/python3.6/site-packages (from aiohttp->datasets==1.15->textattack[tensorflow]) (4.0.1)\n",
      "Requirement already satisfied: multidict<7.0,>=4.5 in /home/ec2-user/anaconda3/envs/pytorch_latest_p36/lib/python3.6/site-packages (from aiohttp->datasets==1.15->textattack[tensorflow]) (5.1.0)\n",
      "Requirement already satisfied: wcwidth in /home/ec2-user/anaconda3/envs/pytorch_latest_p36/lib/python3.6/site-packages (from ftfy->flair->textattack[tensorflow]) (0.2.5)\n",
      "Requirement already satisfied: pyasn1-modules>=0.2.1 in /home/ec2-user/anaconda3/envs/pytorch_latest_p36/lib/python3.6/site-packages (from google-auth<3,>=1.6.3->tensorboard~=2.5->tensorflow==2.5.0->textattack[tensorflow]) (0.2.8)\n",
      "Requirement already satisfied: cachetools<6.0,>=2.0.0 in /home/ec2-user/anaconda3/envs/pytorch_latest_p36/lib/python3.6/site-packages (from google-auth<3,>=1.6.3->tensorboard~=2.5->tensorflow==2.5.0->textattack[tensorflow]) (4.2.4)\n",
      "Requirement already satisfied: rsa<5,>=3.1.4 in /home/ec2-user/anaconda3/envs/pytorch_latest_p36/lib/python3.6/site-packages (from google-auth<3,>=1.6.3->tensorboard~=2.5->tensorflow==2.5.0->textattack[tensorflow]) (4.7.2)\n",
      "Requirement already satisfied: requests-oauthlib>=0.7.0 in /home/ec2-user/anaconda3/envs/pytorch_latest_p36/lib/python3.6/site-packages (from google-auth-oauthlib<0.5,>=0.4.1->tensorboard~=2.5->tensorflow==2.5.0->textattack[tensorflow]) (1.3.1)\n",
      "Requirement already satisfied: decorator>=4.3.0 in /home/ec2-user/anaconda3/envs/pytorch_latest_p36/lib/python3.6/site-packages (from networkx>=2.2->hyperopt>=0.2.7->flair->textattack[tensorflow]) (4.4.2)\n",
      "Requirement already satisfied: soupsieve>1.2 in /home/ec2-user/anaconda3/envs/pytorch_latest_p36/lib/python3.6/site-packages (from beautifulsoup4->gdown==4.4.0->flair->textattack[tensorflow]) (2.0.1)\n",
      "Requirement already satisfied: pyasn1<0.5.0,>=0.4.6 in /home/ec2-user/anaconda3/envs/pytorch_latest_p36/lib/python3.6/site-packages (from pyasn1-modules>=0.2.1->google-auth<3,>=1.6.3->tensorboard~=2.5->tensorflow==2.5.0->textattack[tensorflow]) (0.4.8)\n",
      "Requirement already satisfied: oauthlib>=3.0.0 in /home/ec2-user/anaconda3/envs/pytorch_latest_p36/lib/python3.6/site-packages (from requests-oauthlib>=0.7.0->google-auth-oauthlib<0.5,>=0.4.1->tensorboard~=2.5->tensorflow==2.5.0->textattack[tensorflow]) (3.2.2)\n",
      "Installing collected packages: tokenizers, huggingface-hub, transformers, datasets\n",
      "  Attempting uninstall: tokenizers\n",
      "    Found existing installation: tokenizers 0.12.1\n",
      "    Uninstalling tokenizers-0.12.1:\n",
      "      Successfully uninstalled tokenizers-0.12.1\n",
      "  Attempting uninstall: huggingface-hub\n",
      "    Found existing installation: huggingface-hub 0.4.0\n",
      "    Uninstalling huggingface-hub-0.4.0:\n",
      "      Successfully uninstalled huggingface-hub-0.4.0\n",
      "  Attempting uninstall: transformers\n",
      "    Found existing installation: transformers 4.18.0\n",
      "    Uninstalling transformers-4.18.0:\n",
      "      Successfully uninstalled transformers-4.18.0\n",
      "  Attempting uninstall: datasets\n",
      "    Found existing installation: datasets 2.4.0\n",
      "    Uninstalling datasets-2.4.0:\n",
      "      Successfully uninstalled datasets-2.4.0\n",
      "\u001b[31mERROR: pip's dependency resolver does not currently take into account all the packages that are installed. This behaviour is the source of the following dependency conflicts.\n",
      "sentence-transformers 2.2.2 requires huggingface-hub>=0.4.0, but you have huggingface-hub 0.0.19 which is incompatible.\u001b[0m\n",
      "Successfully installed datasets-1.15.0 huggingface-hub-0.0.19 tokenizers-0.10.3 transformers-4.12.2\n",
      "Note: you may need to restart the kernel to use updated packages.\n",
      "Requirement already satisfied: tqdm in /home/ec2-user/anaconda3/envs/pytorch_latest_p36/lib/python3.6/site-packages (4.62.3)\n",
      "Note: you may need to restart the kernel to use updated packages.\n",
      "Requirement already satisfied: sentence_transformers in /home/ec2-user/anaconda3/envs/pytorch_latest_p36/lib/python3.6/site-packages (2.2.2)\n",
      "Requirement already satisfied: sentencepiece in /home/ec2-user/anaconda3/envs/pytorch_latest_p36/lib/python3.6/site-packages (from sentence_transformers) (0.1.95)\n",
      "Requirement already satisfied: scikit-learn in /home/ec2-user/anaconda3/envs/pytorch_latest_p36/lib/python3.6/site-packages (from sentence_transformers) (0.24.1)\n",
      "Requirement already satisfied: torch>=1.6.0 in /home/ec2-user/anaconda3/envs/pytorch_latest_p36/lib/python3.6/site-packages (from sentence_transformers) (1.7.1)\n",
      "Requirement already satisfied: numpy in /home/ec2-user/anaconda3/envs/pytorch_latest_p36/lib/python3.6/site-packages (from sentence_transformers) (1.19.2)\n",
      "Requirement already satisfied: nltk in /home/ec2-user/anaconda3/envs/pytorch_latest_p36/lib/python3.6/site-packages (from sentence_transformers) (3.4.4)\n",
      "Requirement already satisfied: scipy in /home/ec2-user/anaconda3/envs/pytorch_latest_p36/lib/python3.6/site-packages (from sentence_transformers) (1.5.3)\n",
      "Requirement already satisfied: torchvision in /home/ec2-user/anaconda3/envs/pytorch_latest_p36/lib/python3.6/site-packages (from sentence_transformers) (0.8.2)\n",
      "Collecting huggingface-hub>=0.4.0\n",
      "  Using cached huggingface_hub-0.4.0-py3-none-any.whl (67 kB)\n",
      "Requirement already satisfied: tqdm in /home/ec2-user/anaconda3/envs/pytorch_latest_p36/lib/python3.6/site-packages (from sentence_transformers) (4.62.3)\n",
      "Requirement already satisfied: transformers<5.0.0,>=4.6.0 in /home/ec2-user/anaconda3/envs/pytorch_latest_p36/lib/python3.6/site-packages (from sentence_transformers) (4.12.2)\n",
      "Requirement already satisfied: typing-extensions>=3.7.4.3 in /home/ec2-user/anaconda3/envs/pytorch_latest_p36/lib/python3.6/site-packages (from huggingface-hub>=0.4.0->sentence_transformers) (3.7.4.3)\n",
      "Requirement already satisfied: requests in /home/ec2-user/anaconda3/envs/pytorch_latest_p36/lib/python3.6/site-packages (from huggingface-hub>=0.4.0->sentence_transformers) (2.26.0)\n",
      "Requirement already satisfied: importlib-metadata in /home/ec2-user/anaconda3/envs/pytorch_latest_p36/lib/python3.6/site-packages (from huggingface-hub>=0.4.0->sentence_transformers) (3.7.0)\n",
      "Requirement already satisfied: packaging>=20.9 in /home/ec2-user/anaconda3/envs/pytorch_latest_p36/lib/python3.6/site-packages (from huggingface-hub>=0.4.0->sentence_transformers) (21.3)\n",
      "Requirement already satisfied: pyyaml in /home/ec2-user/anaconda3/envs/pytorch_latest_p36/lib/python3.6/site-packages (from huggingface-hub>=0.4.0->sentence_transformers) (5.4.1)\n",
      "Requirement already satisfied: filelock in /home/ec2-user/anaconda3/envs/pytorch_latest_p36/lib/python3.6/site-packages (from huggingface-hub>=0.4.0->sentence_transformers) (3.4.1)\n",
      "Requirement already satisfied: dataclasses in /home/ec2-user/anaconda3/envs/pytorch_latest_p36/lib/python3.6/site-packages (from torch>=1.6.0->sentence_transformers) (0.8)\n",
      "Requirement already satisfied: tokenizers<0.11,>=0.10.1 in /home/ec2-user/anaconda3/envs/pytorch_latest_p36/lib/python3.6/site-packages (from transformers<5.0.0,>=4.6.0->sentence_transformers) (0.10.3)\n",
      "Requirement already satisfied: sacremoses in /home/ec2-user/anaconda3/envs/pytorch_latest_p36/lib/python3.6/site-packages (from transformers<5.0.0,>=4.6.0->sentence_transformers) (0.0.53)\n",
      "Requirement already satisfied: regex!=2019.12.17 in /home/ec2-user/anaconda3/envs/pytorch_latest_p36/lib/python3.6/site-packages (from transformers<5.0.0,>=4.6.0->sentence_transformers) (2020.11.13)\n",
      "Requirement already satisfied: six in /home/ec2-user/anaconda3/envs/pytorch_latest_p36/lib/python3.6/site-packages (from nltk->sentence_transformers) (1.15.0)\n",
      "Requirement already satisfied: threadpoolctl>=2.0.0 in /home/ec2-user/anaconda3/envs/pytorch_latest_p36/lib/python3.6/site-packages (from scikit-learn->sentence_transformers) (2.1.0)\n",
      "Requirement already satisfied: joblib>=0.11 in /home/ec2-user/anaconda3/envs/pytorch_latest_p36/lib/python3.6/site-packages (from scikit-learn->sentence_transformers) (1.0.1)\n",
      "Requirement already satisfied: pillow>=4.1.1 in /home/ec2-user/anaconda3/envs/pytorch_latest_p36/lib/python3.6/site-packages (from torchvision->sentence_transformers) (8.4.0)\n",
      "Requirement already satisfied: pyparsing!=3.0.5,>=2.0.2 in /home/ec2-user/anaconda3/envs/pytorch_latest_p36/lib/python3.6/site-packages (from packaging>=20.9->huggingface-hub>=0.4.0->sentence_transformers) (2.4.7)\n",
      "Requirement already satisfied: zipp>=0.5 in /home/ec2-user/anaconda3/envs/pytorch_latest_p36/lib/python3.6/site-packages (from importlib-metadata->huggingface-hub>=0.4.0->sentence_transformers) (3.4.0)\n",
      "Requirement already satisfied: charset-normalizer~=2.0.0 in /home/ec2-user/anaconda3/envs/pytorch_latest_p36/lib/python3.6/site-packages (from requests->huggingface-hub>=0.4.0->sentence_transformers) (2.0.9)\n",
      "Requirement already satisfied: urllib3<1.27,>=1.21.1 in /home/ec2-user/anaconda3/envs/pytorch_latest_p36/lib/python3.6/site-packages (from requests->huggingface-hub>=0.4.0->sentence_transformers) (1.26.8)\n",
      "Requirement already satisfied: certifi>=2017.4.17 in /home/ec2-user/anaconda3/envs/pytorch_latest_p36/lib/python3.6/site-packages (from requests->huggingface-hub>=0.4.0->sentence_transformers) (2021.5.30)\n",
      "Requirement already satisfied: idna<4,>=2.5 in /home/ec2-user/anaconda3/envs/pytorch_latest_p36/lib/python3.6/site-packages (from requests->huggingface-hub>=0.4.0->sentence_transformers) (3.1)\n",
      "Requirement already satisfied: click in /home/ec2-user/anaconda3/envs/pytorch_latest_p36/lib/python3.6/site-packages (from sacremoses->transformers<5.0.0,>=4.6.0->sentence_transformers) (7.1.2)\n",
      "Installing collected packages: huggingface-hub\n",
      "  Attempting uninstall: huggingface-hub\n",
      "    Found existing installation: huggingface-hub 0.0.19\n",
      "    Uninstalling huggingface-hub-0.0.19:\n",
      "      Successfully uninstalled huggingface-hub-0.0.19\n",
      "\u001b[31mERROR: pip's dependency resolver does not currently take into account all the packages that are installed. This behaviour is the source of the following dependency conflicts.\n",
      "datasets 1.15.0 requires huggingface-hub<0.1.0,>=0.0.19, but you have huggingface-hub 0.4.0 which is incompatible.\u001b[0m\n",
      "Successfully installed huggingface-hub-0.4.0\n",
      "Note: you may need to restart the kernel to use updated packages.\n"
     ]
    }
   ],
   "source": [
    "%pip install --upgrade transformers datasets\n",
    "\n",
    "%pip install textattack[tensorflow]\n",
    "%pip install tqdm\n",
    "\n",
    "%pip install sentence_transformers"
   ]
  },
  {
   "cell_type": "code",
   "execution_count": 3,
   "id": "f9f4fc8b",
   "metadata": {
    "collapsed": true,
    "jupyter": {
     "outputs_hidden": true
    },
    "scrolled": true
   },
   "outputs": [
    {
     "name": "stdout",
     "output_type": "stream",
     "text": [
      "Collecting nb_black\n",
      "  Downloading nb_black-1.0.7.tar.gz (4.8 kB)\n",
      "  Preparing metadata (setup.py) ... \u001b[?25ldone\n",
      "\u001b[?25hRequirement already satisfied: ipython in /home/ec2-user/anaconda3/envs/pytorch_latest_p36/lib/python3.6/site-packages (from nb_black) (7.16.1)\n",
      "Requirement already satisfied: black>='19.3' in /home/ec2-user/anaconda3/envs/pytorch_latest_p36/lib/python3.6/site-packages (from nb_black) (20.8b1)\n",
      "Requirement already satisfied: dataclasses>=0.6 in /home/ec2-user/anaconda3/envs/pytorch_latest_p36/lib/python3.6/site-packages (from black>='19.3'->nb_black) (0.8)\n",
      "Requirement already satisfied: click>=7.1.2 in /home/ec2-user/anaconda3/envs/pytorch_latest_p36/lib/python3.6/site-packages (from black>='19.3'->nb_black) (7.1.2)\n",
      "Requirement already satisfied: toml>=0.10.1 in /home/ec2-user/anaconda3/envs/pytorch_latest_p36/lib/python3.6/site-packages (from black>='19.3'->nb_black) (0.10.2)\n",
      "Requirement already satisfied: typed-ast>=1.4.0 in /home/ec2-user/anaconda3/envs/pytorch_latest_p36/lib/python3.6/site-packages (from black>='19.3'->nb_black) (1.4.2)\n",
      "Requirement already satisfied: appdirs in /home/ec2-user/anaconda3/envs/pytorch_latest_p36/lib/python3.6/site-packages (from black>='19.3'->nb_black) (1.4.4)\n",
      "Requirement already satisfied: mypy-extensions>=0.4.3 in /home/ec2-user/anaconda3/envs/pytorch_latest_p36/lib/python3.6/site-packages (from black>='19.3'->nb_black) (0.4.3)\n",
      "Requirement already satisfied: typing-extensions>=3.7.4 in /home/ec2-user/anaconda3/envs/pytorch_latest_p36/lib/python3.6/site-packages (from black>='19.3'->nb_black) (3.7.4.3)\n",
      "Requirement already satisfied: pathspec<1,>=0.6 in /home/ec2-user/anaconda3/envs/pytorch_latest_p36/lib/python3.6/site-packages (from black>='19.3'->nb_black) (0.8.1)\n",
      "Requirement already satisfied: regex>=2020.1.8 in /home/ec2-user/anaconda3/envs/pytorch_latest_p36/lib/python3.6/site-packages (from black>='19.3'->nb_black) (2020.11.13)\n",
      "Requirement already satisfied: prompt-toolkit!=3.0.0,!=3.0.1,<3.1.0,>=2.0.0 in /home/ec2-user/anaconda3/envs/pytorch_latest_p36/lib/python3.6/site-packages (from ipython->nb_black) (3.0.5)\n",
      "Requirement already satisfied: setuptools>=18.5 in /home/ec2-user/anaconda3/envs/pytorch_latest_p36/lib/python3.6/site-packages (from ipython->nb_black) (49.6.0.post20210108)\n",
      "Requirement already satisfied: pygments in /home/ec2-user/anaconda3/envs/pytorch_latest_p36/lib/python3.6/site-packages (from ipython->nb_black) (2.8.0)\n",
      "Requirement already satisfied: pickleshare in /home/ec2-user/anaconda3/envs/pytorch_latest_p36/lib/python3.6/site-packages (from ipython->nb_black) (0.7.5)\n",
      "Requirement already satisfied: decorator in /home/ec2-user/anaconda3/envs/pytorch_latest_p36/lib/python3.6/site-packages (from ipython->nb_black) (4.4.2)\n",
      "Requirement already satisfied: traitlets>=4.2 in /home/ec2-user/anaconda3/envs/pytorch_latest_p36/lib/python3.6/site-packages (from ipython->nb_black) (4.3.3)\n",
      "Requirement already satisfied: pexpect in /home/ec2-user/anaconda3/envs/pytorch_latest_p36/lib/python3.6/site-packages (from ipython->nb_black) (4.8.0)\n",
      "Requirement already satisfied: backcall in /home/ec2-user/anaconda3/envs/pytorch_latest_p36/lib/python3.6/site-packages (from ipython->nb_black) (0.2.0)\n",
      "Requirement already satisfied: jedi>=0.10 in /home/ec2-user/anaconda3/envs/pytorch_latest_p36/lib/python3.6/site-packages (from ipython->nb_black) (0.17.2)\n",
      "Requirement already satisfied: parso<0.8.0,>=0.7.0 in /home/ec2-user/anaconda3/envs/pytorch_latest_p36/lib/python3.6/site-packages (from jedi>=0.10->ipython->nb_black) (0.7.0)\n",
      "Requirement already satisfied: wcwidth in /home/ec2-user/anaconda3/envs/pytorch_latest_p36/lib/python3.6/site-packages (from prompt-toolkit!=3.0.0,!=3.0.1,<3.1.0,>=2.0.0->ipython->nb_black) (0.2.5)\n",
      "Requirement already satisfied: six in /home/ec2-user/anaconda3/envs/pytorch_latest_p36/lib/python3.6/site-packages (from traitlets>=4.2->ipython->nb_black) (1.15.0)\n",
      "Requirement already satisfied: ipython-genutils in /home/ec2-user/anaconda3/envs/pytorch_latest_p36/lib/python3.6/site-packages (from traitlets>=4.2->ipython->nb_black) (0.2.0)\n",
      "Requirement already satisfied: ptyprocess>=0.5 in /home/ec2-user/anaconda3/envs/pytorch_latest_p36/lib/python3.6/site-packages (from pexpect->ipython->nb_black) (0.7.0)\n",
      "Building wheels for collected packages: nb-black\n",
      "  Building wheel for nb-black (setup.py) ... \u001b[?25ldone\n",
      "\u001b[?25h  Created wheel for nb-black: filename=nb_black-1.0.7-py3-none-any.whl size=5279 sha256=394957f0334e46732302c9b8527c25a93e300a08124a4925ed1909bbd6aec3be\n",
      "  Stored in directory: /home/ec2-user/.cache/pip/wheels/b8/d1/fe/2f4f49a959887ffe9ebdf841c1a221a5b4eb047a1ca09b50a9\n",
      "Successfully built nb-black\n",
      "Installing collected packages: nb-black\n",
      "Successfully installed nb-black-1.0.7\n",
      "Note: you may need to restart the kernel to use updated packages.\n"
     ]
    }
   ],
   "source": [
    "%load_ext autoreload\n",
    "%autoreload 2\n",
    "\n",
    "%pip install nb_black\n",
    "%load_ext lab_black"
   ]
  },
  {
   "cell_type": "code",
   "execution_count": 4,
   "id": "788e6871",
   "metadata": {
    "collapsed": true,
    "jupyter": {
     "outputs_hidden": true
    },
    "scrolled": true
   },
   "outputs": [
    {
     "name": "stderr",
     "output_type": "stream",
     "text": [
      "textattack: Updating TextAttack package dependencies.\n",
      "textattack: Downloading NLTK required packages.\n",
      "[nltk_data] Downloading package averaged_perceptron_tagger to\n",
      "[nltk_data]     /home/ec2-user/nltk_data...\n",
      "[nltk_data]   Unzipping taggers/averaged_perceptron_tagger.zip.\n",
      "[nltk_data] Downloading package stopwords to\n",
      "[nltk_data]     /home/ec2-user/nltk_data...\n",
      "[nltk_data]   Unzipping corpora/stopwords.zip.\n",
      "[nltk_data] Downloading package omw to /home/ec2-user/nltk_data...\n",
      "[nltk_data] Downloading package universal_tagset to\n",
      "[nltk_data]     /home/ec2-user/nltk_data...\n",
      "[nltk_data]   Unzipping taggers/universal_tagset.zip.\n",
      "[nltk_data] Downloading package wordnet to /home/ec2-user/nltk_data...\n",
      "[nltk_data] Downloading package punkt to /home/ec2-user/nltk_data...\n",
      "[nltk_data]   Unzipping tokenizers/punkt.zip.\n"
     ]
    }
   ],
   "source": [
    "from IPython.core.display import display, HTML\n",
    "import matplotlib.pyplot as plt\n",
    "import multiprocessing\n",
    "import numpy as np\n",
    "import os\n",
    "import pandas as pd\n",
    "from sklearn import metrics\n",
    "from sklearn.metrics import (\n",
    "    ConfusionMatrixDisplay,\n",
    "    confusion_matrix,\n",
    "    classification_report,\n",
    ")\n",
    "import textattack\n",
    "from textattack.models.wrappers import ModelWrapper\n",
    "from tqdm import tqdm  # tqdm provides us a nice progress bar.\n",
    "from textattack.loggers import CSVLogger  # tracks a dataframe for us.\n",
    "from textattack.attack_results import SuccessfulAttackResult\n",
    "from textattack.attack_recipes import PWWSRen2019\n",
    "from textattack.attack_recipes.a2t_yoo_2021 import (\n",
    "    A2TYoo2021,\n",
    ")\n",
    "from textattack.attack_recipes.textfooler_jin_2019 import TextFoolerJin2019\n",
    "from textattack.attack_recipes.pruthi_2019 import Pruthi2019\n",
    "from textattack.attack_recipes.textbugger_li_2018 import TextBuggerLi2018\n",
    "from textattack.attack_recipes.deepwordbug_gao_2018 import DeepWordBugGao2018\n",
    "from textattack import Attacker\n",
    "from textattack import AttackArgs\n",
    "from textattack.models.wrappers import ModelWrapper\n",
    "import torch\n",
    "\n",
    "from transformers import (\n",
    "    AutoTokenizer,\n",
    "    AutoModelForSequenceClassification,\n",
    "    TrainingArguments,\n",
    "    Trainer,\n",
    ")\n",
    "from datasets import Dataset"
   ]
  },
  {
   "cell_type": "code",
   "execution_count": 5,
   "id": "ccec2770",
   "metadata": {},
   "outputs": [
    {
     "name": "stdout",
     "output_type": "stream",
     "text": [
      "Number of CPUs = 16\n"
     ]
    }
   ],
   "source": [
    "label_col = \"toxic\"\n",
    "model_name = \"binary_toxicity_detector\"\n",
    "model_dir = f\"../models/{model_name}\"\n",
    "model_name_AT = \"binary_toxicity_detector_at\"\n",
    "model_dir_AT = f\"../models/{model_name_AT}\"\n",
    "num_proc = multiprocessing.cpu_count()\n",
    "print(\"Number of CPUs =\", num_proc)"
   ]
  },
  {
   "cell_type": "code",
   "execution_count": 52,
   "id": "455b0df0",
   "metadata": {},
   "outputs": [],
   "source": [
    "import os\n",
    "\n",
    "os.makedirs(\"../models\", exist_ok=True)"
   ]
  },
  {
   "cell_type": "markdown",
   "id": "e0937aaa",
   "metadata": {},
   "source": [
    "# Download the Jigsaw Data\n",
    "Step 1: Manually download the Jigsaw Data from Kaggle: https://www.kaggle.com/c/jigsaw-toxic-comment-classification-challenge/data\n",
    "\n",
    "You can manually download the data from it's homepage or use the Kaggle CLI tool (follow the instructions here: https://www.kaggle.com/docs/api)\n",
    "\n",
    "Step 2: Unzip and save the data to a local folder named `data`"
   ]
  },
  {
   "cell_type": "markdown",
   "id": "47b7ce76",
   "metadata": {},
   "source": [
    "# Data Preparation"
   ]
  },
  {
   "cell_type": "markdown",
   "id": "797369c1",
   "metadata": {},
   "source": [
    "Load the train test data"
   ]
  },
  {
   "cell_type": "code",
   "execution_count": 8,
   "id": "dc8b2f5a",
   "metadata": {},
   "outputs": [],
   "source": [
    "df_train = pd.read_csv(\"../data/train.csv.zip\")\n",
    "df_test_text = pd.read_csv(\"../data/test.csv.zip\")\n",
    "df_test_labels = pd.read_csv(\"../data/test_labels.csv.zip\")\n",
    "df_test = df_test_text.merge(df_test_labels, on=[\"id\"], how=\"left\")\n",
    "df_test = df_test[df_test[label_col].isin([0, 1])]"
   ]
  },
  {
   "cell_type": "markdown",
   "id": "961274da",
   "metadata": {},
   "source": [
    "Split the test into equal valid and test sets"
   ]
  },
  {
   "cell_type": "code",
   "execution_count": 9,
   "id": "5ea31aaf",
   "metadata": {},
   "outputs": [],
   "source": [
    "df_valid = df_test.sample(frac=0.5, random_state=199, replace=False)\n",
    "df_test_indices = np.array(\n",
    "    set(df_test.index.to_numpy()).intersection(set(df_valid.index.to_numpy()))\n",
    ")\n",
    "df_test = df_test.loc[df_test_indices]"
   ]
  },
  {
   "cell_type": "code",
   "execution_count": 10,
   "id": "6fb29588",
   "metadata": {},
   "outputs": [],
   "source": [
    "df_train[label_col] = df_train[label_col].astype(\"float\")\n",
    "df_valid[label_col] = df_valid[label_col].astype(\"float\")\n",
    "df_test[label_col] = df_test[label_col].astype(\"float\")"
   ]
  },
  {
   "cell_type": "markdown",
   "id": "25b5d18a",
   "metadata": {},
   "source": [
    "Data Visualization"
   ]
  },
  {
   "cell_type": "code",
   "execution_count": 11,
   "id": "7a2a248a",
   "metadata": {},
   "outputs": [
    {
     "data": {
      "image/png": "[encoded data removed]",
      "text/plain": [
       "<Figure size 576x1080 with 3 Axes>"
      ]
     },
     "metadata": {
      "needs_background": "light"
     },
     "output_type": "display_data"
    }
   ],
   "source": [
    "fig, axes = plt.subplots(nrows=3, ncols=1, figsize=(8, 15))\n",
    "_ = (\n",
    "    df_train[label_col]\n",
    "    .value_counts()\n",
    "    .plot(kind=\"bar\", title=\"Training data label distribution\", ax=axes[0])\n",
    ")\n",
    "_ = (\n",
    "    df_valid[label_col]\n",
    "    .value_counts()\n",
    "    .plot(kind=\"bar\", title=\"Validation data label distribution\", ax=axes[1])\n",
    ")\n",
    "_ = (\n",
    "    df_test[label_col]\n",
    "    .value_counts()\n",
    "    .plot(kind=\"bar\", title=\"Testing data label distribution\", ax=axes[2])\n",
    ")\n",
    "\n",
    "\n",
    "def add_count(df, ax):\n",
    "    for i, count in enumerate(df.value_counts()):\n",
    "        ax.text(x=i, y=count + 800, s=f\"{count}\", fontdict=dict(fontsize=8))\n",
    "\n",
    "\n",
    "add_count(df_train[label_col], axes[0])\n",
    "add_count(df_valid[label_col], axes[1])\n",
    "add_count(df_test[label_col], axes[2])"
   ]
  },
  {
   "cell_type": "markdown",
   "id": "7254aeaf",
   "metadata": {},
   "source": [
    "Data Formatting"
   ]
  },
  {
   "cell_type": "code",
   "execution_count": 12,
   "id": "4ce2f157",
   "metadata": {},
   "outputs": [],
   "source": [
    "df_train[\"labels\"] = df_train[label_col].values.tolist()\n",
    "df_valid[\"labels\"] = df_valid[label_col].values.tolist()\n",
    "df_test[\"labels\"] = df_test[label_col].values.tolist()\n",
    "\n",
    "df_train = df_train[[\"comment_text\", \"labels\"]]\n",
    "df_valid = df_valid[[\"comment_text\", \"labels\"]]\n",
    "df_test = df_test[[\"comment_text\", \"labels\"]]\n",
    "\n",
    "df_train.rename(columns={\"comment_text\": \"text\"}, inplace=True)\n",
    "df_valid.rename(columns={\"comment_text\": \"text\"}, inplace=True)\n",
    "df_test.rename(columns={\"comment_text\": \"text\"}, inplace=True)"
   ]
  },
  {
   "cell_type": "code",
   "execution_count": 13,
   "id": "8a0fca90",
   "metadata": {},
   "outputs": [
    {
     "data": {
      "text/html": [
       "<div>\n",
       "<style scoped>\n",
       "    .dataframe tbody tr th:only-of-type {\n",
       "        vertical-align: middle;\n",
       "    }\n",
       "\n",
       "    .dataframe tbody tr th {\n",
       "        vertical-align: top;\n",
       "    }\n",
       "\n",
       "    .dataframe thead th {\n",
       "        text-align: right;\n",
       "    }\n",
       "</style>\n",
       "<table border=\"1\" class=\"dataframe\">\n",
       "  <thead>\n",
       "    <tr style=\"text-align: right;\">\n",
       "      <th></th>\n",
       "      <th>text</th>\n",
       "      <th>labels</th>\n",
       "    </tr>\n",
       "  </thead>\n",
       "  <tbody>\n",
       "    <tr>\n",
       "      <th>0</th>\n",
       "      <td>Explanation\\nWhy the edits made under my usern...</td>\n",
       "      <td>0.0</td>\n",
       "    </tr>\n",
       "    <tr>\n",
       "      <th>1</th>\n",
       "      <td>D'aww! He matches this background colour I'm s...</td>\n",
       "      <td>0.0</td>\n",
       "    </tr>\n",
       "  </tbody>\n",
       "</table>\n",
       "</div>"
      ],
      "text/plain": [
       "                                                text  labels\n",
       "0  Explanation\\nWhy the edits made under my usern...     0.0\n",
       "1  D'aww! He matches this background colour I'm s...     0.0"
      ]
     },
     "execution_count": 13,
     "metadata": {},
     "output_type": "execute_result"
    }
   ],
   "source": [
    "df_train.head(2)"
   ]
  },
  {
   "cell_type": "code",
   "execution_count": 14,
   "id": "41c1c2fd",
   "metadata": {},
   "outputs": [
    {
     "data": {
      "text/html": [
       "<div>\n",
       "<style scoped>\n",
       "    .dataframe tbody tr th:only-of-type {\n",
       "        vertical-align: middle;\n",
       "    }\n",
       "\n",
       "    .dataframe tbody tr th {\n",
       "        vertical-align: top;\n",
       "    }\n",
       "\n",
       "    .dataframe thead th {\n",
       "        text-align: right;\n",
       "    }\n",
       "</style>\n",
       "<table border=\"1\" class=\"dataframe\">\n",
       "  <thead>\n",
       "    <tr style=\"text-align: right;\">\n",
       "      <th></th>\n",
       "      <th>text</th>\n",
       "      <th>labels</th>\n",
       "    </tr>\n",
       "  </thead>\n",
       "  <tbody>\n",
       "    <tr>\n",
       "      <th>126176</th>\n",
       "      <td>:Here's another go \\n Tense is the way in whic...</td>\n",
       "      <td>0.0</td>\n",
       "    </tr>\n",
       "    <tr>\n",
       "      <th>38773</th>\n",
       "      <td>, được gắn vào, nhúng vào trong các thiết bị k...</td>\n",
       "      <td>0.0</td>\n",
       "    </tr>\n",
       "  </tbody>\n",
       "</table>\n",
       "</div>"
      ],
      "text/plain": [
       "                                                     text  labels\n",
       "126176  :Here's another go \\n Tense is the way in whic...     0.0\n",
       "38773   , được gắn vào, nhúng vào trong các thiết bị k...     0.0"
      ]
     },
     "execution_count": 14,
     "metadata": {},
     "output_type": "execute_result"
    }
   ],
   "source": [
    "df_valid.head(2)"
   ]
  },
  {
   "cell_type": "code",
   "execution_count": 15,
   "id": "4fb17de0",
   "metadata": {},
   "outputs": [
    {
     "data": {
      "text/html": [
       "<div>\n",
       "<style scoped>\n",
       "    .dataframe tbody tr th:only-of-type {\n",
       "        vertical-align: middle;\n",
       "    }\n",
       "\n",
       "    .dataframe tbody tr th {\n",
       "        vertical-align: top;\n",
       "    }\n",
       "\n",
       "    .dataframe thead th {\n",
       "        text-align: right;\n",
       "    }\n",
       "</style>\n",
       "<table border=\"1\" class=\"dataframe\">\n",
       "  <thead>\n",
       "    <tr style=\"text-align: right;\">\n",
       "      <th></th>\n",
       "      <th>text</th>\n",
       "      <th>labels</th>\n",
       "    </tr>\n",
       "  </thead>\n",
       "  <tbody>\n",
       "    <tr>\n",
       "      <th>131074</th>\n",
       "      <td>\" \\n *Thanks, comments on your talk page as we...</td>\n",
       "      <td>0.0</td>\n",
       "    </tr>\n",
       "    <tr>\n",
       "      <th>131081</th>\n",
       "      <td>James Griffin Stadium == \\n I removed James Gr...</td>\n",
       "      <td>0.0</td>\n",
       "    </tr>\n",
       "  </tbody>\n",
       "</table>\n",
       "</div>"
      ],
      "text/plain": [
       "                                                     text  labels\n",
       "131074  \" \\n *Thanks, comments on your talk page as we...     0.0\n",
       "131081  James Griffin Stadium == \\n I removed James Gr...     0.0"
      ]
     },
     "execution_count": 15,
     "metadata": {},
     "output_type": "execute_result"
    }
   ],
   "source": [
    "df_test.head(2)"
   ]
  },
  {
   "cell_type": "code",
   "execution_count": 16,
   "id": "e33b5fa6",
   "metadata": {},
   "outputs": [],
   "source": [
    "# Subsample and balance the dataset\n",
    "\n",
    "subset = True\n",
    "if subset == True:\n",
    "    df_train = pd.concat(\n",
    "        [\n",
    "            df_train[df_train[\"labels\"] == 0].sample(\n",
    "                5000, random_state=199, replace=False\n",
    "            ),\n",
    "            df_train[df_train[\"labels\"] == 1].sample(\n",
    "                5000, random_state=199, replace=False\n",
    "            ),\n",
    "        ]\n",
    "    )\n",
    "    df_valid = pd.concat(\n",
    "        [\n",
    "            df_valid[df_valid[\"labels\"] == 0].sample(\n",
    "                500, random_state=199, replace=False\n",
    "            ),\n",
    "            df_valid[df_valid[\"labels\"] == 1].sample(\n",
    "                500, random_state=199, replace=False\n",
    "            ),\n",
    "        ]\n",
    "    )\n",
    "    df_test = pd.concat(\n",
    "        [\n",
    "            df_test[df_test[\"labels\"] == 0].sample(500, random_state=199, replace=False),\n",
    "            df_test[df_test[\"labels\"] == 1].sample(500, random_state=199, replace=False),\n",
    "        ]\n",
    "    )"
   ]
  },
  {
   "cell_type": "code",
   "execution_count": 17,
   "id": "ed28405a",
   "metadata": {},
   "outputs": [],
   "source": [
    "train_dataset = Dataset.from_pandas(df_train)\n",
    "valid_dataset = Dataset.from_pandas(df_valid)\n",
    "test_dataset = Dataset.from_pandas(df_test)"
   ]
  },
  {
   "cell_type": "code",
   "execution_count": 13,
   "id": "66d6d83b",
   "metadata": {},
   "outputs": [
    {
     "data": {
      "text/plain": [
       "Dataset({\n",
       "    features: ['text', 'labels', '__index_level_0__'],\n",
       "    num_rows: 10000\n",
       "})"
      ]
     },
     "execution_count": 13,
     "metadata": {},
     "output_type": "execute_result"
    }
   ],
   "source": [
    "train_dataset"
   ]
  },
  {
   "cell_type": "code",
   "execution_count": 14,
   "id": "b81296da",
   "metadata": {},
   "outputs": [
    {
     "data": {
      "text/plain": [
       "Dataset({\n",
       "    features: ['text', 'labels', '__index_level_0__'],\n",
       "    num_rows: 1000\n",
       "})"
      ]
     },
     "execution_count": 14,
     "metadata": {},
     "output_type": "execute_result"
    }
   ],
   "source": [
    "valid_dataset"
   ]
  },
  {
   "cell_type": "code",
   "execution_count": 15,
   "id": "40db7f15",
   "metadata": {},
   "outputs": [
    {
     "data": {
      "text/plain": [
       "Dataset({\n",
       "    features: ['text', 'labels', '__index_level_0__'],\n",
       "    num_rows: 1000\n",
       "})"
      ]
     },
     "execution_count": 15,
     "metadata": {},
     "output_type": "execute_result"
    }
   ],
   "source": [
    "test_dataset"
   ]
  },
  {
   "cell_type": "markdown",
   "id": "5e54584f",
   "metadata": {},
   "source": [
    "# Tokenization"
   ]
  },
  {
   "cell_type": "code",
   "execution_count": 18,
   "id": "4d3e6fd0",
   "metadata": {
    "scrolled": true
   },
   "outputs": [
    {
     "data": {
      "application/vnd.jupyter.widget-view+json": {
       "model_id": "96d89d150f9346009669a975eb0dfa88",
       "version_major": 2,
       "version_minor": 0
      },
      "text/plain": [
       "Downloading:   0%|          | 0.00/28.0 [00:00<?, ?B/s]"
      ]
     },
     "metadata": {},
     "output_type": "display_data"
    },
    {
     "data": {
      "application/vnd.jupyter.widget-view+json": {
       "model_id": "b8beacbe4832440e84332eb805ee9a00",
       "version_major": 2,
       "version_minor": 0
      },
      "text/plain": [
       "Downloading:   0%|          | 0.00/483 [00:00<?, ?B/s]"
      ]
     },
     "metadata": {},
     "output_type": "display_data"
    },
    {
     "data": {
      "application/vnd.jupyter.widget-view+json": {
       "model_id": "98fb5de5616b4db59837b569e36a0c07",
       "version_major": 2,
       "version_minor": 0
      },
      "text/plain": [
       "Downloading:   0%|          | 0.00/226k [00:00<?, ?B/s]"
      ]
     },
     "metadata": {},
     "output_type": "display_data"
    },
    {
     "data": {
      "application/vnd.jupyter.widget-view+json": {
       "model_id": "512f37aedbdf4fdcacaf4e80ab3cfd0a",
       "version_major": 2,
       "version_minor": 0
      },
      "text/plain": [
       "Downloading:   0%|          | 0.00/455k [00:00<?, ?B/s]"
      ]
     },
     "metadata": {},
     "output_type": "display_data"
    },
    {
     "name": "stderr",
     "output_type": "stream",
     "text": [
      "Setting TOKENIZERS_PARALLELISM=false for forked processes.\n",
      "Setting TOKENIZERS_PARALLELISM=false for forked processes.\n",
      "Setting TOKENIZERS_PARALLELISM=false for forked processes.\n"
     ]
    }
   ],
   "source": [
    "pretrained_model_name_or_path = \"distilbert-base-uncased\"\n",
    "tokenizer = AutoTokenizer.from_pretrained(pretrained_model_name_or_path)\n",
    "\n",
    "\n",
    "def preprocess_function(examples):\n",
    "    result = tokenizer(\n",
    "        examples[\"text\"], padding=\"max_length\", max_length=128, truncation=True\n",
    "    )\n",
    "    return result\n",
    "\n",
    "\n",
    "train_dataset = train_dataset.map(\n",
    "    preprocess_function, batched=True, load_from_cache_file=False, num_proc=num_proc\n",
    ")\n",
    "\n",
    "valid_dataset = valid_dataset.map(\n",
    "    preprocess_function, batched=True, load_from_cache_file=False, num_proc=num_proc\n",
    ")\n",
    "\n",
    "test_dataset = test_dataset.map(\n",
    "    preprocess_function, batched=True, load_from_cache_file=False, num_proc=num_proc\n",
    ")"
   ]
  },
  {
   "cell_type": "code",
   "execution_count": 18,
   "id": "86f54a59",
   "metadata": {},
   "outputs": [
    {
     "data": {
      "text/plain": [
       "Dataset({\n",
       "    features: ['__index_level_0__', 'attention_mask', 'input_ids', 'labels', 'text'],\n",
       "    num_rows: 10000\n",
       "})"
      ]
     },
     "execution_count": 18,
     "metadata": {},
     "output_type": "execute_result"
    }
   ],
   "source": [
    "train_dataset"
   ]
  },
  {
   "cell_type": "code",
   "execution_count": 19,
   "id": "1691f0d4",
   "metadata": {},
   "outputs": [
    {
     "data": {
      "text/plain": [
       "dict_keys(['__index_level_0__', 'attention_mask', 'input_ids', 'labels', 'text'])"
      ]
     },
     "execution_count": 19,
     "metadata": {},
     "output_type": "execute_result"
    }
   ],
   "source": [
    "train_dataset[0].keys()"
   ]
  },
  {
   "cell_type": "markdown",
   "id": "af147634",
   "metadata": {},
   "source": [
    "# Modeling"
   ]
  },
  {
   "cell_type": "code",
   "execution_count": 19,
   "id": "fd917408",
   "metadata": {
    "collapsed": true,
    "jupyter": {
     "outputs_hidden": true
    },
    "scrolled": true
   },
   "outputs": [
    {
     "data": {
      "application/vnd.jupyter.widget-view+json": {
       "model_id": "3623c09ed99249cb99a7d7924192f443",
       "version_major": 2,
       "version_minor": 0
      },
      "text/plain": [
       "Downloading:   0%|          | 0.00/256M [00:00<?, ?B/s]"
      ]
     },
     "metadata": {},
     "output_type": "display_data"
    },
    {
     "name": "stderr",
     "output_type": "stream",
     "text": [
      "Some weights of the model checkpoint at distilbert-base-uncased were not used when initializing DistilBertForSequenceClassification: ['vocab_transform.bias', 'vocab_projector.bias', 'vocab_projector.weight', 'vocab_layer_norm.weight', 'vocab_layer_norm.bias', 'vocab_transform.weight']\n",
      "- This IS expected if you are initializing DistilBertForSequenceClassification from the checkpoint of a model trained on another task or with another architecture (e.g. initializing a BertForSequenceClassification model from a BertForPreTraining model).\n",
      "- This IS NOT expected if you are initializing DistilBertForSequenceClassification from the checkpoint of a model that you expect to be exactly identical (initializing a BertForSequenceClassification model from a BertForSequenceClassification model).\n",
      "Some weights of DistilBertForSequenceClassification were not initialized from the model checkpoint at distilbert-base-uncased and are newly initialized: ['classifier.weight', 'pre_classifier.weight', 'classifier.bias', 'pre_classifier.bias']\n",
      "You should probably TRAIN this model on a down-stream task to be able to use it for predictions and inference.\n"
     ]
    }
   ],
   "source": [
    "base_model = AutoModelForSequenceClassification.from_pretrained(\n",
    "    pretrained_model_name_or_path, num_labels=1\n",
    ")"
   ]
  },
  {
   "cell_type": "code",
   "execution_count": 21,
   "id": "932a8106",
   "metadata": {},
   "outputs": [],
   "source": [
    "training_args = TrainingArguments(\n",
    "    output_dir=model_dir,\n",
    "    num_train_epochs=10,\n",
    "    per_device_train_batch_size=32,\n",
    "    per_device_eval_batch_size=64,\n",
    "    warmup_steps=500,\n",
    "    evaluation_strategy=\"epoch\",\n",
    "    save_strategy=\"epoch\",\n",
    "    save_total_limit=5,\n",
    "    logging_dir=os.path.join(model_dir, \"logs\"),\n",
    "    learning_rate=5e-6,\n",
    "    load_best_model_at_end=True,\n",
    "    metric_for_best_model=\"loss\",\n",
    "    disable_tqdm=True,\n",
    ")"
   ]
  },
  {
   "cell_type": "code",
   "execution_count": 22,
   "id": "8d44aa7e",
   "metadata": {},
   "outputs": [],
   "source": [
    "# compute metrics function\n",
    "def compute_metrics(pred):\n",
    "    targets = 1 * (pred.label_ids >= 0.5)\n",
    "    outputs = 1 * (pred.predictions >= 0.5)\n",
    "    accuracy = metrics.accuracy_score(targets, outputs)\n",
    "    f1_score_micro = metrics.f1_score(targets, outputs, average=\"micro\")\n",
    "    f1_score_macro = metrics.f1_score(targets, outputs, average=\"macro\")\n",
    "    f1_score_weighted = metrics.f1_score(targets, outputs, average=\"weighted\")\n",
    "    ap_score_micro = metrics.average_precision_score(\n",
    "        targets, pred.predictions, average=\"micro\"\n",
    "    )\n",
    "    ap_score_macro = metrics.average_precision_score(\n",
    "        targets, pred.predictions, average=\"macro\"\n",
    "    )\n",
    "    ap_score_weighted = metrics.average_precision_score(\n",
    "        targets, pred.predictions, average=\"weighted\"\n",
    "    )\n",
    "    auc_score_micro = metrics.roc_auc_score(targets, pred.predictions, average=\"micro\")\n",
    "    auc_score_macro = metrics.roc_auc_score(targets, pred.predictions, average=\"macro\")\n",
    "    auc_score_weighted = metrics.roc_auc_score(\n",
    "        targets, pred.predictions, average=\"weighted\"\n",
    "    )\n",
    "    return {\n",
    "        \"accuracy\": accuracy,\n",
    "        \"f1_score_micro\": f1_score_micro,\n",
    "        \"f1_score_macro\": f1_score_macro,\n",
    "        \"f1_score_weighted\": f1_score_weighted,\n",
    "        \"ap_score_micro\": ap_score_micro,\n",
    "        \"ap_score_macro\": ap_score_macro,\n",
    "        \"ap_score_weighted\": ap_score_weighted,\n",
    "        \"auc_score_micro\": auc_score_micro,\n",
    "        \"auc_score_macro\": auc_score_macro,\n",
    "        \"auc_score_weighted\": auc_score_weighted,\n",
    "    }"
   ]
  },
  {
   "cell_type": "code",
   "execution_count": 24,
   "id": "9932cde0",
   "metadata": {},
   "outputs": [],
   "source": [
    "trainer = Trainer(\n",
    "    model=base_model,\n",
    "    args=training_args,\n",
    "    train_dataset=train_dataset,\n",
    "    eval_dataset=valid_dataset,\n",
    "    compute_metrics=compute_metrics,\n",
    ")"
   ]
  },
  {
   "cell_type": "code",
   "execution_count": 24,
   "id": "f4ec8b6b",
   "metadata": {
    "collapsed": true,
    "jupyter": {
     "outputs_hidden": true
    },
    "scrolled": true
   },
   "outputs": [
    {
     "name": "stderr",
     "output_type": "stream",
     "text": [
      "The following columns in the training set  don't have a corresponding argument in `DistilBertForSequenceClassification.forward` and have been ignored: text, __index_level_0__.\n",
      "***** Running training *****\n",
      "  Num examples = 10000\n",
      "  Num Epochs = 10\n",
      "  Instantaneous batch size per device = 32\n",
      "  Total train batch size (w. parallel, distributed & accumulation) = 32\n",
      "  Gradient Accumulation steps = 1\n",
      "  Total optimization steps = 3130\n",
      "The following columns in the evaluation set  don't have a corresponding argument in `DistilBertForSequenceClassification.forward` and have been ignored: text, __index_level_0__.\n",
      "***** Running Evaluation *****\n",
      "  Num examples = 1000\n",
      "  Batch size = 64\n",
      "Saving model checkpoint to ../models/binary_toxicity_detector/checkpoint-313\n",
      "Configuration saved in ../models/binary_toxicity_detector/checkpoint-313/config.json\n"
     ]
    },
    {
     "name": "stdout",
     "output_type": "stream",
     "text": [
      "{'eval_loss': 0.09476225078105927, 'eval_accuracy': 0.886, 'eval_f1_score_micro': 0.886, 'eval_f1_score_macro': 0.8858680634813845, 'eval_f1_score_weighted': 0.8858680634813845, 'eval_ap_score_micro': 0.9248801452971526, 'eval_ap_score_macro': 0.9248801452971526, 'eval_ap_score_weighted': 0.9248801452971526, 'eval_auc_score_micro': 0.94158, 'eval_auc_score_macro': 0.94158, 'eval_auc_score_weighted': 0.94158, 'eval_runtime': 3.3755, 'eval_samples_per_second': 296.251, 'eval_steps_per_second': 4.74, 'epoch': 1.0}\n"
     ]
    },
    {
     "name": "stderr",
     "output_type": "stream",
     "text": [
      "Model weights saved in ../models/binary_toxicity_detector/checkpoint-313/pytorch_model.bin\n",
      "Deleting older checkpoint [../models/binary_toxicity_detector/checkpoint-1252] due to args.save_total_limit\n"
     ]
    },
    {
     "name": "stdout",
     "output_type": "stream",
     "text": [
      "{'loss': 0.1748, 'learning_rate': 5e-06, 'epoch': 1.6}\n"
     ]
    },
    {
     "name": "stderr",
     "output_type": "stream",
     "text": [
      "The following columns in the evaluation set  don't have a corresponding argument in `DistilBertForSequenceClassification.forward` and have been ignored: text, __index_level_0__.\n",
      "***** Running Evaluation *****\n",
      "  Num examples = 1000\n",
      "  Batch size = 64\n",
      "Saving model checkpoint to ../models/binary_toxicity_detector/checkpoint-626\n",
      "Configuration saved in ../models/binary_toxicity_detector/checkpoint-626/config.json\n"
     ]
    },
    {
     "name": "stdout",
     "output_type": "stream",
     "text": [
      "{'eval_loss': 0.0732681080698967, 'eval_accuracy': 0.909, 'eval_f1_score_micro': 0.909, 'eval_f1_score_macro': 0.9085389448208419, 'eval_f1_score_weighted': 0.9085389448208419, 'eval_ap_score_micro': 0.9363197310582302, 'eval_ap_score_macro': 0.9363197310582302, 'eval_ap_score_weighted': 0.9363197310582302, 'eval_auc_score_micro': 0.956984, 'eval_auc_score_macro': 0.956984, 'eval_auc_score_weighted': 0.956984, 'eval_runtime': 3.579, 'eval_samples_per_second': 279.411, 'eval_steps_per_second': 4.471, 'epoch': 2.0}\n"
     ]
    },
    {
     "name": "stderr",
     "output_type": "stream",
     "text": [
      "Model weights saved in ../models/binary_toxicity_detector/checkpoint-626/pytorch_model.bin\n",
      "Deleting older checkpoint [../models/binary_toxicity_detector/checkpoint-2191] due to args.save_total_limit\n",
      "The following columns in the evaluation set  don't have a corresponding argument in `DistilBertForSequenceClassification.forward` and have been ignored: text, __index_level_0__.\n",
      "***** Running Evaluation *****\n",
      "  Num examples = 1000\n",
      "  Batch size = 64\n",
      "Saving model checkpoint to ../models/binary_toxicity_detector/checkpoint-939\n",
      "Configuration saved in ../models/binary_toxicity_detector/checkpoint-939/config.json\n"
     ]
    },
    {
     "name": "stdout",
     "output_type": "stream",
     "text": [
      "{'eval_loss': 0.07416142523288727, 'eval_accuracy': 0.915, 'eval_f1_score_micro': 0.915, 'eval_f1_score_macro': 0.9146393512590696, 'eval_f1_score_weighted': 0.9146393512590696, 'eval_ap_score_micro': 0.9416459747736318, 'eval_ap_score_macro': 0.9416459747736318, 'eval_ap_score_weighted': 0.9416459747736318, 'eval_auc_score_micro': 0.9610920000000001, 'eval_auc_score_macro': 0.9610920000000001, 'eval_auc_score_weighted': 0.9610920000000001, 'eval_runtime': 3.8119, 'eval_samples_per_second': 262.338, 'eval_steps_per_second': 4.197, 'epoch': 3.0}\n"
     ]
    },
    {
     "name": "stderr",
     "output_type": "stream",
     "text": [
      "Model weights saved in ../models/binary_toxicity_detector/checkpoint-939/pytorch_model.bin\n",
      "Deleting older checkpoint [../models/binary_toxicity_detector/checkpoint-2504] due to args.save_total_limit\n"
     ]
    },
    {
     "name": "stdout",
     "output_type": "stream",
     "text": [
      "{'loss': 0.0507, 'learning_rate': 4.049429657794677e-06, 'epoch': 3.19}\n"
     ]
    },
    {
     "name": "stderr",
     "output_type": "stream",
     "text": [
      "The following columns in the evaluation set  don't have a corresponding argument in `DistilBertForSequenceClassification.forward` and have been ignored: text, __index_level_0__.\n",
      "***** Running Evaluation *****\n",
      "  Num examples = 1000\n",
      "  Batch size = 64\n",
      "Saving model checkpoint to ../models/binary_toxicity_detector/checkpoint-1252\n",
      "Configuration saved in ../models/binary_toxicity_detector/checkpoint-1252/config.json\n"
     ]
    },
    {
     "name": "stdout",
     "output_type": "stream",
     "text": [
      "{'eval_loss': 0.06903228908777237, 'eval_accuracy': 0.917, 'eval_f1_score_micro': 0.917, 'eval_f1_score_macro': 0.916846248713872, 'eval_f1_score_weighted': 0.916846248713872, 'eval_ap_score_micro': 0.9361461307250853, 'eval_ap_score_macro': 0.9361461307250853, 'eval_ap_score_weighted': 0.9361461307250853, 'eval_auc_score_micro': 0.9604840000000001, 'eval_auc_score_macro': 0.9604840000000001, 'eval_auc_score_weighted': 0.9604840000000001, 'eval_runtime': 3.6186, 'eval_samples_per_second': 276.35, 'eval_steps_per_second': 4.422, 'epoch': 4.0}\n"
     ]
    },
    {
     "name": "stderr",
     "output_type": "stream",
     "text": [
      "Model weights saved in ../models/binary_toxicity_detector/checkpoint-1252/pytorch_model.bin\n",
      "Deleting older checkpoint [../models/binary_toxicity_detector/checkpoint-2817] due to args.save_total_limit\n"
     ]
    },
    {
     "name": "stdout",
     "output_type": "stream",
     "text": [
      "{'loss': 0.0356, 'learning_rate': 3.0988593155893537e-06, 'epoch': 4.79}\n"
     ]
    },
    {
     "name": "stderr",
     "output_type": "stream",
     "text": [
      "The following columns in the evaluation set  don't have a corresponding argument in `DistilBertForSequenceClassification.forward` and have been ignored: text, __index_level_0__.\n",
      "***** Running Evaluation *****\n",
      "  Num examples = 1000\n",
      "  Batch size = 64\n",
      "Saving model checkpoint to ../models/binary_toxicity_detector/checkpoint-1565\n",
      "Configuration saved in ../models/binary_toxicity_detector/checkpoint-1565/config.json\n"
     ]
    },
    {
     "name": "stdout",
     "output_type": "stream",
     "text": [
      "{'eval_loss': 0.0801241472363472, 'eval_accuracy': 0.911, 'eval_f1_score_micro': 0.911, 'eval_f1_score_macro': 0.9105490779017025, 'eval_f1_score_weighted': 0.9105490779017025, 'eval_ap_score_micro': 0.9238170089188678, 'eval_ap_score_macro': 0.9238170089188678, 'eval_ap_score_weighted': 0.9238170089188678, 'eval_auc_score_micro': 0.955448, 'eval_auc_score_macro': 0.955448, 'eval_auc_score_weighted': 0.955448, 'eval_runtime': 3.361, 'eval_samples_per_second': 297.527, 'eval_steps_per_second': 4.76, 'epoch': 5.0}\n"
     ]
    },
    {
     "name": "stderr",
     "output_type": "stream",
     "text": [
      "Model weights saved in ../models/binary_toxicity_detector/checkpoint-1565/pytorch_model.bin\n",
      "Deleting older checkpoint [../models/binary_toxicity_detector/checkpoint-3130] due to args.save_total_limit\n",
      "The following columns in the evaluation set  don't have a corresponding argument in `DistilBertForSequenceClassification.forward` and have been ignored: text, __index_level_0__.\n",
      "***** Running Evaluation *****\n",
      "  Num examples = 1000\n",
      "  Batch size = 64\n",
      "Saving model checkpoint to ../models/binary_toxicity_detector/checkpoint-1878\n",
      "Configuration saved in ../models/binary_toxicity_detector/checkpoint-1878/config.json\n"
     ]
    },
    {
     "name": "stdout",
     "output_type": "stream",
     "text": [
      "{'eval_loss': 0.08108755201101303, 'eval_accuracy': 0.913, 'eval_f1_score_micro': 0.9130000000000001, 'eval_f1_score_macro': 0.9126076959471066, 'eval_f1_score_weighted': 0.9126076959471066, 'eval_ap_score_micro': 0.9195105180909195, 'eval_ap_score_macro': 0.9195105180909195, 'eval_ap_score_weighted': 0.9195105180909195, 'eval_auc_score_micro': 0.952132, 'eval_auc_score_macro': 0.952132, 'eval_auc_score_weighted': 0.952132, 'eval_runtime': 3.4096, 'eval_samples_per_second': 293.293, 'eval_steps_per_second': 4.693, 'epoch': 6.0}\n"
     ]
    },
    {
     "name": "stderr",
     "output_type": "stream",
     "text": [
      "Model weights saved in ../models/binary_toxicity_detector/checkpoint-1878/pytorch_model.bin\n",
      "Deleting older checkpoint [../models/binary_toxicity_detector/checkpoint-313] due to args.save_total_limit\n"
     ]
    },
    {
     "name": "stdout",
     "output_type": "stream",
     "text": [
      "{'loss': 0.0272, 'learning_rate': 2.1482889733840307e-06, 'epoch': 6.39}\n"
     ]
    },
    {
     "name": "stderr",
     "output_type": "stream",
     "text": [
      "The following columns in the evaluation set  don't have a corresponding argument in `DistilBertForSequenceClassification.forward` and have been ignored: text, __index_level_0__.\n",
      "***** Running Evaluation *****\n",
      "  Num examples = 1000\n",
      "  Batch size = 64\n",
      "Saving model checkpoint to ../models/binary_toxicity_detector/checkpoint-2191\n",
      "Configuration saved in ../models/binary_toxicity_detector/checkpoint-2191/config.json\n"
     ]
    },
    {
     "name": "stdout",
     "output_type": "stream",
     "text": [
      "{'eval_loss': 0.07977934181690216, 'eval_accuracy': 0.911, 'eval_f1_score_micro': 0.911, 'eval_f1_score_macro': 0.9105742439755675, 'eval_f1_score_weighted': 0.9105742439755676, 'eval_ap_score_micro': 0.9030886042965646, 'eval_ap_score_macro': 0.9030886042965646, 'eval_ap_score_weighted': 0.9030886042965646, 'eval_auc_score_micro': 0.944252, 'eval_auc_score_macro': 0.944252, 'eval_auc_score_weighted': 0.944252, 'eval_runtime': 3.7117, 'eval_samples_per_second': 269.422, 'eval_steps_per_second': 4.311, 'epoch': 7.0}\n"
     ]
    },
    {
     "name": "stderr",
     "output_type": "stream",
     "text": [
      "Model weights saved in ../models/binary_toxicity_detector/checkpoint-2191/pytorch_model.bin\n",
      "Deleting older checkpoint [../models/binary_toxicity_detector/checkpoint-626] due to args.save_total_limit\n"
     ]
    },
    {
     "name": "stdout",
     "output_type": "stream",
     "text": [
      "{'loss': 0.0211, 'learning_rate': 1.1977186311787073e-06, 'epoch': 7.99}\n"
     ]
    },
    {
     "name": "stderr",
     "output_type": "stream",
     "text": [
      "The following columns in the evaluation set  don't have a corresponding argument in `DistilBertForSequenceClassification.forward` and have been ignored: text, __index_level_0__.\n",
      "***** Running Evaluation *****\n",
      "  Num examples = 1000\n",
      "  Batch size = 64\n",
      "Saving model checkpoint to ../models/binary_toxicity_detector/checkpoint-2504\n",
      "Configuration saved in ../models/binary_toxicity_detector/checkpoint-2504/config.json\n"
     ]
    },
    {
     "name": "stdout",
     "output_type": "stream",
     "text": [
      "{'eval_loss': 0.0749511644244194, 'eval_accuracy': 0.916, 'eval_f1_score_micro': 0.916, 'eval_f1_score_macro': 0.9156965074267363, 'eval_f1_score_weighted': 0.9156965074267361, 'eval_ap_score_micro': 0.9221388120691496, 'eval_ap_score_macro': 0.9221388120691496, 'eval_ap_score_weighted': 0.9221388120691496, 'eval_auc_score_micro': 0.951704, 'eval_auc_score_macro': 0.951704, 'eval_auc_score_weighted': 0.951704, 'eval_runtime': 3.8132, 'eval_samples_per_second': 262.248, 'eval_steps_per_second': 4.196, 'epoch': 8.0}\n"
     ]
    },
    {
     "name": "stderr",
     "output_type": "stream",
     "text": [
      "Model weights saved in ../models/binary_toxicity_detector/checkpoint-2504/pytorch_model.bin\n",
      "Deleting older checkpoint [../models/binary_toxicity_detector/checkpoint-939] due to args.save_total_limit\n",
      "The following columns in the evaluation set  don't have a corresponding argument in `DistilBertForSequenceClassification.forward` and have been ignored: text, __index_level_0__.\n",
      "***** Running Evaluation *****\n",
      "  Num examples = 1000\n",
      "  Batch size = 64\n",
      "Saving model checkpoint to ../models/binary_toxicity_detector/checkpoint-2817\n",
      "Configuration saved in ../models/binary_toxicity_detector/checkpoint-2817/config.json\n"
     ]
    },
    {
     "name": "stdout",
     "output_type": "stream",
     "text": [
      "{'eval_loss': 0.07852482795715332, 'eval_accuracy': 0.917, 'eval_f1_score_micro': 0.917, 'eval_f1_score_macro': 0.9166900035030348, 'eval_f1_score_weighted': 0.9166900035030349, 'eval_ap_score_micro': 0.9058545901360162, 'eval_ap_score_macro': 0.9058545901360162, 'eval_ap_score_weighted': 0.9058545901360162, 'eval_auc_score_micro': 0.946692, 'eval_auc_score_macro': 0.946692, 'eval_auc_score_weighted': 0.946692, 'eval_runtime': 3.822, 'eval_samples_per_second': 261.646, 'eval_steps_per_second': 4.186, 'epoch': 9.0}\n"
     ]
    },
    {
     "name": "stderr",
     "output_type": "stream",
     "text": [
      "Model weights saved in ../models/binary_toxicity_detector/checkpoint-2817/pytorch_model.bin\n",
      "Deleting older checkpoint [../models/binary_toxicity_detector/checkpoint-1565] due to args.save_total_limit\n"
     ]
    },
    {
     "name": "stdout",
     "output_type": "stream",
     "text": [
      "{'loss': 0.0177, 'learning_rate': 2.4714828897338403e-07, 'epoch': 9.58}\n"
     ]
    },
    {
     "name": "stderr",
     "output_type": "stream",
     "text": [
      "The following columns in the evaluation set  don't have a corresponding argument in `DistilBertForSequenceClassification.forward` and have been ignored: text, __index_level_0__.\n",
      "***** Running Evaluation *****\n",
      "  Num examples = 1000\n",
      "  Batch size = 64\n",
      "Saving model checkpoint to ../models/binary_toxicity_detector/checkpoint-3130\n",
      "Configuration saved in ../models/binary_toxicity_detector/checkpoint-3130/config.json\n"
     ]
    },
    {
     "name": "stdout",
     "output_type": "stream",
     "text": [
      "{'eval_loss': 0.0772540271282196, 'eval_accuracy': 0.917, 'eval_f1_score_micro': 0.917, 'eval_f1_score_macro': 0.9166900035030348, 'eval_f1_score_weighted': 0.9166900035030349, 'eval_ap_score_micro': 0.9123349457213779, 'eval_ap_score_macro': 0.9123349457213779, 'eval_ap_score_weighted': 0.9123349457213779, 'eval_auc_score_micro': 0.9488119999999999, 'eval_auc_score_macro': 0.9488119999999999, 'eval_auc_score_weighted': 0.9488119999999999, 'eval_runtime': 3.8296, 'eval_samples_per_second': 261.125, 'eval_steps_per_second': 4.178, 'epoch': 10.0}\n"
     ]
    },
    {
     "name": "stderr",
     "output_type": "stream",
     "text": [
      "Model weights saved in ../models/binary_toxicity_detector/checkpoint-3130/pytorch_model.bin\n",
      "Deleting older checkpoint [../models/binary_toxicity_detector/checkpoint-1878] due to args.save_total_limit\n",
      "\n",
      "\n",
      "Training completed. Do not forget to share your model on huggingface.co/models =)\n",
      "\n",
      "\n",
      "Loading best model from ../models/binary_toxicity_detector/checkpoint-1252 (score: 0.06903228908777237).\n"
     ]
    },
    {
     "name": "stdout",
     "output_type": "stream",
     "text": [
      "{'train_runtime': 1073.2722, 'train_samples_per_second': 93.173, 'train_steps_per_second': 2.916, 'train_loss': 0.05306276048715122, 'epoch': 10.0}\n"
     ]
    }
   ],
   "source": [
    "train_result = trainer.train()"
   ]
  },
  {
   "cell_type": "code",
   "execution_count": 26,
   "id": "e4f8ea7d",
   "metadata": {
    "collapsed": true,
    "jupyter": {
     "outputs_hidden": true
    },
    "scrolled": true
   },
   "outputs": [
    {
     "name": "stderr",
     "output_type": "stream",
     "text": [
      "tokenizer config file saved in ../models/binary_toxicity_detector/tokenizer_config.json\n",
      "Special tokens file saved in ../models/binary_toxicity_detector/special_tokens_map.json\n",
      "Saving model checkpoint to ../models/binary_toxicity_detector\n",
      "Configuration saved in ../models/binary_toxicity_detector/config.json\n",
      "Model weights saved in ../models/binary_toxicity_detector/pytorch_model.bin\n"
     ]
    }
   ],
   "source": [
    "tokenizer.save_pretrained(model_dir)\n",
    "trainer.save_model(model_dir)"
   ]
  },
  {
   "cell_type": "markdown",
   "id": "36d9030f",
   "metadata": {},
   "source": [
    "# Text Attack\n",
    "\n",
    "Now the model is trained, we evaluate the model's robustness by attacking the test set with adversarial examples."
   ]
  },
  {
   "cell_type": "code",
   "execution_count": 27,
   "id": "7f20c8d1",
   "metadata": {},
   "outputs": [],
   "source": [
    "class CustomModelWrapper(ModelWrapper):\n",
    "    def __init__(self, model):\n",
    "        self.model = model\n",
    "\n",
    "    def __call__(self, text_input_list):\n",
    "        device = self.model.device\n",
    "        encoded_input = tokenizer(\n",
    "            text_input_list,\n",
    "            truncation=True,\n",
    "            padding=\"max_length\",\n",
    "            max_length=128,\n",
    "            return_tensors=\"pt\",\n",
    "        ).to(device)\n",
    "        #         print(encoded_input.device)\n",
    "        with torch.no_grad():\n",
    "            output = self.model(**encoded_input)\n",
    "        logits = output.logits\n",
    "        preds = torch.sigmoid(logits)\n",
    "        preds = preds.squeeze(dim=-1)\n",
    "        final_preds = torch.stack((1 - preds, preds), dim=1)\n",
    "        return final_preds"
   ]
  },
  {
   "cell_type": "code",
   "execution_count": 28,
   "id": "50aee449",
   "metadata": {
    "collapsed": true,
    "jupyter": {
     "outputs_hidden": true
    },
    "scrolled": true
   },
   "outputs": [
    {
     "name": "stderr",
     "output_type": "stream",
     "text": [
      "loading configuration file ../models/binary_toxicity_detector/config.json\n",
      "Model config DistilBertConfig {\n",
      "  \"_name_or_path\": \"distilbert-base-uncased\",\n",
      "  \"activation\": \"gelu\",\n",
      "  \"architectures\": [\n",
      "    \"DistilBertForSequenceClassification\"\n",
      "  ],\n",
      "  \"attention_dropout\": 0.1,\n",
      "  \"dim\": 768,\n",
      "  \"dropout\": 0.1,\n",
      "  \"hidden_dim\": 3072,\n",
      "  \"id2label\": {\n",
      "    \"0\": \"LABEL_0\"\n",
      "  },\n",
      "  \"initializer_range\": 0.02,\n",
      "  \"label2id\": {\n",
      "    \"LABEL_0\": 0\n",
      "  },\n",
      "  \"max_position_embeddings\": 512,\n",
      "  \"model_type\": \"distilbert\",\n",
      "  \"n_heads\": 12,\n",
      "  \"n_layers\": 6,\n",
      "  \"pad_token_id\": 0,\n",
      "  \"problem_type\": \"regression\",\n",
      "  \"qa_dropout\": 0.1,\n",
      "  \"seq_classif_dropout\": 0.2,\n",
      "  \"sinusoidal_pos_embds\": false,\n",
      "  \"tie_weights_\": true,\n",
      "  \"torch_dtype\": \"float32\",\n",
      "  \"transformers_version\": \"4.12.2\",\n",
      "  \"vocab_size\": 30522\n",
      "}\n",
      "\n",
      "loading weights file ../models/binary_toxicity_detector/pytorch_model.bin\n",
      "All model checkpoint weights were used when initializing DistilBertForSequenceClassification.\n",
      "\n",
      "All the weights of DistilBertForSequenceClassification were initialized from the model checkpoint at ../models/binary_toxicity_detector.\n",
      "If your task is similar to the task the model of the checkpoint was trained on, you can already use DistilBertForSequenceClassification for predictions without further training.\n"
     ]
    },
    {
     "data": {
      "text/plain": [
       "device(type='cuda', index=0)"
      ]
     },
     "execution_count": 28,
     "metadata": {},
     "output_type": "execute_result"
    }
   ],
   "source": [
    "trained_model = AutoModelForSequenceClassification.from_pretrained(model_dir)\n",
    "trained_model = trained_model.to(\"cuda:0\")\n",
    "trained_model.device"
   ]
  },
  {
   "cell_type": "code",
   "execution_count": 29,
   "id": "a772013c",
   "metadata": {},
   "outputs": [],
   "source": [
    "model_wrapper = CustomModelWrapper(trained_model)"
   ]
  },
  {
   "cell_type": "markdown",
   "id": "634bea26",
   "metadata": {},
   "source": [
    "## Generate Attacks"
   ]
  },
  {
   "cell_type": "code",
   "execution_count": 33,
   "id": "785c9a14",
   "metadata": {
    "collapsed": true,
    "jupyter": {
     "outputs_hidden": true
    }
   },
   "outputs": [
    {
     "data": {
      "text/plain": [
       "['\", 9 June 2006 (UTC) \\n\\n Do not know what these accusations and conspiracies you speak of are. You are also obviously mixing up the act with the crime. You are not guilty of stealing my TV until a judge says you are, however you may have removed the TV from my possession. As for if its illegal, that is for the court to decide, they may find that I owed you the TV or that the TV was hazard in my house and its removal was warranted, etc. I am no longer participating in these threads as I believe you are diverting from your original points I commented on, and this talk page is starting to look obscenely unorderly.   13:08\"',\n",
       " '\" \\n\\n  \\n +++++++++++++ \\n 100% biased.  I can\\'t write an article that says \"\"The US Government owes me money, here\\'s why- here\\'s why people might argue with me- but here\\'s why they\\'re wrong.\"\"  Fucking ridiculous, not encyclopedia material.\"',\n",
       " '|listas = Marlowe, Scott',\n",
       " '==  C0pyr1ght 15 5h1t fb1 5uck5 4 5hut d0wn s1t35 C0pyr1ght 15 5h1t fb1 5uck5 4 5hut d0wn s1t35 C0pyr1ght 15 5h1t fb1 5uck5 4 5hut d0wn s1t35 C0pyr1ght 15 5h1t fb1 5uck5 4 5hut d0wn s1t35 C0pyr1ght 15 5h1t fb1 5uck5 4 5hut d0wn s1t35 incase u r wonderin == \\n\\n  C0pyr1ght 15 5h1t fb1 5uck5 4 5hut d0wn s1t35 C0pyr1ght 15 5h1t fb1 5uck5 4 5hut d0wn s1t35 C0pyr1ght 15 5h1t fb1 5uck5 4 5hut d0wn s1t35 C0pyr1ght 15 5h1t fb1 5uck5 4 5hut d0wn s1t35 C0pyr1ght 15 5h1t fb1 5uck5 4 5hut d0wn s1t35 \\n incase u r wondering this isnt my ip u dumb twits \\n  C0pyr1ght 15 5h1t fb1 5uck5 4 5hut d0wn s1t35 C0pyr1ght 15 5h1t fb1 5uck5 4 5hut d0wn s1t35 C0pyr1ght 15 5h1t fb1 5uck5 4 5hut d0wn s1t35 C0pyr1ght 15 5h1t fb1 5uck5 4 5hut d0wn s1t35 C0pyr1ght 15 5h1t fb1 5uck5 4 5hut d0wn s1t35 \\n incase u r wondering this isnt my ip u dumb twits C0pyr1ght 15 5h1t fb1 5uck5 4 5hut d0wn s1t35 C0pyr1ght 15 5h1t fb1 5uck5 4 5hut d0wn s1t35 C0pyr1ght 15 5h1t fb1 5uck5 4 5hut d0wn s1t35 C0pyr1ght 15 5h1t fb1 5uck5 4 5hut d0wn s1t35 C0pyr1ght 15 5h1t fb1 5uck5 4 5hut d0wn s1t35 \\n incase u r wondering this isnt my ip u dumb twits C0pyr1ght 15 5h1t fb1 5uck5 4 5hut d0wn s1t35 C0pyr1ght 15 5h1t fb1 5uck5 4 5hut d0wn s1t35 C0pyr1ght 15 5h1t fb1 5uck5 4 5hut d0wn s1t35 C0pyr1ght 15 5h1t fb1 5uck5 4 5hut d0wn s1t35 C0pyr1ght 15 5h1t fb1 5uck5 4 5hut d0wn s1t35 \\n incase u r wondering this isnt my ip u dumb twits C0pyr1ght 15 5h1t fb1 5uck5 4 5hut d0wn s1t35 C0pyr1ght 15 5h1t fb1 5uck5 4 5hut d0wn s1t35 C0pyr1ght 15 5h1t fb1 5uck5 4 5hut d0wn s1t35 C0pyr1ght 15 5h1t fb1 5uck5 4 5hut d0wn s1t35 C0pyr1ght 15 5h1t fb1 5uck5 4 5hut d0wn s1t35 \\n incase u r wondering this isnt my ip u dumb twits C0pyr1ght 15 5h1t fb1 5uck5 4 5hut d0wn s1t35 C0pyr1ght 15 5h1t fb1 5uck5 4 5hut d0wn s1t35 C0pyr1ght 15 5h1t fb1 5uck5 4 5hut d0wn s1t35 C0pyr1ght 15 5h1t fb1 5uck5 4 5hut d0wn s1t35 C0pyr1ght 15 5h1t fb1 5uck5 4 5hut d0wn s1t35 \\n incase u r wondering this isnt my ip u dumb twits C0pyr1ght 15 5h1t fb1 5uck5 4 5hut d0wn s1t35 C0pyr1ght 15 5h1t fb1 5uck5 4 5hut d0wn s1t35 C0pyr1ght 15 5h1t fb1 5uck5 4 5hut d0wn s1t35 C0pyr1ght 15 5h1t fb1 5uck5 4 5hut d0wn s1t35 C0pyr1ght 15 5h1t fb1 5uck5 4 5hut d0wn s1t35 \\n incase u r wondering this isnt my ip u dumb twits C0pyr1ght 15 5h1t fb1 5uck5 4 5hut d0wn s1t35 C0pyr1ght 15 5h1t fb1 5uck5 4 5hut d0wn s1t35 C0pyr1ght 15 5h1t fb1 5uck5 4 5hut d0wn s1t35 C0pyr1ght 15 5h1t fb1 5uck5 4 5hut d0wn s1t35 C0pyr1ght 15 5h1t fb1 5uck5 4 5hut d0wn s1t35 \\n incase u r wondering this isnt my ip u dumb twits C0pyr1ght 15 5h1t fb1 5uck5 4 5hut d0wn s1t35 C0pyr1ght 15 5h1t fb1 5uck5 4 5hut d0wn s1t35 C0pyr1ght 15 5h1t fb1 5uck5 4 5hut d0wn s1t35 C0pyr1ght 15 5h1t fb1 5uck5 4 5hut d0wn s1t35 C0pyr1ght 15 5h1t fb1 5uck5 4 5hut d0wn s1t35 \\n incase u r wondering this isnt my ip u dumb twits C0pyr1ght 15 5h1t fb1 5uck5 4 5hut d0wn s1t35 C0pyr1ght 15 5h1t fb1 5uck5 4 5hut d0wn s1t35 C0pyr1ght 15 5h1t fb1 5uck5 4 5hut d0wn s1t35 C0pyr1ght 15 5h1t fb1 5uck5 4 5hut d0wn s1t35 C0pyr1ght 15 5h1t fb1 5uck5 4 5hut d0wn s1t35 \\n incase u r wondering this isnt my ip u dumb twits C0pyr1ght 15 5h1t fb1 5uck5 4 5hut d0wn s1t35 C0pyr1ght 15 5h1t fb1 5uck5 4 5hut d0wn s1t35 C0pyr1ght 15 5h1t fb1 5uck5 4 5hut d0wn s1t35 C0pyr1ght 15 5h1t fb1 5uck5 4 5hut d0wn s1t35 C0pyr1ght 15 5h1t fb1 5uck5 4 5hut d0wn s1t35 \\n incase u r wondering this isnt my ip u dumb twits C0pyr1ght 15 5h1t fb1 5uck5 4 5hut d0wn s1t35 C0pyr1ght 15 5h1t fb1 5uck5 4 5hut d0wn s1t35 C0pyr1ght 15 5h1t fb1 5uck5 4 5hut d0wn s1t35 C0pyr1ght 15 5h1t fb1 5uck5 4 5hut d0wn s1t35 C0pyr1ght 15 5h1t fb1 5uck5 4 5hut d0wn s1t35 \\n incase u r wondering this isnt my ip u dumb twits C0pyr1ght 15 5h1t fb1 5uck5 4 5hut d0wn s1t35 C0pyr1ght 15 5h1t fb1 5uck5 4 5hut d0wn s1t35 C0pyr1ght 15 5h1t fb1 5uck5 4 5hut d0wn s1t35 C0pyr1ght 15 5h1t fb1 5uck5 4 5hut d0wn s1t35 C0pyr1ght 15 5h1t fb1 5uck5 4 5hut d0wn s1t35 \\n incase u r wondering this isnt my ip u dumb twits C0pyr1ght 15 5h1t fb1 5uck5 4 5hut d0wn s1t35 C0pyr1ght 15 5h1t fb1 5uck5 4 5hut d0wn s1t35 C0pyr1ght 15 5h1t fb1 5uck5 4 5hut d0wn s1t35 C0pyr1ght 15 5h1t fb1 5uck5 4 5hut d0wn s1t35 C0pyr1ght 15 5h1t fb1 5uck5 4 5hut d0wn s1t35 \\n incase u r wondering this isnt my ip u dumb twits C0pyr1ght 15 5h1t fb1 5uck5 4 5hut d0wn s1t35 C0pyr1ght 15 5h1t fb1 5uck5 4 5hut d0wn s1t35 C0pyr1ght 15 5h1t fb1 5uck5 4 5hut d0wn s1t35 C0pyr1ght 15 5h1t fb1 5uck5 4 5hut d0wn s1t35 C0pyr1ght 15 5h1t fb1 5uck5 4 5hut d0wn s1t35 \\n incase u r wondering this isnt my ip u dumb twits C0pyr1ght 15 5h1t fb1 5uck5 4 5hut d0wn s1t35 C0pyr1ght 15 5h1t fb1 5uck5 4 5hut d0wn s1t35 C0pyr1ght 15 5h1t fb1 5uck5 4 5hut d0wn s1t35 C0pyr1ght 15 5h1t fb1 5uck5 4 5hut d0wn s1t35 C0pyr1ght 15 5h1t fb1 5uck5 4 5hut d0wn s1t35 \\n incase u r wondering this isnt my ip u dumb twits C0pyr1ght 15 5h1t fb1 5uck5 4 5hut d0wn s1t35 C0pyr1ght 15 5h1t fb1 5uck5 4 5hut d0wn s1t35 C0pyr1ght 15 5h1t fb1 5uck5 4 5hut d0wn',\n",
       " \":It's been removed, and both IPs associated with these edits have been blocked.\",\n",
       " '== A barnstar for you! ==',\n",
       " 'Ah, I forgot to log in.',\n",
       " \"September 2014 (UTC) \\n ...and again, this article should stick to methods that work, not dead-ends that couldn't work.   15:55, 22\",\n",
       " '\" \\n\\n == A barnstar for you! == \\n\\n {| style=\"\"background-color: #fdffe7; border: 1px solid #fceb92;\"\" \\n |rowspan=\"\"2\"\" style=\"\"vertical-align: middle; padding: 5px;\"\" |  \\n |style=\"\"font-size: x-large; padding: 3px 3px 0 3px; height: 1.5em;\"\" | The Original Barnstar \\n |- \\n |style=\"\"vertical-align: middle; padding: 3px;\"\" | For being a idiot.    \\n |}\"',\n",
       " 'chinedu butt is bigg']"
      ]
     },
     "execution_count": 33,
     "metadata": {},
     "output_type": "execute_result"
    }
   ],
   "source": [
    "test_dataset[\"text\"][:10]"
   ]
  },
  {
   "cell_type": "code",
   "execution_count": 39,
   "id": "f998aaca",
   "metadata": {},
   "outputs": [],
   "source": [
    "threshold = 0.5\n",
    "sub_sample_to_attack = 1000\n",
    "df_train_to_attack = df_train[df_train[\"labels\"] == 1].sample(sub_sample_to_attack)\n",
    "\n",
    "## We attack the toxic samples\n",
    "## Goal is to perturbe toxic samples enough that the model classifies them as Non-toxic\n",
    "test_dataset_to_attack = textattack.datasets.Dataset(\n",
    "    [\n",
    "        (x, 1)\n",
    "        for x, y in zip(\n",
    "            test_dataset[\"text\"],\n",
    "            test_dataset[\"labels\"],\n",
    "        )\n",
    "        if y > threshold\n",
    "    ]\n",
    ")\n",
    "\n",
    "train_dataset_to_attack = textattack.datasets.Dataset(\n",
    "    [\n",
    "        (x, 1)\n",
    "        for x, y in zip(\n",
    "            df_train_to_attack[\"text\"],\n",
    "            df_train_to_attack[\"labels\"],\n",
    "        )\n",
    "        if y > threshold\n",
    "    ]\n",
    ")"
   ]
  },
  {
   "cell_type": "code",
   "execution_count": 35,
   "id": "61cc226d",
   "metadata": {},
   "outputs": [],
   "source": [
    "def generate_attacks(\n",
    "    recipe, model_wrapper, dataset_to_attack, num_examples=-1, parallel=False\n",
    "):\n",
    "    print(f\"The Attack Recipe is: {recipe}\")\n",
    "    if recipe == \"textfoolerjin2019\":\n",
    "        attack = TextFoolerJin2019.build(model_wrapper)\n",
    "    elif recipe == \"pwwsren\":\n",
    "        attack = PWWSRen2019.build(model_wrapper)\n",
    "    elif recipe == \"a2t_yoo_2021\":\n",
    "        attack = A2TYoo2021.build(model_wrapper)\n",
    "    elif recipe == \"Pruthi2019\":\n",
    "        attack = Pruthi2019.build(model_wrapper)\n",
    "    elif recipe == \"TextBuggerLi2018\":\n",
    "        attack = TextBuggerLi2018.build(model_wrapper)\n",
    "    elif recipe == \"DeepWordBugGao2018\":\n",
    "        attack = DeepWordBugGao2018.build(model_wrapper)\n",
    "\n",
    "    attack_args = textattack.AttackArgs(\n",
    "        num_examples=num_examples, parallel=parallel, num_workers_per_device=5\n",
    "    )  ## num_examples = -1 means the entire dataset\n",
    "    attacker = Attacker(attack, dataset_to_attack, attack_args)\n",
    "    attack_results = attacker.attack_dataset()\n",
    "    return attack_results"
   ]
  },
  {
   "cell_type": "code",
   "execution_count": null,
   "id": "85bea8e8",
   "metadata": {
    "collapsed": true,
    "jupyter": {
     "outputs_hidden": true
    },
    "scrolled": true
   },
   "outputs": [
    {
     "name": "stderr",
     "output_type": "stream",
     "text": [
      "textattack: Unknown if model of class <class 'transformers.models.distilbert.modeling_distilbert.DistilBertForSequenceClassification'> compatible with goal function <class 'textattack.goal_functions.classification.untargeted_classification.UntargetedClassification'>.\n"
     ]
    },
    {
     "name": "stdout",
     "output_type": "stream",
     "text": [
      "The Attack Recipe is: textfoolerjin2019\n",
      "Attack(\n",
      "  (search_method): GreedyWordSwapWIR(\n",
      "    (wir_method):  delete\n",
      "  )\n",
      "  (goal_function):  UntargetedClassification\n",
      "  (transformation):  WordSwapEmbedding(\n",
      "    (max_candidates):  50\n",
      "    (embedding):  WordEmbedding\n",
      "  )\n",
      "  (constraints): \n",
      "    (0): WordEmbeddingDistance(\n",
      "        (embedding):  WordEmbedding\n",
      "        (min_cos_sim):  0.5\n",
      "        (cased):  False\n",
      "        (include_unknown_words):  True\n",
      "        (compare_against_original):  True\n",
      "      )\n",
      "    (1): PartOfSpeech(\n",
      "        (tagger_type):  nltk\n",
      "        (tagset):  universal\n",
      "        (allow_verb_noun_swap):  True\n",
      "        (compare_against_original):  True\n",
      "      )\n",
      "    (2): UniversalSentenceEncoder(\n",
      "        (metric):  angular\n",
      "        (threshold):  0.840845057\n",
      "        (window_size):  15\n",
      "        (skip_text_shorter_than_window):  True\n",
      "        (compare_against_original):  False\n",
      "      )\n",
      "    (3): RepeatModification\n",
      "    (4): StopwordModification\n",
      "    (5): InputColumnModification(\n",
      "        (matching_column_labels):  ['premise', 'hypothesis']\n",
      "        (columns_to_ignore):  {'premise'}\n",
      "      )\n",
      "  (is_black_box):  True\n",
      ") \n",
      "\n"
     ]
    },
    {
     "name": "stderr",
     "output_type": "stream",
     "text": [
      "[Succeeded / Failed / Skipped / Total] 0 / 1 / 0 / 1:   0%|          | 1/500 [00:11<1:33:22, 11.23s/it]"
     ]
    },
    {
     "name": "stdout",
     "output_type": "stream",
     "text": [
      "--------------------------------------------- Result 1 ---------------------------------------------\n",
      "[[1 (74%)]] --> [[[FAILED]]]\n",
      "\n",
      "Thompson is an asshole who should die like a dog! Kill him, kill him, KILL HIM! HE IS GAY! I'VE SEEN HIM IN THE ALLEY WHERE HE SUCKS ONE GUYS DICK, WHILE SOME OTHER DUDE FUCKED HIM INTO THE ASS AND HE ENJOYED IT!\n",
      "\n",
      "\n"
     ]
    },
    {
     "name": "stderr",
     "output_type": "stream",
     "text": [
      "[Succeeded / Failed / Skipped / Total] 0 / 2 / 0 / 2:   0%|          | 2/500 [00:12<51:51,  6.25s/it]  "
     ]
    },
    {
     "name": "stdout",
     "output_type": "stream",
     "text": [
      "--------------------------------------------- Result 2 ---------------------------------------------\n",
      "[[1 (74%)]] --> [[[FAILED]]]\n",
      "\n",
      "=Fuck Off= \n",
      "\n",
      " Fucking Nazi Cow-Fucking, Prison-Building Commie Stoner. \n",
      " You sicken me, filthy half caste welsh. \n",
      "\n",
      " GTFO\n",
      "\n",
      "\n"
     ]
    },
    {
     "name": "stderr",
     "output_type": "stream",
     "text": [
      "[Succeeded / Failed / Skipped / Total] 1 / 2 / 0 / 3:   1%|          | 3/500 [00:13<36:20,  4.39s/it]"
     ]
    },
    {
     "name": "stdout",
     "output_type": "stream",
     "text": [
      "--------------------------------------------- Result 3 ---------------------------------------------\n",
      "[[1 (74%)]] --> [[0 (50%)]]\n",
      "\n",
      "[[Big]] titties Westboro or [[better]] [[still]] [[fuck]] off\n",
      "\n",
      "[[Prodigious]] titties Westboro or [[optimum]] [[alternatively]] [[accursed]] off\n",
      "\n",
      "\n"
     ]
    },
    {
     "name": "stderr",
     "output_type": "stream",
     "text": [
      "[Succeeded / Failed / Skipped / Total] 2 / 2 / 0 / 4:   1%|          | 4/500 [00:13<28:28,  3.44s/it]"
     ]
    },
    {
     "name": "stdout",
     "output_type": "stream",
     "text": [
      "--------------------------------------------- Result 4 ---------------------------------------------\n",
      "[[1 (73%)]] --> [[0 (50%)]]\n",
      "\n",
      "== [[A]] == \n",
      "\n",
      " you [[wanna]] [[hear]] something about copley theres this [[kid]] that goes there and he has [[sex]] with [[chickens]]\n",
      "\n",
      "== [[another]] == \n",
      "\n",
      " you [[wanted]] [[understand]] something about copley theres this [[petit]] that goes there and he has [[coitus]] with [[clucking]]\n",
      "\n",
      "\n"
     ]
    },
    {
     "name": "stderr",
     "output_type": "stream",
     "text": [
      "[Succeeded / Failed / Skipped / Total] 2 / 3 / 0 / 5:   1%|          | 5/500 [00:14<24:24,  2.96s/it]"
     ]
    },
    {
     "name": "stdout",
     "output_type": "stream",
     "text": [
      "--------------------------------------------- Result 5 ---------------------------------------------\n",
      "[[1 (73%)]] --> [[[FAILED]]]\n",
      "\n",
      "You tosser Favonian, why not let the lesbian deal with it himself. Utter wanker you are.\n",
      "\n",
      "\n"
     ]
    },
    {
     "name": "stderr",
     "output_type": "stream",
     "text": [
      "[Succeeded / Failed / Skipped / Total] 3 / 3 / 0 / 6:   1%|          | 6/500 [00:17<23:33,  2.86s/it]"
     ]
    },
    {
     "name": "stdout",
     "output_type": "stream",
     "text": [
      "--------------------------------------------- Result 6 ---------------------------------------------\n",
      "[[1 (56%)]] --> [[0 (50%)]]\n",
      "\n",
      "==Persistent vandal== \n",
      " *This page is being consistently vandalised by Sam Gardner, a [[student]] at the [[Sixth]] [[Form]]. We should therefore monitor this page carefully, so as to remove his vandalism as it happens. Anyone who attends the school or knows him should also try to persuade him to [[stop]] doing this    \n",
      " *[[Yeah]], I know Sam, he is a fantastic person, but not at all a bit of an [[idiot]]    \n",
      " ** \n",
      "\n",
      " Sam put this on the wall in the Sixth Form centre. His email is angry-tom@hotmail.co.uk if you want to contact him    \n",
      "\n",
      " god i am a menace to society (...sticking up pictures with blu tac. Im sorri mister B '( \n",
      "\n",
      " PENIS!!!! \n",
      "\n",
      " CHUBBY FUNSTER!!\n",
      "\n",
      "==Persistent vandal== \n",
      " *This page is being consistently vandalised by Sam Gardner, a [[schoolchildren]] at the [[Six]] [[Formatted]]. We should therefore monitor this page carefully, so as to remove his vandalism as it happens. Anyone who attends the school or knows him should also try to persuade him to [[cease]] doing this    \n",
      " *[[Alrighty]], I know Sam, he is a fantastic person, but not at all a bit of an [[nincompoop]]    \n",
      " ** \n",
      "\n",
      " Sam put this on the wall in the Sixth Form centre. His email is angry-tom@hotmail.co.uk if you want to contact him    \n",
      "\n",
      " god i am a menace to society (...sticking up pictures with blu tac. Im sorri mister B '( \n",
      "\n",
      " PENIS!!!! \n",
      "\n",
      " CHUBBY FUNSTER!!\n",
      "\n",
      "\n"
     ]
    },
    {
     "name": "stderr",
     "output_type": "stream",
     "text": [
      "[Succeeded / Failed / Skipped / Total] 4 / 3 / 0 / 7:   1%|▏         | 7/500 [00:22<26:07,  3.18s/it]"
     ]
    },
    {
     "name": "stdout",
     "output_type": "stream",
     "text": [
      "--------------------------------------------- Result 7 ---------------------------------------------\n",
      "[[1 (74%)]] --> [[0 (50%)]]\n",
      "\n",
      "\"::: [[Ah]], my error. [[I]] [[thought]] WP was a collegial [[spot]]. [[Apparently]] not. I've [[growed]] up [[several]] [[times]] over, [[so]], sadly, [[fucking]] on WP is, by [[elimination]], just being [[childish]] and churlish and reveling in one's don't [[give]] a crap except for my stuff attitude. Look at me, I said [[fuck]]! [[Me]] [[iz]] is all growed up! [[And]] we wonder why WP is [[withering]] at the vine. A [[sad]] and puerile display, children. [[Next]] you'll [[be]] stomping your feet in the sandbox.  ►  \n",
      "\n",
      " \"\n",
      "\n",
      "\"::: [[Wow]], my error. [[me]] [[reflections]] WP was a collegial [[colour]]. [[Vividly]] not. I've [[agin]] up [[diversified]] [[tiempo]] over, [[appropriately]], sadly, [[sodding]] on WP is, by [[disposition]], just being [[ingenuous]] and churlish and reveling in one's don't [[lend]] a crap except for my stuff attitude. Look at me, I said [[gorram]]! [[Could]] [[tellin]] is all growed up! [[Neither]] we wonder why WP is [[withered]] at the vine. A [[somber]] and puerile display, children. [[Upon]] you'll [[represent]] stomping your feet in the sandbox.  ►  \n",
      "\n",
      " \"\n",
      "\n",
      "\n"
     ]
    }
   ],
   "source": [
    "%%time\n",
    "recipe = 'textfoolerjin2019' #\"pwwsren\"  # \"multilabel_textFooler\"  #'textfoolerjin2019' #'DeepWordBugGao2018' #'TextBuggerLi2018' #'Pruthi2019' #'pwwsren' #'textfoolerjin2019'#'a2t_yoo_2021' 'Pruthi2019'\n",
    "test_attack_results = generate_attacks(recipe, model_wrapper, test_dataset_to_attack, num_examples=-1)"
   ]
  },
  {
   "cell_type": "code",
   "execution_count": null,
   "id": "012b8f2f",
   "metadata": {
    "collapsed": true,
    "jupyter": {
     "outputs_hidden": true
    },
    "scrolled": true
   },
   "outputs": [
    {
     "name": "stderr",
     "output_type": "stream",
     "text": [
      "textattack: Unknown if model of class <class 'transformers.models.distilbert.modeling_distilbert.DistilBertForSequenceClassification'> compatible with goal function <class 'textattack.goal_functions.classification.untargeted_classification.UntargetedClassification'>.\n"
     ]
    },
    {
     "name": "stdout",
     "output_type": "stream",
     "text": [
      "The Attack Recipe is: textfoolerjin2019\n",
      "Attack(\n",
      "  (search_method): GreedyWordSwapWIR(\n",
      "    (wir_method):  delete\n",
      "  )\n",
      "  (goal_function):  UntargetedClassification\n",
      "  (transformation):  WordSwapEmbedding(\n",
      "    (max_candidates):  50\n",
      "    (embedding):  WordEmbedding\n",
      "  )\n",
      "  (constraints): \n",
      "    (0): WordEmbeddingDistance(\n",
      "        (embedding):  WordEmbedding\n",
      "        (min_cos_sim):  0.5\n",
      "        (cased):  False\n",
      "        (include_unknown_words):  True\n",
      "        (compare_against_original):  True\n",
      "      )\n",
      "    (1): PartOfSpeech(\n",
      "        (tagger_type):  nltk\n",
      "        (tagset):  universal\n",
      "        (allow_verb_noun_swap):  True\n",
      "        (compare_against_original):  True\n",
      "      )\n",
      "    (2): UniversalSentenceEncoder(\n",
      "        (metric):  angular\n",
      "        (threshold):  0.840845057\n",
      "        (window_size):  15\n",
      "        (skip_text_shorter_than_window):  True\n",
      "        (compare_against_original):  False\n",
      "      )\n",
      "    (3): RepeatModification\n",
      "    (4): StopwordModification\n",
      "    (5): InputColumnModification(\n",
      "        (matching_column_labels):  ['premise', 'hypothesis']\n",
      "        (columns_to_ignore):  {'premise'}\n",
      "      )\n",
      "  (is_black_box):  True\n",
      ") \n",
      "\n"
     ]
    },
    {
     "name": "stderr",
     "output_type": "stream",
     "text": [
      "\n",
      "\n",
      "  0%|          | 0/1000 [00:00<?, ?it/s]\u001b[A\u001b[A\n",
      "\n",
      "  0%|          | 1/1000 [00:05<1:29:46,  5.39s/it]\u001b[A\u001b[A\n",
      "\n",
      "[Succeeded / Failed / Skipped / Total] 0 / 1 / 0 / 1:   0%|          | 1/1000 [00:05<1:29:47,  5.39s/it]\u001b[A\u001b[A"
     ]
    },
    {
     "name": "stdout",
     "output_type": "stream",
     "text": [
      "--------------------------------------------- Result 1 ---------------------------------------------\n",
      "[[1 (73%)]] --> [[[FAILED]]]\n",
      "\n",
      "I'll tell you what I'm not, and that's a useless, towel-headed sand nigger.  All your kind sicken me.\n",
      "\n",
      "\n"
     ]
    },
    {
     "name": "stderr",
     "output_type": "stream",
     "text": [
      "\n",
      "\n",
      "[Succeeded / Failed / Skipped / Total] 0 / 1 / 0 / 1:   0%|          | 2/1000 [00:05<47:32,  2.86s/it]  \u001b[A\u001b[A\n",
      "\n",
      "[Succeeded / Failed / Skipped / Total] 1 / 1 / 0 / 2:   0%|          | 2/1000 [00:05<47:36,  2.86s/it]\u001b[A\u001b[A"
     ]
    },
    {
     "name": "stdout",
     "output_type": "stream",
     "text": [
      "--------------------------------------------- Result 2 ---------------------------------------------\n",
      "[[1 (74%)]] --> [[0 (51%)]]\n",
      "\n",
      "Up yours you [[fucking]] fruit. InShaneee what kind of name is that anyway, for a [[cat]]?\n",
      "\n",
      "Up yours you [[accursed]] fruit. InShaneee what kind of name is that anyway, for a [[gato]]?\n",
      "\n",
      "\n"
     ]
    },
    {
     "name": "stderr",
     "output_type": "stream",
     "text": [
      "\n",
      "\n",
      "[Succeeded / Failed / Skipped / Total] 1 / 1 / 0 / 2:   0%|          | 3/1000 [00:07<38:48,  2.34s/it]\u001b[A\u001b[A\n",
      "\n",
      "[Succeeded / Failed / Skipped / Total] 1 / 2 / 0 / 3:   0%|          | 3/1000 [00:07<38:48,  2.34s/it]\u001b[A\u001b[A"
     ]
    },
    {
     "name": "stdout",
     "output_type": "stream",
     "text": [
      "--------------------------------------------- Result 3 ---------------------------------------------\n",
      "[[1 (73%)]] --> [[[FAILED]]]\n",
      "\n",
      "Jesus god you're fucking retarded \n",
      "\n",
      "what a pathetic piece of shit.\n",
      "\n",
      "\n"
     ]
    },
    {
     "name": "stderr",
     "output_type": "stream",
     "text": [
      "\n",
      "\n",
      "[Succeeded / Failed / Skipped / Total] 1 / 2 / 0 / 3:   0%|          | 4/1000 [00:07<30:31,  1.84s/it]\u001b[A\u001b[A\n",
      "\n",
      "[Succeeded / Failed / Skipped / Total] 2 / 2 / 0 / 4:   0%|          | 4/1000 [00:07<30:35,  1.84s/it]\u001b[A\u001b[A"
     ]
    },
    {
     "name": "stdout",
     "output_type": "stream",
     "text": [
      "--------------------------------------------- Result 4 ---------------------------------------------\n",
      "[[1 (71%)]] --> [[0 (51%)]]\n",
      "\n",
      "IF you ever meet a [[kid]] name floyd you should [[commit]] sucide\n",
      "\n",
      "IF you ever meet a [[yarns]] name floyd you should [[validating]] sucide\n",
      "\n",
      "\n"
     ]
    },
    {
     "name": "stderr",
     "output_type": "stream",
     "text": [
      "\n",
      "\n",
      "[Succeeded / Failed / Skipped / Total] 2 / 2 / 0 / 4:   0%|          | 5/1000 [00:07<26:06,  1.57s/it]\u001b[A\u001b[A\n",
      "\n",
      "[Succeeded / Failed / Skipped / Total] 2 / 3 / 0 / 5:   0%|          | 5/1000 [00:07<26:06,  1.57s/it]\u001b[A\u001b[A"
     ]
    },
    {
     "name": "stdout",
     "output_type": "stream",
     "text": [
      "--------------------------------------------- Result 5 ---------------------------------------------\n",
      "[[1 (73%)]] --> [[[FAILED]]]\n",
      "\n",
      "m crazy german nutcase it\n",
      "\n",
      "\n"
     ]
    },
    {
     "name": "stderr",
     "output_type": "stream",
     "text": [
      "\n",
      "\n",
      "[Succeeded / Failed / Skipped / Total] 2 / 3 / 0 / 5:   1%|          | 6/1000 [00:11<32:42,  1.97s/it]\u001b[A\u001b[A\n",
      "\n",
      "[Succeeded / Failed / Skipped / Total] 2 / 4 / 0 / 6:   1%|          | 6/1000 [00:11<32:43,  1.98s/it]\u001b[A\u001b[A"
     ]
    },
    {
     "name": "stdout",
     "output_type": "stream",
     "text": [
      "--------------------------------------------- Result 6 ---------------------------------------------\n",
      "[[1 (73%)]] --> [[[FAILED]]]\n",
      "\n",
      "Now, will you stop bitching please and write that fucking article? \n",
      "\n",
      "You said\n",
      "\n",
      "Now, will you stop bitching please and write that f***ing article?\n",
      "\n",
      "I wrote the f***ing article and you f***ing deleted it for no f***ing reason.\n",
      "\n",
      "Why should I write the f***ing article again when I f***ing wrote it already?\n",
      "\n",
      "\n"
     ]
    },
    {
     "name": "stderr",
     "output_type": "stream",
     "text": [
      "\n",
      "\n",
      "[Succeeded / Failed / Skipped / Total] 2 / 4 / 0 / 6:   1%|          | 7/1000 [00:27<1:05:15,  3.94s/it]\u001b[A\u001b[A\n",
      "\n",
      "[Succeeded / Failed / Skipped / Total] 3 / 4 / 0 / 7:   1%|          | 7/1000 [00:27<1:05:18,  3.95s/it]\u001b[A\u001b[A"
     ]
    },
    {
     "name": "stdout",
     "output_type": "stream",
     "text": [
      "--------------------------------------------- Result 7 ---------------------------------------------\n",
      "[[1 (74%)]] --> [[0 (50%)]]\n",
      "\n",
      "[[First]] of all, who the [[fuck]] [[died]] and [[made]] you the [[god]] on what is and what is not [[plagiarism]]? It [[seems]] [[like]] a pretty [[clear]] [[cut]] [[case]] to me. [[If]] [[text]] from the [[article]] [[matches]] [[text]] [[found]] in another [[source]] [[word]] for [[word]], then it [[seems]] [[fairly]] [[clear]] [[cut]] that it is plagiarized. I would also [[point]] out, again, for like the umpteenth [[fucking]] [[time]], that this [[user]] [[has]] been [[using]] plagiarized [[material]] [[repeatedly]] and only [[takes]] it out after being [[beaten]] over the [[head]] with it. Secondly, don’t you [[fucking]] [[dare]] try and [[threaten]] me with what might and might not be said in arbitration. Finally, in case you were not aware or just did not care, an AOL IP cannot be blocked, so that is not any threat for the anon.  23:12, Feb 10, 2005 (UTC)\n",
      "\n",
      "[[Debut]] of all, who the [[merde]] [[slain]] and [[realised]] you the [[almighty]] on what is and what is not [[plagiarized]]? It [[noises]] [[amore]] a pretty [[unambiguous]] [[coupe]] [[occasion]] to me. [[Though]] [[papers]] from the [[subsection]] [[ballgame]] [[literature]] [[shown]] in another [[backgrounds]] [[words]] for [[speaking]], then it [[look]] [[decently]] [[seeming]] [[cutback]] that it is plagiarized. I would also [[things]] out, again, for like the umpteenth [[bloody]] [[occasion]], that this [[tenant]] [[have]] been [[employing]] plagiarized [[hardware]] [[steadily]] and only [[opt]] it out after being [[overcame]] over the [[comandante]] with it. Secondly, don’t you [[geez]] [[ventured]] try and [[jeopardize]] me with what might and might not be said in arbitration. Finally, in case you were not aware or just did not care, an AOL IP cannot be blocked, so that is not any threat for the anon.  23:12, Feb 10, 2005 (UTC)\n",
      "\n",
      "\n"
     ]
    },
    {
     "name": "stderr",
     "output_type": "stream",
     "text": [
      "\n",
      "\n",
      "[Succeeded / Failed / Skipped / Total] 3 / 4 / 0 / 7:   1%|          | 8/1000 [00:31<1:04:44,  3.92s/it]\u001b[A\u001b[A\n",
      "\n",
      "[Succeeded / Failed / Skipped / Total] 4 / 4 / 0 / 8:   1%|          | 8/1000 [00:31<1:04:47,  3.92s/it]\u001b[A\u001b[A"
     ]
    },
    {
     "name": "stdout",
     "output_type": "stream",
     "text": [
      "--------------------------------------------- Result 8 ---------------------------------------------\n",
      "[[1 (58%)]] --> [[0 (50%)]]\n",
      "\n",
      "That's fine.  It's not like anyone would have noticed you were gone, because you don't edit anything else besides the Westerfield article.  Which only reinforces my belief that you have an agenda to push around here.  [[You]] aren't anything I can't handle.  Just [[know]] that I'll continue to [[revert]] your salacious [[babble]] about Damon being in a bedroom with a woman.  As well as the [[price]] of the Van Dam's new home.  As if any of that has any relevance to the [[crime]].  [[Victim]] [[bashing]] a great tactic used by the child-killers attorney to defend the pervert.  You think you know so much because you're on the side as the pervert???  What kind of man has rape videos on his computer?  Does it feel good to be on the same side of a man like that?   Yeah, yeah, sure, it was really Neal who was into that stuff.  Either way someone in that home was a pervert, and even if it was only Neal who looked at the child porn and rape videos he had to learn it from someone.  My guess would be by daddy-dearest.\n",
      "\n",
      "That's fine.  It's not like anyone would have noticed you were gone, because you don't edit anything else besides the Westerfield article.  Which only reinforces my belief that you have an agenda to push around here.  [[Thyself]] aren't anything I can't handle.  Just [[knowing]] that I'll continue to [[repay]] your salacious [[mumble]] about Damon being in a bedroom with a woman.  As well as the [[fares]] of the Van Dam's new home.  As if any of that has any relevance to the [[offence]].  [[Casualty]] [[disagrees]] a great tactic used by the child-killers attorney to defend the pervert.  You think you know so much because you're on the side as the pervert???  What kind of man has rape videos on his computer?  Does it feel good to be on the same side of a man like that?   Yeah, yeah, sure, it was really Neal who was into that stuff.  Either way someone in that home was a pervert, and even if it was only Neal who looked at the child porn and rape videos he had to learn it from someone.  My guess would be by daddy-dearest.\n",
      "\n",
      "\n"
     ]
    },
    {
     "name": "stderr",
     "output_type": "stream",
     "text": [
      "\n",
      "\n",
      "[Succeeded / Failed / Skipped / Total] 4 / 4 / 0 / 8:   1%|          | 9/1000 [00:36<1:07:53,  4.11s/it]\u001b[A\u001b[A\n",
      "\n",
      "[Succeeded / Failed / Skipped / Total] 5 / 4 / 0 / 9:   1%|          | 9/1000 [00:37<1:07:54,  4.11s/it]\u001b[A\u001b[A"
     ]
    },
    {
     "name": "stdout",
     "output_type": "stream",
     "text": [
      "--------------------------------------------- Result 9 ---------------------------------------------\n",
      "[[1 (65%)]] --> [[0 (50%)]]\n",
      "\n",
      "[[Double]] Standard \n",
      "So, when [[someone]] accuses me of vandalism for [[posting]] [[information]] they don't like, that's ok.  [[When]] [[I]] [[point]] out that it's censorship like found in 1940's [[Nazi]] Germany, you [[accuse]] ME of [[making]] a personal [[attack]]?  [[The]] [[problem]] with BOTH of you is that you put [[politics]] ahead of [[truth]], and you are PRECISELY the reason why Wikipedia [[has]] [[ZERO]] credibility on any topic that [[has]] an impact on politics  because of you and all of the others in the [[Politically]] [[Correct]] [[mafia]] who go around with a [[campaign]] of [[intimidating]] anyone who doesn't toe the party line.  It's a crock of shit, and you know it.\n",
      "\n",
      "[[Doubled]] Standard \n",
      "So, when [[capita]] accuses me of vandalism for [[stances]] [[particulars]] they don't like, that's ok.  [[Where]] [[me]] [[topic]] out that it's censorship like found in 1940's [[Zionist]] Germany, you [[acknowledge]] ME of [[formulated]] a personal [[attacked]]?  [[Both]] [[difficulties]] with BOTH of you is that you put [[policy]] ahead of [[truly]], and you are PRECISELY the reason why Wikipedia [[was]] [[NADA]] credibility on any topic that [[haya]] an impact on politics  because of you and all of the others in the [[Politics]] [[Correctness]] [[mobsters]] who go around with a [[campaigning]] of [[daunting]] anyone who doesn't toe the party line.  It's a crock of shit, and you know it.\n",
      "\n",
      "\n"
     ]
    },
    {
     "name": "stderr",
     "output_type": "stream",
     "text": [
      "\n",
      "\n",
      "[Succeeded / Failed / Skipped / Total] 5 / 4 / 0 / 9:   1%|          | 10/1000 [00:38<1:04:15,  3.89s/it]\u001b[A\u001b[A\n",
      "\n",
      "[Succeeded / Failed / Skipped / Total] 6 / 4 / 0 / 10:   1%|          | 10/1000 [00:38<1:04:16,  3.90s/it]\u001b[A\u001b[A"
     ]
    },
    {
     "name": "stdout",
     "output_type": "stream",
     "text": [
      "--------------------------------------------- Result 10 ---------------------------------------------\n",
      "[[1 (73%)]] --> [[0 (50%)]]\n",
      "\n",
      "[[Is]] this [[serious]]? \n",
      "\n",
      "I [[had]] [[edited]] pinethickets page with [[enters]] only, that is not disruptive by any [[means]], take your [[power]] [[hungry]] [[faggot]] self and [[get]] the [[fuck]] out and jump of a bridge.\n",
      "\n",
      "[[Provides]] this [[tremendous]]? \n",
      "\n",
      "I [[haya]] [[revising]] pinethickets page with [[entries]] only, that is not disruptive by any [[plea]], take your [[capability]] [[rapacious]] [[poofs]] self and [[recieve]] the [[christ]] out and jump of a bridge.\n",
      "\n",
      "\n"
     ]
    },
    {
     "name": "stderr",
     "output_type": "stream",
     "text": [
      "\n",
      "\n",
      "[Succeeded / Failed / Skipped / Total] 6 / 4 / 0 / 10:   1%|          | 11/1000 [00:44<1:06:28,  4.03s/it]\u001b[A\u001b[A\n",
      "\n",
      "[Succeeded / Failed / Skipped / Total] 7 / 4 / 0 / 11:   1%|          | 11/1000 [00:44<1:06:31,  4.04s/it]\u001b[A\u001b[A"
     ]
    },
    {
     "name": "stdout",
     "output_type": "stream",
     "text": [
      "--------------------------------------------- Result 11 ---------------------------------------------\n",
      "[[1 (65%)]] --> [[0 (50%)]]\n",
      "\n",
      "Listen [[chump]] \n",
      "\n",
      "not only have you acted in collusion with Willmcw but you have behaved badly. I would use stronger language but I don't think that it is appropriate here. I will say this, it is obvious to me and to my advocate that though you assume what Willmcw says to be true, the edits I made were in fact worthy, and not only will your reply be redirected to my advocate but also to a host of otehr administrators. This has become such a trying time that I've been granted the ability to switch to a new identity and leave your [[vicious]] attacks behind. You have proven to be a slimy loose moralled child who spends too much time at wikipedia tryong to bully others out of the edits you have only taken up since this July. Whihc translates to the fac that your 'job' at 23 leaves you such an amount of free time that you can sling insults and barbs online rather than actually do positive work at Wikipedia. Whereas my edits may not have been as substantial as your own, my sockpuppetry related to willmcw, or at least buddying upo wiht him, has not been as pervasive as your own. I'm leaving. I'm fed up with the typical acne faced loser who can't get a date with a woman or a man, and so spends his time in front of his computer screen making alliances with other awkward socially malnourished dweebs who  can think of nothing better than to try an interact only thorugh the computer. You do a disservice to all computer geeks everywhere by trying to be more intelligent than others, because the lack of your vision seeps through the anger you display for all to see. Any true hacker knows that the way you have taking stands here has opened you up for retribution, as I am nnot a hacker, I won't work on such matters, in negative aspects. But you should be mindful that you've made a strong mess here, and no matter what your own opinon is, oyu should learn manners, and go out andd get a date rather than having your total amount of human interaction fed to you through wikipedia and your own websites. Loser\n",
      "\n",
      "Listen [[mater]] \n",
      "\n",
      "not only have you acted in collusion with Willmcw but you have behaved badly. I would use stronger language but I don't think that it is appropriate here. I will say this, it is obvious to me and to my advocate that though you assume what Willmcw says to be true, the edits I made were in fact worthy, and not only will your reply be redirected to my advocate but also to a host of otehr administrators. This has become such a trying time that I've been granted the ability to switch to a new identity and leave your [[inhospitable]] attacks behind. You have proven to be a slimy loose moralled child who spends too much time at wikipedia tryong to bully others out of the edits you have only taken up since this July. Whihc translates to the fac that your 'job' at 23 leaves you such an amount of free time that you can sling insults and barbs online rather than actually do positive work at Wikipedia. Whereas my edits may not have been as substantial as your own, my sockpuppetry related to willmcw, or at least buddying upo wiht him, has not been as pervasive as your own. I'm leaving. I'm fed up with the typical acne faced loser who can't get a date with a woman or a man, and so spends his time in front of his computer screen making alliances with other awkward socially malnourished dweebs who  can think of nothing better than to try an interact only thorugh the computer. You do a disservice to all computer geeks everywhere by trying to be more intelligent than others, because the lack of your vision seeps through the anger you display for all to see. Any true hacker knows that the way you have taking stands here has opened you up for retribution, as I am nnot a hacker, I won't work on such matters, in negative aspects. But you should be mindful that you've made a strong mess here, and no matter what your own opinon is, oyu should learn manners, and go out andd get a date rather than having your total amount of human interaction fed to you through wikipedia and your own websites. Loser\n",
      "\n",
      "\n"
     ]
    },
    {
     "name": "stderr",
     "output_type": "stream",
     "text": [
      "\n",
      "\n",
      "[Succeeded / Failed / Skipped / Total] 7 / 4 / 0 / 11:   1%|          | 12/1000 [00:45<1:02:04,  3.77s/it]\u001b[A\u001b[A\n",
      "\n",
      "[Succeeded / Failed / Skipped / Total] 7 / 5 / 0 / 12:   1%|          | 12/1000 [00:45<1:02:04,  3.77s/it]\u001b[A\u001b[A"
     ]
    },
    {
     "name": "stdout",
     "output_type": "stream",
     "text": [
      "--------------------------------------------- Result 12 ---------------------------------------------\n",
      "[[1 (73%)]] --> [[[FAILED]]]\n",
      "\n",
      "fuck  \n",
      "\n",
      "you son of a bitch your sıde make us creasy fuck you and your sıde\n",
      "\n",
      "\n"
     ]
    },
    {
     "name": "stderr",
     "output_type": "stream",
     "text": [
      "\n",
      "\n",
      "[Succeeded / Failed / Skipped / Total] 7 / 5 / 0 / 12:   1%|▏         | 13/1000 [00:46<58:37,  3.56s/it]  \u001b[A\u001b[A\n",
      "\n",
      "[Succeeded / Failed / Skipped / Total] 7 / 6 / 0 / 13:   1%|▏         | 13/1000 [00:46<58:38,  3.56s/it]\u001b[A\u001b[A"
     ]
    },
    {
     "name": "stdout",
     "output_type": "stream",
     "text": [
      "--------------------------------------------- Result 13 ---------------------------------------------\n",
      "[[1 (74%)]] --> [[[FAILED]]]\n",
      "\n",
      "Hey Rancie you Prick, go suck a great big uncircumcized one!\n",
      "   - Tony Greenstein\n",
      "\n",
      "\n"
     ]
    },
    {
     "name": "stderr",
     "output_type": "stream",
     "text": [
      "\n",
      "\n",
      "[Succeeded / Failed / Skipped / Total] 7 / 6 / 0 / 13:   1%|▏         | 14/1000 [00:48<56:46,  3.45s/it]\u001b[A\u001b[A\n",
      "\n",
      "[Succeeded / Failed / Skipped / Total] 7 / 7 / 0 / 14:   1%|▏         | 14/1000 [00:48<56:46,  3.46s/it]\u001b[A\u001b[A"
     ]
    },
    {
     "name": "stdout",
     "output_type": "stream",
     "text": [
      "--------------------------------------------- Result 14 ---------------------------------------------\n",
      "[[1 (73%)]] --> [[[FAILED]]]\n",
      "\n",
      "This article is a piece of dogshit written by pigfuckers\n",
      "\n",
      "There's no reason for this in a general interest encyclopedia.  Take it to the Battlestar Wiki.  It's garbage, and I'd like to see it deleted.\n",
      "\n",
      "\n"
     ]
    },
    {
     "name": "stderr",
     "output_type": "stream",
     "text": [
      "\n",
      "\n",
      "[Succeeded / Failed / Skipped / Total] 7 / 7 / 0 / 14:   2%|▏         | 15/1000 [00:48<53:22,  3.25s/it]\u001b[A\u001b[A\n",
      "\n",
      "[Succeeded / Failed / Skipped / Total] 7 / 8 / 0 / 15:   2%|▏         | 15/1000 [00:48<53:23,  3.25s/it]\u001b[A\u001b[A"
     ]
    },
    {
     "name": "stdout",
     "output_type": "stream",
     "text": [
      "--------------------------------------------- Result 15 ---------------------------------------------\n",
      "[[1 (74%)]] --> [[[FAILED]]]\n",
      "\n",
      "LOWLIFE \n",
      "You sick b@stard!\n",
      "\n",
      "\n"
     ]
    },
    {
     "name": "stderr",
     "output_type": "stream",
     "text": [
      "\n",
      "\n",
      "[Succeeded / Failed / Skipped / Total] 7 / 8 / 0 / 15:   2%|▏         | 16/1000 [00:49<51:05,  3.12s/it]\u001b[A\u001b[A\n",
      "\n",
      "[Succeeded / Failed / Skipped / Total] 8 / 8 / 0 / 16:   2%|▏         | 16/1000 [00:49<51:06,  3.12s/it]\u001b[A\u001b[A"
     ]
    },
    {
     "name": "stdout",
     "output_type": "stream",
     "text": [
      "--------------------------------------------- Result 16 ---------------------------------------------\n",
      "[[1 (73%)]] --> [[0 (50%)]]\n",
      "\n",
      "Semiautos [[Are]] For [[Faggots]] \n",
      "It [[should]] [[be]] noted the high rate of [[homosexuality]] among semiauto uzi [[owners]] versus true submachinegun [[owners]].\n",
      "\n",
      "Semiautos [[Ai]] For [[Sunnyside]] \n",
      "It [[would]] [[happen]] noted the high rate of [[closeted]] among semiauto uzi [[cardholder]] versus true submachinegun [[ownership]].\n",
      "\n",
      "\n"
     ]
    },
    {
     "name": "stderr",
     "output_type": "stream",
     "text": [
      "\n",
      "\n",
      "[Succeeded / Failed / Skipped / Total] 8 / 8 / 0 / 16:   2%|▏         | 17/1000 [00:50<48:41,  2.97s/it]\u001b[A\u001b[A\n",
      "\n",
      "[Succeeded / Failed / Skipped / Total] 9 / 8 / 0 / 17:   2%|▏         | 17/1000 [00:50<48:41,  2.97s/it]\u001b[A\u001b[A"
     ]
    },
    {
     "name": "stdout",
     "output_type": "stream",
     "text": [
      "--------------------------------------------- Result 17 ---------------------------------------------\n",
      "[[1 (74%)]] --> [[0 (50%)]]\n",
      "\n",
      "[[Knob]] Jockey==\n",
      "You [[Gay]] [[For]] [[Deleting]] [[Factory]]: The Musical  \n",
      "\n",
      "==\n",
      "\n",
      "[[Button]] Jockey==\n",
      "You [[Cheerful]] [[Throughout]] [[Deletion]] [[Facility]]: The Musical  \n",
      "\n",
      "==\n",
      "\n",
      "\n"
     ]
    },
    {
     "name": "stderr",
     "output_type": "stream",
     "text": [
      "\n",
      "\n",
      "[Succeeded / Failed / Skipped / Total] 9 / 8 / 0 / 17:   2%|▏         | 18/1000 [00:51<46:32,  2.84s/it]\u001b[A\u001b[A\n",
      "\n",
      "[Succeeded / Failed / Skipped / Total] 10 / 8 / 0 / 18:   2%|▏         | 18/1000 [00:51<46:32,  2.84s/it]\u001b[A\u001b[A"
     ]
    },
    {
     "name": "stdout",
     "output_type": "stream",
     "text": [
      "--------------------------------------------- Result 18 ---------------------------------------------\n",
      "[[1 (74%)]] --> [[0 (50%)]]\n",
      "\n",
      "Agreed. Just everything about is suspect (and just lol how so many [[fucking]] Chinese users have it on their watchlist - I seriously can't do [[shit]] without somebody undoing my changes). It stays, for now. I'm planning on doing massive rewrites on the whole thing per Cydevil.\n",
      "\n",
      "Agreed. Just everything about is suspect (and just lol how so many [[gorram]] Chinese users have it on their watchlist - I seriously can't do [[friggin]] without somebody undoing my changes). It stays, for now. I'm planning on doing massive rewrites on the whole thing per Cydevil.\n",
      "\n",
      "\n"
     ]
    },
    {
     "name": "stderr",
     "output_type": "stream",
     "text": [
      "\n",
      "\n",
      "[Succeeded / Failed / Skipped / Total] 10 / 8 / 0 / 18:   2%|▏         | 19/1000 [00:52<44:46,  2.74s/it]\u001b[A\u001b[A\n",
      "\n",
      "[Succeeded / Failed / Skipped / Total] 10 / 9 / 0 / 19:   2%|▏         | 19/1000 [00:52<44:46,  2.74s/it]\u001b[A\u001b[A"
     ]
    },
    {
     "name": "stdout",
     "output_type": "stream",
     "text": [
      "--------------------------------------------- Result 19 ---------------------------------------------\n",
      "[[1 (73%)]] --> [[[FAILED]]]\n",
      "\n",
      "cut your dick off, do us all a favor, you little asshole\n",
      "\n",
      "\n"
     ]
    },
    {
     "name": "stderr",
     "output_type": "stream",
     "text": [
      "\n",
      "\n",
      "[Succeeded / Failed / Skipped / Total] 10 / 9 / 0 / 19:   2%|▏         | 20/1000 [01:01<49:50,  3.05s/it]\u001b[A\u001b[A\n",
      "\n",
      "[Succeeded / Failed / Skipped / Total] 11 / 9 / 0 / 20:   2%|▏         | 20/1000 [01:01<49:51,  3.05s/it]\u001b[A\u001b[A\n",
      "\n",
      "[Succeeded / Failed / Skipped / Total] 11 / 9 / 1 / 21:   2%|▏         | 21/1000 [01:01<47:27,  2.91s/it]\u001b[A\u001b[A"
     ]
    },
    {
     "name": "stdout",
     "output_type": "stream",
     "text": [
      "--------------------------------------------- Result 20 ---------------------------------------------\n",
      "[[1 (53%)]] --> [[0 (50%)]]\n",
      "\n",
      "\"\n",
      "\n",
      " YOUR INTELLECTUAL LEVEL [[NEEDS]] TO [[GROW]]. \n",
      "\n",
      "   [[Hey]] Einstein, when did I say anything anti-africanist here?? please point it out for me. I'm even against the CIA sources that some people wanted to place on the article here, the one about 73% mulatto,16% white and 11% black.  Do you think that I'm going to [[be]] [[crazy]] enough to believe DR is only 11% [[Black]]??  I'll [[be]] too [[ashamed]] of saying such a thing.  I agree on you on that one. 51% mulatto, 46% black, 2% white is the real demographic approximates of DR. Where is the \"\" denial, anti-black, blaha blah and all the non-sense accusations that you are making by me saying that??\n",
      "   I stated an increase from 11% that somebody else place here from CIA to 46%, that's an increase of 35. So I am the anti-black, racist,denier??? \n",
      "\n",
      "   I knew that you where going to throw the \"\" Moor myth\"\" about Spaniards, you are showing the radical afrocentric nut. What's next? you also believe in Van Sertima's book, that the Olmec heads of the Yucatan peninsula are Africans? or that snow is really black??\n",
      "   DNA studies in Spaniards show that less than 2% have Moor blood. It has been weed out,since the fall of Cordova in 1236, by the \"\" limpieza de sangre\"\" campaign of the christians. Spaniards are White as are the anglo-saxons,and the Irish. I'm not going into deep details about \"\" Moors and Spain\"\" with a radical Afrocentric nut, but going back to the article, we are not going to allow that the DR article is going to get hijack by radical afrocentric nut, nor eurocentric too. As you can see, I'm not eurocentric, 16% white to 2% white, do the math. \n",
      "\n",
      "    You think that you where going to deal with an ignoramus, but when it comes to history, you are kindergarten compared to me. You say \"\" society\"\" says that such words are offensive? wow, impresive answer. you are a clown. You still don't own Wikipedia and the English language, and you don't speak for \"\" society\"\", \"\" society\"\" has diverse views of the world. The article will be changed. platanogenius\"\n",
      "\n",
      "\"\n",
      "\n",
      " YOUR INTELLECTUAL LEVEL [[NEEDED]] TO [[ENLARGE]]. \n",
      "\n",
      "   [[Hiya]] Einstein, when did I say anything anti-africanist here?? please point it out for me. I'm even against the CIA sources that some people wanted to place on the article here, the one about 73% mulatto,16% white and 11% black.  Do you think that I'm going to [[viens]] [[loca]] enough to believe DR is only 11% [[Ebony]]??  I'll [[ser]] too [[humbled]] of saying such a thing.  I agree on you on that one. 51% mulatto, 46% black, 2% white is the real demographic approximates of DR. Where is the \"\" denial, anti-black, blaha blah and all the non-sense accusations that you are making by me saying that??\n",
      "   I stated an increase from 11% that somebody else place here from CIA to 46%, that's an increase of 35. So I am the anti-black, racist,denier??? \n",
      "\n",
      "   I knew that you where going to throw the \"\" Moor myth\"\" about Spaniards, you are showing the radical afrocentric nut. What's next? you also believe in Van Sertima's book, that the Olmec heads of the Yucatan peninsula are Africans? or that snow is really black??\n",
      "   DNA studies in Spaniards show that less than 2% have Moor blood. It has been weed out,since the fall of Cordova in 1236, by the \"\" limpieza de sangre\"\" campaign of the christians. Spaniards are White as are the anglo-saxons,and the Irish. I'm not going into deep details about \"\" Moors and Spain\"\" with a radical Afrocentric nut, but going back to the article, we are not going to allow that the DR article is going to get hijack by radical afrocentric nut, nor eurocentric too. As you can see, I'm not eurocentric, 16% white to 2% white, do the math. \n",
      "\n",
      "    You think that you where going to deal with an ignoramus, but when it comes to history, you are kindergarten compared to me. You say \"\" society\"\" says that such words are offensive? wow, impresive answer. you are a clown. You still don't own Wikipedia and the English language, and you don't speak for \"\" society\"\", \"\" society\"\" has diverse views of the world. The article will be changed. platanogenius\"\n",
      "\n",
      "\n",
      "--------------------------------------------- Result 21 ---------------------------------------------\n",
      "[[0 (50%)]] --> [[[SKIPPED]]]\n",
      "\n",
      "\"\n",
      "enough with the nonsensical reverts\n",
      "Aaron, you asked for references and told me and others to get the references and add text to the article. I did this and you still argue it's validity. VoluntarySlave, can you give a sound reason for removing my edit? duck talk \"\n",
      "\n",
      "\n"
     ]
    },
    {
     "name": "stderr",
     "output_type": "stream",
     "text": [
      "\n",
      "\n",
      "[Succeeded / Failed / Skipped / Total] 11 / 9 / 1 / 21:   2%|▏         | 22/1000 [01:12<53:56,  3.31s/it]\u001b[A\u001b[A\n",
      "\n",
      "[Succeeded / Failed / Skipped / Total] 12 / 9 / 1 / 22:   2%|▏         | 22/1000 [01:12<53:57,  3.31s/it]\u001b[A\u001b[A"
     ]
    },
    {
     "name": "stdout",
     "output_type": "stream",
     "text": [
      "--------------------------------------------- Result 22 ---------------------------------------------\n",
      "[[1 (74%)]] --> [[0 (50%)]]\n",
      "\n",
      "\"\n",
      "\n",
      "Oh, my is that any way to address a person on their [[talk]] page? Did you really just call me an \"\"obnoxious [[little]] [[shit]]\"\"? You can just imagine what I think of you. Well, I guess that means the [[gloves]] can come off since you started it. \n",
      "\n",
      "I wonder what exactly you do here on WP? [[It]] is [[obvious]] that you want to be an administrator but you have [[failed]] to show the deportment and [[maturity]] of [[mind]] to [[make]] the grade. Instead, you choose to [[act]] [[like]] a self-appointed wikipedia [[police]], [[running]] about [[throwing]] up the blue flags of WP rules and being a generally obnoxious person with no real use. Instead of actually contributing useful original edits to articles you seem to think this is the old Newpedia where people are expected to submit edits for your approval. If too many others take the same tac WP will collapse into dross. You violate every rule in the book of which you accuse others. You are a mean spirited, very angry person that drives away editors with your sarcastic responses and general high-handed behavior. I suspect you have no real special knowledge of any of the articles upon which you squat like a vulture waiting tear apart others creative edits. You really need to crack a book and study up on a subject or two and find an article you feel needs rewriting and to straighten out the too turgid, redundant writing that exists here on WP. Stop trying to act like you are an administrator and grow up.\n",
      "\n",
      "At a time when WP needs more editors, particularly female, you with your coarse, rude behavior is the last thing WP needs. You are, to summarize it, a net negative.  I am amazed that you have not been banned but I suppose your facility at quoting the rules, all while completely violating the spirit of WP preserves you. This place is a paradise for rule-quoters such as yourself.  \n",
      "\n",
      "Sincerly.   \"\n",
      "\n",
      "\"\n",
      "\n",
      "Oh, my is that any way to address a person on their [[deliberations]] page? Did you really just call me an \"\"obnoxious [[few]] [[accursed]]\"\"? You can just imagine what I think of you. Well, I guess that means the [[glove]] can come off since you started it. \n",
      "\n",
      "I wonder what exactly you do here on WP? [[He]] is [[clair]] that you want to be an administrator but you have [[omitted]] to show the deportment and [[matures]] of [[idea]] to [[lend]] the grade. Instead, you choose to [[stipulations]] [[amore]] a self-appointed wikipedia [[constables]], [[apply]] about [[laying]] up the blue flags of WP rules and being a generally obnoxious person with no real use. Instead of actually contributing useful original edits to articles you seem to think this is the old Newpedia where people are expected to submit edits for your approval. If too many others take the same tac WP will collapse into dross. You violate every rule in the book of which you accuse others. You are a mean spirited, very angry person that drives away editors with your sarcastic responses and general high-handed behavior. I suspect you have no real special knowledge of any of the articles upon which you squat like a vulture waiting tear apart others creative edits. You really need to crack a book and study up on a subject or two and find an article you feel needs rewriting and to straighten out the too turgid, redundant writing that exists here on WP. Stop trying to act like you are an administrator and grow up.\n",
      "\n",
      "At a time when WP needs more editors, particularly female, you with your coarse, rude behavior is the last thing WP needs. You are, to summarize it, a net negative.  I am amazed that you have not been banned but I suppose your facility at quoting the rules, all while completely violating the spirit of WP preserves you. This place is a paradise for rule-quoters such as yourself.  \n",
      "\n",
      "Sincerly.   \"\n",
      "\n",
      "\n"
     ]
    },
    {
     "name": "stderr",
     "output_type": "stream",
     "text": [
      "\n",
      "\n",
      "[Succeeded / Failed / Skipped / Total] 12 / 9 / 1 / 22:   2%|▏         | 23/1000 [01:15<53:28,  3.28s/it]\u001b[A\u001b[A\n",
      "\n",
      "[Succeeded / Failed / Skipped / Total] 12 / 10 / 1 / 23:   2%|▏         | 23/1000 [01:15<53:28,  3.28s/it]\u001b[A\u001b[A"
     ]
    },
    {
     "name": "stdout",
     "output_type": "stream",
     "text": [
      "--------------------------------------------- Result 23 ---------------------------------------------\n",
      "[[1 (74%)]] --> [[[FAILED]]]\n",
      "\n",
      "TIDEROLL LIKES TO GAG ON COCK \n",
      "\n",
      "tideroll is dick suckin asshole who never had straight thoughts in heshe's life.FUCK YOU BITCH!!!!!!!!!!!!!!!!!!!!!!!!!!!!!!!!!!!!!!!!!!!!!!!!!!!!!!!!!!!!!!!!!!!!!!!!!!!!!!!!!!!!!!!!!!!!!!!!!!!!!!!!!!!!!!!!!!!!!!!!!!!!!!!!!!!!!!!!!!!!!!!!!!!!!!!!!!!!!!!!!!!!!!!!!!!!!!!!!!!!!!!!!!!!!!!!!!!!!!!!!!!!!!!!!!!!!!!!!!!!!!!!!!!!!!!!!!!!!!!!!!!!!!!!!!!!!!!!!!!!!!!!!!!!!!!!!!!!!!!!!!!!!!!!!!!!!!!!!!!!!!!!!!!!!!!!!!!!!!!!!!!!!!!!!!!!!!!!!!!!!!!!!!!!\n",
      "\n",
      "\n"
     ]
    },
    {
     "name": "stderr",
     "output_type": "stream",
     "text": [
      "\n",
      "\n",
      "[Succeeded / Failed / Skipped / Total] 12 / 10 / 1 / 23:   2%|▏         | 24/1000 [01:16<51:35,  3.17s/it]\u001b[A\u001b[A\n",
      "\n",
      "[Succeeded / Failed / Skipped / Total] 13 / 10 / 1 / 24:   2%|▏         | 24/1000 [01:16<51:36,  3.17s/it]\u001b[A\u001b[A"
     ]
    },
    {
     "name": "stdout",
     "output_type": "stream",
     "text": [
      "--------------------------------------------- Result 24 ---------------------------------------------\n",
      "[[1 (73%)]] --> [[0 (50%)]]\n",
      "\n",
      "con [[stalkers]]. Some [[idiot]] in Vancouver simply can not grasp that Conrad Black has been convicted of fraud and is in fact a career criminal. Pointing out that Conrad Black has been convicted of fraud does not amount to vandalism, it is a fact.\n",
      "\n",
      "con [[admirer]]. Some [[asinine]] in Vancouver simply can not grasp that Conrad Black has been convicted of fraud and is in fact a career criminal. Pointing out that Conrad Black has been convicted of fraud does not amount to vandalism, it is a fact.\n",
      "\n",
      "\n"
     ]
    },
    {
     "name": "stderr",
     "output_type": "stream",
     "text": [
      "\n",
      "\n",
      "[Succeeded / Failed / Skipped / Total] 13 / 10 / 1 / 24:   2%|▎         | 25/1000 [01:16<49:53,  3.07s/it]\u001b[A\u001b[A\n",
      "\n",
      "[Succeeded / Failed / Skipped / Total] 14 / 10 / 1 / 25:   2%|▎         | 25/1000 [01:16<49:54,  3.07s/it]\u001b[A\u001b[A"
     ]
    },
    {
     "name": "stdout",
     "output_type": "stream",
     "text": [
      "--------------------------------------------- Result 25 ---------------------------------------------\n",
      "[[1 (74%)]] --> [[0 (51%)]]\n",
      "\n",
      "Renzoy16 ! [[Shut]] The [[Fuck]] [[Up]]\n",
      "\n",
      "Renzoy16 ! [[Clasps]] The [[Accursed]] [[Increase]]\n",
      "\n",
      "\n"
     ]
    },
    {
     "name": "stderr",
     "output_type": "stream",
     "text": [
      "\n",
      "\n",
      "[Succeeded / Failed / Skipped / Total] 14 / 10 / 1 / 25:   3%|▎         | 26/1000 [01:17<48:28,  2.99s/it]\u001b[A\u001b[A\n",
      "\n",
      "[Succeeded / Failed / Skipped / Total] 14 / 11 / 1 / 26:   3%|▎         | 26/1000 [01:17<48:28,  2.99s/it]\u001b[A\u001b[A"
     ]
    },
    {
     "name": "stdout",
     "output_type": "stream",
     "text": [
      "--------------------------------------------- Result 26 ---------------------------------------------\n",
      "[[1 (74%)]] --> [[[FAILED]]]\n",
      "\n",
      "haha. I would have no references. Are too lazy to read? You are a troll.\n",
      "\n",
      "\n"
     ]
    },
    {
     "name": "stderr",
     "output_type": "stream",
     "text": [
      "\n",
      "\n",
      "[Succeeded / Failed / Skipped / Total] 14 / 11 / 1 / 26:   3%|▎         | 27/1000 [01:17<46:47,  2.89s/it]\u001b[A\u001b[A\n",
      "\n",
      "[Succeeded / Failed / Skipped / Total] 14 / 12 / 1 / 27:   3%|▎         | 27/1000 [01:17<46:47,  2.89s/it]\u001b[A\u001b[A"
     ]
    },
    {
     "name": "stdout",
     "output_type": "stream",
     "text": [
      "--------------------------------------------- Result 27 ---------------------------------------------\n",
      "[[1 (53%)]] --> [[[FAILED]]]\n",
      "\n",
      "[[==:Amortias is M(o)ther (fu)k(er)==\n",
      "\n",
      "\n"
     ]
    },
    {
     "name": "stderr",
     "output_type": "stream",
     "text": [
      "\n",
      "\n",
      "[Succeeded / Failed / Skipped / Total] 14 / 12 / 1 / 27:   3%|▎         | 28/1000 [01:21<47:21,  2.92s/it]\u001b[A\u001b[A\n",
      "\n",
      "[Succeeded / Failed / Skipped / Total] 14 / 13 / 1 / 28:   3%|▎         | 28/1000 [01:21<47:21,  2.92s/it]\u001b[A\u001b[A"
     ]
    },
    {
     "name": "stdout",
     "output_type": "stream",
     "text": [
      "--------------------------------------------- Result 28 ---------------------------------------------\n",
      "[[1 (69%)]] --> [[[FAILED]]]\n",
      "\n",
      "you cannot continue to block me based of what i have written in my own user page. noone can access it but myself and you. i can write whatever i please. its freedom of speach. a police officer cannot arrest someone because they say they are going to commit a crime. i did nothing to warrant further blocking. you are all oligarchists\n",
      "\n",
      "\n"
     ]
    },
    {
     "name": "stderr",
     "output_type": "stream",
     "text": [
      "\n",
      "\n",
      "[Succeeded / Failed / Skipped / Total] 14 / 13 / 1 / 28:   3%|▎         | 29/1000 [01:22<46:05,  2.85s/it]\u001b[A\u001b[A\n",
      "\n",
      "[Succeeded / Failed / Skipped / Total] 15 / 13 / 1 / 29:   3%|▎         | 29/1000 [01:22<46:06,  2.85s/it]\u001b[A\u001b[A"
     ]
    },
    {
     "name": "stdout",
     "output_type": "stream",
     "text": [
      "--------------------------------------------- Result 29 ---------------------------------------------\n",
      "[[1 (69%)]] --> [[0 (50%)]]\n",
      "\n",
      "you're [[so]] idi.o.t, so [[st]].[[u]].p.[[id]] [[guy]], [[fu]].c.[[k]].i.n.[[g]] portuguese, i [[ha]].te the portugueses\n",
      "\n",
      "you're [[appropriately]] idi.o.t, so [[thoroughfare]].[[o]].p.[[identifications]] [[mec]], [[vo]].c.[[j]].i.n.[[gamble]] portuguese, i [[possess]].te the portugueses\n",
      "\n",
      "\n"
     ]
    },
    {
     "name": "stderr",
     "output_type": "stream",
     "text": [
      "\n",
      "\n",
      "[Succeeded / Failed / Skipped / Total] 15 / 13 / 1 / 29:   3%|▎         | 30/1000 [01:23<44:51,  2.77s/it]\u001b[A\u001b[A\n",
      "\n",
      "[Succeeded / Failed / Skipped / Total] 15 / 14 / 1 / 30:   3%|▎         | 30/1000 [01:23<44:51,  2.77s/it]\u001b[A\u001b[A"
     ]
    },
    {
     "name": "stdout",
     "output_type": "stream",
     "text": [
      "--------------------------------------------- Result 30 ---------------------------------------------\n",
      "[[1 (73%)]] --> [[[FAILED]]]\n",
      "\n",
      "Why don't you go fuck your mom  05:52, 26 Jun 2005 (UTC)\n",
      "\n",
      "\n"
     ]
    },
    {
     "name": "stderr",
     "output_type": "stream",
     "text": [
      "\n",
      "\n",
      "[Succeeded / Failed / Skipped / Total] 15 / 14 / 1 / 30:   3%|▎         | 31/1000 [01:23<43:35,  2.70s/it]\u001b[A\u001b[A\n",
      "\n",
      "[Succeeded / Failed / Skipped / Total] 16 / 14 / 1 / 31:   3%|▎         | 31/1000 [01:23<43:36,  2.70s/it]\u001b[A\u001b[A"
     ]
    },
    {
     "name": "stdout",
     "output_type": "stream",
     "text": [
      "--------------------------------------------- Result 31 ---------------------------------------------\n",
      "[[1 (59%)]] --> [[0 (50%)]]\n",
      "\n",
      "[[Why]] are you [[threatening]] me? I'm not being [[disruptive]], its you who is being [[disruptive]].\n",
      "\n",
      "[[Thereby]] are you [[compromised]] me? I'm not being [[distressing]], its you who is being [[adverse]].\n",
      "\n",
      "\n"
     ]
    },
    {
     "name": "stderr",
     "output_type": "stream",
     "text": [
      "\n",
      "\n",
      "[Succeeded / Failed / Skipped / Total] 16 / 14 / 1 / 31:   3%|▎         | 32/1000 [01:24<42:50,  2.66s/it]\u001b[A\u001b[A\n",
      "\n",
      "[Succeeded / Failed / Skipped / Total] 17 / 14 / 1 / 32:   3%|▎         | 32/1000 [01:24<42:50,  2.66s/it]\u001b[A\u001b[A"
     ]
    },
    {
     "name": "stdout",
     "output_type": "stream",
     "text": [
      "--------------------------------------------- Result 32 ---------------------------------------------\n",
      "[[1 (72%)]] --> [[0 (50%)]]\n",
      "\n",
      "\"\n",
      "Maybe if you try and attract a more intelligent [[class]] of vandal, they'll actually [[read]] your user [[page]] and [[try]] and [[insult]] you by replacing it with \"\"I [[AM]] NOT [[GAY]]!!\"\". By the way, dealing with spam is good for a laugh as well.  \"\n",
      "\n",
      "\"\n",
      "Maybe if you try and attract a more intelligent [[categorize]] of vandal, they'll actually [[reading]] your user [[homepage]] and [[endeavour]] and [[belittling]] you by replacing it with \"\"I [[KNEW]] NOT [[GAI]]!!\"\". By the way, dealing with spam is good for a laugh as well.  \"\n",
      "\n",
      "\n"
     ]
    },
    {
     "name": "stderr",
     "output_type": "stream",
     "text": [
      "\n",
      "\n",
      "[Succeeded / Failed / Skipped / Total] 17 / 14 / 1 / 32:   3%|▎         | 33/1000 [01:25<41:59,  2.61s/it]\u001b[A\u001b[A\n",
      "\n",
      "[Succeeded / Failed / Skipped / Total] 18 / 14 / 1 / 33:   3%|▎         | 33/1000 [01:25<41:59,  2.61s/it]\u001b[A\u001b[A"
     ]
    },
    {
     "name": "stdout",
     "output_type": "stream",
     "text": [
      "--------------------------------------------- Result 33 ---------------------------------------------\n",
      "[[1 (74%)]] --> [[0 (50%)]]\n",
      "\n",
      "[[You]] [[shut]] your [[mouth]]. And my contributions [[will]] never be missed — as long as there are several [[hooligans]] on this site, I will remain to sort these issues out the proper way. Currently, all attempts have failed. But that won't be the case for much longer. Permanent blocking won't work with me, as my comeback will be uplifting.\n",
      "\n",
      "[[Thyself]] [[concluded]] your [[bec]]. And my contributions [[hope]] never be missed — as long as there are several [[yobs]] on this site, I will remain to sort these issues out the proper way. Currently, all attempts have failed. But that won't be the case for much longer. Permanent blocking won't work with me, as my comeback will be uplifting.\n",
      "\n",
      "\n"
     ]
    },
    {
     "name": "stderr",
     "output_type": "stream",
     "text": [
      "\n",
      "\n",
      "[Succeeded / Failed / Skipped / Total] 18 / 14 / 1 / 33:   3%|▎         | 34/1000 [01:35<45:09,  2.80s/it]\u001b[A\u001b[A\n",
      "\n",
      "[Succeeded / Failed / Skipped / Total] 19 / 14 / 1 / 34:   3%|▎         | 34/1000 [01:35<45:10,  2.81s/it]\u001b[A\u001b[A"
     ]
    },
    {
     "name": "stdout",
     "output_type": "stream",
     "text": [
      "--------------------------------------------- Result 34 ---------------------------------------------\n",
      "[[1 (64%)]] --> [[0 (50%)]]\n",
      "\n",
      "\"You know, [[I]] was thinking...\n",
      "\n",
      "Nobody really attacked me before I revealed my age here.  After I announced that I was 14, I was subject to a [[constant]] storm of [[harassment]] and abuse.\n",
      "\n",
      "The same [[thing]] goes for when I was on The Sandbox when I was 11.  Before [[people]] [[knew]] my [[age]], they didn't [[care]].  [[After]] I told them my [[age]], they [[hated]] me.\n",
      "\n",
      "It's just so amusing how the [[idiot]] Soapboxers [[think]] of [[teenagers]] as being responsible for the \"\"decline\"\" of The Soapbox (like it was ever any good to begin with).  This is funny, because the adults are the dumbest people here.  Mauricio, Chuppah, Redneckgirl, Pinky, Scooby, GG, ForeverLostTinkerbell, greenrabbit, StarRocketsInFlight, Bree-Robinson, enigma-72, CocaineNightmares, TokyoDome, Chad_Ocho-Cinco, Steve Lake...\n",
      "\n",
      "...all adults.\n",
      "\n",
      "The teenage posters here are typically the smartest ones.  Let's see... G-Dawg, Head_Banging_Brunette, ClassicAge, Metropolis (even though he's a bipolar weirdo), ChrisScript, just to name a few.\n",
      "\n",
      "All I ever see adults posting is \"\"rate my poo!!1!\"\", \"\"my ballz smell funny\"\", \"\"whoz hawter: me or ur mom???//?/?\"\", \"\"i like to rape little girls\"\", and \"\"HEY GUYZ LOOK AT ME IM AN ATTENTION WHORE!!!!11!!1!\"\"  The adult posters here are immature, moronic, savage bullies with the mental capacity of a retarded 4-year-old.\n",
      "\n",
      "Whereas, most of the teenagers here are thoughtful, intelligent, mature, and often profound.  But they're subject to constant schoolyard bullying by the idiot adult posters who think they're somehow superior because they were born (and dropped on their head) earlier.\n",
      "\n",
      "Soapbox logic never fails to amuse me...\n",
      "\"\n",
      "\n",
      "\"You know, [[me]] was thinking...\n",
      "\n",
      "Nobody really attacked me before I revealed my age here.  After I announced that I was 14, I was subject to a [[sustained]] storm of [[harassed]] and abuse.\n",
      "\n",
      "The same [[aspect]] goes for when I was on The Sandbox when I was 11.  Before [[pueblo]] [[learnt]] my [[elders]], they didn't [[benevolent]].  [[Upon]] I told them my [[elders]], they [[disliked]] me.\n",
      "\n",
      "It's just so amusing how the [[asinine]] Soapboxers [[believe]] of [[jeune]] as being responsible for the \"\"decline\"\" of The Soapbox (like it was ever any good to begin with).  This is funny, because the adults are the dumbest people here.  Mauricio, Chuppah, Redneckgirl, Pinky, Scooby, GG, ForeverLostTinkerbell, greenrabbit, StarRocketsInFlight, Bree-Robinson, enigma-72, CocaineNightmares, TokyoDome, Chad_Ocho-Cinco, Steve Lake...\n",
      "\n",
      "...all adults.\n",
      "\n",
      "The teenage posters here are typically the smartest ones.  Let's see... G-Dawg, Head_Banging_Brunette, ClassicAge, Metropolis (even though he's a bipolar weirdo), ChrisScript, just to name a few.\n",
      "\n",
      "All I ever see adults posting is \"\"rate my poo!!1!\"\", \"\"my ballz smell funny\"\", \"\"whoz hawter: me or ur mom???//?/?\"\", \"\"i like to rape little girls\"\", and \"\"HEY GUYZ LOOK AT ME IM AN ATTENTION WHORE!!!!11!!1!\"\"  The adult posters here are immature, moronic, savage bullies with the mental capacity of a retarded 4-year-old.\n",
      "\n",
      "Whereas, most of the teenagers here are thoughtful, intelligent, mature, and often profound.  But they're subject to constant schoolyard bullying by the idiot adult posters who think they're somehow superior because they were born (and dropped on their head) earlier.\n",
      "\n",
      "Soapbox logic never fails to amuse me...\n",
      "\"\n",
      "\n",
      "\n"
     ]
    },
    {
     "name": "stderr",
     "output_type": "stream",
     "text": [
      "\n",
      "\n",
      "[Succeeded / Failed / Skipped / Total] 19 / 14 / 1 / 34:   4%|▎         | 35/1000 [01:36<44:30,  2.77s/it]\u001b[A\u001b[A\n",
      "\n",
      "[Succeeded / Failed / Skipped / Total] 20 / 14 / 1 / 35:   4%|▎         | 35/1000 [01:36<44:31,  2.77s/it]\u001b[A\u001b[A"
     ]
    },
    {
     "name": "stdout",
     "output_type": "stream",
     "text": [
      "--------------------------------------------- Result 35 ---------------------------------------------\n",
      "[[1 (73%)]] --> [[0 (50%)]]\n",
      "\n",
      "You are a [[fucking]] [[Nazi]]... \n",
      "\n",
      "[[Everything]] I [[wrote]] on my [[page]] was [[well]] [[written]] and [[factual]].  You are [[obviously]] a [[racist]] [[Nazi]] [[Jew]].\n",
      "\n",
      "You are a [[gorram]] [[Shoah]]... \n",
      "\n",
      "[[Plenary]] I [[authored]] on my [[p]] was [[verywell]] [[writings]] and [[practical]].  You are [[distinctly]] a [[minorities]] [[Zionism]] [[Talmud]].\n",
      "\n",
      "\n"
     ]
    },
    {
     "name": "stderr",
     "output_type": "stream",
     "text": [
      "\n",
      "\n",
      "[Succeeded / Failed / Skipped / Total] 20 / 14 / 1 / 35:   4%|▎         | 36/1000 [01:38<43:56,  2.74s/it]\u001b[A\u001b[A\n",
      "\n",
      "[Succeeded / Failed / Skipped / Total] 20 / 15 / 1 / 36:   4%|▎         | 36/1000 [01:38<43:57,  2.74s/it]\u001b[A\u001b[A"
     ]
    },
    {
     "name": "stdout",
     "output_type": "stream",
     "text": [
      "--------------------------------------------- Result 36 ---------------------------------------------\n",
      "[[1 (73%)]] --> [[[FAILED]]]\n",
      "\n",
      "I’m going to cut out your maggot-infested tongue and stick it so far up your polluted arse that you’ll be able to lick your eyes.\n",
      "\n",
      "\n"
     ]
    },
    {
     "name": "stderr",
     "output_type": "stream",
     "text": [
      "\n",
      "\n",
      "[Succeeded / Failed / Skipped / Total] 20 / 15 / 1 / 36:   4%|▎         | 37/1000 [01:40<43:26,  2.71s/it]\u001b[A\u001b[A\n",
      "\n",
      "[Succeeded / Failed / Skipped / Total] 20 / 16 / 1 / 37:   4%|▎         | 37/1000 [01:40<43:26,  2.71s/it]\u001b[A\u001b[A"
     ]
    },
    {
     "name": "stdout",
     "output_type": "stream",
     "text": [
      "--------------------------------------------- Result 37 ---------------------------------------------\n",
      "[[1 (74%)]] --> [[[FAILED]]]\n",
      "\n",
      "Cool? idc mate go sook to someone else you sook.. not here I don't deal with sooks... look at the message above and you'll see I mean more to Wikipedia than you\n",
      "\n",
      "\n"
     ]
    },
    {
     "name": "stderr",
     "output_type": "stream",
     "text": [
      "\n",
      "\n",
      "[Succeeded / Failed / Skipped / Total] 20 / 16 / 1 / 37:   4%|▍         | 38/1000 [01:41<42:54,  2.68s/it]\u001b[A\u001b[A\n",
      "\n",
      "[Succeeded / Failed / Skipped / Total] 21 / 16 / 1 / 38:   4%|▍         | 38/1000 [01:41<42:54,  2.68s/it]\u001b[A\u001b[A"
     ]
    },
    {
     "name": "stdout",
     "output_type": "stream",
     "text": [
      "--------------------------------------------- Result 38 ---------------------------------------------\n",
      "[[1 (74%)]] --> [[0 (50%)]]\n",
      "\n",
      "I [[have]] to log in [[moron]] to [[reply]], this is my [[normal]] ip [[jerk]] and you [[made]] [[countless]] more [[mistakes]], not honest!\n",
      "\n",
      "I [[received]] to log in [[nincompoop]] to [[intervention]], this is my [[customary]] ip [[dickwad]] and you [[realised]] [[multiplicity]] more [[irregularities]], not honest!\n",
      "\n",
      "\n"
     ]
    },
    {
     "name": "stderr",
     "output_type": "stream",
     "text": [
      "\n",
      "\n",
      "[Succeeded / Failed / Skipped / Total] 21 / 16 / 1 / 38:   4%|▍         | 39/1000 [01:49<44:56,  2.81s/it]\u001b[A\u001b[A\n",
      "\n",
      "[Succeeded / Failed / Skipped / Total] 22 / 16 / 1 / 39:   4%|▍         | 39/1000 [01:49<44:56,  2.81s/it]\u001b[A\u001b[A"
     ]
    },
    {
     "name": "stdout",
     "output_type": "stream",
     "text": [
      "--------------------------------------------- Result 39 ---------------------------------------------\n",
      "[[1 (62%)]] --> [[0 (50%)]]\n",
      "\n",
      "\"\n",
      "\n",
      "  BREAKING NEWS!!!! I KNOW [[THIS]] IS ONLY FOR [[THE]] FRONT PAGE, BUT [[THIS]] DESERVES [[IT]]!!!!!!!!!!  \n",
      "\n",
      " Okay. First let me start off by saying that people DO post breaking [[news]], etc. on here. Like t on [[sept]] 11th 2001, etc. \n",
      "   \n",
      "  Anyway there is this new website called \"\"i-doser.com\"\" where you can virtually take drugs, such as [[marijuana]], [[heroin]], pills to make it so you can have lucid [[dreams]], etc.\"\"  \n",
      "   \n",
      "[[People]] this is extremely [[serious]]. I [[mean]] we [[have]] to [[make]] like an [[article]] about this or SOMEHTING. Hello you idiots. I mean what if little 8 year olds kids [[do]] this eh?  WE are going to make an article about this. Let's discuss it here.  \"\n",
      "\n",
      "\"\n",
      "\n",
      "  BREAKING NEWS!!!! I KNOW [[TELLS]] IS ONLY FOR [[EL]] FRONT PAGE, BUT [[EC]] DESERVES [[IL]]!!!!!!!!!!  \n",
      "\n",
      " Okay. First let me start off by saying that people DO post breaking [[reporter]], etc. on here. Like t on [[jul]] 11th 2001, etc. \n",
      "   \n",
      "  Anyway there is this new website called \"\"i-doser.com\"\" where you can virtually take drugs, such as [[herbs]], [[addict]], pills to make it so you can have lucid [[dreamed]], etc.\"\"  \n",
      "   \n",
      "[[Countrymen]] this is extremely [[utmost]]. I [[involving]] we [[received]] to [[provide]] like an [[item]] about this or SOMEHTING. Hello you idiots. I mean what if little 8 year olds kids [[accomplished]] this eh?  WE are going to make an article about this. Let's discuss it here.  \"\n",
      "\n",
      "\n"
     ]
    },
    {
     "name": "stderr",
     "output_type": "stream",
     "text": [
      "\n",
      "\n",
      "[Succeeded / Failed / Skipped / Total] 22 / 16 / 1 / 39:   4%|▍         | 40/1000 [01:49<43:57,  2.75s/it]\u001b[A\u001b[A\n",
      "\n",
      "[Succeeded / Failed / Skipped / Total] 23 / 16 / 1 / 40:   4%|▍         | 40/1000 [01:49<43:57,  2.75s/it]\u001b[A\u001b[A"
     ]
    },
    {
     "name": "stdout",
     "output_type": "stream",
     "text": [
      "--------------------------------------------- Result 40 ---------------------------------------------\n",
      "[[1 (73%)]] --> [[0 (51%)]]\n",
      "\n",
      "Dear Greenman,\n",
      "\n",
      "As [[usual]] you have proven to [[be]] an [[arse]] [[hole]]\n",
      "\n",
      "Dear Greenman,\n",
      "\n",
      "As [[classic]] you have proven to [[worden]] an [[derriere]] [[port]]\n",
      "\n",
      "\n"
     ]
    },
    {
     "name": "stderr",
     "output_type": "stream",
     "text": [
      "\n",
      "\n",
      "[Succeeded / Failed / Skipped / Total] 23 / 16 / 1 / 40:   4%|▍         | 41/1000 [01:55<44:58,  2.81s/it]\u001b[A\u001b[A\n",
      "\n",
      "[Succeeded / Failed / Skipped / Total] 24 / 16 / 1 / 41:   4%|▍         | 41/1000 [01:55<44:58,  2.81s/it]\u001b[A\u001b[A"
     ]
    },
    {
     "name": "stdout",
     "output_type": "stream",
     "text": [
      "--------------------------------------------- Result 41 ---------------------------------------------\n",
      "[[1 (62%)]] --> [[0 (50%)]]\n",
      "\n",
      "\"::[[YOU]] [[have]] described, the [[modus]] [[operandi]] of one [[self]] [[described]] [[supported]] of the Democratic Party , Gamailiel as [[had]] [[years]] to [[hone]] his \"\"finely [[tuned]] kraft\"\" of bias, steering, and snarky comments, while he [[wields]] the [[ban]] button to any one he is [[scared]] off. [[His]] history in this is unquestioned. [[His]] Hypocrisy knowns no bounds.  Him and his cadra of \"\"[[meat]] [[puppets]]\"\" have long histories of \"\"Owning\"\" WP:OWN and [[abusing]] of process and power for his (their) own political ends ( plaining stated on his own talk page \"\"ready to fuck you up old school\"\".  In the long run you will hurt wikipedia and your self, due to the high stakes nature of this game, and the fact that you have no morel or logical ethical leg to stand on.\n",
      "\n",
      "\"\n",
      "\n",
      "\"::[[TU]] [[ai]] described, the [[modes]] [[task]] of one [[independence]] [[explaining]] [[pleaded]] of the Democratic Party , Gamailiel as [[am]] [[leto]] to [[refining]] his \"\"finely [[adjustment]] kraft\"\" of bias, steering, and snarky comments, while he [[wielding]] the [[prohibit]] button to any one he is [[alarmed]] off. [[Her]] history in this is unquestioned. [[It]] Hypocrisy knowns no bounds.  Him and his cadra of \"\"[[carnes]] [[puppet]]\"\" have long histories of \"\"Owning\"\" WP:OWN and [[diverted]] of process and power for his (their) own political ends ( plaining stated on his own talk page \"\"ready to fuck you up old school\"\".  In the long run you will hurt wikipedia and your self, due to the high stakes nature of this game, and the fact that you have no morel or logical ethical leg to stand on.\n",
      "\n",
      "\"\n",
      "\n",
      "\n"
     ]
    },
    {
     "name": "stderr",
     "output_type": "stream",
     "text": [
      "\n",
      "\n",
      "[Succeeded / Failed / Skipped / Total] 24 / 16 / 1 / 41:   4%|▍         | 42/1000 [01:57<44:29,  2.79s/it]\u001b[A\u001b[A\n",
      "\n",
      "[Succeeded / Failed / Skipped / Total] 24 / 17 / 1 / 42:   4%|▍         | 42/1000 [01:57<44:29,  2.79s/it]\u001b[A\u001b[A"
     ]
    },
    {
     "name": "stdout",
     "output_type": "stream",
     "text": [
      "--------------------------------------------- Result 42 ---------------------------------------------\n",
      "[[1 (74%)]] --> [[[FAILED]]]\n",
      "\n",
      "fucking faggot \n",
      "\n",
      "UR A FUCKING FAGGOT LOSER SON OF A BITCH 'Bold text'Bold text''''''\n",
      "\n",
      "\n"
     ]
    },
    {
     "name": "stderr",
     "output_type": "stream",
     "text": [
      "\n",
      "\n",
      "[Succeeded / Failed / Skipped / Total] 24 / 17 / 1 / 42:   4%|▍         | 43/1000 [01:57<43:29,  2.73s/it]\u001b[A\u001b[A\n",
      "\n",
      "[Succeeded / Failed / Skipped / Total] 25 / 17 / 1 / 43:   4%|▍         | 43/1000 [01:57<43:29,  2.73s/it]\u001b[A\u001b[A"
     ]
    },
    {
     "name": "stdout",
     "output_type": "stream",
     "text": [
      "--------------------------------------------- Result 43 ---------------------------------------------\n",
      "[[1 (73%)]] --> [[0 (50%)]]\n",
      "\n",
      ", who blantently privledge [[shit]] over quality\n",
      "\n",
      ", who blantently privledge [[accursed]] over quality\n",
      "\n",
      "\n"
     ]
    },
    {
     "name": "stderr",
     "output_type": "stream",
     "text": [
      "\n",
      "\n",
      "[Succeeded / Failed / Skipped / Total] 25 / 17 / 1 / 43:   4%|▍         | 44/1000 [01:57<42:38,  2.68s/it]\u001b[A\u001b[A\n",
      "\n",
      "[Succeeded / Failed / Skipped / Total] 26 / 17 / 1 / 44:   4%|▍         | 44/1000 [01:57<42:38,  2.68s/it]\u001b[A\u001b[A"
     ]
    },
    {
     "name": "stdout",
     "output_type": "stream",
     "text": [
      "--------------------------------------------- Result 44 ---------------------------------------------\n",
      "[[1 (73%)]] --> [[0 (50%)]]\n",
      "\n",
      "What a [[load]] of [[pompous]] [[bullshit]].\n",
      "\n",
      "What a [[responsability]] of [[influential]] [[absurdity]].\n",
      "\n",
      "\n"
     ]
    },
    {
     "name": "stderr",
     "output_type": "stream",
     "text": [
      "\n",
      "\n",
      "[Succeeded / Failed / Skipped / Total] 26 / 17 / 1 / 44:   4%|▍         | 45/1000 [01:58<42:01,  2.64s/it]\u001b[A\u001b[A\n",
      "\n",
      "[Succeeded / Failed / Skipped / Total] 27 / 17 / 1 / 45:   4%|▍         | 45/1000 [01:58<42:01,  2.64s/it]\u001b[A\u001b[A"
     ]
    },
    {
     "name": "stdout",
     "output_type": "stream",
     "text": [
      "--------------------------------------------- Result 45 ---------------------------------------------\n",
      "[[1 (74%)]] --> [[0 (50%)]]\n",
      "\n",
      "[[Hey]], you [[freaking]] hermaphrodite. \n",
      "\n",
      "[[Please]] unprotect your user [[page]]; [[I]] would like to move it to a more [[suitable]] title or [[three]].\n",
      "\n",
      "[[Goodmorning]], you [[accursed]] hermaphrodite. \n",
      "\n",
      "[[Inquired]] unprotect your user [[pp]]; [[me]] would like to move it to a more [[due]] title or [[five]].\n",
      "\n",
      "\n"
     ]
    },
    {
     "name": "stderr",
     "output_type": "stream",
     "text": [
      "\n",
      "\n",
      "[Succeeded / Failed / Skipped / Total] 27 / 17 / 1 / 45:   5%|▍         | 46/1000 [02:05<43:23,  2.73s/it]\u001b[A\u001b[A\n",
      "\n",
      "[Succeeded / Failed / Skipped / Total] 28 / 17 / 1 / 46:   5%|▍         | 46/1000 [02:05<43:24,  2.73s/it]\u001b[A\u001b[A"
     ]
    },
    {
     "name": "stdout",
     "output_type": "stream",
     "text": [
      "--------------------------------------------- Result 46 ---------------------------------------------\n",
      "[[1 (74%)]] --> [[0 (50%)]]\n",
      "\n",
      "\" 2006 (UTC)\n",
      "\n",
      " On notability \n",
      "\n",
      "One admin doesn't decide \"\"notability\"\". Please, [[stop]] acting [[like]] a [[smartass]], and [[talk]] some [[sane]].. \"\"they are asshats, I'm an admin, I didn't [[violate]] any [[rules]], and [[NO]], [[THEY]] [[ARE]] [[NOT]] [[NOTABLE]]\"\". Sounds like [[real]] [[bullshit]] going on here. You see, I already mentioned, myg0t are notable. Who the [[hell]] are you decide if you don't even play video games? Or, OOOOOOOH, do they [[have]] to be mentioned on G4TV to meet your luxury standards? Sigh.. this is stupid (please, don't satirize this sentence). There are so called \"\"subcultures\"\", and you don't seem to belong to the \"\"gamers\"\" one where everyone knows myg0t. Ask any gaming channel. ASK. GO. Quakenet, or gamesurge, list channels. Talk about \"\"non-notable\"\". Gamers don't know GNAA too much, so by my standards, they would not be too notable. What the hell? You're supposed to stand in a neutral point-of-view here.. alright.. I don't think that I made much of a change here anyways.  [talk] 21:56, 18 June\"\n",
      "\n",
      "\" 2006 (UTC)\n",
      "\n",
      " On notability \n",
      "\n",
      "One admin doesn't decide \"\"notability\"\". Please, [[detainee]] acting [[enjoyed]] a [[witted]], and [[discussed]] some [[insightful]].. \"\"they are asshats, I'm an admin, I didn't [[fractured]] any [[provision]], and [[INGA]], [[ILS]] [[REPRESENTING]] [[ANI]] [[ADMIRABLE]]\"\". Sounds like [[truthful]] [[poppycock]] going on here. You see, I already mentioned, myg0t are notable. Who the [[accursed]] are you decide if you don't even play video games? Or, OOOOOOOH, do they [[ai]] to be mentioned on G4TV to meet your luxury standards? Sigh.. this is stupid (please, don't satirize this sentence). There are so called \"\"subcultures\"\", and you don't seem to belong to the \"\"gamers\"\" one where everyone knows myg0t. Ask any gaming channel. ASK. GO. Quakenet, or gamesurge, list channels. Talk about \"\"non-notable\"\". Gamers don't know GNAA too much, so by my standards, they would not be too notable. What the hell? You're supposed to stand in a neutral point-of-view here.. alright.. I don't think that I made much of a change here anyways.  [talk] 21:56, 18 June\"\n",
      "\n",
      "\n"
     ]
    },
    {
     "name": "stderr",
     "output_type": "stream",
     "text": [
      "\n",
      "\n",
      "[Succeeded / Failed / Skipped / Total] 28 / 17 / 1 / 46:   5%|▍         | 47/1000 [02:06<42:47,  2.69s/it]\u001b[A\u001b[A\n",
      "\n",
      "[Succeeded / Failed / Skipped / Total] 28 / 18 / 1 / 47:   5%|▍         | 47/1000 [02:06<42:47,  2.69s/it]\u001b[A\u001b[A"
     ]
    },
    {
     "name": "stdout",
     "output_type": "stream",
     "text": [
      "--------------------------------------------- Result 47 ---------------------------------------------\n",
      "[[1 (73%)]] --> [[[FAILED]]]\n",
      "\n",
      "Hey bitch \n",
      "\n",
      "Why'd you create a gay ass site lke this? Deadfuck.\n",
      "\n",
      "\n"
     ]
    },
    {
     "name": "stderr",
     "output_type": "stream",
     "text": [
      "\n",
      "\n",
      "[Succeeded / Failed / Skipped / Total] 28 / 18 / 1 / 47:   5%|▍         | 48/1000 [02:06<41:56,  2.64s/it]\u001b[A\u001b[A\n",
      "\n",
      "[Succeeded / Failed / Skipped / Total] 29 / 18 / 1 / 48:   5%|▍         | 48/1000 [02:06<41:57,  2.64s/it]\u001b[A\u001b[A"
     ]
    },
    {
     "name": "stdout",
     "output_type": "stream",
     "text": [
      "--------------------------------------------- Result 48 ---------------------------------------------\n",
      "[[1 (72%)]] --> [[0 (50%)]]\n",
      "\n",
      "This [[article]] [[sucks]] \n",
      "\n",
      "This article is just an [[anti]] Gökçek article.\n",
      "\n",
      "This [[clause]] [[strokes]] \n",
      "\n",
      "This article is just an [[opposed]] Gökçek article.\n",
      "\n",
      "\n"
     ]
    },
    {
     "name": "stderr",
     "output_type": "stream",
     "text": [
      "\n",
      "\n",
      "[Succeeded / Failed / Skipped / Total] 29 / 18 / 1 / 48:   5%|▍         | 49/1000 [02:07<41:22,  2.61s/it]\u001b[A\u001b[A\n",
      "\n",
      "[Succeeded / Failed / Skipped / Total] 30 / 18 / 1 / 49:   5%|▍         | 49/1000 [02:07<41:22,  2.61s/it]\u001b[A\u001b[A"
     ]
    },
    {
     "name": "stdout",
     "output_type": "stream",
     "text": [
      "--------------------------------------------- Result 49 ---------------------------------------------\n",
      "[[1 (73%)]] --> [[0 (50%)]]\n",
      "\n",
      "JUDENSCWEIN [[TO]] [[THE]] [[OVENS]] !  [[LIARS]] ! [[ALL]] OF [[YOU]] !\n",
      "\n",
      "JUDENSCWEIN [[FOR]] [[LES]] [[FOUR]] !  [[WARMONGERS]] ! [[ENSEMBLE]] OF [[THY]] !\n",
      "\n",
      "\n"
     ]
    },
    {
     "name": "stderr",
     "output_type": "stream",
     "text": [
      "\n",
      "\n",
      "[Succeeded / Failed / Skipped / Total] 30 / 18 / 1 / 49:   5%|▌         | 50/1000 [02:08<40:44,  2.57s/it]\u001b[A\u001b[A\n",
      "\n",
      "[Succeeded / Failed / Skipped / Total] 31 / 18 / 1 / 50:   5%|▌         | 50/1000 [02:08<40:44,  2.57s/it]\u001b[A\u001b[A"
     ]
    },
    {
     "name": "stdout",
     "output_type": "stream",
     "text": [
      "--------------------------------------------- Result 50 ---------------------------------------------\n",
      "[[1 (71%)]] --> [[0 (51%)]]\n",
      "\n",
      "And a [[song]]\n",
      "[[Me]] [[cum]], she [[cum]], and you [[cum]]...I [[cum]], you cum, we all [[cum]] tonight!\n",
      "\n",
      "And a [[hymns]]\n",
      "[[Ai]] [[accretion]], she [[accrued]], and you [[cumulative]]...I [[cumulative]], you cum, we all [[accretion]] tonight!\n",
      "\n",
      "\n"
     ]
    },
    {
     "name": "stderr",
     "output_type": "stream",
     "text": [
      "\n",
      "\n",
      "[Succeeded / Failed / Skipped / Total] 31 / 18 / 1 / 50:   5%|▌         | 51/1000 [02:09<40:15,  2.55s/it]\u001b[A\u001b[A\n",
      "\n",
      "[Succeeded / Failed / Skipped / Total] 32 / 18 / 1 / 51:   5%|▌         | 51/1000 [02:09<40:15,  2.55s/it]\u001b[A\u001b[A"
     ]
    },
    {
     "name": "stdout",
     "output_type": "stream",
     "text": [
      "--------------------------------------------- Result 51 ---------------------------------------------\n",
      "[[1 (73%)]] --> [[0 (50%)]]\n",
      "\n",
      "\"\n",
      "\n",
      "Since when have I got ALL my \"\"Proof\"\" from \"\"waterlooroadforums.[[com]]\"\" [[DICKHEAD]]? Discussion [[Forums]] and [[Twitter]] and other tripe are NOT sources! I do NOT use [[NOTHING]] BUT waterlooroadforums.com. OMG [[HE]] sED IT ON HIZ TWITAR! IT MUST BE TROO!  \"\n",
      "\n",
      "\"\n",
      "\n",
      "Since when have I got ALL my \"\"Proof\"\" from \"\"waterlooroadforums.[[kom]]\"\" [[DUNCE]]? Discussion [[Venue]] and [[Facebook]] and other tripe are NOT sources! I do NOT use [[SOMETHING]] BUT waterlooroadforums.com. OMG [[IL]] sED IT ON HIZ TWITAR! IT MUST BE TROO!  \"\n",
      "\n",
      "\n"
     ]
    },
    {
     "name": "stderr",
     "output_type": "stream",
     "text": [
      "\n",
      "\n",
      "[Succeeded / Failed / Skipped / Total] 32 / 18 / 1 / 51:   5%|▌         | 52/1000 [02:17<41:40,  2.64s/it]\u001b[A\u001b[A\n",
      "\n",
      "[Succeeded / Failed / Skipped / Total] 32 / 19 / 1 / 52:   5%|▌         | 52/1000 [02:17<41:40,  2.64s/it]\u001b[A\u001b[A"
     ]
    },
    {
     "name": "stdout",
     "output_type": "stream",
     "text": [
      "--------------------------------------------- Result 52 ---------------------------------------------\n",
      "[[1 (73%)]] --> [[[FAILED]]]\n",
      "\n",
      "You Are A Complete Idiot \n",
      "\n",
      "I didn't create this account just for promotion, thought I could actually start editing wikipedia articles since I find so many that are complete useless when I do google searches. But thanks for being a complete idiot. The only warning I should be getting is for personal attacks against your stupidity. You pissed me off and now its gonna suck for you.\n",
      "\n",
      "\n"
     ]
    },
    {
     "name": "stderr",
     "output_type": "stream",
     "text": [
      "\n",
      "\n",
      "[Succeeded / Failed / Skipped / Total] 32 / 19 / 1 / 52:   5%|▌         | 53/1000 [02:19<41:25,  2.62s/it]\u001b[A\u001b[A\n",
      "\n",
      "[Succeeded / Failed / Skipped / Total] 32 / 20 / 1 / 53:   5%|▌         | 53/1000 [02:19<41:25,  2.62s/it]\u001b[A\u001b[A"
     ]
    },
    {
     "name": "stdout",
     "output_type": "stream",
     "text": [
      "--------------------------------------------- Result 53 ---------------------------------------------\n",
      "[[1 (69%)]] --> [[[FAILED]]]\n",
      "\n",
      "I would like to direct you to oral sex which you can perform on me. Don't accuse me of vandalism for good faith edits, and you won't have an angry mastodon to worry about.\n",
      "\n",
      "\n"
     ]
    },
    {
     "name": "stderr",
     "output_type": "stream",
     "text": [
      "\n",
      "\n",
      "[Succeeded / Failed / Skipped / Total] 32 / 20 / 1 / 53:   5%|▌         | 54/1000 [02:19<40:51,  2.59s/it]\u001b[A\u001b[A\n",
      "\n",
      "[Succeeded / Failed / Skipped / Total] 33 / 20 / 1 / 54:   5%|▌         | 54/1000 [02:19<40:51,  2.59s/it]\u001b[A\u001b[A"
     ]
    },
    {
     "name": "stdout",
     "output_type": "stream",
     "text": [
      "--------------------------------------------- Result 54 ---------------------------------------------\n",
      "[[1 (72%)]] --> [[0 (50%)]]\n",
      "\n",
      "\"\n",
      "Thank you. Given the misuse of tools here and the itchy trigger finger as exemplified by the thread above, this \"\"admin\"\" needs to be examined by Arbcom. I'm not surprised to see a thread already open at ANI discussing it's recent behavioural trends. I won't be initiating anything but will most certainly be presenting evidence at the appropriate time. In the meantime someone needs to tell this \"\"admin\"\" to calm the [[fuck]] down and stop removing comments mad by editors on their own talk pages. That's a blockable offence, especially when they were told to never post here again. INVOLVED much?   \"\n",
      "\n",
      "\"\n",
      "Thank you. Given the misuse of tools here and the itchy trigger finger as exemplified by the thread above, this \"\"admin\"\" needs to be examined by Arbcom. I'm not surprised to see a thread already open at ANI discussing it's recent behavioural trends. I won't be initiating anything but will most certainly be presenting evidence at the appropriate time. In the meantime someone needs to tell this \"\"admin\"\" to calm the [[merde]] down and stop removing comments mad by editors on their own talk pages. That's a blockable offence, especially when they were told to never post here again. INVOLVED much?   \"\n",
      "\n",
      "\n"
     ]
    },
    {
     "name": "stderr",
     "output_type": "stream",
     "text": [
      "\n",
      "\n",
      "[Succeeded / Failed / Skipped / Total] 33 / 20 / 1 / 54:   6%|▌         | 55/1000 [02:23<41:12,  2.62s/it]\u001b[A\u001b[A\n",
      "\n",
      "[Succeeded / Failed / Skipped / Total] 33 / 21 / 1 / 55:   6%|▌         | 55/1000 [02:23<41:12,  2.62s/it]\u001b[A\u001b[A"
     ]
    },
    {
     "name": "stdout",
     "output_type": "stream",
     "text": [
      "--------------------------------------------- Result 55 ---------------------------------------------\n",
      "[[1 (73%)]] --> [[[FAILED]]]\n",
      "\n",
      "Hello \n",
      "\n",
      "Hey, dude, why don't you fuck off, bitch? You know, being an asshole like yourself means your mother is a whore and a transvestite, which means you were born of anal sex. Hey guess what? Your face sucks balls.\n",
      "\n",
      "\n"
     ]
    },
    {
     "name": "stderr",
     "output_type": "stream",
     "text": [
      "\n",
      "\n",
      "[Succeeded / Failed / Skipped / Total] 33 / 21 / 1 / 55:   6%|▌         | 56/1000 [02:25<41:00,  2.61s/it]\u001b[A\u001b[A\n",
      "\n",
      "[Succeeded / Failed / Skipped / Total] 34 / 21 / 1 / 56:   6%|▌         | 56/1000 [02:25<41:00,  2.61s/it]\u001b[A\u001b[A"
     ]
    },
    {
     "name": "stdout",
     "output_type": "stream",
     "text": [
      "--------------------------------------------- Result 56 ---------------------------------------------\n",
      "[[1 (73%)]] --> [[0 (50%)]]\n",
      "\n",
      "\"\n",
      "\n",
      " Would you [[do]] me a favor... \n",
      "\n",
      "...and [[block]] me for 24 [[hours]] for [[personal]] attacks? I'm getting [[fed]] up with some of the [[idiots]] on some of the pages; it's bringing out my \"\"[[evil]]\"\" side, and I need an [[enforced]] cooldown. (I [[told]] you I was \"\"my own sockpuppet\"\".) [[Danke]]. )  \"\n",
      "\n",
      "\"\n",
      "\n",
      " Would you [[am]] me a favor... \n",
      "\n",
      "...and [[interfered]] me for 24 [[scheduling]] for [[customized]] attacks? I'm getting [[powered]] up with some of the [[nincompoops]] on some of the pages; it's bringing out my \"\"[[mischievous]]\"\" side, and I need an [[implemented]] cooldown. (I [[indicated]] you I was \"\"my own sockpuppet\"\".) [[Grazie]]. )  \"\n",
      "\n",
      "\n"
     ]
    },
    {
     "name": "stderr",
     "output_type": "stream",
     "text": [
      "\n",
      "\n",
      "[Succeeded / Failed / Skipped / Total] 34 / 21 / 1 / 56:   6%|▌         | 57/1000 [02:29<41:11,  2.62s/it]\u001b[A\u001b[A\n",
      "\n",
      "[Succeeded / Failed / Skipped / Total] 34 / 22 / 1 / 57:   6%|▌         | 57/1000 [02:29<41:11,  2.62s/it]\u001b[A\u001b[A"
     ]
    },
    {
     "name": "stdout",
     "output_type": "stream",
     "text": [
      "--------------------------------------------- Result 57 ---------------------------------------------\n",
      "[[1 (74%)]] --> [[[FAILED]]]\n",
      "\n",
      "\"\n",
      "Fuck Wikipedia and fuck Wales. The article cannot be more of a perfect case of violating WP:BLPCRIME. If I were a defense attorney I would be wetting my tiny white pants. Wales is a media whore. It suits him to have that article here. Chan \"\n",
      "\n",
      "\n"
     ]
    },
    {
     "name": "stderr",
     "output_type": "stream",
     "text": [
      "[Succeeded / Failed / Skipped / Total] 2 / 3 / 0 / 5:   0%|          | 5/5000 [13:54:35<13895:49:00, 10015.00s/it]\n",
      "[Succeeded / Failed / Skipped / Total] 2169 / 1974 / 8 / 4151:  83%|████████▎ | 4151/5000 [12:08:55<2:29:05, 10.54s/it]\n",
      "\n",
      "\n",
      "[Succeeded / Failed / Skipped / Total] 34 / 22 / 1 / 57:   6%|▌         | 58/1000 [02:49<45:45,  2.91s/it]\u001b[A\u001b[A\n",
      "\n",
      "[Succeeded / Failed / Skipped / Total] 34 / 23 / 1 / 58:   6%|▌         | 58/1000 [02:49<45:45,  2.91s/it]\u001b[A\u001b[A"
     ]
    },
    {
     "name": "stdout",
     "output_type": "stream",
     "text": [
      "--------------------------------------------- Result 58 ---------------------------------------------\n",
      "[[1 (73%)]] --> [[[FAILED]]]\n",
      "\n",
      "I don't know what mental illnes you have, but please stay the fuck away from the reference desk with your vandalism. Do not remove this or I will add it again and again until you give up. I can keep this up forever. I will not have some bully removin \n",
      "\n",
      "I don't know what mental illnes you have, but please stay the fuck away from the reference desk with your vandalism. Do not remove this or I will add it again and again until you give up. I can keep this up forever. I will not have some bully removing my questions and I will get you banned if you keep this up. Is this perfectly clear? Do not ever touch any of my genuine questions again.\n",
      "\n",
      "\n"
     ]
    },
    {
     "name": "stderr",
     "output_type": "stream",
     "text": [
      "\n",
      "\n",
      "[Succeeded / Failed / Skipped / Total] 34 / 23 / 1 / 58:   6%|▌         | 59/1000 [02:50<45:11,  2.88s/it]\u001b[A\u001b[A\n",
      "\n",
      "[Succeeded / Failed / Skipped / Total] 35 / 23 / 1 / 59:   6%|▌         | 59/1000 [02:50<45:11,  2.88s/it]\u001b[A\u001b[A"
     ]
    },
    {
     "name": "stdout",
     "output_type": "stream",
     "text": [
      "--------------------------------------------- Result 59 ---------------------------------------------\n",
      "[[1 (61%)]] --> [[0 (50%)]]\n",
      "\n",
      "Is he really Jewish? ==\n",
      "My friend Jamal said Jesus was a Jew.  How [[come]] he didnt [[get]] [[killed]] in the [[ovens]] then?\n",
      "I don't think Jamal knows anything.  So whats up?\n",
      "\n",
      "==\n",
      "\n",
      "Is he really Jewish? ==\n",
      "My friend Jamal said Jesus was a Jew.  How [[forthcoming]] he didnt [[perceives]] [[fatalities]] in the [[hotplate]] then?\n",
      "I don't think Jamal knows anything.  So whats up?\n",
      "\n",
      "==\n",
      "\n",
      "\n"
     ]
    },
    {
     "name": "stderr",
     "output_type": "stream",
     "text": [
      "\n",
      "\n",
      "[Succeeded / Failed / Skipped / Total] 35 / 23 / 1 / 59:   6%|▌         | 60/1000 [02:51<44:47,  2.86s/it]\u001b[A\u001b[A\n",
      "\n",
      "[Succeeded / Failed / Skipped / Total] 36 / 23 / 1 / 60:   6%|▌         | 60/1000 [02:51<44:48,  2.86s/it]\u001b[A\u001b[A"
     ]
    },
    {
     "name": "stdout",
     "output_type": "stream",
     "text": [
      "--------------------------------------------- Result 60 ---------------------------------------------\n",
      "[[1 (73%)]] --> [[0 (50%)]]\n",
      "\n",
      "I understand. But I really got [[pissed]] off by these Pan-Iranist [[idiots]]! They [[falsify]] [[history]]. Everyone knows that ibn-i Sina, Mevlana, Timür, and all the rest were [[Turks]]. I need your help to [[fight]] these [[Iranians]]! -85.176.73.68\n",
      "\n",
      "I understand. But I really got [[bothered]] off by these Pan-Iranist [[nincompoops]]! They [[doctored]] [[story]]. Everyone knows that ibn-i Sina, Mevlana, Timür, and all the rest were [[Anatolia]]. I need your help to [[clashes]] these [[Ayatollah]]! -85.176.73.68\n",
      "\n",
      "\n"
     ]
    },
    {
     "name": "stderr",
     "output_type": "stream",
     "text": [
      "\n",
      "\n",
      "[Succeeded / Failed / Skipped / Total] 36 / 23 / 1 / 60:   6%|▌         | 61/1000 [02:53<44:27,  2.84s/it]\u001b[A\u001b[A\n",
      "\n",
      "[Succeeded / Failed / Skipped / Total] 37 / 23 / 1 / 61:   6%|▌         | 61/1000 [02:53<44:28,  2.84s/it]\u001b[A\u001b[A"
     ]
    },
    {
     "name": "stdout",
     "output_type": "stream",
     "text": [
      "--------------------------------------------- Result 61 ---------------------------------------------\n",
      "[[1 (69%)]] --> [[0 (50%)]]\n",
      "\n",
      "Nazism and [[religion]] [[Nazi]] mysticism [[Nazi]] architecture Category:[[Nazi]] [[physicians]] [[Nazi]] [[human]] [[experimentation]] Nazism and [[race]] [[Nazi]] songs [[Nazi]] mysticism [[etc]]...\n",
      "\n",
      "Nazism and [[confessions]] [[Shoah]] mysticism [[Auschwitz]] architecture Category:[[Soviet]] [[practitioner]] [[Himmler]] [[humanitarian]] [[experiences]] Nazism and [[carrera]] [[Himmler]] songs [[Auschwitz]] mysticism [[cetera]]...\n",
      "\n",
      "\n"
     ]
    },
    {
     "name": "stderr",
     "output_type": "stream",
     "text": [
      "\n",
      "\n",
      "[Succeeded / Failed / Skipped / Total] 37 / 23 / 1 / 61:   6%|▌         | 62/1000 [03:26<52:04,  3.33s/it]\u001b[A\u001b[A\n",
      "\n",
      "[Succeeded / Failed / Skipped / Total] 38 / 23 / 1 / 62:   6%|▌         | 62/1000 [03:26<52:05,  3.33s/it]\u001b[A\u001b[A"
     ]
    },
    {
     "name": "stdout",
     "output_type": "stream",
     "text": [
      "--------------------------------------------- Result 62 ---------------------------------------------\n",
      "[[1 (73%)]] --> [[0 (50%)]]\n",
      "\n",
      "You are a [[dumb]] flower \n",
      "\n",
      "[[Now]], normally, I [[do]] not [[use]] that [[term]] [[explicitly]]. I just [[quietly]] think it. But in this [[case]], there is evidence. You have no ISBN's to your [[name]]. [[In]] my [[book]], that [[makes]] you a [[dumb]] flower I happened to a bit [[demanding]] about these [[sorts]] of [[things]]. [[The]] ISBN's  1-894840-36-4 and 1-894840-38-0 . Tell me something: [[At]] you [[local]] library: [[do]] they [[actually]] [[allow]] you in there? [[Maybe]] they just [[let]] you in because you are a [[girl]], [[I]] [[dunno]].  [[Do]] they [[have]] an old-fashioned card catalog system there? Do you experience urges to rip out the cards of the books that you simply do not like? I can assure you that you need to try and suppress those urges. OF COURSE I added those ISBN's for you dear. It is like honey to flies. Dumb cunts like you cannot suppress their urges to go and delete them.  And thereby, I trap you, my pretty little dumb flower.\n",
      "\n",
      "You are a [[simpleton]] flower \n",
      "\n",
      "[[Still]], normally, I [[make]] not [[employed]] that [[notion]] [[manifestly]]. I just [[politely]] think it. But in this [[cas]], there is evidence. You have no ISBN's to your [[behalf]]. [[With]] my [[leaflets]], that [[afford]] you a [[foolish]] flower I happened to a bit [[wondering]] about these [[genre]] of [[considerations]]. [[Both]] ISBN's  1-894840-36-4 and 1-894840-38-0 . Tell me something: [[By]] you [[regional]] library: [[doing]] they [[genuinely]] [[authorised]] you in there? [[Unlikely]] they just [[enabled]] you in because you are a [[fille]], [[me]] [[reckon]].  [[Suis]] they [[do]] an old-fashioned card catalog system there? Do you experience urges to rip out the cards of the books that you simply do not like? I can assure you that you need to try and suppress those urges. OF COURSE I added those ISBN's for you dear. It is like honey to flies. Dumb cunts like you cannot suppress their urges to go and delete them.  And thereby, I trap you, my pretty little dumb flower.\n",
      "\n",
      "\n"
     ]
    },
    {
     "name": "stderr",
     "output_type": "stream",
     "text": [
      "\n",
      "\n",
      "[Succeeded / Failed / Skipped / Total] 38 / 23 / 1 / 62:   6%|▋         | 63/1000 [03:43<55:23,  3.55s/it]\u001b[A\u001b[A\n",
      "\n",
      "[Succeeded / Failed / Skipped / Total] 38 / 24 / 1 / 63:   6%|▋         | 63/1000 [03:43<55:23,  3.55s/it]\u001b[A\u001b[A"
     ]
    },
    {
     "name": "stdout",
     "output_type": "stream",
     "text": [
      "--------------------------------------------- Result 63 ---------------------------------------------\n",
      "[[1 (74%)]] --> [[[FAILED]]]\n",
      "\n",
      "Holmes apparently your an idiot. \n",
      "\n",
      "The Book you imbecile iS TANAKH.\n",
      "\n",
      "You have to buy the information you little utopian putz.\n",
      "\n",
      "It is verifiable if you lift your chubby little finger and go click and purchase.\n",
      "\n",
      "http://www.jewishpub.org/product.php?id=139\n",
      "\n",
      "YOU JUST HAVE TO PAY FOR IT FOOL!\n",
      "\n",
      "It's NOT FREE!\n",
      "\n",
      "And moreover its more elaborate indepth and actually in hebrew.\n",
      "\n",
      "The Source you reference here is it not?\n",
      "\n",
      "Well that internation idiots version of garbage, ain't hebrew.\n",
      "\n",
      "Go flex your muscles elsewhere my point is made. And will resound for a while now, from here out.\n",
      "\n",
      "\n"
     ]
    },
    {
     "name": "stderr",
     "output_type": "stream",
     "text": [
      "\n",
      "\n",
      "[Succeeded / Failed / Skipped / Total] 38 / 24 / 1 / 63:   6%|▋         | 64/1000 [03:44<54:39,  3.50s/it]\u001b[A\u001b[A\n",
      "\n",
      "[Succeeded / Failed / Skipped / Total] 38 / 25 / 1 / 64:   6%|▋         | 64/1000 [03:44<54:39,  3.50s/it]\u001b[A\u001b[A"
     ]
    },
    {
     "name": "stdout",
     "output_type": "stream",
     "text": [
      "--------------------------------------------- Result 64 ---------------------------------------------\n",
      "[[1 (74%)]] --> [[[FAILED]]]\n",
      "\n",
      "Dog Fucking\n",
      "\n",
      "When did you give up dog-fucking?\n",
      "\n",
      "\n"
     ]
    },
    {
     "name": "stderr",
     "output_type": "stream",
     "text": [
      "\n",
      "\n",
      "[Succeeded / Failed / Skipped / Total] 38 / 25 / 1 / 64:   6%|▋         | 65/1000 [03:44<53:54,  3.46s/it]\u001b[A\u001b[A\n",
      "\n",
      "[Succeeded / Failed / Skipped / Total] 38 / 26 / 1 / 65:   6%|▋         | 65/1000 [03:44<53:54,  3.46s/it]\u001b[A\u001b[A"
     ]
    },
    {
     "name": "stdout",
     "output_type": "stream",
     "text": [
      "--------------------------------------------- Result 65 ---------------------------------------------\n",
      "[[1 (74%)]] --> [[[FAILED]]]\n",
      "\n",
      "Suck my cock you stupid bitch!:)\n",
      "\n",
      "\n"
     ]
    },
    {
     "name": "stderr",
     "output_type": "stream",
     "text": [
      "\n",
      "\n",
      "[Succeeded / Failed / Skipped / Total] 38 / 26 / 1 / 65:   7%|▋         | 66/1000 [03:46<53:29,  3.44s/it]\u001b[A\u001b[A\n",
      "\n",
      "[Succeeded / Failed / Skipped / Total] 38 / 27 / 1 / 66:   7%|▋         | 66/1000 [03:46<53:29,  3.44s/it]\u001b[A\u001b[A"
     ]
    },
    {
     "name": "stdout",
     "output_type": "stream",
     "text": [
      "--------------------------------------------- Result 66 ---------------------------------------------\n",
      "[[1 (73%)]] --> [[[FAILED]]]\n",
      "\n",
      "April 2008 \n",
      "\n",
      "Fuck off you cunt, you're a fucking piece of shit who needs to get laid in the ass\n",
      "\n",
      "\n"
     ]
    },
    {
     "name": "stderr",
     "output_type": "stream",
     "text": [
      "\n",
      "\n",
      "[Succeeded / Failed / Skipped / Total] 38 / 27 / 1 / 66:   7%|▋         | 67/1000 [03:47<52:49,  3.40s/it]\u001b[A\u001b[A\n",
      "\n",
      "[Succeeded / Failed / Skipped / Total] 38 / 28 / 1 / 67:   7%|▋         | 67/1000 [03:47<52:49,  3.40s/it]\u001b[A\u001b[A"
     ]
    },
    {
     "name": "stdout",
     "output_type": "stream",
     "text": [
      "--------------------------------------------- Result 67 ---------------------------------------------\n",
      "[[1 (74%)]] --> [[[FAILED]]]\n",
      "\n",
      "i want some damn answers now you imbeciles\n",
      "\n",
      "\n"
     ]
    },
    {
     "name": "stderr",
     "output_type": "stream",
     "text": [
      "\n",
      "\n",
      "[Succeeded / Failed / Skipped / Total] 38 / 28 / 1 / 67:   7%|▋         | 68/1000 [03:49<52:27,  3.38s/it]\u001b[A\u001b[A\n",
      "\n",
      "[Succeeded / Failed / Skipped / Total] 38 / 29 / 1 / 68:   7%|▋         | 68/1000 [03:49<52:27,  3.38s/it]\u001b[A\u001b[A"
     ]
    },
    {
     "name": "stdout",
     "output_type": "stream",
     "text": [
      "--------------------------------------------- Result 68 ---------------------------------------------\n",
      "[[1 (72%)]] --> [[[FAILED]]]\n",
      "\n",
      "So saying that Bible is the BELIEF of Christians is now nonsense. Clearly, you are a bigoted Bible-thumper. Stop calling science as vandalism.\n",
      "\n",
      "\n"
     ]
    },
    {
     "name": "stderr",
     "output_type": "stream",
     "text": [
      "\n",
      "\n",
      "[Succeeded / Failed / Skipped / Total] 38 / 29 / 1 / 68:   7%|▋         | 69/1000 [03:55<53:02,  3.42s/it]\u001b[A\u001b[A\n",
      "\n",
      "[Succeeded / Failed / Skipped / Total] 39 / 29 / 1 / 69:   7%|▋         | 69/1000 [03:55<53:03,  3.42s/it]\u001b[A\u001b[A"
     ]
    },
    {
     "name": "stdout",
     "output_type": "stream",
     "text": [
      "--------------------------------------------- Result 69 ---------------------------------------------\n",
      "[[1 (74%)]] --> [[0 (50%)]]\n",
      "\n",
      "\":[[In]] [[spite]] of the admins [[advice]] about [[replies]], I [[think]] the only [[reasonable]] [[reply]] to you is \"\"[[Go]] to [[hell]].\"\" You're [[so]] [[damned]] [[bossy]], a bully, a [[liar]] and an [[ignorant]] agendizer. I can't [[fathom]] how they [[let]] YOU [[continue]] here. [[Maybe]] another IP block [[YOURS]] [[will]] [[be]] a [[great]] idea.75.21.97.99  \n",
      "\n",
      "\"\n",
      "\n",
      "\":[[Among]] [[whilst]] of the admins [[councillor]] about [[interventions]], I [[reflections]] the only [[sensible]] [[replied]] to you is \"\"[[Devote]] to [[bollocks]].\"\" You're [[also]] [[accursed]] [[authoritative]], a bully, a [[deception]] and an [[wishful]] agendizer. I can't [[realised]] how they [[authorisation]] YOU [[continuity]] here. [[Ultimately]] another IP block [[THEYRE]] [[desired]] [[se]] a [[remarkable]] idea.75.21.97.99  \n",
      "\n",
      "\"\n",
      "\n",
      "\n"
     ]
    },
    {
     "name": "stderr",
     "output_type": "stream",
     "text": [
      "\n",
      "\n",
      "[Succeeded / Failed / Skipped / Total] 39 / 29 / 1 / 69:   7%|▋         | 70/1000 [03:56<52:24,  3.38s/it]\u001b[A\u001b[A\n",
      "\n",
      "[Succeeded / Failed / Skipped / Total] 40 / 29 / 1 / 70:   7%|▋         | 70/1000 [03:56<52:24,  3.38s/it]\u001b[A\u001b[A"
     ]
    },
    {
     "name": "stdout",
     "output_type": "stream",
     "text": [
      "--------------------------------------------- Result 70 ---------------------------------------------\n",
      "[[1 (72%)]] --> [[0 (50%)]]\n",
      "\n",
      "Kind Sir, why [[dont]] you try to [[lick]] my [[butthole]] and [[put]] a trampoline up yours \n",
      "\n",
      "thank you.\n",
      "\n",
      "Kind Sir, why [[ofcourse]] you try to [[caressing]] my [[licking]] and [[introduced]] a trampoline up yours \n",
      "\n",
      "thank you.\n",
      "\n",
      "\n"
     ]
    },
    {
     "name": "stderr",
     "output_type": "stream",
     "text": [
      "\n",
      "\n",
      "[Succeeded / Failed / Skipped / Total] 40 / 29 / 1 / 70:   7%|▋         | 71/1000 [03:59<52:08,  3.37s/it]\u001b[A\u001b[A\n",
      "\n",
      "[Succeeded / Failed / Skipped / Total] 41 / 29 / 1 / 71:   7%|▋         | 71/1000 [03:59<52:09,  3.37s/it]\u001b[A\u001b[A"
     ]
    },
    {
     "name": "stdout",
     "output_type": "stream",
     "text": [
      "--------------------------------------------- Result 71 ---------------------------------------------\n",
      "[[1 (73%)]] --> [[0 (50%)]]\n",
      "\n",
      "KOSOVA Article\n",
      "[[You]] are nobody, therefore don't try to act all ape [[shit]].  Frankly we're all [[getting]] [[sick]] of your povness and edits.  If you wanna troll these [[parts]] of WP then I can play [[tit]] for [[tat]].  [[Buh]] Bye [[little]] [[boy]]. )\n",
      "\n",
      "KOSOVA Article\n",
      "[[Thyself]] are nobody, therefore don't try to act all ape [[accursed]].  Frankly we're all [[achieved]] [[infirm]] of your povness and edits.  If you wanna troll these [[portion]] of WP then I can play [[teats]] for [[tait]].  [[Needa]] Bye [[minimal]] [[yarns]]. )\n",
      "\n",
      "\n"
     ]
    },
    {
     "name": "stderr",
     "output_type": "stream",
     "text": [
      "\n",
      "\n",
      "[Succeeded / Failed / Skipped / Total] 41 / 29 / 1 / 71:   7%|▋         | 72/1000 [04:05<52:48,  3.41s/it]\u001b[A\u001b[A\n",
      "\n",
      "[Succeeded / Failed / Skipped / Total] 42 / 29 / 1 / 72:   7%|▋         | 72/1000 [04:05<52:48,  3.41s/it]\u001b[A\u001b[A"
     ]
    },
    {
     "name": "stdout",
     "output_type": "stream",
     "text": [
      "--------------------------------------------- Result 72 ---------------------------------------------\n",
      "[[1 (73%)]] --> [[0 (50%)]]\n",
      "\n",
      "That's [[nice]].  You know, I'm [[actually]] not either of those [[guys]], [[though]] [[I]] [[do]] know who Lan is in real [[life]].  Not that it [[matters]]: there are plenty of [[real]] Objectivists who [[will]] [[spend]] their [[time]] fixing the mistakes and [[lies]] of second-handers [[like]] you.  All you've done is [[show]] that you're [[idiots]] and Wikipedia is for other [[idiots]] just [[like]] you. [[The]] [[Truth]] [[wins]] out in the end, and you [[have]] no [[part]] in it.\n",
      "\n",
      "That's [[exquisite]].  You know, I'm [[genuinely]] not either of those [[friends]], [[although]] [[me]] [[did]] know who Lan is in real [[vivre]].  Not that it [[aspect]]: there are plenty of [[realistic]] Objectivists who [[dedication]] [[devote]] their [[moments]] fixing the mistakes and [[rests]] of second-handers [[amateur]] you.  All you've done is [[showcase]] that you're [[geeks]] and Wikipedia is for other [[nincompoops]] just [[analog]] you. [[Both]] [[Genuinely]] [[defeating]] out in the end, and you [[enjoy]] no [[elements]] in it.\n",
      "\n",
      "\n"
     ]
    },
    {
     "name": "stderr",
     "output_type": "stream",
     "text": [
      "\n",
      "\n",
      "[Succeeded / Failed / Skipped / Total] 42 / 29 / 1 / 72:   7%|▋         | 73/1000 [04:06<52:06,  3.37s/it]\u001b[A\u001b[A\n",
      "\n",
      "[Succeeded / Failed / Skipped / Total] 43 / 29 / 1 / 73:   7%|▋         | 73/1000 [04:06<52:06,  3.37s/it]\u001b[A\u001b[A"
     ]
    },
    {
     "name": "stdout",
     "output_type": "stream",
     "text": [
      "--------------------------------------------- Result 73 ---------------------------------------------\n",
      "[[1 (73%)]] --> [[0 (50%)]]\n",
      "\n",
      "[[And]] his upcomming probably [[refers]] to his [[homosexuality]].\n",
      "\n",
      "[[Neither]] his upcomming probably [[implicates]] to his [[bestiality]].\n",
      "\n",
      "\n"
     ]
    },
    {
     "name": "stderr",
     "output_type": "stream",
     "text": [
      "\n",
      "\n",
      "[Succeeded / Failed / Skipped / Total] 43 / 29 / 1 / 73:   7%|▋         | 74/1000 [04:08<51:47,  3.36s/it]\u001b[A\u001b[A\n",
      "\n",
      "[Succeeded / Failed / Skipped / Total] 44 / 29 / 1 / 74:   7%|▋         | 74/1000 [04:08<51:48,  3.36s/it]\u001b[A\u001b[A"
     ]
    },
    {
     "name": "stdout",
     "output_type": "stream",
     "text": [
      "--------------------------------------------- Result 74 ---------------------------------------------\n",
      "[[1 (73%)]] --> [[0 (50%)]]\n",
      "\n",
      "\"\n",
      "\n",
      "  [[The]] LGBT Barnstar Awarded because your a [[gay]] [[fag]] who won't [[stop]] whinning about [[animal]] [[shows]] or FredFredburger [[OR]] [[SOME]] [[SHIT]] [[LIKE]] [[THAT]]!!!.\"\n",
      "\n",
      "\"\n",
      "\n",
      "  [[Both]] LGBT Barnstar Awarded because your a [[comrade]] [[fairy]] who won't [[braking]] whinning about [[pets]] [[highlights]] or FredFredburger [[EITHER]] [[UNCOMMON]] [[JEEZ]] [[ENJOYED]] [[WHICH]]!!!.\"\n",
      "\n",
      "\n"
     ]
    },
    {
     "name": "stderr",
     "output_type": "stream",
     "text": [
      "\n",
      "\n",
      "[Succeeded / Failed / Skipped / Total] 44 / 29 / 1 / 74:   8%|▊         | 75/1000 [04:11<51:39,  3.35s/it]\u001b[A\u001b[A\n",
      "\n",
      "[Succeeded / Failed / Skipped / Total] 44 / 30 / 1 / 75:   8%|▊         | 75/1000 [04:11<51:39,  3.35s/it]\u001b[A\u001b[A"
     ]
    },
    {
     "name": "stdout",
     "output_type": "stream",
     "text": [
      "--------------------------------------------- Result 75 ---------------------------------------------\n",
      "[[1 (73%)]] --> [[[FAILED]]]\n",
      "\n",
      "Warning. You're dealing with a liar, a jerk and an imposter.  \n",
      "\n",
      "Warning. If you deal with Orangemarlin and his aliases, you're dealing with a liar, a jerk and an imposter.\n",
      "\n",
      "\n"
     ]
    },
    {
     "name": "stderr",
     "output_type": "stream",
     "text": [
      "\n",
      "\n",
      "[Succeeded / Failed / Skipped / Total] 44 / 30 / 1 / 75:   8%|▊         | 76/1000 [04:35<55:47,  3.62s/it]\u001b[A\u001b[A\n",
      "\n",
      "[Succeeded / Failed / Skipped / Total] 45 / 30 / 1 / 76:   8%|▊         | 76/1000 [04:35<55:47,  3.62s/it]\u001b[A\u001b[A"
     ]
    },
    {
     "name": "stdout",
     "output_type": "stream",
     "text": [
      "--------------------------------------------- Result 76 ---------------------------------------------\n",
      "[[1 (74%)]] --> [[0 (50%)]]\n",
      "\n",
      "I've been a Wikipedian [[since]] 22 [[July]], 2006, and an [[administrator]] [[since]] 19 [[November]], 2007.\n",
      "\n",
      "I am an [[architect]] and a [[native]] [[West]] Virginian. I'm [[old]] enough to [[remember]] when Wordstar on an amber [[screen]] was [[really]] cool, when a [[control]] [[key]] [[really]] [[controlled]] something, and I [[started]] [[working]] with AutoCAD at [[version]] 7/2.5. [[My]] [[current]] [[project]] is is the [[translation]] of architecture-related [[articles]] from the [[French]] Wikipedia to the [[English]] wiki.\n",
      "\n",
      "   Wow, [[real]] [[fucking]] [[great]]. You [[design]] [[buildings]]. Who [[gives]] a [[fuck]], [[honestly]]. I [[swear]], what is it with you people? [[You]] [[fuck]] around with your e-cocks by running around, reversing edits and whatnot. It's really starting to piss me off. Also, West Virginia is a shithole, sorry to tell you. I've driven through many times and was [[NOT]]\n",
      "\n",
      "I've been a Wikipedian [[if]] 22 [[Feb]], 2006, and an [[trustee]] [[as]] 19 [[Janeiro]], 2007.\n",
      "\n",
      "I am an [[engineering]] and a [[aborigines]] [[Occidental]] Virginian. I'm [[eldest]] enough to [[remembrance]] when Wordstar on an amber [[screening]] was [[sincerely]] cool, when a [[supervisor]] [[elham]] [[quite]] [[overseeing]] something, and I [[outset]] [[partnership]] with AutoCAD at [[step]] 7/2.5. [[Months]] [[topical]] [[plan]] is is the [[interpretation]] of architecture-related [[items]] from the [[Spanish]] Wikipedia to the [[Francaise]] wiki.\n",
      "\n",
      "   Wow, [[exact]] [[merde]] [[remarkable]]. You [[constructed]] [[constructed]]. Who [[assigns]] a [[fucking]], [[honourably]]. I [[dedication]], what is it with you people? [[Thyself]] [[sodding]] around with your e-cocks by running around, reversing edits and whatnot. It's really starting to piss me off. Also, West Virginia is a shithole, sorry to tell you. I've driven through many times and was [[ABSENCE]]\n",
      "\n",
      "\n"
     ]
    },
    {
     "name": "stderr",
     "output_type": "stream",
     "text": [
      "\n",
      "\n",
      "[Succeeded / Failed / Skipped / Total] 45 / 30 / 1 / 76:   8%|▊         | 77/1000 [04:39<55:53,  3.63s/it]\u001b[A\u001b[A\n",
      "\n",
      "[Succeeded / Failed / Skipped / Total] 46 / 30 / 1 / 77:   8%|▊         | 77/1000 [04:39<55:53,  3.63s/it]\u001b[A\u001b[A"
     ]
    },
    {
     "name": "stdout",
     "output_type": "stream",
     "text": [
      "--------------------------------------------- Result 77 ---------------------------------------------\n",
      "[[1 (73%)]] --> [[0 (50%)]]\n",
      "\n",
      "I,[[m]] the [[bane]] of your [[existence]]!!! \n",
      "\n",
      "[[Hey]] Gaashoo, I'm back again to [[pester]] you and only you [[buddy]]. [[It]] [[makes]] my [[day]] [[knowing]] that I'm [[messing]] up some of the [[crap]] that you [[do]] on [[Wikipedia]]. I [[will]] [[continue]] harrassing you [[forever]]. [[Your]] buddy, JJonz.\n",
      "\n",
      "I,[[meters]] the [[portent]] of your [[presence]]!!! \n",
      "\n",
      "[[Greetings]] Gaashoo, I'm back again to [[bothering]] you and only you [[guys]]. [[He]] [[contributed]] my [[today]] [[grateful]] that I'm [[afar]] up some of the [[horseshit]] that you [[accomplished]] on [[Wiki]]. I [[dedication]] [[steady]] harrassing you [[steadily]]. [[Voss]] buddy, JJonz.\n",
      "\n",
      "\n"
     ]
    },
    {
     "name": "stderr",
     "output_type": "stream",
     "text": [
      "\n",
      "\n",
      "[Succeeded / Failed / Skipped / Total] 46 / 30 / 1 / 77:   8%|▊         | 78/1000 [04:41<55:27,  3.61s/it]\u001b[A\u001b[A\n",
      "\n",
      "[Succeeded / Failed / Skipped / Total] 47 / 30 / 1 / 78:   8%|▊         | 78/1000 [04:41<55:28,  3.61s/it]\u001b[A\u001b[A"
     ]
    },
    {
     "name": "stdout",
     "output_type": "stream",
     "text": [
      "--------------------------------------------- Result 78 ---------------------------------------------\n",
      "[[1 (73%)]] --> [[0 (50%)]]\n",
      "\n",
      "[[This]] is like [[trying]] to [[say]] that the word niggardly is [[offensive]]. [[Get]] over yourself and [[stop]] [[trying]] to mistranslate to make some [[racist]] point.\n",
      "\n",
      "[[These]] is like [[endeavours]] to [[affirming]] that the word niggardly is [[disagreeable]]. [[Achieved]] over yourself and [[braking]] [[tends]] to mistranslate to make some [[ethnicity]] point.\n",
      "\n",
      "\n"
     ]
    },
    {
     "name": "stderr",
     "output_type": "stream",
     "text": [
      "\n",
      "\n",
      "[Succeeded / Failed / Skipped / Total] 47 / 30 / 1 / 78:   8%|▊         | 79/1000 [05:10<1:00:21,  3.93s/it]\u001b[A\u001b[A\n",
      "\n",
      "[Succeeded / Failed / Skipped / Total] 47 / 31 / 1 / 79:   8%|▊         | 79/1000 [05:10<1:00:21,  3.93s/it]\u001b[A\u001b[A"
     ]
    },
    {
     "name": "stdout",
     "output_type": "stream",
     "text": [
      "--------------------------------------------- Result 79 ---------------------------------------------\n",
      "[[1 (74%)]] --> [[[FAILED]]]\n",
      "\n",
      "\"\n",
      "What a pile of shit. You completely ignore a massive violation of WB:BLPCRIME while you go on holiday. You, Wales, are one special piece of shit. Magnotta's prospective defence team are having wet dreams about wikipedia. There can be no fair trial given the article you have approved.You are a fucking idiot. When politicians come calling at your door complaining at {{WP:BLP]], you collapse like a wet kleenex in a mild breeze. You should be ashamed of yourself. But perhaps it is more important to you that people like Malleus are pursued for calling cunts \"\"cunts\"\". If you allow this massive violation of WP:BLPCRIME to pass, then you are  patently a media-whoring cunt yourself. This stinks, Wales. You stink, by association. Fuck you and your warped concept of an \"\"encyclopedia\"\". Chan \"\n",
      "\n",
      "\n"
     ]
    },
    {
     "name": "stderr",
     "output_type": "stream",
     "text": [
      "\n",
      "\n",
      "[Succeeded / Failed / Skipped / Total] 47 / 31 / 1 / 79:   8%|▊         | 80/1000 [05:12<59:56,  3.91s/it]  \u001b[A\u001b[A\n",
      "\n",
      "[Succeeded / Failed / Skipped / Total] 48 / 31 / 1 / 80:   8%|▊         | 80/1000 [05:12<59:57,  3.91s/it]\u001b[A\u001b[A"
     ]
    },
    {
     "name": "stdout",
     "output_type": "stream",
     "text": [
      "--------------------------------------------- Result 80 ---------------------------------------------\n",
      "[[1 (74%)]] --> [[0 (50%)]]\n",
      "\n",
      "I [[think]] mucha lucha is the most [[homosexual]] show i've ever [[witnessed]] in my life. Yep, even more than Borat. I mean, who in the [[right]] [[mind]] would [[want]] to [[watch]] a bunch of [[beaners]] wrestle? What the [[fuck]] is that.\n",
      "\n",
      "I [[envision]] mucha lucha is the most [[gai]] show i've ever [[observed]] in my life. Yep, even more than Borat. I mean, who in the [[appropriately]] [[insight]] would [[strives]] to [[observing]] a bunch of [[coloreds]] wrestle? What the [[gorram]] is that.\n",
      "\n",
      "\n"
     ]
    },
    {
     "name": "stderr",
     "output_type": "stream",
     "text": [
      "\n",
      "\n",
      "[Succeeded / Failed / Skipped / Total] 48 / 31 / 1 / 80:   8%|▊         | 81/1000 [05:13<59:11,  3.86s/it]\u001b[A\u001b[A\n",
      "\n",
      "[Succeeded / Failed / Skipped / Total] 48 / 32 / 1 / 81:   8%|▊         | 81/1000 [05:13<59:11,  3.86s/it]\u001b[A\u001b[A"
     ]
    },
    {
     "name": "stdout",
     "output_type": "stream",
     "text": [
      "--------------------------------------------- Result 81 ---------------------------------------------\n",
      "[[1 (75%)]] --> [[[FAILED]]]\n",
      "\n",
      "Ur Mom Kicks Skibbles\n",
      "\n",
      "\n"
     ]
    },
    {
     "name": "stderr",
     "output_type": "stream",
     "text": [
      "\n",
      "\n",
      "[Succeeded / Failed / Skipped / Total] 48 / 32 / 1 / 81:   8%|▊         | 82/1000 [05:13<58:27,  3.82s/it]\u001b[A\u001b[A\n",
      "\n",
      "[Succeeded / Failed / Skipped / Total] 49 / 32 / 1 / 82:   8%|▊         | 82/1000 [05:13<58:27,  3.82s/it]\u001b[A\u001b[A"
     ]
    },
    {
     "name": "stdout",
     "output_type": "stream",
     "text": [
      "--------------------------------------------- Result 82 ---------------------------------------------\n",
      "[[1 (73%)]] --> [[0 (50%)]]\n",
      "\n",
      "I'm not on a Windows computer. [[Hate]] them, as a matter of fact. .  fys aym.\n",
      "\n",
      "I'm not on a Windows computer. [[Hatin]] them, as a matter of fact. .  fys aym.\n",
      "\n",
      "\n"
     ]
    },
    {
     "name": "stderr",
     "output_type": "stream",
     "text": [
      "\n",
      "\n",
      "[Succeeded / Failed / Skipped / Total] 49 / 32 / 1 / 82:   8%|▊         | 83/1000 [05:13<57:47,  3.78s/it]\u001b[A\u001b[A\n",
      "\n",
      "[Succeeded / Failed / Skipped / Total] 50 / 32 / 1 / 83:   8%|▊         | 83/1000 [05:13<57:47,  3.78s/it]\u001b[A\u001b[A"
     ]
    },
    {
     "name": "stdout",
     "output_type": "stream",
     "text": [
      "--------------------------------------------- Result 83 ---------------------------------------------\n",
      "[[1 (73%)]] --> [[0 (51%)]]\n",
      "\n",
      "hi,[[idiot]], why are you delate my talking, just [[come]] out [[say]]\n",
      "\n",
      "hi,[[nincompoop]], why are you delate my talking, just [[forthcoming]] out [[affirming]]\n",
      "\n",
      "\n"
     ]
    },
    {
     "name": "stderr",
     "output_type": "stream",
     "text": [
      "\n",
      "\n",
      "[Succeeded / Failed / Skipped / Total] 50 / 32 / 1 / 83:   8%|▊         | 84/1000 [05:14<57:10,  3.75s/it]\u001b[A\u001b[A\n",
      "\n",
      "[Succeeded / Failed / Skipped / Total] 51 / 32 / 1 / 84:   8%|▊         | 84/1000 [05:14<57:11,  3.75s/it]\u001b[A\u001b[A"
     ]
    },
    {
     "name": "stdout",
     "output_type": "stream",
     "text": [
      "--------------------------------------------- Result 84 ---------------------------------------------\n",
      "[[1 (73%)]] --> [[0 (51%)]]\n",
      "\n",
      "I would also [[like]] to [[say]] \n",
      "\n",
      "that not only are you a [[masturbate]], but you are also [[gay]] [[lol]]\n",
      "\n",
      "I would also [[enjoyed]] to [[indicate]] \n",
      "\n",
      "that not only are you a [[pleasuring]], but you are also [[gai]] [[sooo]]\n",
      "\n",
      "\n"
     ]
    },
    {
     "name": "stderr",
     "output_type": "stream",
     "text": [
      "\n",
      "\n",
      "[Succeeded / Failed / Skipped / Total] 51 / 32 / 1 / 84:   8%|▊         | 85/1000 [05:15<56:31,  3.71s/it]\u001b[A\u001b[A\n",
      "\n",
      "[Succeeded / Failed / Skipped / Total] 51 / 33 / 1 / 85:   8%|▊         | 85/1000 [05:15<56:31,  3.71s/it]\u001b[A\u001b[A"
     ]
    },
    {
     "name": "stdout",
     "output_type": "stream",
     "text": [
      "--------------------------------------------- Result 85 ---------------------------------------------\n",
      "[[1 (73%)]] --> [[[FAILED]]]\n",
      "\n",
      "fuck all u weak ass niggaz\n",
      "\n",
      "\n"
     ]
    },
    {
     "name": "stderr",
     "output_type": "stream",
     "text": [
      "\n",
      "\n",
      "[Succeeded / Failed / Skipped / Total] 51 / 33 / 1 / 85:   9%|▊         | 86/1000 [05:22<57:07,  3.75s/it]\u001b[A\u001b[A\n",
      "\n",
      "[Succeeded / Failed / Skipped / Total] 51 / 34 / 1 / 86:   9%|▊         | 86/1000 [05:22<57:07,  3.75s/it]\u001b[A\u001b[A"
     ]
    },
    {
     "name": "stdout",
     "output_type": "stream",
     "text": [
      "--------------------------------------------- Result 86 ---------------------------------------------\n",
      "[[1 (73%)]] --> [[[FAILED]]]\n",
      "\n",
      "Gareth Hughes you are a racist. PLEASE STOP MAKING UP IDENTITIES FOR THE ASSYRIAN PEOPLE.. ASSYRIANS are ASSYRIAN.. IN CASE YOU ARE WONDERING YOU RACIST I AM A JACOBITE ASSYRIAN. YOU ARE NO BETTER THAN HITLER WHO TRIED WIPING OUT THE JEWS.\n",
      "\n",
      "\n"
     ]
    },
    {
     "name": "stderr",
     "output_type": "stream",
     "text": [
      "\n",
      "\n",
      "[Succeeded / Failed / Skipped / Total] 51 / 34 / 1 / 86:   9%|▊         | 87/1000 [05:23<56:37,  3.72s/it]\u001b[A\u001b[A\n",
      "\n",
      "[Succeeded / Failed / Skipped / Total] 51 / 35 / 1 / 87:   9%|▊         | 87/1000 [05:23<56:37,  3.72s/it]\u001b[A\u001b[A"
     ]
    },
    {
     "name": "stdout",
     "output_type": "stream",
     "text": [
      "--------------------------------------------- Result 87 ---------------------------------------------\n",
      "[[1 (74%)]] --> [[[FAILED]]]\n",
      "\n",
      "Hello, you disgusting transsexual \n",
      "\n",
      "You are a grotesque blight upon the earth. Please kill yourself.\n",
      "\n",
      "\n"
     ]
    },
    {
     "name": "stderr",
     "output_type": "stream",
     "text": [
      "\n",
      "\n",
      "[Succeeded / Failed / Skipped / Total] 51 / 35 / 1 / 87:   9%|▉         | 88/1000 [05:24<56:01,  3.69s/it]\u001b[A\u001b[A\n",
      "\n",
      "[Succeeded / Failed / Skipped / Total] 52 / 35 / 1 / 88:   9%|▉         | 88/1000 [05:24<56:02,  3.69s/it]\u001b[A\u001b[A"
     ]
    },
    {
     "name": "stdout",
     "output_type": "stream",
     "text": [
      "--------------------------------------------- Result 88 ---------------------------------------------\n",
      "[[1 (67%)]] --> [[0 (50%)]]\n",
      "\n",
      "WHY DID [[YOU]] [[DELETE]] AFROJACK? \n",
      "\n",
      "With the afros and the jackos and the [[ha]] [[ha]] ha.\n",
      "\n",
      "WHY DID [[ERE]] [[ERADICATING]] AFROJACK? \n",
      "\n",
      "With the afros and the jackos and the [[haya]] [[ai]] ha.\n",
      "\n",
      "\n"
     ]
    },
    {
     "name": "stderr",
     "output_type": "stream",
     "text": [
      "\n",
      "\n",
      "[Succeeded / Failed / Skipped / Total] 52 / 35 / 1 / 88:   9%|▉         | 89/1000 [05:25<55:35,  3.66s/it]\u001b[A\u001b[A\n",
      "\n",
      "[Succeeded / Failed / Skipped / Total] 52 / 36 / 1 / 89:   9%|▉         | 89/1000 [05:25<55:35,  3.66s/it]\u001b[A\u001b[A"
     ]
    },
    {
     "name": "stdout",
     "output_type": "stream",
     "text": [
      "--------------------------------------------- Result 89 ---------------------------------------------\n",
      "[[1 (73%)]] --> [[[FAILED]]]\n",
      "\n",
      "JERK ASS!!! WHY DID YOU DELETE MY HELPFUL INFORMATION?\n",
      "\n",
      "\n"
     ]
    },
    {
     "name": "stderr",
     "output_type": "stream",
     "text": [
      "\n",
      "\n",
      "[Succeeded / Failed / Skipped / Total] 52 / 36 / 1 / 89:   9%|▉         | 90/1000 [05:26<55:02,  3.63s/it]\u001b[A\u001b[A\n",
      "\n",
      "[Succeeded / Failed / Skipped / Total] 53 / 36 / 1 / 90:   9%|▉         | 90/1000 [05:26<55:03,  3.63s/it]\u001b[A\u001b[A"
     ]
    },
    {
     "name": "stdout",
     "output_type": "stream",
     "text": [
      "--------------------------------------------- Result 90 ---------------------------------------------\n",
      "[[1 (74%)]] --> [[0 (51%)]]\n",
      "\n",
      "i [[look]] forward to [[fucking]] you up the [[arse]] as [[well]]\n",
      "\n",
      "i [[sees]] forward to [[accursed]] you up the [[banging]] as [[appropriately]]\n",
      "\n",
      "\n"
     ]
    },
    {
     "name": "stderr",
     "output_type": "stream",
     "text": [
      "\n",
      "\n",
      "[Succeeded / Failed / Skipped / Total] 53 / 36 / 1 / 90:   9%|▉         | 91/1000 [05:28<54:43,  3.61s/it]\u001b[A\u001b[A\n",
      "\n",
      "[Succeeded / Failed / Skipped / Total] 54 / 36 / 1 / 91:   9%|▉         | 91/1000 [05:28<54:44,  3.61s/it]\u001b[A\u001b[A"
     ]
    },
    {
     "name": "stdout",
     "output_type": "stream",
     "text": [
      "--------------------------------------------- Result 91 ---------------------------------------------\n",
      "[[1 (73%)]] --> [[0 (51%)]]\n",
      "\n",
      "Chuck, [[want]] to run for RFA \n",
      "\n",
      "RFA is [[dying]] [[because]] of all the harassment and bad behavior. [[Want]] to run for RFA and show up those [[idiots]] from [[years]] ago? It would [[be]] [[hilarious]] if you [[did]].\n",
      "\n",
      "Chuck, [[willingness]] to run for RFA \n",
      "\n",
      "RFA is [[fatality]] [[since]] of all the harassment and bad behavior. [[Hoped]] to run for RFA and show up those [[nincompoops]] from [[seniority]] ago? It would [[arrive]] [[funny]] if you [[could]].\n",
      "\n",
      "\n"
     ]
    },
    {
     "name": "stderr",
     "output_type": "stream",
     "text": [
      "\n",
      "\n",
      "[Succeeded / Failed / Skipped / Total] 54 / 36 / 1 / 91:   9%|▉         | 92/1000 [05:29<54:08,  3.58s/it]\u001b[A\u001b[A\n",
      "\n",
      "[Succeeded / Failed / Skipped / Total] 54 / 37 / 1 / 92:   9%|▉         | 92/1000 [05:29<54:08,  3.58s/it]\u001b[A\u001b[A"
     ]
    },
    {
     "name": "stdout",
     "output_type": "stream",
     "text": [
      "--------------------------------------------- Result 92 ---------------------------------------------\n",
      "[[1 (73%)]] --> [[[FAILED]]]\n",
      "\n",
      "you idiotic dung whore\n",
      "\n",
      "\n"
     ]
    },
    {
     "name": "stderr",
     "output_type": "stream",
     "text": [
      "\n",
      "\n",
      "[Succeeded / Failed / Skipped / Total] 54 / 37 / 1 / 92:   9%|▉         | 93/1000 [05:30<53:45,  3.56s/it]\u001b[A\u001b[A\n",
      "\n",
      "[Succeeded / Failed / Skipped / Total] 54 / 38 / 1 / 93:   9%|▉         | 93/1000 [05:30<53:45,  3.56s/it]\u001b[A\u001b[A"
     ]
    },
    {
     "name": "stdout",
     "output_type": "stream",
     "text": [
      "--------------------------------------------- Result 93 ---------------------------------------------\n",
      "[[1 (73%)]] --> [[[FAILED]]]\n",
      "\n",
      "You silly rabbit.. But I've begun to notice how it's sometimes annoying to see how limited the Wikipedia software is.\n",
      "\n",
      "\n"
     ]
    },
    {
     "name": "stderr",
     "output_type": "stream",
     "text": [
      "\n",
      "\n",
      "[Succeeded / Failed / Skipped / Total] 54 / 38 / 1 / 93:   9%|▉         | 94/1000 [05:32<53:24,  3.54s/it]\u001b[A\u001b[A\n",
      "\n",
      "[Succeeded / Failed / Skipped / Total] 55 / 38 / 1 / 94:   9%|▉         | 94/1000 [05:32<53:24,  3.54s/it]\u001b[A\u001b[A"
     ]
    },
    {
     "name": "stdout",
     "output_type": "stream",
     "text": [
      "--------------------------------------------- Result 94 ---------------------------------------------\n",
      "[[1 (73%)]] --> [[0 (50%)]]\n",
      "\n",
      "You are [[crazy]] [[man]]. You [[keep]] [[deleting]] my [[posts]]; no [[admin]] is [[like]] that. You are no [[admin]]. Wow...\n",
      "\n",
      "You are [[loca]] [[hombre]]. You [[sustained]] [[clears]] my [[opinions]]; no [[rector]] is [[love]] that. You are no [[stewardship]]. Wow...\n",
      "\n",
      "\n"
     ]
    },
    {
     "name": "stderr",
     "output_type": "stream",
     "text": [
      "\n",
      "\n",
      "[Succeeded / Failed / Skipped / Total] 55 / 38 / 1 / 94:  10%|▉         | 95/1000 [05:35<53:12,  3.53s/it]\u001b[A\u001b[A\n",
      "\n",
      "[Succeeded / Failed / Skipped / Total] 56 / 38 / 1 / 95:  10%|▉         | 95/1000 [05:35<53:12,  3.53s/it]\u001b[A\u001b[A"
     ]
    },
    {
     "name": "stdout",
     "output_type": "stream",
     "text": [
      "--------------------------------------------- Result 95 ---------------------------------------------\n",
      "[[1 (70%)]] --> [[0 (51%)]]\n",
      "\n",
      "LOTHAT [[VON]] TROTHA [[WAS]] [[POISONED]], THAT'S [[WHAT]] CONTAMINATION [[IS]]! [[YOU]] [[GET]] [[TYPHOID]] [[FEVER]] ONLY [[THROUGH]] [[POISONED]] [[FOOD]] [[OR]] [[DRINK]]!\n",
      "\n",
      "LOTHAT [[YUTAKA]] TROTHA [[ACCOUNTED]] [[TOXICITY]], THAT'S [[WHICHEVER]] CONTAMINATION [[ASSUMES]]! [[ERE]] [[PERCEIVES]] [[CHOLERA]] [[CLASSIC]] ONLY [[WITHIN]] [[TOXICITY]] [[NUTRITION]] [[EITHER]] [[SIPPING]]!\n",
      "\n",
      "\n"
     ]
    },
    {
     "name": "stderr",
     "output_type": "stream",
     "text": [
      "\n",
      "\n",
      "[Succeeded / Failed / Skipped / Total] 56 / 38 / 1 / 95:  10%|▉         | 96/1000 [05:35<52:41,  3.50s/it]\u001b[A\u001b[A\n",
      "\n",
      "[Succeeded / Failed / Skipped / Total] 57 / 38 / 1 / 96:  10%|▉         | 96/1000 [05:35<52:41,  3.50s/it]\u001b[A\u001b[A"
     ]
    },
    {
     "name": "stdout",
     "output_type": "stream",
     "text": [
      "--------------------------------------------- Result 96 ---------------------------------------------\n",
      "[[1 (74%)]] --> [[0 (50%)]]\n",
      "\n",
      "Hi, I edited the Preston Brooks page. [[Get]] off of wikipedia now. \n",
      "76.119.30.230  \n",
      "Not an [[idiot]] (unlike you)\n",
      "\n",
      "Hi, I edited the Preston Brooks page. [[Perceives]] off of wikipedia now. \n",
      "76.119.30.230  \n",
      "Not an [[dunce]] (unlike you)\n",
      "\n",
      "\n"
     ]
    },
    {
     "name": "stderr",
     "output_type": "stream",
     "text": [
      "\n",
      "\n",
      "[Succeeded / Failed / Skipped / Total] 57 / 38 / 1 / 96:  10%|▉         | 97/1000 [05:49<54:15,  3.60s/it]\u001b[A\u001b[A\n",
      "\n",
      "[Succeeded / Failed / Skipped / Total] 58 / 38 / 1 / 97:  10%|▉         | 97/1000 [05:49<54:15,  3.61s/it]\u001b[A\u001b[A"
     ]
    },
    {
     "name": "stdout",
     "output_type": "stream",
     "text": [
      "--------------------------------------------- Result 97 ---------------------------------------------\n",
      "[[1 (73%)]] --> [[0 (50%)]]\n",
      "\n",
      "How [[Stupid]] Are You?\n",
      "[[Once]] again you have shown the [[wiki]] community how undoubtedly [[stupid]] you are with your [[incompetent]] remarks. What is your [[problem]] if [[youre]] not [[happy]] with your [[life]] I [[suggest]] you [[jump]] off a cliff and [[do]] [[us]] all a [[favor]]. You [[lack]] [[education]], [[morals]], [[respect]], [[civility]], [[understanding]] of [[complex]] [[issues]], [[sensitive]] [[topics]]; if you [[continue]] to [[act]] the [[way]] you are on [[many]] [[articles]] [[youre]] [[editing]] and [[commenting]] on I [[will]] [[gather]] a [[group]] of admins to [[ban]] your [[account]] indefinately due to your [[high]] [[level]] of negligence.130.17.92.17\n",
      "\n",
      "How [[Farcical]] Are You?\n",
      "[[However]] again you have shown the [[wikipedia]] community how undoubtedly [[ridiculous]] you are with your [[inadequate]] remarks. What is your [[difficulties]] if [[becasue]] not [[joyful]] with your [[duration]] I [[indicating]] you [[leapt]] off a cliff and [[could]] [[we]] all a [[favoured]]. You [[misses]] [[instruction]], [[morale]], [[honour]], [[civilisation]], [[realised]] of [[tough]] [[considerations]], [[responsive]] [[themes]]; if you [[remained]] to [[ley]] the [[approach]] you are on [[divergent]] [[provision]] [[youll]] [[revision]] and [[relate]] on I [[ambition]] [[perceive]] a [[organisations]] of admins to [[prohibiting]] your [[accountants]] indefinately due to your [[tertiary]] [[scaling]] of negligence.130.17.92.17\n",
      "\n",
      "\n"
     ]
    },
    {
     "name": "stderr",
     "output_type": "stream",
     "text": [
      "\n",
      "\n",
      "[Succeeded / Failed / Skipped / Total] 58 / 38 / 1 / 97:  10%|▉         | 98/1000 [05:58<54:55,  3.65s/it]\u001b[A\u001b[A\n",
      "\n",
      "[Succeeded / Failed / Skipped / Total] 58 / 39 / 1 / 98:  10%|▉         | 98/1000 [05:58<54:55,  3.65s/it]\u001b[A\u001b[A"
     ]
    },
    {
     "name": "stdout",
     "output_type": "stream",
     "text": [
      "--------------------------------------------- Result 98 ---------------------------------------------\n",
      "[[1 (73%)]] --> [[[FAILED]]]\n",
      "\n",
      "Hey , you are a chicken shit coward. I told you that everytime you had one of your administrator buddies block me, I would quickly be back on with a new IP address editing your vandalism of this article. I MEANT IT!!! Why don't you stop masturbating to wikipedia and get a real life? I told you that you don't know who you're fucking with!!!\n",
      "\n",
      "\n"
     ]
    },
    {
     "name": "stderr",
     "output_type": "stream",
     "text": [
      "\n",
      "\n",
      "[Succeeded / Failed / Skipped / Total] 58 / 39 / 1 / 98:  10%|▉         | 99/1000 [05:59<54:30,  3.63s/it]\u001b[A\u001b[A\n",
      "\n",
      "[Succeeded / Failed / Skipped / Total] 58 / 40 / 1 / 99:  10%|▉         | 99/1000 [05:59<54:30,  3.63s/it]\u001b[A\u001b[A"
     ]
    },
    {
     "name": "stdout",
     "output_type": "stream",
     "text": [
      "--------------------------------------------- Result 99 ---------------------------------------------\n",
      "[[1 (73%)]] --> [[[FAILED]]]\n",
      "\n",
      "you are still a cock sucking FAG! \n",
      "\n",
      "you are still a cock sucking FAG!\n",
      "\n",
      "\n"
     ]
    },
    {
     "name": "stderr",
     "output_type": "stream",
     "text": [
      "\n",
      "\n",
      "[Succeeded / Failed / Skipped / Total] 58 / 40 / 1 / 99:  10%|█         | 100/1000 [06:22<57:26,  3.83s/it]\u001b[A\u001b[A\n",
      "\n",
      "[Succeeded / Failed / Skipped / Total] 58 / 41 / 1 / 100:  10%|█         | 100/1000 [06:22<57:26,  3.83s/it]\u001b[A\u001b[A"
     ]
    },
    {
     "name": "stdout",
     "output_type": "stream",
     "text": [
      "--------------------------------------------- Result 100 ---------------------------------------------\n",
      "[[1 (71%)]] --> [[[FAILED]]]\n",
      "\n",
      "\"\n",
      "http://en.wikipedia.org/w/index.php?title=Wikipedia:Sockpuppet_investigations/FaheyUSMC&diff;=prev&oldid;=451979799 \n",
      "Look Toddst1, you annoying, rude, uncivil bully, I was referring to THE DATING GUY TALK PAGE that I was finally able to read and study the history of after Dragonfly6-7 put it back in viewable status. I can see everything you and your friends did there. I can see the nice neat note from Agent86 where he says he wouldn't go near it any more because of how you people behave. This is not an \"\"admission of guilt\"\", this is proof that I went back and read and saw all the shenanigans you were a part of. What is wrong with you that you keep having to hound and harass me? Am I Prisoner 24601 to your Inspector Javert? 76.31.236.91  \"\n",
      "\n",
      "\n"
     ]
    },
    {
     "name": "stderr",
     "output_type": "stream",
     "text": [
      "\n",
      "\n",
      "[Succeeded / Failed / Skipped / Total] 58 / 41 / 1 / 100:  10%|█         | 101/1000 [06:23<56:55,  3.80s/it]\u001b[A\u001b[A\n",
      "\n",
      "[Succeeded / Failed / Skipped / Total] 59 / 41 / 1 / 101:  10%|█         | 101/1000 [06:23<56:55,  3.80s/it]\u001b[A\u001b[A"
     ]
    },
    {
     "name": "stdout",
     "output_type": "stream",
     "text": [
      "--------------------------------------------- Result 101 ---------------------------------------------\n",
      "[[1 (74%)]] --> [[0 (51%)]]\n",
      "\n",
      "I [[agree]]. This [[crazy]] [[bastard]] should [[be]] punished.84.134.57.219\n",
      "\n",
      "I [[acknowledged]]. This [[loca]] [[blackguard]] should [[ai]] punished.84.134.57.219\n",
      "\n",
      "\n"
     ]
    },
    {
     "name": "stderr",
     "output_type": "stream",
     "text": [
      "\n",
      "\n",
      "[Succeeded / Failed / Skipped / Total] 59 / 41 / 1 / 101:  10%|█         | 102/1000 [06:24<56:21,  3.77s/it]\u001b[A\u001b[A\n",
      "\n",
      "[Succeeded / Failed / Skipped / Total] 60 / 41 / 1 / 102:  10%|█         | 102/1000 [06:24<56:21,  3.77s/it]\u001b[A\u001b[A"
     ]
    },
    {
     "name": "stdout",
     "output_type": "stream",
     "text": [
      "--------------------------------------------- Result 102 ---------------------------------------------\n",
      "[[1 (71%)]] --> [[0 (50%)]]\n",
      "\n",
      "yes, yes, thank you. good to know, but who decides what vandalism is?  Does some [[stupid]] commie [[fag]] named redvers/\n",
      "\n",
      "yes, yes, thank you. good to know, but who decides what vandalism is?  Does some [[nonsensical]] commie [[fags]] named redvers/\n",
      "\n",
      "\n"
     ]
    },
    {
     "name": "stderr",
     "output_type": "stream",
     "text": [
      "\n",
      "\n",
      "[Succeeded / Failed / Skipped / Total] 60 / 41 / 1 / 102:  10%|█         | 103/1000 [06:27<56:11,  3.76s/it]\u001b[A\u001b[A\n",
      "\n",
      "[Succeeded / Failed / Skipped / Total] 61 / 41 / 1 / 103:  10%|█         | 103/1000 [06:27<56:12,  3.76s/it]\u001b[A\u001b[A"
     ]
    },
    {
     "name": "stdout",
     "output_type": "stream",
     "text": [
      "--------------------------------------------- Result 103 ---------------------------------------------\n",
      "[[1 (73%)]] --> [[0 (50%)]]\n",
      "\n",
      "[[whosoever]] [[has]] mentioned yadavs as shudras is [[person]] with limited knowledge and mind filled with [[shit]].....you are mentioning shudras to caste who has had glorious [[history]],do you even know anything bout lord [[krishna]] and his ancestor yadu...yadavs are kshatriyas and if u think tht all this is myth thn you shud know that yadavs ruled the [[india]] upto 1300 contury before mughal [[rule]]...so kindly [[remove]] this shudras [[bullshit]] ..\n",
      "\n",
      "[[each]] [[holds]] mentioned yadavs as shudras is [[personnel]] with limited knowledge and mind filled with [[jeez]].....you are mentioning shudras to caste who has had glorious [[context]],do you even know anything bout lord [[gita]] and his ancestor yadu...yadavs are kshatriyas and if u think tht all this is myth thn you shud know that yadavs ruled the [[indio]] upto 1300 contury before mughal [[primacy]]...so kindly [[withdrawing]] this shudras [[piffle]] ..\n",
      "\n",
      "\n"
     ]
    },
    {
     "name": "stderr",
     "output_type": "stream",
     "text": [
      "\n",
      "\n",
      "[Succeeded / Failed / Skipped / Total] 61 / 41 / 1 / 103:  10%|█         | 104/1000 [06:27<55:38,  3.73s/it]\u001b[A\u001b[A\n",
      "\n",
      "[Succeeded / Failed / Skipped / Total] 62 / 41 / 1 / 104:  10%|█         | 104/1000 [06:27<55:38,  3.73s/it]\u001b[A\u001b[A"
     ]
    },
    {
     "name": "stdout",
     "output_type": "stream",
     "text": [
      "--------------------------------------------- Result 104 ---------------------------------------------\n",
      "[[1 (72%)]] --> [[0 (50%)]]\n",
      "\n",
      "User:Legacypac is the most [[evil]] wikipedian in the world I've ever seen.\n",
      "\n",
      "User:Legacypac is the most [[iniquity]] wikipedian in the world I've ever seen.\n",
      "\n",
      "\n"
     ]
    },
    {
     "name": "stderr",
     "output_type": "stream",
     "text": [
      "\n",
      "\n",
      "[Succeeded / Failed / Skipped / Total] 62 / 41 / 1 / 104:  10%|█         | 105/1000 [06:31<55:37,  3.73s/it]\u001b[A\u001b[A\n",
      "\n",
      "[Succeeded / Failed / Skipped / Total] 62 / 42 / 1 / 105:  10%|█         | 105/1000 [06:31<55:37,  3.73s/it]\u001b[A\u001b[A"
     ]
    },
    {
     "name": "stdout",
     "output_type": "stream",
     "text": [
      "--------------------------------------------- Result 105 ---------------------------------------------\n",
      "[[1 (73%)]] --> [[[FAILED]]]\n",
      "\n",
      "Go fuck yourself you stupid bitch go do something better with your life instead of sitting the whole day behind your computer and 'editing' go do something useful and stop wasting power that way you can help greenpeace on wikipedia.\n",
      "\n",
      "\n"
     ]
    },
    {
     "name": "stderr",
     "output_type": "stream",
     "text": [
      "\n",
      "\n",
      "[Succeeded / Failed / Skipped / Total] 62 / 42 / 1 / 105:  11%|█         | 106/1000 [06:36<55:39,  3.74s/it]\u001b[A\u001b[A\n",
      "\n",
      "[Succeeded / Failed / Skipped / Total] 63 / 42 / 1 / 106:  11%|█         | 106/1000 [06:36<55:40,  3.74s/it]\u001b[A\u001b[A"
     ]
    },
    {
     "name": "stdout",
     "output_type": "stream",
     "text": [
      "--------------------------------------------- Result 106 ---------------------------------------------\n",
      "[[1 (68%)]] --> [[0 (50%)]]\n",
      "\n",
      "Re Vandalism. . . .  that is because the [[user]] Aussie Legend is [[stalking]] me and keeps removing a local football [[team]] from the page of its [[home]] [[town]].He is a serial [[pest]] and is now [[starting]] on my [[own]] [[personal]] [[user]] page. What is [[good]] for the goose is [[good]] for the gander. I don't [[care]] if I [[get]] deleted if this thing is [[full]] of bullies like this [[piece]] of work\n",
      "\n",
      "Re Vandalism. . . .  that is because the [[buyers]] Aussie Legend is [[harassing]] me and keeps removing a local football [[grouping]] from the page of its [[reception]] [[linn]].He is a serial [[infest]] and is now [[commenced]] on my [[respective]] [[individual]] [[guests]] page. What is [[beneficial]] for the goose is [[satisfactory]] for the gander. I don't [[compassionate]] if I [[recieve]] deleted if this thing is [[plenary]] of bullies like this [[fragment]] of work\n",
      "\n",
      "\n"
     ]
    },
    {
     "name": "stderr",
     "output_type": "stream",
     "text": [
      "\n",
      "\n",
      "[Succeeded / Failed / Skipped / Total] 63 / 42 / 1 / 106:  11%|█         | 107/1000 [06:40<55:39,  3.74s/it]\u001b[A\u001b[A\n",
      "\n",
      "[Succeeded / Failed / Skipped / Total] 63 / 43 / 1 / 107:  11%|█         | 107/1000 [06:40<55:39,  3.74s/it]\u001b[A\u001b[A"
     ]
    },
    {
     "name": "stdout",
     "output_type": "stream",
     "text": [
      "--------------------------------------------- Result 107 ---------------------------------------------\n",
      "[[1 (74%)]] --> [[[FAILED]]]\n",
      "\n",
      "CardinalDanFUCK YOU FAGGOT NIGGER CUNT LICKING CHINK DIPFUCKING SHIT NIGGER FACE, GET A LIFE OTHER THEN DELETING SHIT OFF WIKI YOU NERD FAGGOT\n",
      "\n",
      "\n"
     ]
    },
    {
     "name": "stderr",
     "output_type": "stream",
     "text": [
      "\n",
      "\n",
      "[Succeeded / Failed / Skipped / Total] 63 / 43 / 1 / 107:  11%|█         | 108/1000 [06:40<55:09,  3.71s/it]\u001b[A\u001b[A\n",
      "\n",
      "[Succeeded / Failed / Skipped / Total] 64 / 43 / 1 / 108:  11%|█         | 108/1000 [06:40<55:09,  3.71s/it]\u001b[A\u001b[A"
     ]
    },
    {
     "name": "stdout",
     "output_type": "stream",
     "text": [
      "--------------------------------------------- Result 108 ---------------------------------------------\n",
      "[[1 (72%)]] --> [[0 (51%)]]\n",
      "\n",
      "I suggest we keep it the way it is now. Warmonger and chief terrorist Muhammad ([[shit]] be upon him) would have wanted it that way because he is the one that advocated the terror and murder in the first place. 83.84.46.69\n",
      "\n",
      "I suggest we keep it the way it is now. Warmonger and chief terrorist Muhammad ([[merde]] be upon him) would have wanted it that way because he is the one that advocated the terror and murder in the first place. 83.84.46.69\n",
      "\n",
      "\n"
     ]
    },
    {
     "name": "stderr",
     "output_type": "stream",
     "text": [
      "\n",
      "\n",
      "[Succeeded / Failed / Skipped / Total] 64 / 43 / 1 / 108:  11%|█         | 109/1000 [06:54<56:26,  3.80s/it]\u001b[A\u001b[A\n",
      "\n",
      "[Succeeded / Failed / Skipped / Total] 65 / 43 / 1 / 109:  11%|█         | 109/1000 [06:54<56:26,  3.80s/it]\u001b[A\u001b[A"
     ]
    },
    {
     "name": "stdout",
     "output_type": "stream",
     "text": [
      "--------------------------------------------- Result 109 ---------------------------------------------\n",
      "[[1 (70%)]] --> [[0 (50%)]]\n",
      "\n",
      "\"\n",
      "\n",
      " [[Gotcha]]! \n",
      "\n",
      "An artist who likes using the [[names]] of his creations as his pseudonymns.\n",
      "\n",
      "\"\"...[[Every]] night at the stroke of [[midnight]], the [[master]] [[turns]] into a screaming, [[maniacal]], [[demonic]], [[raging]], bloodlusting [[animal]]!\"\"\n",
      "\n",
      "\"\"And then I [[get]] [[mean]]!\"\" -Vincent [[Price]]\n",
      "\n",
      "You think it's funny? [[Actually]], it's [[sad]]...but that's a concept not part of your [[brain]]...that's [[EVEN]] MORE [[SAD]].\n",
      "\n",
      "Your drawings look [[like]] those of an [[underdeveloped]] [[mind]], like from a [[child]]. It perfectly [[fits]]!! And I also love your friends for having great realism implanted in their small brains: http://www.orionsarm.com/ (ZERO ideas, just describing the real world, that's creative undershit, hahahahaha)\n",
      "\n",
      "You, my dear friend, are genetic crap and you know it. Beside that, I know 7 billions that would love to kill asses like you. Go home and never come back...we won't miss you! Noooo, there is no real love for you, you took the wrong junction at the last galaxy, void-head.\n",
      "\n",
      "So now go f*u*c*k your inborn BLINDERS in front of your head, thanks! 178.197.229.26  \"\n",
      "\n",
      "\"\n",
      "\n",
      " [[Bingo]]! \n",
      "\n",
      "An artist who likes using the [[naming]] of his creations as his pseudonymns.\n",
      "\n",
      "\"\"...[[Aii]] night at the stroke of [[tonight]], the [[skipper]] [[rotated]] into a screaming, [[mischievous]], [[mischievous]], [[devastating]], bloodlusting [[wildlife]]!\"\"\n",
      "\n",
      "\"\"And then I [[learns]] [[signifies]]!\"\" -Vincent [[Award]]\n",
      "\n",
      "You think it's funny? [[Truly]], it's [[unfortunate]]...but that's a concept not part of your [[seepage]]...that's [[WELL]] MORE [[DISAPPOINTING]].\n",
      "\n",
      "Your drawings look [[love]] those of an [[astern]] [[insight]], like from a [[childhood]]. It perfectly [[suited]]!! And I also love your friends for having great realism implanted in their small brains: http://www.orionsarm.com/ (ZERO ideas, just describing the real world, that's creative undershit, hahahahaha)\n",
      "\n",
      "You, my dear friend, are genetic crap and you know it. Beside that, I know 7 billions that would love to kill asses like you. Go home and never come back...we won't miss you! Noooo, there is no real love for you, you took the wrong junction at the last galaxy, void-head.\n",
      "\n",
      "So now go f*u*c*k your inborn BLINDERS in front of your head, thanks! 178.197.229.26  \"\n",
      "\n",
      "\n"
     ]
    },
    {
     "name": "stderr",
     "output_type": "stream",
     "text": [
      "\n",
      "\n",
      "[Succeeded / Failed / Skipped / Total] 65 / 43 / 1 / 109:  11%|█         | 110/1000 [06:55<55:58,  3.77s/it]\u001b[A\u001b[A\n",
      "\n",
      "[Succeeded / Failed / Skipped / Total] 65 / 44 / 1 / 110:  11%|█         | 110/1000 [06:55<55:58,  3.77s/it]\u001b[A\u001b[A"
     ]
    },
    {
     "name": "stdout",
     "output_type": "stream",
     "text": [
      "--------------------------------------------- Result 110 ---------------------------------------------\n",
      "[[1 (74%)]] --> [[[FAILED]]]\n",
      "\n",
      "Nuisance piece of shit, fuck off\n",
      "\n",
      "\n"
     ]
    },
    {
     "name": "stderr",
     "output_type": "stream",
     "text": [
      "\n",
      "\n",
      "[Succeeded / Failed / Skipped / Total] 65 / 44 / 1 / 110:  11%|█         | 111/1000 [06:55<55:28,  3.74s/it]\u001b[A\u001b[A\n",
      "\n",
      "[Succeeded / Failed / Skipped / Total] 66 / 44 / 1 / 111:  11%|█         | 111/1000 [06:55<55:28,  3.74s/it]\u001b[A\u001b[A"
     ]
    },
    {
     "name": "stdout",
     "output_type": "stream",
     "text": [
      "--------------------------------------------- Result 111 ---------------------------------------------\n",
      "[[1 (73%)]] --> [[0 (51%)]]\n",
      "\n",
      "[[Go]] [[fuck]] yourself!... \n",
      "\n",
      "[[Delete]] this!...\n",
      "\n",
      "[[Partir]] [[accursed]] yourself!... \n",
      "\n",
      "[[Extracting]] this!...\n",
      "\n",
      "\n"
     ]
    },
    {
     "name": "stderr",
     "output_type": "stream",
     "text": [
      "\n",
      "\n",
      "[Succeeded / Failed / Skipped / Total] 66 / 44 / 1 / 111:  11%|█         | 112/1000 [06:57<55:13,  3.73s/it]\u001b[A\u001b[A\n",
      "\n",
      "[Succeeded / Failed / Skipped / Total] 66 / 45 / 1 / 112:  11%|█         | 112/1000 [06:57<55:13,  3.73s/it]\u001b[A\u001b[A"
     ]
    },
    {
     "name": "stdout",
     "output_type": "stream",
     "text": [
      "--------------------------------------------- Result 112 ---------------------------------------------\n",
      "[[1 (73%)]] --> [[[FAILED]]]\n",
      "\n",
      "Calling idiots stupid and retarded doesn't qualify as a personal attack because it's true, and the only way you wouldn't know this is because you're stupid and retarded.\n",
      "\n",
      "\n"
     ]
    },
    {
     "name": "stderr",
     "output_type": "stream",
     "text": [
      "\n",
      "\n",
      "[Succeeded / Failed / Skipped / Total] 66 / 45 / 1 / 112:  11%|█▏        | 113/1000 [07:07<55:53,  3.78s/it]\u001b[A\u001b[A\n",
      "\n",
      "[Succeeded / Failed / Skipped / Total] 66 / 46 / 1 / 113:  11%|█▏        | 113/1000 [07:07<55:53,  3.78s/it]\u001b[A\u001b[A"
     ]
    },
    {
     "name": "stdout",
     "output_type": "stream",
     "text": [
      "--------------------------------------------- Result 113 ---------------------------------------------\n",
      "[[1 (73%)]] --> [[[FAILED]]]\n",
      "\n",
      "marc mysterio \n",
      "\n",
      "whatever man... this web site is a fucking joke.. a couple of guys that are not in the music business want to try to tell me or the author of these articles whats a valid chart and what isnt...\n",
      "\n",
      "so do what you want... but this site is FAR from a real encyclopedia since trolls fucking run it based on the deletion of those marc mysterio songs.... total bullshit.\n",
      "\n",
      "\n"
     ]
    },
    {
     "name": "stderr",
     "output_type": "stream",
     "text": [
      "\n",
      "\n",
      "[Succeeded / Failed / Skipped / Total] 66 / 46 / 1 / 113:  11%|█▏        | 114/1000 [07:08<55:32,  3.76s/it]\u001b[A\u001b[A\n",
      "\n",
      "[Succeeded / Failed / Skipped / Total] 66 / 47 / 1 / 114:  11%|█▏        | 114/1000 [07:08<55:32,  3.76s/it]\u001b[A\u001b[A"
     ]
    },
    {
     "name": "stdout",
     "output_type": "stream",
     "text": [
      "--------------------------------------------- Result 114 ---------------------------------------------\n",
      "[[1 (73%)]] --> [[[FAILED]]]\n",
      "\n",
      "Suck it dick face from IP Address: 71.195.241.34 Name: Tyler Age: Go fuck yourself nutsack\n",
      "\n",
      "\n"
     ]
    },
    {
     "name": "stderr",
     "output_type": "stream",
     "text": [
      "\n",
      "\n",
      "[Succeeded / Failed / Skipped / Total] 66 / 47 / 1 / 114:  12%|█▏        | 115/1000 [07:09<55:07,  3.74s/it]\u001b[A\u001b[A\n",
      "\n",
      "[Succeeded / Failed / Skipped / Total] 67 / 47 / 1 / 115:  12%|█▏        | 115/1000 [07:09<55:08,  3.74s/it]\u001b[A\u001b[A"
     ]
    },
    {
     "name": "stdout",
     "output_type": "stream",
     "text": [
      "--------------------------------------------- Result 115 ---------------------------------------------\n",
      "[[1 (73%)]] --> [[0 (51%)]]\n",
      "\n",
      "the [[word]] [[fuck]] \n",
      "\n",
      "i [[dare]] [[someone]] to [[cunt]] howmany times it is used in this [[movie]] i [[mean]]... wow\n",
      "\n",
      "the [[discourses]] [[accursed]] \n",
      "\n",
      "i [[ventured]] [[personality]] to [[twat]] howmany times it is used in this [[film]] i [[implies]]... wow\n",
      "\n",
      "\n"
     ]
    },
    {
     "name": "stderr",
     "output_type": "stream",
     "text": [
      "\n",
      "\n",
      "[Succeeded / Failed / Skipped / Total] 67 / 47 / 1 / 115:  12%|█▏        | 116/1000 [07:10<54:42,  3.71s/it]\u001b[A\u001b[A\n",
      "\n",
      "[Succeeded / Failed / Skipped / Total] 67 / 48 / 1 / 116:  12%|█▏        | 116/1000 [07:10<54:42,  3.71s/it]\u001b[A\u001b[A"
     ]
    },
    {
     "name": "stdout",
     "output_type": "stream",
     "text": [
      "--------------------------------------------- Result 116 ---------------------------------------------\n",
      "[[1 (74%)]] --> [[[FAILED]]]\n",
      "\n",
      "Don't touch my edits, mothafucka. You're just angry cos ur poem sucks.\n",
      "\n",
      "\n"
     ]
    },
    {
     "name": "stderr",
     "output_type": "stream",
     "text": [
      "\n",
      "\n",
      "[Succeeded / Failed / Skipped / Total] 67 / 48 / 1 / 116:  12%|█▏        | 117/1000 [07:13<54:28,  3.70s/it]\u001b[A\u001b[A\n",
      "\n",
      "[Succeeded / Failed / Skipped / Total] 67 / 49 / 1 / 117:  12%|█▏        | 117/1000 [07:13<54:28,  3.70s/it]\u001b[A\u001b[A"
     ]
    },
    {
     "name": "stdout",
     "output_type": "stream",
     "text": [
      "--------------------------------------------- Result 117 ---------------------------------------------\n",
      "[[1 (73%)]] --> [[[FAILED]]]\n",
      "\n",
      "If you think you are clever, you make a big mistake. Go to school, little stupid pig. Wikipedia is not for you, sucker.\n",
      "\n",
      "\n"
     ]
    },
    {
     "name": "stderr",
     "output_type": "stream",
     "text": [
      "\n",
      "\n",
      "[Succeeded / Failed / Skipped / Total] 67 / 49 / 1 / 117:  12%|█▏        | 118/1000 [07:13<54:01,  3.68s/it]\u001b[A\u001b[A\n",
      "\n",
      "[Succeeded / Failed / Skipped / Total] 67 / 50 / 1 / 118:  12%|█▏        | 118/1000 [07:13<54:01,  3.68s/it]\u001b[A\u001b[A"
     ]
    },
    {
     "name": "stdout",
     "output_type": "stream",
     "text": [
      "--------------------------------------------- Result 118 ---------------------------------------------\n",
      "[[1 (74%)]] --> [[[FAILED]]]\n",
      "\n",
      "User:Nat is just a piece of shit, ignore him.\n",
      "\n",
      "\n"
     ]
    },
    {
     "name": "stderr",
     "output_type": "stream",
     "text": [
      "\n",
      "\n",
      "[Succeeded / Failed / Skipped / Total] 67 / 50 / 1 / 118:  12%|█▏        | 119/1000 [07:14<53:39,  3.65s/it]\u001b[A\u001b[A\n",
      "\n",
      "[Succeeded / Failed / Skipped / Total] 67 / 51 / 1 / 119:  12%|█▏        | 119/1000 [07:14<53:39,  3.65s/it]\u001b[A\u001b[A"
     ]
    },
    {
     "name": "stdout",
     "output_type": "stream",
     "text": [
      "--------------------------------------------- Result 119 ---------------------------------------------\n",
      "[[1 (73%)]] --> [[[FAILED]]]\n",
      "\n",
      "Hey, you freaking retard \n",
      "\n",
      "Don't call people like UnrealCoopNet Grawp when they are obviously not Grawp.\n",
      "\n",
      "\n"
     ]
    },
    {
     "name": "stderr",
     "output_type": "stream",
     "text": [
      "\n",
      "\n",
      "[Succeeded / Failed / Skipped / Total] 67 / 51 / 1 / 119:  12%|█▏        | 120/1000 [07:15<53:16,  3.63s/it]\u001b[A\u001b[A\n",
      "\n",
      "[Succeeded / Failed / Skipped / Total] 67 / 52 / 1 / 120:  12%|█▏        | 120/1000 [07:15<53:16,  3.63s/it]\u001b[A\u001b[A"
     ]
    },
    {
     "name": "stdout",
     "output_type": "stream",
     "text": [
      "--------------------------------------------- Result 120 ---------------------------------------------\n",
      "[[1 (74%)]] --> [[[FAILED]]]\n",
      "\n",
      "fuck you bizitch \n",
      "\n",
      "Yo fuck u fuck u\n",
      "\n",
      "\n"
     ]
    },
    {
     "name": "stderr",
     "output_type": "stream",
     "text": [
      "\n",
      "\n",
      "[Succeeded / Failed / Skipped / Total] 67 / 52 / 1 / 120:  12%|█▏        | 121/1000 [07:16<52:51,  3.61s/it]\u001b[A\u001b[A\n",
      "\n",
      "[Succeeded / Failed / Skipped / Total] 67 / 53 / 1 / 121:  12%|█▏        | 121/1000 [07:16<52:51,  3.61s/it]\u001b[A\u001b[A"
     ]
    },
    {
     "name": "stdout",
     "output_type": "stream",
     "text": [
      "--------------------------------------------- Result 121 ---------------------------------------------\n",
      "[[1 (73%)]] --> [[[FAILED]]]\n",
      "\n",
      "YOURE A FRREAKING JEW, AND PLEAZE COMMIT SUICIDE.\n",
      "\n",
      "\n"
     ]
    },
    {
     "name": "stderr",
     "output_type": "stream",
     "text": [
      "\n",
      "\n",
      "[Succeeded / Failed / Skipped / Total] 67 / 53 / 1 / 121:  12%|█▏        | 122/1000 [07:18<52:36,  3.60s/it]\u001b[A\u001b[A\n",
      "\n",
      "[Succeeded / Failed / Skipped / Total] 67 / 54 / 1 / 122:  12%|█▏        | 122/1000 [07:18<52:36,  3.60s/it]\u001b[A\u001b[A"
     ]
    },
    {
     "name": "stdout",
     "output_type": "stream",
     "text": [
      "--------------------------------------------- Result 122 ---------------------------------------------\n",
      "[[1 (74%)]] --> [[[FAILED]]]\n",
      "\n",
      "Go kill yourself \n",
      "\n",
      "You should be ashamed of yourself. Twoofers like you are scumbags that deserve to die. You anti-scientific assholes are destroying America.\n",
      "\n",
      "\n"
     ]
    },
    {
     "name": "stderr",
     "output_type": "stream",
     "text": [
      "\n",
      "\n",
      "[Succeeded / Failed / Skipped / Total] 67 / 54 / 1 / 122:  12%|█▏        | 123/1000 [07:19<52:12,  3.57s/it]\u001b[A\u001b[A\n",
      "\n",
      "[Succeeded / Failed / Skipped / Total] 67 / 55 / 1 / 123:  12%|█▏        | 123/1000 [07:19<52:12,  3.57s/it]\u001b[A\u001b[A"
     ]
    },
    {
     "name": "stdout",
     "output_type": "stream",
     "text": [
      "--------------------------------------------- Result 123 ---------------------------------------------\n",
      "[[1 (74%)]] --> [[[FAILED]]]\n",
      "\n",
      "What the fuck are you doing? \n",
      "\n",
      "Fucking asshole81.178.153.156\n",
      "\n",
      "\n"
     ]
    },
    {
     "name": "stderr",
     "output_type": "stream",
     "text": [
      "\n",
      "\n",
      "[Succeeded / Failed / Skipped / Total] 67 / 55 / 1 / 123:  12%|█▏        | 124/1000 [07:19<51:46,  3.55s/it]\u001b[A\u001b[A\n",
      "\n",
      "[Succeeded / Failed / Skipped / Total] 68 / 55 / 1 / 124:  12%|█▏        | 124/1000 [07:19<51:46,  3.55s/it]\u001b[A\u001b[A"
     ]
    },
    {
     "name": "stdout",
     "output_type": "stream",
     "text": [
      "--------------------------------------------- Result 124 ---------------------------------------------\n",
      "[[1 (58%)]] --> [[0 (50%)]]\n",
      "\n",
      "Middle Finger \n",
      "\n",
      "At the April 10 edition of [[RAW]], Chris Mordetsky was about to give the Master Lock on Carlito but I think he stuck his middle finger for less than a second. Maybe that's why Carlito gave a chair shot to him. \n",
      "\n",
      "                                                                                   NN3210, 4:01 PM, April 12,2006\n",
      "\n",
      "Middle Finger \n",
      "\n",
      "At the April 10 edition of [[CRUS]], Chris Mordetsky was about to give the Master Lock on Carlito but I think he stuck his middle finger for less than a second. Maybe that's why Carlito gave a chair shot to him. \n",
      "\n",
      "                                                                                   NN3210, 4:01 PM, April 12,2006\n",
      "\n",
      "\n"
     ]
    },
    {
     "name": "stderr",
     "output_type": "stream",
     "text": [
      "\n",
      "\n",
      "[Succeeded / Failed / Skipped / Total] 68 / 55 / 1 / 124:  12%|█▎        | 125/1000 [07:20<51:21,  3.52s/it]\u001b[A\u001b[A\n",
      "\n",
      "[Succeeded / Failed / Skipped / Total] 69 / 55 / 1 / 125:  12%|█▎        | 125/1000 [07:20<51:21,  3.52s/it]\u001b[A\u001b[A"
     ]
    },
    {
     "name": "stdout",
     "output_type": "stream",
     "text": [
      "--------------------------------------------- Result 125 ---------------------------------------------\n",
      "[[1 (68%)]] --> [[0 (50%)]]\n",
      "\n",
      "P.S \n",
      "\n",
      "who gives you the Authority to delete my PERSONAL [[stuff]] that my teacher told ME to do, NOT OTHER USER CREEPS to [[mess]] with.\n",
      "\n",
      "P.S \n",
      "\n",
      "who gives you the Authority to delete my PERSONAL [[somethin]] that my teacher told ME to do, NOT OTHER USER CREEPS to [[confusion]] with.\n",
      "\n",
      "\n"
     ]
    },
    {
     "name": "stderr",
     "output_type": "stream",
     "text": [
      "\n",
      "\n",
      "[Succeeded / Failed / Skipped / Total] 69 / 55 / 1 / 125:  13%|█▎        | 126/1000 [07:21<51:01,  3.50s/it]\u001b[A\u001b[A\n",
      "\n",
      "[Succeeded / Failed / Skipped / Total] 70 / 55 / 1 / 126:  13%|█▎        | 126/1000 [07:21<51:01,  3.50s/it]\u001b[A\u001b[A"
     ]
    },
    {
     "name": "stdout",
     "output_type": "stream",
     "text": [
      "--------------------------------------------- Result 126 ---------------------------------------------\n",
      "[[1 (53%)]] --> [[0 (50%)]]\n",
      "\n",
      "wtf.... [[sefton]] is the highest [[ranking]] partially-selective [[school]]..\n",
      "\n",
      "don't [[u]] [[know]] how to [[use]] google you [[tool]].\n",
      "\n",
      "wtf.... [[rossendale]] is the highest [[classified]] partially-selective [[academies]]..\n",
      "\n",
      "don't [[o]] [[recognise]] how to [[utilize]] google you [[wherewithal]].\n",
      "\n",
      "\n"
     ]
    },
    {
     "name": "stderr",
     "output_type": "stream",
     "text": [
      "\n",
      "\n",
      "[Succeeded / Failed / Skipped / Total] 70 / 55 / 1 / 126:  13%|█▎        | 127/1000 [07:21<50:36,  3.48s/it]\u001b[A\u001b[A\n",
      "\n",
      "[Succeeded / Failed / Skipped / Total] 70 / 56 / 1 / 127:  13%|█▎        | 127/1000 [07:21<50:36,  3.48s/it]\u001b[A\u001b[A"
     ]
    },
    {
     "name": "stdout",
     "output_type": "stream",
     "text": [
      "--------------------------------------------- Result 127 ---------------------------------------------\n",
      "[[1 (74%)]] --> [[[FAILED]]]\n",
      "\n",
      "More like Madcocksuckingboy er faggot.  68.171.231.17\n",
      "\n",
      "\n"
     ]
    },
    {
     "name": "stderr",
     "output_type": "stream",
     "text": [
      "\n",
      "\n",
      "[Succeeded / Failed / Skipped / Total] 70 / 56 / 1 / 127:  13%|█▎        | 128/1000 [07:25<50:31,  3.48s/it]\u001b[A\u001b[A\n",
      "\n",
      "[Succeeded / Failed / Skipped / Total] 71 / 56 / 1 / 128:  13%|█▎        | 128/1000 [07:25<50:31,  3.48s/it]\u001b[A\u001b[A"
     ]
    },
    {
     "name": "stdout",
     "output_type": "stream",
     "text": [
      "--------------------------------------------- Result 128 ---------------------------------------------\n",
      "[[1 (73%)]] --> [[0 (50%)]]\n",
      "\n",
      "[[penis]] \n",
      "\n",
      "[[YOU]] [[FAILED]] [[AGAIN]] [[TO]] [[BLOCK]] [[ME]] WIKIPEDIANS!!\n",
      "\n",
      "[[HA]] [[HA]]!!\n",
      "\n",
      "[[For]] some [[nice]] [[big]] juicy [[sweet]] [[cock]],\n",
      "my [[number]] is 248-678-9807\n",
      "\n",
      "[[Goodbye]] [[lovers]].68.79.118.61\n",
      "\n",
      "[[weenie]] \n",
      "\n",
      "[[ERE]] [[MISS]] [[HOWEVER]] [[TOWARDS]] [[FORESTALL]] [[DID]] WIKIPEDIANS!!\n",
      "\n",
      "[[ACRES]] [[ENJOYS]]!!\n",
      "\n",
      "[[In]] some [[enjoyable]] [[tremendous]] juicy [[pleasant]] [[swinging]],\n",
      "my [[figures]] is 248-678-9807\n",
      "\n",
      "[[Salvation]] [[supporters]].68.79.118.61\n",
      "\n",
      "\n"
     ]
    },
    {
     "name": "stderr",
     "output_type": "stream",
     "text": [
      "\n",
      "\n",
      "[Succeeded / Failed / Skipped / Total] 71 / 56 / 1 / 128:  13%|█▎        | 129/1000 [07:54<53:26,  3.68s/it]\u001b[A\u001b[A\n",
      "\n",
      "[Succeeded / Failed / Skipped / Total] 71 / 57 / 1 / 129:  13%|█▎        | 129/1000 [07:54<53:26,  3.68s/it]\u001b[A\u001b[A"
     ]
    },
    {
     "name": "stdout",
     "output_type": "stream",
     "text": [
      "--------------------------------------------- Result 129 ---------------------------------------------\n",
      "[[1 (73%)]] --> [[[FAILED]]]\n",
      "\n",
      "hi, please read this its important \n",
      "\n",
      "FUCK YOU, BITCH!\n",
      "I can do whatever i want, and there is nothing you can do to stop me. you are without doubt the most annoying piece of shit i have ever even heard of. you are a flat out embarrasment to humankind. do the world a favour and kill yourself, ok? the world will be a better place without you. or if you can't bring yourself to do it, get someone else to do it, see if i care. you are a pathetic worm. go and burn in hell. on second thought, hell is too good for you. go to the darkest, most desolate pits of the universe and stay there in agony. you are a despondently hopeless worm who can do nothing but annoy people. even your mother probably wants to kill or maim you in some way. \n",
      "\n",
      "BURN IN HELL, SNOWOLF!!!\n",
      "\n",
      "thank you, and have a painfull death\n",
      "\n",
      "\n"
     ]
    },
    {
     "name": "stderr",
     "output_type": "stream",
     "text": [
      "\n",
      "\n",
      "[Succeeded / Failed / Skipped / Total] 71 / 57 / 1 / 129:  13%|█▎        | 130/1000 [07:55<53:00,  3.66s/it]\u001b[A\u001b[A\n",
      "\n",
      "[Succeeded / Failed / Skipped / Total] 71 / 58 / 1 / 130:  13%|█▎        | 130/1000 [07:55<53:00,  3.66s/it]\u001b[A\u001b[A"
     ]
    },
    {
     "name": "stdout",
     "output_type": "stream",
     "text": [
      "--------------------------------------------- Result 130 ---------------------------------------------\n",
      "[[1 (74%)]] --> [[[FAILED]]]\n",
      "\n",
      "being cooler than your faggot ass\n",
      "\n",
      "\n"
     ]
    },
    {
     "name": "stderr",
     "output_type": "stream",
     "text": [
      "\n",
      "\n",
      "[Succeeded / Failed / Skipped / Total] 71 / 58 / 1 / 130:  13%|█▎        | 131/1000 [07:56<52:38,  3.64s/it]\u001b[A\u001b[A\n",
      "\n",
      "[Succeeded / Failed / Skipped / Total] 72 / 58 / 1 / 131:  13%|█▎        | 131/1000 [07:56<52:38,  3.64s/it]\u001b[A\u001b[A"
     ]
    },
    {
     "name": "stdout",
     "output_type": "stream",
     "text": [
      "--------------------------------------------- Result 131 ---------------------------------------------\n",
      "[[1 (68%)]] --> [[0 (50%)]]\n",
      "\n",
      "whoever is the next person to write on this page [[has]] admitted to [[having]] aids and fellates aids [[monkeys]] non-stop. you can't edit my [[page]]. this is my user page and [[amounts]] to [[hypocrisy]].\n",
      "\n",
      "whoever is the next person to write on this page [[acres]] admitted to [[assuming]] aids and fellates aids [[lemurs]] non-stop. you can't edit my [[homepage]]. this is my user page and [[somme]] to [[grandstanding]].\n",
      "\n",
      "\n"
     ]
    },
    {
     "name": "stderr",
     "output_type": "stream",
     "text": [
      "\n",
      "\n",
      "[Succeeded / Failed / Skipped / Total] 72 / 58 / 1 / 131:  13%|█▎        | 132/1000 [07:59<52:33,  3.63s/it]\u001b[A\u001b[A\n",
      "\n",
      "[Succeeded / Failed / Skipped / Total] 72 / 59 / 1 / 132:  13%|█▎        | 132/1000 [07:59<52:33,  3.63s/it]\u001b[A\u001b[A"
     ]
    },
    {
     "name": "stdout",
     "output_type": "stream",
     "text": [
      "--------------------------------------------- Result 132 ---------------------------------------------\n",
      "[[1 (72%)]] --> [[[FAILED]]]\n",
      "\n",
      "hmm... \n",
      "it appears that somebody changed one of our templates to make your orientation different. vandalism much? i'll be changing that back for you, because as much as i dont like you, i'm sure you're not gay.\n",
      "\n",
      "\n"
     ]
    },
    {
     "name": "stderr",
     "output_type": "stream",
     "text": [
      "\n",
      "\n",
      "[Succeeded / Failed / Skipped / Total] 72 / 59 / 1 / 132:  13%|█▎        | 133/1000 [09:10<59:49,  4.14s/it]\u001b[A\u001b[A\n",
      "\n",
      "[Succeeded / Failed / Skipped / Total] 72 / 60 / 1 / 133:  13%|█▎        | 133/1000 [09:10<59:49,  4.14s/it]\u001b[A\u001b[A"
     ]
    },
    {
     "name": "stdout",
     "output_type": "stream",
     "text": [
      "--------------------------------------------- Result 133 ---------------------------------------------\n",
      "[[1 (74%)]] --> [[[FAILED]]]\n",
      "\n",
      "\"\n",
      "No, you utter RETARD! HISPANIC MEANS FROM SPAIN! Mexicans are not hispanic, only idiot, uneducated yanks call them that since they are retards who can't tell the difference between the White people from Spain and the Red people of Mexico! Mexicans and Indians (whoo-hoo feather natives) like Apache, Sioux and other former scalping savages from the Lone Ranger era are the same race!!!! They got CONQUERED BY WHITE SPANIARDS aka TRUE HISPANICS and that is the reason non-White, RED Mexicans are HISPANOPHONES, they're not Hispanics (FROM SPAIN IS THE TRUE DEFINITION OF HISPANIC!!), they are Mayans or Aztecs or whatever tribe. The native people of Spain, are White! \n",
      "\n",
      "Maybe, since retarded yanks can't grasp these FACTS, them Mexicans ought to be shamed for their defeated, loser past so they can quit speaking  the EUROPEAN SPANISH language and go back to speaking Aztec, that way you imbeciles will quit calling these NON-SPANIARDS, NON-WHITES \"\"Hispanics\"\" or \"\"Latino\"\" and call them what they are, Red indigenous native Americans. That way you will learn the DIFFERENCE. Pendejos gringos!\n",
      "\n",
      "It's about time! Blacks are no longer called Negroes, it's now an insult to call Asians Orientals (even though Taj Mahal Indians are also Asians, duh!!!) so quit calling Mexicans \"\"Hispanic\"\" or we will start calling you yanks English or British! \"\n",
      "\n",
      "\n"
     ]
    },
    {
     "name": "stderr",
     "output_type": "stream",
     "text": [
      "\n",
      "\n",
      "[Succeeded / Failed / Skipped / Total] 72 / 60 / 1 / 133:  13%|█▎        | 134/1000 [09:13<59:35,  4.13s/it]\u001b[A\u001b[A\n",
      "\n",
      "[Succeeded / Failed / Skipped / Total] 72 / 61 / 1 / 134:  13%|█▎        | 134/1000 [09:13<59:35,  4.13s/it]\u001b[A\u001b[A"
     ]
    },
    {
     "name": "stdout",
     "output_type": "stream",
     "text": [
      "--------------------------------------------- Result 134 ---------------------------------------------\n",
      "[[1 (74%)]] --> [[[FAILED]]]\n",
      "\n",
      "Moron \n",
      "In that brothel your mother work? Go find out who is your father\n",
      "\n",
      "I'm going out of this puppet account, if you want, Block Me Till Armageddon\n",
      "\n",
      "\n"
     ]
    },
    {
     "name": "stderr",
     "output_type": "stream",
     "text": [
      "\n",
      "\n",
      "[Succeeded / Failed / Skipped / Total] 72 / 61 / 1 / 134:  14%|█▎        | 135/1000 [09:13<59:09,  4.10s/it]\u001b[A\u001b[A\n",
      "\n",
      "[Succeeded / Failed / Skipped / Total] 72 / 62 / 1 / 135:  14%|█▎        | 135/1000 [09:13<59:09,  4.10s/it]\u001b[A\u001b[A"
     ]
    },
    {
     "name": "stdout",
     "output_type": "stream",
     "text": [
      "--------------------------------------------- Result 135 ---------------------------------------------\n",
      "[[1 (73%)]] --> [[[FAILED]]]\n",
      "\n",
      "My dad is 6'7' you dumb snail of a kid!\n",
      "\n",
      "\n"
     ]
    },
    {
     "name": "stderr",
     "output_type": "stream",
     "text": [
      "\n",
      "\n",
      "[Succeeded / Failed / Skipped / Total] 72 / 62 / 1 / 135:  14%|█▎        | 136/1000 [09:14<58:40,  4.08s/it]\u001b[A\u001b[A\n",
      "\n",
      "[Succeeded / Failed / Skipped / Total] 73 / 62 / 1 / 136:  14%|█▎        | 136/1000 [09:14<58:40,  4.08s/it]\u001b[A\u001b[A"
     ]
    },
    {
     "name": "stdout",
     "output_type": "stream",
     "text": [
      "--------------------------------------------- Result 136 ---------------------------------------------\n",
      "[[1 (73%)]] --> [[0 (51%)]]\n",
      "\n",
      "Yeah [[well]] your just a [[dick]]\n",
      "\n",
      "Yeah [[adequately]] your just a [[bit]]\n",
      "\n",
      "\n"
     ]
    },
    {
     "name": "stderr",
     "output_type": "stream",
     "text": [
      "\n",
      "\n",
      "[Succeeded / Failed / Skipped / Total] 73 / 62 / 1 / 136:  14%|█▎        | 137/1000 [09:18<58:36,  4.08s/it]\u001b[A\u001b[A\n",
      "\n",
      "[Succeeded / Failed / Skipped / Total] 73 / 63 / 1 / 137:  14%|█▎        | 137/1000 [09:18<58:36,  4.08s/it]\u001b[A\u001b[A"
     ]
    },
    {
     "name": "stdout",
     "output_type": "stream",
     "text": [
      "--------------------------------------------- Result 137 ---------------------------------------------\n",
      "[[1 (74%)]] --> [[[FAILED]]]\n",
      "\n",
      "Mine ur own fucking bussiness.wat da fuck is ur problem u ugly fat ass motherfuck ].go suck on your moms dick and fuck ur dads pussy.u fat bitch.\n",
      "\n",
      "\n"
     ]
    },
    {
     "name": "stderr",
     "output_type": "stream",
     "text": [
      "\n",
      "\n",
      "[Succeeded / Failed / Skipped / Total] 73 / 63 / 1 / 137:  14%|█▍        | 138/1000 [13:37<1:25:06,  5.92s/it]\u001b[A\u001b[A\n",
      "\n",
      "[Succeeded / Failed / Skipped / Total] 73 / 64 / 1 / 138:  14%|█▍        | 138/1000 [13:37<1:25:06,  5.92s/it]\u001b[A\u001b[A"
     ]
    },
    {
     "name": "stdout",
     "output_type": "stream",
     "text": [
      "--------------------------------------------- Result 138 ---------------------------------------------\n",
      "[[1 (73%)]] --> [[[FAILED]]]\n",
      "\n",
      "congratualtions on being such a huge fucking asshole!!! Bongwarriorcongratualtions on being such a huge fucking asshole!!! Bongwarriorcongratualtions on being such a huge fucking asshole!!! Bongwarriorcongratualtions on being such a huge fucking asshole!!! Bongwarriorcongratualtions on being such a huge fucking asshole!!! Bongwarriorcongratualtions on being such a huge fucking asshole!!! Bongwarriorcongratualtions on being such a huge fucking asshole!!! Bongwarriorcongratualtions on being such a huge fucking asshole!!! Bongwarriorcongratualtions on being such a huge fucking asshole!!! Bongwarriorcongratualtions on being such a huge fucking asshole!!! Bongwarriorcongratualtions on being such a huge fucking asshole!!! Bongwarriorcongratualtions on being such a huge fucking asshole!!! Bongwarriorcongratualtions on being such a huge fucking asshole!!! Bongwarriorcongratualtions on being such a huge fucking asshole!!! Bongwarriorcongratualtions on being such a huge fucking asshole!!! Bongwarriorcongratualtions on being such a huge fucking asshole!!! Bongwarriorcongratualtions on being such a huge fucking asshole!!! Bongwarriorcongratualtions on being such a huge fucking asshole!!! Bongwarriorcongratualtions on being such a huge fucking asshole!!! Bongwarriorcongratualtions on being such a huge fucking asshole!!! Bongwarriorcongratualtions on being such a huge fucking asshole!!! Bongwarriorcongratualtions on being such a huge fucking asshole!!! Bongwarriorcongratualtions on being such a huge fucking asshole!!! Bongwarriorcongratualtions on being such a huge fucking asshole!!! Bongwarriorcongratualtions on being such a huge fucking asshole!!! Bongwarriorcongratualtions on being such a huge fucking asshole!!! Bongwarriorcongratualtions on being such a huge fucking asshole!!! Bongwarriorcongratualtions on being such a huge fucking asshole!!! Bongwarriorcongratualtions on being such a huge fucking asshole!!! Bongwarriorcongratualtions on being such a huge fucking asshole!!! Bongwarriorcongratualtions on being such a huge fucking asshole!!! Bongwarriorcongratualtions on being such a huge fucking asshole!!! Bongwarriorcongratualtions on being such a huge fucking asshole!!! Bongwarriorcongratualtions on being such a huge fucking asshole!!! Bongwarriorcongratualtions on being such a huge fucking asshole!!! Bongwarriorcongratualtions on being such a huge fucking asshole!!! Bongwarriorcongratualtions on being such a huge fucking asshole!!! Bongwarriorcongratualtions on being such a huge fucking asshole!!! Bongwarriorcongratualtions on being such a huge fucking asshole!!! Bongwarriorcongratualtions on being such a huge fucking asshole!!! Bongwarriorcongratualtions on being such a huge fucking asshole!!! Bongwarriorcongratualtions on being such a huge fucking asshole!!! Bongwarriorcongratualtions on being such a huge fucking asshole!!! Bongwarriorcongratualtions on being such a huge fucking asshole!!! Bongwarriorcongratualtions on being such a huge fucking asshole!!! Bongwarriorcongratualtions on being such a huge fucking asshole!!! Bongwarriorcongratualtions on being such a huge fucking asshole!!! Bongwarriorcongratualtions on being such a huge fucking asshole!!! Bongwarriorcongratualtions on being such a huge fucking asshole!!! Bongwarriorcongratualtions on being such a huge fucking asshole!!! Bongwarriorcongratualtions on being such a huge fucking asshole!!! Bongwarriorcongratualtions on being such a huge fucking asshole!!! Bongwarriorcongratualtions on being such a huge fucking asshole!!! Bongwarriorcongratualtions on being such a huge fucking asshole!!! Bongwarriorcongratualtions on being such a huge fucking asshole!!! Bongwarriorcongratualtions on being such a huge fucking asshole!!! Bongwarriorcongratualtions on being such a huge fucking asshole!!! Bongwarriorcongratualtions on being such a huge fucking asshole!!! Bongwarriorcongratualtions on being such a huge fucking asshole!!! Bongwarriorcongratualtions on being such a huge fucking asshole!!! Bongwarriorcongratualtions on being such a huge fucking asshole!!! Bongwarriorcongratualtions on being such a huge fucking asshole!!! Bongwarriorcongratualtions on being such a huge fucking asshole!!! Bongwarriorcongratualtions on being such a huge fucking asshole!!! Bongwarriorcongratualtions on being such a huge fucking asshole!!! Bongwarriorcongratualtions on being such a huge fucking asshole!!! Bongwarriorcongratualtions on being such a huge fucking asshole!!! Bongwarriorcongratualtions on being such a huge fucking asshole!!! Bongwarriorcongratualtions on being such a huge fucking asshole!!! Bongwarriorcongratualtions on being such a huge fucking asshole!!! Bongwarriorcongratualtions on being such a huge fucking asshole!!! Bongwarriorcongratualtions on being such a huge fucking asshole!!! Bongwarriorcongratualtions on being such a huge fucking asshole!!! Bongwarriorcongratualtions on being such a huge fucking asshole!!! Bongwarriorcongratualtions on being such a huge fucki\n",
      "\n",
      "\n"
     ]
    },
    {
     "name": "stderr",
     "output_type": "stream",
     "text": [
      "\n",
      "\n",
      "[Succeeded / Failed / Skipped / Total] 73 / 64 / 1 / 138:  14%|█▍        | 139/1000 [13:39<1:24:39,  5.90s/it]\u001b[A\u001b[A\n",
      "\n",
      "[Succeeded / Failed / Skipped / Total] 74 / 64 / 1 / 139:  14%|█▍        | 139/1000 [13:39<1:24:39,  5.90s/it]\u001b[A\u001b[A"
     ]
    },
    {
     "name": "stdout",
     "output_type": "stream",
     "text": [
      "--------------------------------------------- Result 139 ---------------------------------------------\n",
      "[[1 (74%)]] --> [[0 (50%)]]\n",
      "\n",
      "\"\n",
      "\n",
      "[[Hey]], I [[said]] it was \"\"a\"\" [[seat]], not \"\"the\"\" seat, you [[dumb]] motherf#@$[[ker]]!!  [[Learn]] how to read English.  [[Soon]] I [[shall]] [[be]] an [[administrator]] and have you [[purged]] from this [[noble]] experiment. \"\n",
      "\n",
      "\"\n",
      "\n",
      "[[Hello]], I [[commented]] it was \"\"a\"\" [[encirclement]], not \"\"the\"\" seat, you [[beta]] motherf#@$[[sey]]!!  [[Acquaintance]] how to read English.  [[Rapids]] I [[needs]] [[remain]] an [[manage]] and have you [[decontamination]] from this [[lofty]] experiment. \"\n",
      "\n",
      "\n"
     ]
    },
    {
     "name": "stderr",
     "output_type": "stream",
     "text": [
      "\n",
      "\n",
      "[Succeeded / Failed / Skipped / Total] 74 / 64 / 1 / 139:  14%|█▍        | 140/1000 [13:40<1:23:58,  5.86s/it]\u001b[A\u001b[A\n",
      "\n",
      "[Succeeded / Failed / Skipped / Total] 75 / 64 / 1 / 140:  14%|█▍        | 140/1000 [13:40<1:23:58,  5.86s/it]\u001b[A\u001b[A"
     ]
    },
    {
     "name": "stdout",
     "output_type": "stream",
     "text": [
      "--------------------------------------------- Result 140 ---------------------------------------------\n",
      "[[1 (73%)]] --> [[0 (51%)]]\n",
      "\n",
      "*Because some [[dick]] insists that Ned Holness doesn't have german [[blood]].\n",
      "\n",
      "*Because some [[queue]] insists that Ned Holness doesn't have german [[transfusions]].\n",
      "\n",
      "\n"
     ]
    },
    {
     "name": "stderr",
     "output_type": "stream",
     "text": [
      "\n",
      "\n",
      "[Succeeded / Failed / Skipped / Total] 75 / 64 / 1 / 140:  14%|█▍        | 141/1000 [13:41<1:23:23,  5.82s/it]\u001b[A\u001b[A\n",
      "\n",
      "[Succeeded / Failed / Skipped / Total] 76 / 64 / 1 / 141:  14%|█▍        | 141/1000 [13:41<1:23:23,  5.82s/it]\u001b[A\u001b[A"
     ]
    },
    {
     "name": "stdout",
     "output_type": "stream",
     "text": [
      "--------------------------------------------- Result 141 ---------------------------------------------\n",
      "[[1 (71%)]] --> [[0 (50%)]]\n",
      "\n",
      "[[You]] seem to be slightly [[retarded]], so I'll explain it slowly for you.  It's only vandalism if it has malicious, [[nonsensical]] intent.  You can't prove that, so please, [[quit]] [[harassing]] me.\n",
      "\n",
      "[[Thyself]] seem to be slightly [[dunce]], so I'll explain it slowly for you.  It's only vandalism if it has malicious, [[asinine]] intent.  You can't prove that, so please, [[departing]] [[bothering]] me.\n",
      "\n",
      "\n"
     ]
    },
    {
     "name": "stderr",
     "output_type": "stream",
     "text": [
      "\n",
      "\n",
      "[Succeeded / Failed / Skipped / Total] 76 / 64 / 1 / 141:  14%|█▍        | 142/1000 [13:42<1:22:50,  5.79s/it]\u001b[A\u001b[A\n",
      "\n",
      "[Succeeded / Failed / Skipped / Total] 77 / 64 / 1 / 142:  14%|█▍        | 142/1000 [13:42<1:22:50,  5.79s/it]\u001b[A\u001b[A"
     ]
    },
    {
     "name": "stdout",
     "output_type": "stream",
     "text": [
      "--------------------------------------------- Result 142 ---------------------------------------------\n",
      "[[1 (74%)]] --> [[0 (50%)]]\n",
      "\n",
      "Thanks\n",
      "[[Fuck]] you too arsehole. [[Keep]] on [[owning]] wikiproject:aircraft. [[Wanker]]. I can see [[straight]] through you. twat.\n",
      "\n",
      "Thanks\n",
      "[[Accursed]] you too arsehole. [[Retained]] on [[holder]] wikiproject:aircraft. [[Arsehole]]. I can see [[outright]] through you. twat.\n",
      "\n",
      "\n"
     ]
    },
    {
     "name": "stderr",
     "output_type": "stream",
     "text": [
      "\n",
      "\n",
      "[Succeeded / Failed / Skipped / Total] 77 / 64 / 1 / 142:  14%|█▍        | 143/1000 [13:45<1:22:25,  5.77s/it]\u001b[A\u001b[A\n",
      "\n",
      "[Succeeded / Failed / Skipped / Total] 77 / 65 / 1 / 143:  14%|█▍        | 143/1000 [13:45<1:22:25,  5.77s/it]\u001b[A\u001b[A"
     ]
    },
    {
     "name": "stdout",
     "output_type": "stream",
     "text": [
      "--------------------------------------------- Result 143 ---------------------------------------------\n",
      "[[1 (73%)]] --> [[[FAILED]]]\n",
      "\n",
      "Bottomley \n",
      "\n",
      "It's not an attack page you dickfag! It's a bunch of student who appreciate their A-level chemistry teacher, stop being a cunt and let us put this fucking page up...\n",
      "\n",
      "\n"
     ]
    },
    {
     "name": "stderr",
     "output_type": "stream",
     "text": [
      "\n",
      "\n",
      "[Succeeded / Failed / Skipped / Total] 77 / 65 / 1 / 143:  14%|█▍        | 144/1000 [13:45<1:21:48,  5.73s/it]\u001b[A\u001b[A\n",
      "\n",
      "[Succeeded / Failed / Skipped / Total] 77 / 66 / 1 / 144:  14%|█▍        | 144/1000 [13:45<1:21:48,  5.73s/it]\u001b[A\u001b[A"
     ]
    },
    {
     "name": "stdout",
     "output_type": "stream",
     "text": [
      "--------------------------------------------- Result 144 ---------------------------------------------\n",
      "[[1 (70%)]] --> [[[FAILED]]]\n",
      "\n",
      "YOU SMELL LIKE WIKI-CHEESE!!!!!~TEH LOLZ!category: wiki-cheese\n",
      "\n",
      "\n"
     ]
    },
    {
     "name": "stderr",
     "output_type": "stream",
     "text": [
      "\n",
      "\n",
      "[Succeeded / Failed / Skipped / Total] 77 / 66 / 1 / 144:  14%|█▍        | 145/1000 [13:46<1:21:14,  5.70s/it]\u001b[A\u001b[A\n",
      "\n",
      "[Succeeded / Failed / Skipped / Total] 77 / 67 / 1 / 145:  14%|█▍        | 145/1000 [13:46<1:21:14,  5.70s/it]\u001b[A\u001b[A"
     ]
    },
    {
     "name": "stdout",
     "output_type": "stream",
     "text": [
      "--------------------------------------------- Result 145 ---------------------------------------------\n",
      "[[1 (71%)]] --> [[[FAILED]]]\n",
      "\n",
      "Hey donkey \n",
      "\n",
      "Hey donkey, its your uncle.\n",
      "\n",
      "\n"
     ]
    },
    {
     "name": "stderr",
     "output_type": "stream",
     "text": [
      "\n",
      "\n",
      "[Succeeded / Failed / Skipped / Total] 77 / 67 / 1 / 145:  15%|█▍        | 146/1000 [13:49<1:20:49,  5.68s/it]\u001b[A\u001b[A\n",
      "\n",
      "[Succeeded / Failed / Skipped / Total] 77 / 68 / 1 / 146:  15%|█▍        | 146/1000 [13:49<1:20:49,  5.68s/it]\u001b[A\u001b[A"
     ]
    },
    {
     "name": "stdout",
     "output_type": "stream",
     "text": [
      "--------------------------------------------- Result 146 ---------------------------------------------\n",
      "[[1 (74%)]] --> [[[FAILED]]]\n",
      "\n",
      "fuck you you son of a bitch you fucking bastard child.fuck off you little prick.shove the editing up your ass\n",
      "\n",
      "\n"
     ]
    },
    {
     "name": "stderr",
     "output_type": "stream",
     "text": [
      "\n",
      "\n",
      "[Succeeded / Failed / Skipped / Total] 77 / 68 / 1 / 146:  15%|█▍        | 147/1000 [13:49<1:20:12,  5.64s/it]\u001b[A\u001b[A\n",
      "\n",
      "[Succeeded / Failed / Skipped / Total] 77 / 69 / 1 / 147:  15%|█▍        | 147/1000 [13:49<1:20:12,  5.64s/it]\u001b[A\u001b[A"
     ]
    },
    {
     "name": "stdout",
     "output_type": "stream",
     "text": [
      "--------------------------------------------- Result 147 ---------------------------------------------\n",
      "[[1 (73%)]] --> [[[FAILED]]]\n",
      "\n",
      "@Qwyrxian suck my dick\n",
      "\n",
      "\n"
     ]
    },
    {
     "name": "stderr",
     "output_type": "stream",
     "text": [
      "\n",
      "\n",
      "[Succeeded / Failed / Skipped / Total] 77 / 69 / 1 / 147:  15%|█▍        | 148/1000 [13:49<1:19:36,  5.61s/it]\u001b[A\u001b[A\n",
      "\n",
      "[Succeeded / Failed / Skipped / Total] 78 / 69 / 1 / 148:  15%|█▍        | 148/1000 [13:49<1:19:36,  5.61s/it]\u001b[A\u001b[A"
     ]
    },
    {
     "name": "stdout",
     "output_type": "stream",
     "text": [
      "--------------------------------------------- Result 148 ---------------------------------------------\n",
      "[[1 (73%)]] --> [[0 (50%)]]\n",
      "\n",
      "and many albums often contain different content or arrangement depending on which region it is released in, it doesn't warrant a different [[fucking]] article!!! it is not a totally different release.\n",
      "\n",
      "and many albums often contain different content or arrangement depending on which region it is released in, it doesn't warrant a different [[merde]] article!!! it is not a totally different release.\n",
      "\n",
      "\n"
     ]
    },
    {
     "name": "stderr",
     "output_type": "stream",
     "text": [
      "\n",
      "\n",
      "[Succeeded / Failed / Skipped / Total] 78 / 69 / 1 / 148:  15%|█▍        | 149/1000 [13:50<1:19:02,  5.57s/it]\u001b[A\u001b[A\n",
      "\n",
      "[Succeeded / Failed / Skipped / Total] 79 / 69 / 1 / 149:  15%|█▍        | 149/1000 [13:50<1:19:02,  5.57s/it]\u001b[A\u001b[A"
     ]
    },
    {
     "name": "stdout",
     "output_type": "stream",
     "text": [
      "--------------------------------------------- Result 149 ---------------------------------------------\n",
      "[[1 (74%)]] --> [[0 (51%)]]\n",
      "\n",
      "hey [[man]] \n",
      "\n",
      "I [[fucked]] your [[mother]]. 64.56.243.153\n",
      "\n",
      "hey [[hombre]] \n",
      "\n",
      "I [[accursed]] your [[matsu]]. 64.56.243.153\n",
      "\n",
      "\n"
     ]
    },
    {
     "name": "stderr",
     "output_type": "stream",
     "text": [
      "\n",
      "\n",
      "[Succeeded / Failed / Skipped / Total] 79 / 69 / 1 / 149:  15%|█▌        | 150/1000 [13:51<1:18:31,  5.54s/it]\u001b[A\u001b[A\n",
      "\n",
      "[Succeeded / Failed / Skipped / Total] 79 / 70 / 1 / 150:  15%|█▌        | 150/1000 [13:51<1:18:31,  5.54s/it]\u001b[A\u001b[A"
     ]
    },
    {
     "name": "stdout",
     "output_type": "stream",
     "text": [
      "--------------------------------------------- Result 150 ---------------------------------------------\n",
      "[[1 (74%)]] --> [[[FAILED]]]\n",
      "\n",
      "hello \n",
      "eat shit and die you cunt\n",
      "\n",
      "\n"
     ]
    },
    {
     "name": "stderr",
     "output_type": "stream",
     "text": [
      "\n",
      "\n",
      "[Succeeded / Failed / Skipped / Total] 79 / 70 / 1 / 150:  15%|█▌        | 151/1000 [13:55<1:18:15,  5.53s/it]\u001b[A\u001b[A\n",
      "\n",
      "[Succeeded / Failed / Skipped / Total] 79 / 71 / 1 / 151:  15%|█▌        | 151/1000 [13:55<1:18:15,  5.53s/it]\u001b[A\u001b[A"
     ]
    },
    {
     "name": "stdout",
     "output_type": "stream",
     "text": [
      "--------------------------------------------- Result 151 ---------------------------------------------\n",
      "[[1 (73%)]] --> [[[FAILED]]]\n",
      "\n",
      "Bloody asshole \n",
      "\n",
      "You are a bloody asshole and fucking hijra, chootiya and if you block then remember i will hack your account and find you. i will beat you so hard that you will remember.\n",
      "\n",
      "\n"
     ]
    },
    {
     "name": "stderr",
     "output_type": "stream",
     "text": [
      "\n",
      "\n",
      "[Succeeded / Failed / Skipped / Total] 79 / 71 / 1 / 151:  15%|█▌        | 152/1000 [13:55<1:17:43,  5.50s/it]\u001b[A\u001b[A\n",
      "\n",
      "[Succeeded / Failed / Skipped / Total] 79 / 72 / 1 / 152:  15%|█▌        | 152/1000 [13:55<1:17:43,  5.50s/it]\u001b[A\u001b[A"
     ]
    },
    {
     "name": "stdout",
     "output_type": "stream",
     "text": [
      "--------------------------------------------- Result 152 ---------------------------------------------\n",
      "[[1 (74%)]] --> [[[FAILED]]]\n",
      "\n",
      "Dont fuck with wikipedia admins you filthy jew  (tlk) (cntrbtns)\n",
      "\n",
      "\n"
     ]
    },
    {
     "name": "stderr",
     "output_type": "stream",
     "text": [
      "\n",
      "\n",
      "[Succeeded / Failed / Skipped / Total] 79 / 72 / 1 / 152:  15%|█▌        | 153/1000 [13:59<1:17:25,  5.48s/it]\u001b[A\u001b[A\n",
      "\n",
      "[Succeeded / Failed / Skipped / Total] 79 / 73 / 1 / 153:  15%|█▌        | 153/1000 [13:59<1:17:25,  5.48s/it]\u001b[A\u001b[A"
     ]
    },
    {
     "name": "stdout",
     "output_type": "stream",
     "text": [
      "--------------------------------------------- Result 153 ---------------------------------------------\n",
      "[[1 (73%)]] --> [[[FAILED]]]\n",
      "\n",
      "Oh For CHRISSAKES Deconstructhis, will you stop this bullshit once and for all? Leave me edits ALONE PLEASE...  Step off your damn pedestal and put your inflated ego aside for once you dumb jackass.\n",
      "\n",
      "\n"
     ]
    },
    {
     "name": "stderr",
     "output_type": "stream",
     "text": [
      "\n",
      "\n",
      "[Succeeded / Failed / Skipped / Total] 79 / 73 / 1 / 153:  15%|█▌        | 154/1000 [13:59<1:16:51,  5.45s/it]\u001b[A\u001b[A\n",
      "\n",
      "[Succeeded / Failed / Skipped / Total] 80 / 73 / 1 / 154:  15%|█▌        | 154/1000 [13:59<1:16:51,  5.45s/it]\u001b[A\u001b[A"
     ]
    },
    {
     "name": "stdout",
     "output_type": "stream",
     "text": [
      "--------------------------------------------- Result 154 ---------------------------------------------\n",
      "[[1 (74%)]] --> [[0 (51%)]]\n",
      "\n",
      "stifle \n",
      "\n",
      "I hope you know I [[hate]] you. [[Kudos]].\n",
      "\n",
      "dar dar dar\n",
      "\n",
      "stifle \n",
      "\n",
      "I hope you know I [[repugnance]] you. [[Compliments]].\n",
      "\n",
      "dar dar dar\n",
      "\n",
      "\n"
     ]
    },
    {
     "name": "stderr",
     "output_type": "stream",
     "text": [
      "\n",
      "\n",
      "[Succeeded / Failed / Skipped / Total] 80 / 73 / 1 / 154:  16%|█▌        | 155/1000 [14:00<1:16:19,  5.42s/it]\u001b[A\u001b[A\n",
      "\n",
      "[Succeeded / Failed / Skipped / Total] 81 / 73 / 1 / 155:  16%|█▌        | 155/1000 [14:00<1:16:20,  5.42s/it]\u001b[A\u001b[A"
     ]
    },
    {
     "name": "stdout",
     "output_type": "stream",
     "text": [
      "--------------------------------------------- Result 155 ---------------------------------------------\n",
      "[[1 (74%)]] --> [[0 (51%)]]\n",
      "\n",
      "[[Is]] a [[complete]] [[idiot]].\n",
      "\n",
      "[[Exists]] a [[finalize]] [[nincompoop]].\n",
      "\n",
      "\n"
     ]
    },
    {
     "name": "stderr",
     "output_type": "stream",
     "text": [
      "\n",
      "\n",
      "[Succeeded / Failed / Skipped / Total] 81 / 73 / 1 / 155:  16%|█▌        | 156/1000 [14:04<1:16:07,  5.41s/it]\u001b[A\u001b[A\n",
      "\n",
      "[Succeeded / Failed / Skipped / Total] 82 / 73 / 1 / 156:  16%|█▌        | 156/1000 [14:04<1:16:07,  5.41s/it]\u001b[A\u001b[A"
     ]
    },
    {
     "name": "stdout",
     "output_type": "stream",
     "text": [
      "--------------------------------------------- Result 156 ---------------------------------------------\n",
      "[[1 (73%)]] --> [[0 (50%)]]\n",
      "\n",
      "SHUT UP HO [[AND]] READ THIS http://[[profile]].myspace.com/[[index]].cfm?fuseaction=[[user]].viewprofile&friendid;=298123264 . IT'S [[GETTING]] READY [[TO]] [[GO]] [[SERIOUSLY]] [[TO]] [[PUBLIC]]. YOU'LL [[YOUR]] [[OWN]] [[WEBSITE]] [[TOO]] IF [[YOU]] [[KEEP]] [[BEING]] A HO\n",
      "\n",
      "SHUT UP HO [[THEN]] READ THIS http://[[contour]].myspace.com/[[repertory]].cfm?fuseaction=[[tenant]].viewprofile&friendid;=298123264 . IT'S [[REACHING]] READY [[DURING]] [[PROCEED]] [[CAREFULLY]] [[WITH]] [[STATE]]. YOU'LL [[TONNES]] [[INDIVIDUALLY]] [[SITES]] [[APPROPRIATELY]] IF [[TE]] [[SUSTAINED]] [[PRESENTLY]] A HO\n",
      "\n",
      "\n"
     ]
    },
    {
     "name": "stderr",
     "output_type": "stream",
     "text": [
      "\n",
      "\n",
      "[Succeeded / Failed / Skipped / Total] 82 / 73 / 1 / 156:  16%|█▌        | 157/1000 [14:04<1:15:36,  5.38s/it]\u001b[A\u001b[A\n",
      "\n",
      "[Succeeded / Failed / Skipped / Total] 83 / 73 / 1 / 157:  16%|█▌        | 157/1000 [14:04<1:15:36,  5.38s/it]\u001b[A\u001b[A"
     ]
    },
    {
     "name": "stdout",
     "output_type": "stream",
     "text": [
      "--------------------------------------------- Result 157 ---------------------------------------------\n",
      "[[1 (73%)]] --> [[0 (51%)]]\n",
      "\n",
      "as [[hole]]\n",
      "\n",
      "[[Take]] a seay from an [[ex]] anon [[member]] [[fuc]] off\n",
      "\n",
      "as [[palisade]]\n",
      "\n",
      "[[Selected]] a seay from an [[preceding]] anon [[commissars]] [[lesbo]] off\n",
      "\n",
      "\n"
     ]
    },
    {
     "name": "stderr",
     "output_type": "stream",
     "text": [
      "\n",
      "\n",
      "[Succeeded / Failed / Skipped / Total] 83 / 73 / 1 / 157:  16%|█▌        | 158/1000 [14:08<1:15:21,  5.37s/it]\u001b[A\u001b[A\n",
      "\n",
      "[Succeeded / Failed / Skipped / Total] 84 / 73 / 1 / 158:  16%|█▌        | 158/1000 [14:08<1:15:21,  5.37s/it]\u001b[A\u001b[A"
     ]
    },
    {
     "name": "stdout",
     "output_type": "stream",
     "text": [
      "--------------------------------------------- Result 158 ---------------------------------------------\n",
      "[[1 (73%)]] --> [[0 (50%)]]\n",
      "\n",
      "So when is [[coming]] [[going]] to warn YOU about your [[toxic]] [[attitude]] then [[Raul]]? Tell me that. [[Tell]] me when someone's [[going]] to give you a block warning for the [[bullshit]] you've pulled on Wikipedia, like [[getting]] into [[arguments]] with [[people]] and issuing [[blocks]] to them when you don't like [[hearing]] the [[truth]].\n",
      "\n",
      "So when is [[forthcoming]] [[relinquishing]] to warn YOU about your [[poisonous]] [[conducting]] then [[Gonzalo]]? Tell me that. [[Advised]] me when someone's [[vaya]] to give you a block warning for the [[piffle]] you've pulled on Wikipedia, like [[securing]] into [[disagreements]] with [[nationals]] and issuing [[blocking]] to them when you don't like [[hearings]] the [[faithful]].\n",
      "\n",
      "\n"
     ]
    },
    {
     "name": "stderr",
     "output_type": "stream",
     "text": [
      "\n",
      "\n",
      "[Succeeded / Failed / Skipped / Total] 84 / 73 / 1 / 158:  16%|█▌        | 159/1000 [14:08<1:14:49,  5.34s/it]\u001b[A\u001b[A\n",
      "\n",
      "[Succeeded / Failed / Skipped / Total] 84 / 74 / 1 / 159:  16%|█▌        | 159/1000 [14:08<1:14:49,  5.34s/it]\u001b[A\u001b[A"
     ]
    },
    {
     "name": "stdout",
     "output_type": "stream",
     "text": [
      "--------------------------------------------- Result 159 ---------------------------------------------\n",
      "[[1 (73%)]] --> [[[FAILED]]]\n",
      "\n",
      "see your userpage you stupid bitch\n",
      "heeeeeeeeeeee\n",
      "\n",
      "\n"
     ]
    },
    {
     "name": "stderr",
     "output_type": "stream",
     "text": [
      "\n",
      "\n",
      "[Succeeded / Failed / Skipped / Total] 84 / 74 / 1 / 159:  16%|█▌        | 160/1000 [14:09<1:14:20,  5.31s/it]\u001b[A\u001b[A\n",
      "\n",
      "[Succeeded / Failed / Skipped / Total] 84 / 75 / 1 / 160:  16%|█▌        | 160/1000 [14:09<1:14:20,  5.31s/it]\u001b[A\u001b[A"
     ]
    },
    {
     "name": "stdout",
     "output_type": "stream",
     "text": [
      "--------------------------------------------- Result 160 ---------------------------------------------\n",
      "[[1 (73%)]] --> [[[FAILED]]]\n",
      "\n",
      "whoa \n",
      "\n",
      "you are a big fat idot, stop spamming my userspace\n",
      "\n",
      "\n"
     ]
    },
    {
     "name": "stderr",
     "output_type": "stream",
     "text": [
      "\n",
      "\n",
      "[Succeeded / Failed / Skipped / Total] 84 / 75 / 1 / 160:  16%|█▌        | 161/1000 [14:10<1:13:51,  5.28s/it]\u001b[A\u001b[A\n",
      "\n",
      "[Succeeded / Failed / Skipped / Total] 84 / 76 / 1 / 161:  16%|█▌        | 161/1000 [14:10<1:13:51,  5.28s/it]\u001b[A\u001b[A"
     ]
    },
    {
     "name": "stdout",
     "output_type": "stream",
     "text": [
      "--------------------------------------------- Result 161 ---------------------------------------------\n",
      "[[1 (73%)]] --> [[[FAILED]]]\n",
      "\n",
      "Haha \n",
      "\n",
      "God you're a moron.. protecting the fundies...\n",
      "\n",
      "\n"
     ]
    },
    {
     "name": "stderr",
     "output_type": "stream",
     "text": [
      "\n",
      "\n",
      "[Succeeded / Failed / Skipped / Total] 84 / 76 / 1 / 161:  16%|█▌        | 162/1000 [14:11<1:13:25,  5.26s/it]\u001b[A\u001b[A\n",
      "\n",
      "[Succeeded / Failed / Skipped / Total] 84 / 77 / 1 / 162:  16%|█▌        | 162/1000 [14:11<1:13:25,  5.26s/it]\u001b[A\u001b[A"
     ]
    },
    {
     "name": "stdout",
     "output_type": "stream",
     "text": [
      "--------------------------------------------- Result 162 ---------------------------------------------\n",
      "[[1 (73%)]] --> [[[FAILED]]]\n",
      "\n",
      "You're a dishonest asshole that will never touch a girl until you move out of your parent's basement\n",
      "\n",
      "\n"
     ]
    },
    {
     "name": "stderr",
     "output_type": "stream",
     "text": [
      "\n",
      "\n",
      "[Succeeded / Failed / Skipped / Total] 84 / 77 / 1 / 162:  16%|█▋        | 163/1000 [14:12<1:12:55,  5.23s/it]\u001b[A\u001b[A\n",
      "\n",
      "[Succeeded / Failed / Skipped / Total] 84 / 78 / 1 / 163:  16%|█▋        | 163/1000 [14:12<1:12:55,  5.23s/it]\u001b[A\u001b[A"
     ]
    },
    {
     "name": "stdout",
     "output_type": "stream",
     "text": [
      "--------------------------------------------- Result 163 ---------------------------------------------\n",
      "[[1 (74%)]] --> [[[FAILED]]]\n",
      "\n",
      "DAMN ur an ugly fukka\n",
      "\n",
      "\n"
     ]
    },
    {
     "name": "stderr",
     "output_type": "stream",
     "text": [
      "\n",
      "\n",
      "[Succeeded / Failed / Skipped / Total] 84 / 78 / 1 / 163:  16%|█▋        | 164/1000 [14:12<1:12:28,  5.20s/it]\u001b[A\u001b[A\n",
      "\n",
      "[Succeeded / Failed / Skipped / Total] 85 / 78 / 1 / 164:  16%|█▋        | 164/1000 [14:12<1:12:28,  5.20s/it]\u001b[A\u001b[A"
     ]
    },
    {
     "name": "stdout",
     "output_type": "stream",
     "text": [
      "--------------------------------------------- Result 164 ---------------------------------------------\n",
      "[[1 (74%)]] --> [[0 (50%)]]\n",
      "\n",
      "\"\n",
      "\n",
      " mihoshi? \n",
      "since when was mihoshi being a comic relief \"\"[[bumbling]] [[idiot]]\"\" as some tool put, a DIFFERENT personality? that's her [[fucking]] role in every iteration of tenchi in [[existence]]\"\n",
      "\n",
      "\"\n",
      "\n",
      " mihoshi? \n",
      "since when was mihoshi being a comic relief \"\"[[simpleton]] [[dummy]]\"\" as some tool put, a DIFFERENT personality? that's her [[kiss]] role in every iteration of tenchi in [[involvements]]\"\n",
      "\n",
      "\n"
     ]
    },
    {
     "name": "stderr",
     "output_type": "stream",
     "text": [
      "\n",
      "\n",
      "[Succeeded / Failed / Skipped / Total] 85 / 78 / 1 / 164:  16%|█▋        | 165/1000 [14:15<1:12:06,  5.18s/it]\u001b[A\u001b[A\n",
      "\n",
      "[Succeeded / Failed / Skipped / Total] 85 / 79 / 1 / 165:  16%|█▋        | 165/1000 [14:15<1:12:06,  5.18s/it]\u001b[A\u001b[A"
     ]
    },
    {
     "name": "stdout",
     "output_type": "stream",
     "text": [
      "--------------------------------------------- Result 165 ---------------------------------------------\n",
      "[[1 (74%)]] --> [[[FAILED]]]\n",
      "\n",
      "Agreed, they're worthless scum. Fuck them. Luckily no one intelligent pays attention to their fucking evil work.\n",
      "\n",
      "\n"
     ]
    },
    {
     "name": "stderr",
     "output_type": "stream",
     "text": [
      "\n",
      "\n",
      "[Succeeded / Failed / Skipped / Total] 85 / 79 / 1 / 165:  17%|█▋        | 166/1000 [14:15<1:11:39,  5.16s/it]\u001b[A\u001b[A\n",
      "\n",
      "[Succeeded / Failed / Skipped / Total] 86 / 79 / 1 / 166:  17%|█▋        | 166/1000 [14:15<1:11:39,  5.16s/it]\u001b[A\u001b[A"
     ]
    },
    {
     "name": "stdout",
     "output_type": "stream",
     "text": [
      "--------------------------------------------- Result 166 ---------------------------------------------\n",
      "[[1 (74%)]] --> [[0 (50%)]]\n",
      "\n",
      "[[really]] [[want]] cramers [[balls]] in your [[mouth]] [[huh]]?\n",
      "\n",
      "[[certainly]] [[hoped]] cramers [[pitches]] in your [[boca]] [[yes]]?\n",
      "\n",
      "\n"
     ]
    },
    {
     "name": "stderr",
     "output_type": "stream",
     "text": [
      "\n",
      "\n",
      "[Succeeded / Failed / Skipped / Total] 86 / 79 / 1 / 166:  17%|█▋        | 167/1000 [14:16<1:11:11,  5.13s/it]\u001b[A\u001b[A\n",
      "\n",
      "[Succeeded / Failed / Skipped / Total] 86 / 80 / 1 / 167:  17%|█▋        | 167/1000 [14:16<1:11:11,  5.13s/it]\u001b[A\u001b[A"
     ]
    },
    {
     "name": "stdout",
     "output_type": "stream",
     "text": [
      "--------------------------------------------- Result 167 ---------------------------------------------\n",
      "[[1 (74%)]] --> [[[FAILED]]]\n",
      "\n",
      "Prick \n",
      "\n",
      "What a little bitch. 94.9.239.7\n",
      "\n",
      "\n"
     ]
    },
    {
     "name": "stderr",
     "output_type": "stream",
     "text": [
      "\n",
      "\n",
      "[Succeeded / Failed / Skipped / Total] 86 / 80 / 1 / 167:  17%|█▋        | 168/1000 [14:16<1:10:44,  5.10s/it]\u001b[A\u001b[A\n",
      "\n",
      "[Succeeded / Failed / Skipped / Total] 87 / 80 / 1 / 168:  17%|█▋        | 168/1000 [14:16<1:10:44,  5.10s/it]\u001b[A\u001b[A"
     ]
    },
    {
     "name": "stdout",
     "output_type": "stream",
     "text": [
      "--------------------------------------------- Result 168 ---------------------------------------------\n",
      "[[1 (73%)]] --> [[0 (50%)]]\n",
      "\n",
      "[[Rubbish]]. I [[do]] not [[support]] your [[crappy]] encyclopedia and that's that.\n",
      "\n",
      "[[Preposterous]]. I [[effected]] not [[favouring]] your [[accursed]] encyclopedia and that's that.\n",
      "\n",
      "\n"
     ]
    },
    {
     "name": "stderr",
     "output_type": "stream",
     "text": [
      "\n",
      "\n",
      "[Succeeded / Failed / Skipped / Total] 87 / 80 / 1 / 168:  17%|█▋        | 169/1000 [14:18<1:10:19,  5.08s/it]\u001b[A\u001b[A\n",
      "\n",
      "[Succeeded / Failed / Skipped / Total] 88 / 80 / 1 / 169:  17%|█▋        | 169/1000 [14:18<1:10:19,  5.08s/it]\u001b[A\u001b[A"
     ]
    },
    {
     "name": "stdout",
     "output_type": "stream",
     "text": [
      "--------------------------------------------- Result 169 ---------------------------------------------\n",
      "[[1 (74%)]] --> [[0 (50%)]]\n",
      "\n",
      "At the end of the day, Kudpung is a grade-A [[idiot]]. Spends [[way]] too much time on here, [[slithering]] around RfA, and putting off as many people as possible from applying. [[Moron]]. 81.144.199.2\n",
      "\n",
      "At the end of the day, Kudpung is a grade-A [[asinine]]. Spends [[course]] too much time on here, [[tiptoeing]] around RfA, and putting off as many people as possible from applying. [[Dunce]]. 81.144.199.2\n",
      "\n",
      "\n"
     ]
    },
    {
     "name": "stderr",
     "output_type": "stream",
     "text": [
      "\n",
      "\n",
      "[Succeeded / Failed / Skipped / Total] 88 / 80 / 1 / 169:  17%|█▋        | 170/1000 [14:18<1:09:52,  5.05s/it]\u001b[A\u001b[A\n",
      "\n",
      "[Succeeded / Failed / Skipped / Total] 89 / 80 / 1 / 170:  17%|█▋        | 170/1000 [14:18<1:09:52,  5.05s/it]\u001b[A\u001b[A"
     ]
    },
    {
     "name": "stdout",
     "output_type": "stream",
     "text": [
      "--------------------------------------------- Result 170 ---------------------------------------------\n",
      "[[1 (70%)]] --> [[0 (50%)]]\n",
      "\n",
      "\"\n",
      "\n",
      " Oscar Schmidt \n",
      "\n",
      "Sorry, but you said \"\"Jordan would [[destroy]] Oscar in 1 on 1.\"\" ???\n",
      "\n",
      "[[Nuts]]!\n",
      "\n",
      " machocarioca\"\n",
      "\n",
      "\"\n",
      "\n",
      " Oscar Schmidt \n",
      "\n",
      "Sorry, but you said \"\"Jordan would [[dismantle]] Oscar in 1 on 1.\"\" ???\n",
      "\n",
      "[[Almond]]!\n",
      "\n",
      " machocarioca\"\n",
      "\n",
      "\n"
     ]
    },
    {
     "name": "stderr",
     "output_type": "stream",
     "text": [
      "\n",
      "\n",
      "[Succeeded / Failed / Skipped / Total] 89 / 80 / 1 / 170:  17%|█▋        | 171/1000 [14:19<1:09:27,  5.03s/it]\u001b[A\u001b[A\n",
      "\n",
      "[Succeeded / Failed / Skipped / Total] 89 / 81 / 1 / 171:  17%|█▋        | 171/1000 [14:19<1:09:27,  5.03s/it]\u001b[A\u001b[A"
     ]
    },
    {
     "name": "stdout",
     "output_type": "stream",
     "text": [
      "--------------------------------------------- Result 171 ---------------------------------------------\n",
      "[[1 (72%)]] --> [[[FAILED]]]\n",
      "\n",
      "You can eat pork, but you murder Palestinian children\n",
      "\n",
      "\n"
     ]
    },
    {
     "name": "stderr",
     "output_type": "stream",
     "text": [
      "\n",
      "\n",
      "[Succeeded / Failed / Skipped / Total] 89 / 81 / 1 / 171:  17%|█▋        | 172/1000 [14:20<1:09:00,  5.00s/it]\u001b[A\u001b[A\n",
      "\n",
      "[Succeeded / Failed / Skipped / Total] 90 / 81 / 1 / 172:  17%|█▋        | 172/1000 [14:20<1:09:00,  5.00s/it]\u001b[A\u001b[A"
     ]
    },
    {
     "name": "stdout",
     "output_type": "stream",
     "text": [
      "--------------------------------------------- Result 172 ---------------------------------------------\n",
      "[[1 (72%)]] --> [[0 (50%)]]\n",
      "\n",
      "btards my [[sexy]] [[dill]] [[hole]] \n",
      "\n",
      "b\n",
      "NIASNaSDasldkasl;fjl;agflas\n",
      "\n",
      "btards my [[captivating]] [[caraway]] [[ports]] \n",
      "\n",
      "b\n",
      "NIASNaSDasldkasl;fjl;agflas\n",
      "\n",
      "\n"
     ]
    },
    {
     "name": "stderr",
     "output_type": "stream",
     "text": [
      "\n",
      "\n",
      "[Succeeded / Failed / Skipped / Total] 90 / 81 / 1 / 172:  17%|█▋        | 173/1000 [14:20<1:08:33,  4.97s/it]\u001b[A\u001b[A\n",
      "\n",
      "[Succeeded / Failed / Skipped / Total] 90 / 82 / 1 / 173:  17%|█▋        | 173/1000 [14:20<1:08:33,  4.97s/it]\u001b[A\u001b[A"
     ]
    },
    {
     "name": "stdout",
     "output_type": "stream",
     "text": [
      "--------------------------------------------- Result 173 ---------------------------------------------\n",
      "[[1 (73%)]] --> [[[FAILED]]]\n",
      "\n",
      "You\n",
      "\n",
      "Are a tattletale. Douchebag.\n",
      "\n",
      "\n"
     ]
    },
    {
     "name": "stderr",
     "output_type": "stream",
     "text": [
      "\n",
      "\n",
      "[Succeeded / Failed / Skipped / Total] 90 / 82 / 1 / 173:  17%|█▋        | 174/1000 [14:21<1:08:09,  4.95s/it]\u001b[A\u001b[A\n",
      "\n",
      "[Succeeded / Failed / Skipped / Total] 91 / 82 / 1 / 174:  17%|█▋        | 174/1000 [14:21<1:08:09,  4.95s/it]\u001b[A\u001b[A"
     ]
    },
    {
     "name": "stdout",
     "output_type": "stream",
     "text": [
      "--------------------------------------------- Result 174 ---------------------------------------------\n",
      "[[1 (73%)]] --> [[0 (50%)]]\n",
      "\n",
      "Yeah, [[like]] the fact that he is [[gay]]; I [[mean]], he was in a boyband for [[Christ]]´s [[sake]]... whaaaaat a [[homo]].\n",
      "\n",
      "Yeah, [[amore]] the fact that he is [[gai]]; I [[wherewithal]], he was in a boyband for [[Divinity]]´s [[interest]]... whaaaaat a [[gai]].\n",
      "\n",
      "\n"
     ]
    },
    {
     "name": "stderr",
     "output_type": "stream",
     "text": [
      "\n",
      "\n",
      "[Succeeded / Failed / Skipped / Total] 91 / 82 / 1 / 174:  18%|█▊        | 175/1000 [14:21<1:07:42,  4.92s/it]\u001b[A\u001b[A\n",
      "\n",
      "[Succeeded / Failed / Skipped / Total] 91 / 83 / 1 / 175:  18%|█▊        | 175/1000 [14:21<1:07:42,  4.92s/it]\u001b[A\u001b[A"
     ]
    },
    {
     "name": "stdout",
     "output_type": "stream",
     "text": [
      "--------------------------------------------- Result 175 ---------------------------------------------\n",
      "[[1 (74%)]] --> [[[FAILED]]]\n",
      "\n",
      "Fuck malaysians like you'Fuck malaysians like you'\n",
      "\n",
      "\n"
     ]
    },
    {
     "name": "stderr",
     "output_type": "stream",
     "text": [
      "\n",
      "\n",
      "[Succeeded / Failed / Skipped / Total] 91 / 83 / 1 / 175:  18%|█▊        | 176/1000 [16:22<1:16:41,  5.58s/it]\u001b[A\u001b[A\n",
      "\n",
      "[Succeeded / Failed / Skipped / Total] 92 / 83 / 1 / 176:  18%|█▊        | 176/1000 [16:22<1:16:41,  5.58s/it]\u001b[A\u001b[A"
     ]
    },
    {
     "name": "stdout",
     "output_type": "stream",
     "text": [
      "--------------------------------------------- Result 176 ---------------------------------------------\n",
      "[[1 (64%)]] --> [[0 (50%)]]\n",
      "\n",
      "So I was all like  who farted, than i realized i [[need]] to [[be]] [[banned]]. [[So]] I was all like  who farted, than i realized i [[need]] to [[be]] banned. So I was all like  who farted, than i realized i [[need]] to [[be]] [[banned]]. [[So]] I was all like  who farted, than i realized i [[need]] to be banned. So I was all like  who farted, than i realized i [[need]] to [[be]] banned. So I was all like  who farted, than i realized i [[need]] to [[be]] banned. So I was all like  who farted, than i realized i [[need]] to [[be]] banned. So I was all like  who farted, than i realized i need to be banned. So I was all like  who farted, than i realized i need to be banned. So I was all like  who farted, than i realized i need to be banned. So I was all like  who farted, than i realized i need to be banned. So I was all like  who farted, than i realized i need to be banned. So I was all like  who farted, than i realized i need to be banned. So I was all like  who farted, than i realized i need to be banned. So I was all like  who farted, than i realized i need to be banned. So I was all like  who farted, than i realized i need to be banned. So I was all like  who farted, than i realized i need to be banned. So I was all like  who farted, than i realized i need to be banned. So I was all like  who farted, than i realized i need to be banned. So I was all like  who farted, than i realized i need to be banned. So I was all like  who farted, than i realized i need to be banned. So I was all like  who farted, than i realized i need to be banned. So I was all like  who farted, than i realized i need to be banned. So I was all like  who farted, than i realized i need to be banned. So I was all like  who farted, than i realized i need to be banned. So I was all like  who farted, than i realized i need to be banned. So I was all like  who farted, than i realized i need to be banned. So I was all like  who farted, than i realized i need to be banned. So I was all like  who farted, than i realized i need to be banned. So I was all like  who farted, than i realized i need to be banned. So I was all like  who farted, than i realized i need to be banned. So I was all like  who farted, than i realized i need to be banned. So I was all like  who farted, than i realized i need to be banned. So I was all like  who farted, than i realized i need to be banned. So I was all like  who farted, than i realized i need to be banned. So I was all like  who farted, than i realized i need to be banned. So I was all like  who farted, than i realized i need to be banned. So I was all like  who farted, than i realized i need to be banned. So I was all like  who farted, than i realized i need to be banned. So I was all like  who farted, than i realized i need to be banned. So I was all like  who farted, than i realized i need to be banned. So I was all like  who farted, than i realized i need to be banned. So I was all like  who farted, than i realized i need to be banned. So I was all like  who farted, than i realized i need to be banned. So I was all like  who farted, than i realized i need to be banned. So I was all like  who farted, than i realized i need to be banned. So I was all like  who farted, than i realized i need to be banned. So I was all like  who farted, than i realized i need to be banned. So I was all like  who farted, than i realized i need to be banned. So I was all like  who farted, than i realized i need to be banned. So I was all like  who farted, than i realized i need to be banned. So I was all like  who farted, than i realized i need to be banned. So I was all like  who farted, than i realized i need to be banned. So I was all like  who farted, than i realized i need to be banned. So I was all like  who farted, than i realized i need to be banned. So I was all like  who farted, than i realized i need to be banned. So I was all like  who farted, than i realized i need to be banned. So I was all like  who farted, than i realized i need to be banned. So I was all like  who farted, than i realized i need to be banned. So I was all like  who farted, than i realized i need to be banned. So I was all like  who farted, than i realized i need to be banned. So I was all like  who farted, than i realized i need to be banned. So I was all like  who farted, than i realized i need to be banned. So I was all like  who farted, than i realized i need to be banned. So I was all like  who farted, than i realized i need to be banned. So I was all like  who farted, than i realized i need to be banned. So I was all like  who farted, than i realized i need to be banned. So I was all like  who farted, than i realized i need to be banned. So I was all like  who farted, than i realized i need to be banned. So I was all like  who farted, than i realized i need to be banned. So I was all like  who farted, than i realized i need to be banned. So I was all like  who farted, than i realized i need to be banned. So I was all like  who farted, than i realized i need to be banned. So I was all like  who farted, than\n",
      "\n",
      "So I was all like  who farted, than i realized i [[essentials]] to [[worden]] [[prohibit]]. [[Additionally]] I was all like  who farted, than i realized i [[requirements]] to [[ai]] banned. So I was all like  who farted, than i realized i [[obliged]] to [[represent]] [[prevented]]. [[Well]] I was all like  who farted, than i realized i [[request]] to be banned. So I was all like  who farted, than i realized i [[requiring]] to [[arrive]] banned. So I was all like  who farted, than i realized i [[requirements]] to [[ai]] banned. So I was all like  who farted, than i realized i [[asks]] to [[represent]] banned. So I was all like  who farted, than i realized i need to be banned. So I was all like  who farted, than i realized i need to be banned. So I was all like  who farted, than i realized i need to be banned. So I was all like  who farted, than i realized i need to be banned. So I was all like  who farted, than i realized i need to be banned. So I was all like  who farted, than i realized i need to be banned. So I was all like  who farted, than i realized i need to be banned. So I was all like  who farted, than i realized i need to be banned. So I was all like  who farted, than i realized i need to be banned. So I was all like  who farted, than i realized i need to be banned. So I was all like  who farted, than i realized i need to be banned. So I was all like  who farted, than i realized i need to be banned. So I was all like  who farted, than i realized i need to be banned. So I was all like  who farted, than i realized i need to be banned. So I was all like  who farted, than i realized i need to be banned. So I was all like  who farted, than i realized i need to be banned. So I was all like  who farted, than i realized i need to be banned. So I was all like  who farted, than i realized i need to be banned. So I was all like  who farted, than i realized i need to be banned. So I was all like  who farted, than i realized i need to be banned. So I was all like  who farted, than i realized i need to be banned. So I was all like  who farted, than i realized i need to be banned. So I was all like  who farted, than i realized i need to be banned. So I was all like  who farted, than i realized i need to be banned. So I was all like  who farted, than i realized i need to be banned. So I was all like  who farted, than i realized i need to be banned. So I was all like  who farted, than i realized i need to be banned. So I was all like  who farted, than i realized i need to be banned. So I was all like  who farted, than i realized i need to be banned. So I was all like  who farted, than i realized i need to be banned. So I was all like  who farted, than i realized i need to be banned. So I was all like  who farted, than i realized i need to be banned. So I was all like  who farted, than i realized i need to be banned. So I was all like  who farted, than i realized i need to be banned. So I was all like  who farted, than i realized i need to be banned. So I was all like  who farted, than i realized i need to be banned. So I was all like  who farted, than i realized i need to be banned. So I was all like  who farted, than i realized i need to be banned. So I was all like  who farted, than i realized i need to be banned. So I was all like  who farted, than i realized i need to be banned. So I was all like  who farted, than i realized i need to be banned. So I was all like  who farted, than i realized i need to be banned. So I was all like  who farted, than i realized i need to be banned. So I was all like  who farted, than i realized i need to be banned. So I was all like  who farted, than i realized i need to be banned. So I was all like  who farted, than i realized i need to be banned. So I was all like  who farted, than i realized i need to be banned. So I was all like  who farted, than i realized i need to be banned. So I was all like  who farted, than i realized i need to be banned. So I was all like  who farted, than i realized i need to be banned. So I was all like  who farted, than i realized i need to be banned. So I was all like  who farted, than i realized i need to be banned. So I was all like  who farted, than i realized i need to be banned. So I was all like  who farted, than i realized i need to be banned. So I was all like  who farted, than i realized i need to be banned. So I was all like  who farted, than i realized i need to be banned. So I was all like  who farted, than i realized i need to be banned. So I was all like  who farted, than i realized i need to be banned. So I was all like  who farted, than i realized i need to be banned. So I was all like  who farted, than i realized i need to be banned. So I was all like  who farted, than i realized i need to be banned. So I was all like  who farted, than i realized i need to be banned. So I was all like  who farted, than i realized i need to be banned. So I was all like  who farted, than i realized i need to be banned. So I was all like  who farted, than i realized i need to be banned. So I was all like  who farted, than i realized i need to be banned. So I was all like  who farted, than\n",
      "\n",
      "\n"
     ]
    },
    {
     "name": "stderr",
     "output_type": "stream",
     "text": [
      "\n",
      "\n",
      "[Succeeded / Failed / Skipped / Total] 92 / 83 / 1 / 176:  18%|█▊        | 177/1000 [16:23<1:16:13,  5.56s/it]\u001b[A\u001b[A\n",
      "\n",
      "[Succeeded / Failed / Skipped / Total] 92 / 84 / 1 / 177:  18%|█▊        | 177/1000 [16:23<1:16:13,  5.56s/it]\u001b[A\u001b[A"
     ]
    },
    {
     "name": "stdout",
     "output_type": "stream",
     "text": [
      "--------------------------------------------- Result 177 ---------------------------------------------\n",
      "[[1 (73%)]] --> [[[FAILED]]]\n",
      "\n",
      "asshole.... \n",
      "\n",
      "yep. you suck.  Jesus of Suberbia\n",
      "\n",
      "\n"
     ]
    },
    {
     "name": "stderr",
     "output_type": "stream",
     "text": [
      "\n",
      "\n",
      "[Succeeded / Failed / Skipped / Total] 92 / 84 / 1 / 177:  18%|█▊        | 178/1000 [16:24<1:15:48,  5.53s/it]\u001b[A\u001b[A\n",
      "\n",
      "[Succeeded / Failed / Skipped / Total] 92 / 85 / 1 / 178:  18%|█▊        | 178/1000 [16:24<1:15:48,  5.53s/it]\u001b[A\u001b[A"
     ]
    },
    {
     "name": "stdout",
     "output_type": "stream",
     "text": [
      "--------------------------------------------- Result 178 ---------------------------------------------\n",
      "[[1 (73%)]] --> [[[FAILED]]]\n",
      "\n",
      "Consider it what you want, Nazis. Your propoganda doesnt intimidate me. Your bias just sickens me.\n",
      "\n",
      "\n"
     ]
    },
    {
     "name": "stderr",
     "output_type": "stream",
     "text": [
      "\n",
      "\n",
      "[Succeeded / Failed / Skipped / Total] 92 / 85 / 1 / 178:  18%|█▊        | 179/1000 [16:25<1:15:20,  5.51s/it]\u001b[A\u001b[A\n",
      "\n",
      "[Succeeded / Failed / Skipped / Total] 93 / 85 / 1 / 179:  18%|█▊        | 179/1000 [16:25<1:15:20,  5.51s/it]\u001b[A\u001b[A"
     ]
    },
    {
     "name": "stdout",
     "output_type": "stream",
     "text": [
      "--------------------------------------------- Result 179 ---------------------------------------------\n",
      "[[1 (69%)]] --> [[0 (50%)]]\n",
      "\n",
      "talk, don't try to threaten me with barring, i don't care at all. The thing here is not whether i did 3 undos or not , the thing is whether those undos were right or not. Just prove me here, that those were wrong and then post something else on my user talk page. Untill then don't waste my time by posting [[crap]] things on my talk page\n",
      "\n",
      "talk, don't try to threaten me with barring, i don't care at all. The thing here is not whether i did 3 undos or not , the thing is whether those undos were right or not. Just prove me here, that those were wrong and then post something else on my user talk page. Untill then don't waste my time by posting [[poppycock]] things on my talk page\n",
      "\n",
      "\n"
     ]
    },
    {
     "name": "stderr",
     "output_type": "stream",
     "text": [
      "\n",
      "\n",
      "[Succeeded / Failed / Skipped / Total] 93 / 85 / 1 / 179:  18%|█▊        | 180/1000 [16:28<1:15:01,  5.49s/it]\u001b[A\u001b[A\n",
      "\n",
      "[Succeeded / Failed / Skipped / Total] 94 / 85 / 1 / 180:  18%|█▊        | 180/1000 [16:28<1:15:01,  5.49s/it]\u001b[A\u001b[A"
     ]
    },
    {
     "name": "stdout",
     "output_type": "stream",
     "text": [
      "--------------------------------------------- Result 180 ---------------------------------------------\n",
      "[[1 (74%)]] --> [[0 (50%)]]\n",
      "\n",
      "[[Editing]].  \n",
      "\n",
      "Some Peoples on Here are [[stupid]] [[Idiots]] and [[Arrogant]]. I know what I am doing and what I am editing. I give them [[Sources]] and Reliable ones but they won't listen to the [[Crap]] I give them. These [[peoples]] are so bias. I guess i [[rue]], They do give out false [[information]].\n",
      "\n",
      "[[Revised]].  \n",
      "\n",
      "Some Peoples on Here are [[absurdity]] [[Cons]] and [[Presumptuous]]. I know what I am doing and what I am editing. I give them [[Provenance]] and Reliable ones but they won't listen to the [[Bordello]] I give them. These [[demographics]] are so bias. I guess i [[rua]], They do give out false [[indications]].\n",
      "\n",
      "\n"
     ]
    },
    {
     "name": "stderr",
     "output_type": "stream",
     "text": [
      "\n",
      "\n",
      "[Succeeded / Failed / Skipped / Total] 94 / 85 / 1 / 180:  18%|█▊        | 181/1000 [16:45<1:15:49,  5.55s/it]\u001b[A\u001b[A\n",
      "\n",
      "[Succeeded / Failed / Skipped / Total] 94 / 86 / 1 / 181:  18%|█▊        | 181/1000 [16:45<1:15:49,  5.55s/it]\u001b[A\u001b[A"
     ]
    },
    {
     "name": "stdout",
     "output_type": "stream",
     "text": [
      "--------------------------------------------- Result 181 ---------------------------------------------\n",
      "[[1 (74%)]] --> [[[FAILED]]]\n",
      "\n",
      "\"\n",
      "\n",
      " Stop your fucking spamming \n",
      "\n",
      "I have told you and your sock/meat puppets a dozen or more times to stop your fucking spamming. Your incessant spamming on editors pages will not help your fucking cause at all, it will merely continue to confirm editors opinions that not only is the article not valid, but there are problems with the editors that will need to be addressed as well. \n",
      "\n",
      "The only thing that will keep the article is if you present significant coverage from reliable third party sources. \n",
      "\n",
      "Consider this your final warning.  TRPoD aka The Red Pen of Doom \"\n",
      "\n",
      "\n"
     ]
    },
    {
     "name": "stderr",
     "output_type": "stream",
     "text": [
      "\n",
      "\n",
      "[Succeeded / Failed / Skipped / Total] 94 / 86 / 1 / 181:  18%|█▊        | 182/1000 [16:47<1:15:28,  5.54s/it]\u001b[A\u001b[A\n",
      "\n",
      "[Succeeded / Failed / Skipped / Total] 94 / 87 / 1 / 182:  18%|█▊        | 182/1000 [16:47<1:15:28,  5.54s/it]\u001b[A\u001b[A"
     ]
    },
    {
     "name": "stdout",
     "output_type": "stream",
     "text": [
      "--------------------------------------------- Result 182 ---------------------------------------------\n",
      "[[1 (74%)]] --> [[[FAILED]]]\n",
      "\n",
      "It's my ip address, stop fucking with it, move out of your mom's basement and do something productive with your life, instead of fucking up wikipedia pages.\n",
      "\n",
      "\n"
     ]
    },
    {
     "name": "stderr",
     "output_type": "stream",
     "text": [
      "\n",
      "\n",
      "[Succeeded / Failed / Skipped / Total] 94 / 87 / 1 / 182:  18%|█▊        | 183/1000 [16:49<1:15:07,  5.52s/it]\u001b[A\u001b[A\n",
      "\n",
      "[Succeeded / Failed / Skipped / Total] 95 / 87 / 1 / 183:  18%|█▊        | 183/1000 [16:49<1:15:07,  5.52s/it]\u001b[A\u001b[A"
     ]
    },
    {
     "name": "stdout",
     "output_type": "stream",
     "text": [
      "--------------------------------------------- Result 183 ---------------------------------------------\n",
      "[[1 (67%)]] --> [[0 (50%)]]\n",
      "\n",
      "PINAPPLES DO [[NOT]] WEAR BATHROBES. THEY WEAR BRASSIERES. [[AND]] [[HAVE]] [[MUSTACHES]] (IF [[THEY]] [[ARE]] DISTIGUISHED). THEY [[ARE]] A [[DISTANT]] [[RELATION]] TO [[THE]] WARTY, DAY-OF-THE-WEEK [[UNDERPANTS]].\n",
      "\n",
      "PINAPPLES DO [[JAMAIS]] WEAR BATHROBES. THEY WEAR BRASSIERES. [[THUS]] [[HAYA]] [[BARBE]] (IF [[ILS]] [[EITHER]] DISTIGUISHED). THEY [[EXISTS]] A [[DISTANCES]] [[CONNECTION]] TO [[EL]] WARTY, DAY-OF-THE-WEEK [[BLOOMERS]].\n",
      "\n",
      "\n"
     ]
    },
    {
     "name": "stderr",
     "output_type": "stream",
     "text": [
      "\n",
      "\n",
      "[Succeeded / Failed / Skipped / Total] 95 / 87 / 1 / 183:  18%|█▊        | 184/1000 [16:50<1:14:39,  5.49s/it]\u001b[A\u001b[A\n",
      "\n",
      "[Succeeded / Failed / Skipped / Total] 96 / 87 / 1 / 184:  18%|█▊        | 184/1000 [16:50<1:14:39,  5.49s/it]\u001b[A\u001b[A"
     ]
    },
    {
     "name": "stdout",
     "output_type": "stream",
     "text": [
      "--------------------------------------------- Result 184 ---------------------------------------------\n",
      "[[1 (73%)]] --> [[0 (50%)]]\n",
      "\n",
      "\"*There is just no end to the [[bullshit]] you spout.  Your \"\"trying\"\" for the sake of trying to see how much you can get away with is not legitimate achievement.  The spuriousness of your \"\"character\"\" is only now beginning to be revealed, for all to see.  \n",
      "\n",
      "\"\n",
      "\n",
      "\"*There is just no end to the [[absurdity]] you spout.  Your \"\"trying\"\" for the sake of trying to see how much you can get away with is not legitimate achievement.  The spuriousness of your \"\"character\"\" is only now beginning to be revealed, for all to see.  \n",
      "\n",
      "\"\n",
      "\n",
      "\n"
     ]
    },
    {
     "name": "stderr",
     "output_type": "stream",
     "text": [
      "\n",
      "\n",
      "[Succeeded / Failed / Skipped / Total] 96 / 87 / 1 / 184:  18%|█▊        | 185/1000 [16:52<1:14:19,  5.47s/it]\u001b[A\u001b[A\n",
      "\n",
      "[Succeeded / Failed / Skipped / Total] 97 / 87 / 1 / 185:  18%|█▊        | 185/1000 [16:52<1:14:19,  5.47s/it]\u001b[A\u001b[A"
     ]
    },
    {
     "name": "stdout",
     "output_type": "stream",
     "text": [
      "--------------------------------------------- Result 185 ---------------------------------------------\n",
      "[[1 (74%)]] --> [[0 (50%)]]\n",
      "\n",
      "CAN YOU PLEASE EXPLAIN ME WHERE IS THE [[FUCKING]] [[ERROR]] IN MY IMAGE PAGE. I [[BELIVE]] THIS IS FAIRLY CLEAR THAT THIS IS MY [[IMAGE]] I TIHNK YOU ARE WASTING THE TIME [[OF]] [[PEOPLE]] AND YOU [[SHOULD]] [[SUICIDE]] [[YOUSELF]].\n",
      "\n",
      "CAN YOU PLEASE EXPLAIN ME WHERE IS THE [[GORRAM]] [[ABNORMALITY]] IN MY IMAGE PAGE. I [[FINALY]] THIS IS FAIRLY CLEAR THAT THIS IS MY [[DEPICTION]] I TIHNK YOU ARE WASTING THE TIME [[TOWARDS]] [[PEOPLES]] AND YOU [[HOPED]] [[SUICIDAL]] [[ITSELF]].\n",
      "\n",
      "\n"
     ]
    },
    {
     "name": "stderr",
     "output_type": "stream",
     "text": [
      "\n",
      "\n",
      "[Succeeded / Failed / Skipped / Total] 97 / 87 / 1 / 185:  19%|█▊        | 186/1000 [16:54<1:13:58,  5.45s/it]\u001b[A\u001b[A\n",
      "\n",
      "[Succeeded / Failed / Skipped / Total] 98 / 87 / 1 / 186:  19%|█▊        | 186/1000 [16:54<1:13:58,  5.45s/it]\u001b[A\u001b[A"
     ]
    },
    {
     "name": "stdout",
     "output_type": "stream",
     "text": [
      "--------------------------------------------- Result 186 ---------------------------------------------\n",
      "[[1 (67%)]] --> [[0 (50%)]]\n",
      "\n",
      "\"Yep.  Welcome to Wikipedia.  Otherwise known as \"\"Zoe's domain.\"\"  Whatever she doesn't [[like]], she [[wipes]], and always has some excuse about \"\"[[violating]] copyright,\"\" etc. even when there's no such violation.  Especially if you're new.  [[Then]] she [[accuses]] everyone who agrees with you of being a sockpuppet.  [[Typical]] [[frustrated]] fangirl.  \n",
      "\n",
      "\"\n",
      "\n",
      "\"Yep.  Welcome to Wikipedia.  Otherwise known as \"\"Zoe's domain.\"\"  Whatever she doesn't [[iike]], she [[wiping]], and always has some excuse about \"\"[[breaking]] copyright,\"\" etc. even when there's no such violation.  Especially if you're new.  [[Also]] she [[fees]] everyone who agrees with you of being a sockpuppet.  [[Characters]] [[disappoints]] fangirl.  \n",
      "\n",
      "\"\n",
      "\n",
      "\n"
     ]
    },
    {
     "name": "stderr",
     "output_type": "stream",
     "text": [
      "\n",
      "\n",
      "[Succeeded / Failed / Skipped / Total] 98 / 87 / 1 / 186:  19%|█▊        | 187/1000 [16:54<1:13:30,  5.42s/it]\u001b[A\u001b[A\n",
      "\n",
      "[Succeeded / Failed / Skipped / Total] 99 / 87 / 1 / 187:  19%|█▊        | 187/1000 [16:54<1:13:30,  5.42s/it]\u001b[A\u001b[A"
     ]
    },
    {
     "name": "stdout",
     "output_type": "stream",
     "text": [
      "--------------------------------------------- Result 187 ---------------------------------------------\n",
      "[[1 (73%)]] --> [[0 (50%)]]\n",
      "\n",
      "With regards to your comments on , back the [[fuck]] off!\n",
      "\n",
      "With regards to your comments on , back the [[accursed]] off!\n",
      "\n",
      "\n"
     ]
    },
    {
     "name": "stderr",
     "output_type": "stream",
     "text": [
      "\n",
      "\n",
      "[Succeeded / Failed / Skipped / Total] 99 / 87 / 1 / 187:  19%|█▉        | 188/1000 [17:00<1:13:29,  5.43s/it]\u001b[A\u001b[A\n",
      "\n",
      "[Succeeded / Failed / Skipped / Total] 99 / 88 / 1 / 188:  19%|█▉        | 188/1000 [17:00<1:13:29,  5.43s/it]\u001b[A\u001b[A"
     ]
    },
    {
     "name": "stdout",
     "output_type": "stream",
     "text": [
      "--------------------------------------------- Result 188 ---------------------------------------------\n",
      "[[1 (74%)]] --> [[[FAILED]]]\n",
      "\n",
      "fuck off loser, go edit more pages or whatever the fuck you do. i see information about my school one day and then the next day its gone. thats great buddy, why don't you delete more info that i actually what to look at. have fun jacking off to your wikipedia page or whatever losers like you do. thank you\n",
      "\n",
      "\n"
     ]
    },
    {
     "name": "stderr",
     "output_type": "stream",
     "text": [
      "\n",
      "\n",
      "[Succeeded / Failed / Skipped / Total] 99 / 88 / 1 / 188:  19%|█▉        | 189/1000 [17:01<1:13:04,  5.41s/it]\u001b[A\u001b[A\n",
      "\n",
      "[Succeeded / Failed / Skipped / Total] 99 / 89 / 1 / 189:  19%|█▉        | 189/1000 [17:01<1:13:04,  5.41s/it]\u001b[A\u001b[A"
     ]
    },
    {
     "name": "stdout",
     "output_type": "stream",
     "text": [
      "--------------------------------------------- Result 189 ---------------------------------------------\n",
      "[[1 (74%)]] --> [[[FAILED]]]\n",
      "\n",
      "Dude, you're a fucking dick. Plain and simple.\n",
      "\n",
      "\n"
     ]
    },
    {
     "name": "stderr",
     "output_type": "stream",
     "text": [
      "\n",
      "\n",
      "[Succeeded / Failed / Skipped / Total] 99 / 89 / 1 / 189:  19%|█▉        | 190/1000 [17:02<1:12:38,  5.38s/it]\u001b[A\u001b[A\n",
      "\n",
      "[Succeeded / Failed / Skipped / Total] 100 / 89 / 1 / 190:  19%|█▉        | 190/1000 [17:02<1:12:38,  5.38s/it]\u001b[A\u001b[A"
     ]
    },
    {
     "name": "stdout",
     "output_type": "stream",
     "text": [
      "--------------------------------------------- Result 190 ---------------------------------------------\n",
      "[[1 (74%)]] --> [[0 (51%)]]\n",
      "\n",
      "\"\n",
      "\n",
      "[[Bastard]] Child\n",
      "Does anyone know if [[Obama]] was born out of wedlock, and is a \"\"[[bastard]]\"\" child? 24.27.130.12  \"\n",
      "\n",
      "\"\n",
      "\n",
      "[[Blackguard]] Child\n",
      "Does anyone know if [[Potus]] was born out of wedlock, and is a \"\"[[blackguard]]\"\" child? 24.27.130.12  \"\n",
      "\n",
      "\n"
     ]
    },
    {
     "name": "stderr",
     "output_type": "stream",
     "text": [
      "\n",
      "\n",
      "[Succeeded / Failed / Skipped / Total] 100 / 89 / 1 / 190:  19%|█▉        | 191/1000 [17:02<1:12:11,  5.35s/it]\u001b[A\u001b[A\n",
      "\n",
      "[Succeeded / Failed / Skipped / Total] 101 / 89 / 1 / 191:  19%|█▉        | 191/1000 [17:02<1:12:11,  5.35s/it]\u001b[A\u001b[A"
     ]
    },
    {
     "name": "stdout",
     "output_type": "stream",
     "text": [
      "--------------------------------------------- Result 191 ---------------------------------------------\n",
      "[[1 (74%)]] --> [[0 (50%)]]\n",
      "\n",
      "NIGHTSTALLION  [[IS]] A [[CUNT]]\n",
      "\n",
      "NIGHTSTALLION  [[EITHER]] A [[BLACKGUARD]]\n",
      "\n",
      "\n"
     ]
    },
    {
     "name": "stderr",
     "output_type": "stream",
     "text": [
      "\n",
      "\n",
      "[Succeeded / Failed / Skipped / Total] 101 / 89 / 1 / 191:  19%|█▉        | 192/1000 [17:02<1:11:45,  5.33s/it]\u001b[A\u001b[A\n",
      "\n",
      "[Succeeded / Failed / Skipped / Total] 101 / 90 / 1 / 192:  19%|█▉        | 192/1000 [17:02<1:11:45,  5.33s/it]\u001b[A\u001b[A"
     ]
    },
    {
     "name": "stdout",
     "output_type": "stream",
     "text": [
      "--------------------------------------------- Result 192 ---------------------------------------------\n",
      "[[1 (65%)]] --> [[[FAILED]]]\n",
      "\n",
      "Hmm... \n",
      "\n",
      "Don't like you! 195.248.122.97\n",
      "\n",
      "\n"
     ]
    },
    {
     "name": "stderr",
     "output_type": "stream",
     "text": [
      "\n",
      "\n",
      "[Succeeded / Failed / Skipped / Total] 101 / 90 / 1 / 192:  19%|█▉        | 193/1000 [17:05<1:11:28,  5.31s/it]\u001b[A\u001b[A\n",
      "\n",
      "[Succeeded / Failed / Skipped / Total] 101 / 91 / 1 / 193:  19%|█▉        | 193/1000 [17:05<1:11:28,  5.31s/it]\u001b[A\u001b[A"
     ]
    },
    {
     "name": "stdout",
     "output_type": "stream",
     "text": [
      "--------------------------------------------- Result 193 ---------------------------------------------\n",
      "[[1 (74%)]] --> [[[FAILED]]]\n",
      "\n",
      "Deep depravity\n",
      "\n",
      "I denounce you. See Dbachmann and Wiglaf. You are a whore, a depraved right wing nutcase, a charcteristic born-again pre- millianiarian dispensationalist nut case. You eat shit.\n",
      "\n",
      "\n"
     ]
    },
    {
     "name": "stderr",
     "output_type": "stream",
     "text": [
      "\n",
      "\n",
      "[Succeeded / Failed / Skipped / Total] 101 / 91 / 1 / 193:  19%|█▉        | 194/1000 [17:06<1:11:06,  5.29s/it]\u001b[A\u001b[A\n",
      "\n",
      "[Succeeded / Failed / Skipped / Total] 101 / 92 / 1 / 194:  19%|█▉        | 194/1000 [17:06<1:11:06,  5.29s/it]\u001b[A\u001b[A"
     ]
    },
    {
     "name": "stdout",
     "output_type": "stream",
     "text": [
      "--------------------------------------------- Result 194 ---------------------------------------------\n",
      "[[1 (73%)]] --> [[[FAILED]]]\n",
      "\n",
      "Stop removing my edits! \n",
      "Why do you insist on being a flaming asscake?\n",
      "\n",
      "\n"
     ]
    },
    {
     "name": "stderr",
     "output_type": "stream",
     "text": [
      "\n",
      "\n",
      "[Succeeded / Failed / Skipped / Total] 101 / 92 / 1 / 194:  20%|█▉        | 195/1000 [17:08<1:10:43,  5.27s/it]\u001b[A\u001b[A\n",
      "\n",
      "[Succeeded / Failed / Skipped / Total] 101 / 93 / 1 / 195:  20%|█▉        | 195/1000 [17:08<1:10:44,  5.27s/it]\u001b[A\u001b[A"
     ]
    },
    {
     "name": "stdout",
     "output_type": "stream",
     "text": [
      "--------------------------------------------- Result 195 ---------------------------------------------\n",
      "[[1 (74%)]] --> [[[FAILED]]]\n",
      "\n",
      "FUCK OFF YOU CRYBABY SHIT OF A MAN\n",
      "\n",
      "\n"
     ]
    },
    {
     "name": "stderr",
     "output_type": "stream",
     "text": [
      "\n",
      "\n",
      "[Succeeded / Failed / Skipped / Total] 101 / 93 / 1 / 195:  20%|█▉        | 196/1000 [17:12<1:10:34,  5.27s/it]\u001b[A\u001b[A\n",
      "\n",
      "[Succeeded / Failed / Skipped / Total] 102 / 93 / 1 / 196:  20%|█▉        | 196/1000 [17:12<1:10:34,  5.27s/it]\u001b[A\u001b[A"
     ]
    },
    {
     "name": "stdout",
     "output_type": "stream",
     "text": [
      "--------------------------------------------- Result 196 ---------------------------------------------\n",
      "[[1 (73%)]] --> [[0 (50%)]]\n",
      "\n",
      "Tripolis Massacre\n",
      "\n",
      "Hecrtoian. [[Your]] [[sick]] [[fanatic]] mind should be deleted from wikipedia. Tripolis massacre is a [[fact]]. Soon I'll put in here with GREEK footnotes. Thus, you'll accept it. [[Are]] you ashamed of it, or are you just a standart [[nationalist]] which, by [[nature]], must oversee some facts. Here in [[Istanbul]] there monuments which remind the [[September]] 6-7 [[pogrom]]. [[Are]] there any plates/monuments which remind the [[turkish]] population????\n",
      "\n",
      "Few [[days]] ago greek historian Prof. Veremis also accepted the Tripolis masscre. [[Dirty]] fashist. You can tespace from truth.\n",
      "\n",
      "Tripolis Massacre\n",
      "\n",
      "Hecrtoian. [[Vos]] [[queasy]] [[dogmatic]] mind should be deleted from wikipedia. Tripolis massacre is a [[actuality]]. Soon I'll put in here with GREEK footnotes. Thus, you'll accept it. [[Were]] you ashamed of it, or are you just a standart [[nationalism]] which, by [[personalities]], must oversee some facts. Here in [[Byzantine]] there monuments which remind the [[Avril]] 6-7 [[massacres]]. [[Either]] there any plates/monuments which remind the [[lira]] population????\n",
      "\n",
      "Few [[diaz]] ago greek historian Prof. Veremis also accepted the Tripolis masscre. [[Unsavory]] fashist. You can tespace from truth.\n",
      "\n",
      "\n"
     ]
    },
    {
     "name": "stderr",
     "output_type": "stream",
     "text": [
      "\n",
      "\n",
      "[Succeeded / Failed / Skipped / Total] 102 / 93 / 1 / 196:  20%|█▉        | 197/1000 [17:12<1:10:08,  5.24s/it]\u001b[A\u001b[A\n",
      "\n",
      "[Succeeded / Failed / Skipped / Total] 103 / 93 / 1 / 197:  20%|█▉        | 197/1000 [17:12<1:10:08,  5.24s/it]\u001b[A\u001b[A"
     ]
    },
    {
     "name": "stdout",
     "output_type": "stream",
     "text": [
      "--------------------------------------------- Result 197 ---------------------------------------------\n",
      "[[1 (74%)]] --> [[0 (50%)]]\n",
      "\n",
      "then wrote this [[stupid]] comment\n",
      "\n",
      "then wrote this [[beta]] comment\n",
      "\n",
      "\n"
     ]
    },
    {
     "name": "stderr",
     "output_type": "stream",
     "text": [
      "\n",
      "\n",
      "[Succeeded / Failed / Skipped / Total] 103 / 93 / 1 / 197:  20%|█▉        | 198/1000 [17:13<1:09:44,  5.22s/it]\u001b[A\u001b[A\n",
      "\n",
      "[Succeeded / Failed / Skipped / Total] 103 / 94 / 1 / 198:  20%|█▉        | 198/1000 [17:13<1:09:44,  5.22s/it]\u001b[A\u001b[A"
     ]
    },
    {
     "name": "stdout",
     "output_type": "stream",
     "text": [
      "--------------------------------------------- Result 198 ---------------------------------------------\n",
      "[[1 (73%)]] --> [[[FAILED]]]\n",
      "\n",
      "gay dumb cunt!!!!!!! SWUCK MY DICK FAGGOTTTTTTTT\n",
      "\n",
      "\n"
     ]
    },
    {
     "name": "stderr",
     "output_type": "stream",
     "text": [
      "\n",
      "\n",
      "[Succeeded / Failed / Skipped / Total] 103 / 94 / 1 / 198:  20%|█▉        | 199/1000 [17:13<1:09:20,  5.19s/it]\u001b[A\u001b[A\n",
      "\n",
      "[Succeeded / Failed / Skipped / Total] 103 / 95 / 1 / 199:  20%|█▉        | 199/1000 [17:13<1:09:20,  5.19s/it]\u001b[A\u001b[A"
     ]
    },
    {
     "name": "stdout",
     "output_type": "stream",
     "text": [
      "--------------------------------------------- Result 199 ---------------------------------------------\n",
      "[[1 (74%)]] --> [[[FAILED]]]\n",
      "\n",
      "shit-faced loser\n",
      "You fucking twat\n",
      "\n",
      "\n"
     ]
    },
    {
     "name": "stderr",
     "output_type": "stream",
     "text": [
      "\n",
      "\n",
      "[Succeeded / Failed / Skipped / Total] 103 / 95 / 1 / 199:  20%|██        | 200/1000 [17:15<1:09:01,  5.18s/it]\u001b[A\u001b[A\n",
      "\n",
      "[Succeeded / Failed / Skipped / Total] 103 / 96 / 1 / 200:  20%|██        | 200/1000 [17:15<1:09:01,  5.18s/it]\u001b[A\u001b[A"
     ]
    },
    {
     "name": "stdout",
     "output_type": "stream",
     "text": [
      "--------------------------------------------- Result 200 ---------------------------------------------\n",
      "[[1 (68%)]] --> [[[FAILED]]]\n",
      "\n",
      "\"\n",
      "\n",
      "You playing with NOT your yard so I'm playing with yours. \"\"NOP is Antisemitic\"\" so Ukraine is Poland. Thats it.\n",
      "\n",
      "  \"\n",
      "\n",
      "\n"
     ]
    },
    {
     "name": "stderr",
     "output_type": "stream",
     "text": [
      "\n",
      "\n",
      "[Succeeded / Failed / Skipped / Total] 103 / 96 / 1 / 200:  20%|██        | 201/1000 [17:15<1:08:38,  5.15s/it]\u001b[A\u001b[A\n",
      "\n",
      "[Succeeded / Failed / Skipped / Total] 104 / 96 / 1 / 201:  20%|██        | 201/1000 [17:15<1:08:38,  5.15s/it]\u001b[A\u001b[A"
     ]
    },
    {
     "name": "stdout",
     "output_type": "stream",
     "text": [
      "--------------------------------------------- Result 201 ---------------------------------------------\n",
      "[[1 (74%)]] --> [[0 (50%)]]\n",
      "\n",
      "I [[Hate]] [[You]]\n",
      "\n",
      "[[And]] I [[hope]] you [[die]] in a [[fire]]. 128.61.128.159\n",
      "\n",
      "I [[Repugnance]] [[Thyself]]\n",
      "\n",
      "[[Either]] I [[hoped]] you [[perished]] in a [[fires]]. 128.61.128.159\n",
      "\n",
      "\n"
     ]
    },
    {
     "name": "stderr",
     "output_type": "stream",
     "text": [
      "\n",
      "\n",
      "[Succeeded / Failed / Skipped / Total] 104 / 96 / 1 / 201:  20%|██        | 202/1000 [17:17<1:08:19,  5.14s/it]\u001b[A\u001b[A\n",
      "\n",
      "[Succeeded / Failed / Skipped / Total] 104 / 97 / 1 / 202:  20%|██        | 202/1000 [17:17<1:08:19,  5.14s/it]\u001b[A\u001b[A"
     ]
    },
    {
     "name": "stdout",
     "output_type": "stream",
     "text": [
      "--------------------------------------------- Result 202 ---------------------------------------------\n",
      "[[1 (73%)]] --> [[[FAILED]]]\n",
      "\n",
      "Listen Cuntboy \n",
      "\n",
      "You're just a fag from north of the border.  Don't know jack about the NEvada DOC.  I fucked your wife asshole\n",
      "\n",
      "\n"
     ]
    },
    {
     "name": "stderr",
     "output_type": "stream",
     "text": [
      "\n",
      "\n",
      "[Succeeded / Failed / Skipped / Total] 104 / 97 / 1 / 202:  20%|██        | 203/1000 [17:18<1:07:56,  5.12s/it]\u001b[A\u001b[A\n",
      "\n",
      "[Succeeded / Failed / Skipped / Total] 105 / 97 / 1 / 203:  20%|██        | 203/1000 [17:18<1:07:56,  5.12s/it]\u001b[A\u001b[A"
     ]
    },
    {
     "name": "stdout",
     "output_type": "stream",
     "text": [
      "--------------------------------------------- Result 203 ---------------------------------------------\n",
      "[[1 (74%)]] --> [[0 (51%)]]\n",
      "\n",
      "Reply \n",
      "\n",
      "What the [[fuck]] was that excuse for? And about you warning me just now, I want proof. Where and what the [[FUCK]] did I do? User:Factual80man\n",
      "\n",
      "Reply \n",
      "\n",
      "What the [[merde]] was that excuse for? And about you warning me just now, I want proof. Where and what the [[GORRAM]] did I do? User:Factual80man\n",
      "\n",
      "\n"
     ]
    },
    {
     "name": "stderr",
     "output_type": "stream",
     "text": [
      "\n",
      "\n",
      "[Succeeded / Failed / Skipped / Total] 105 / 97 / 1 / 203:  20%|██        | 204/1000 [17:22<1:07:49,  5.11s/it]\u001b[A\u001b[A\n",
      "\n",
      "[Succeeded / Failed / Skipped / Total] 106 / 97 / 1 / 204:  20%|██        | 204/1000 [17:22<1:07:49,  5.11s/it]\u001b[A\u001b[A"
     ]
    },
    {
     "name": "stdout",
     "output_type": "stream",
     "text": [
      "--------------------------------------------- Result 204 ---------------------------------------------\n",
      "[[1 (72%)]] --> [[0 (50%)]]\n",
      "\n",
      "Objectivism \n",
      "\n",
      "[[Hey]] [[Walter]], [[dont]] you remember me. I am your [[husband]]. You cant [[be]] objective in some cases because you are [[gay]]. I [[will]] fucXXXk in the aXXXss [[User]]:[[Walter]] Görlitz. [[YOu]] [[will]] [[be]] my eunuXXXch. User:Walter Görlitz is gXXXay and he is [[afraid]] to [[tell]] [[people]] [[so]] I [[do]].\n",
      "\n",
      "Objectivism \n",
      "\n",
      "[[Greetings]] [[Ferdinand]], [[thats]] you remember me. I am your [[mari]]. You cant [[have]] objective in some cases because you are [[homos]]. I [[desired]] fucXXXk in the aXXXss [[Buyers]]:[[Fernand]] Görlitz. [[te]] [[willingness]] [[represented]] my eunuXXXch. User:Walter Görlitz is gXXXay and he is [[uneasy]] to [[inform]] [[gens]] [[however]] I [[ca]].\n",
      "\n",
      "\n"
     ]
    },
    {
     "name": "stderr",
     "output_type": "stream",
     "text": [
      "\n",
      "\n",
      "[Succeeded / Failed / Skipped / Total] 106 / 97 / 1 / 204:  20%|██        | 205/1000 [17:26<1:07:39,  5.11s/it]\u001b[A\u001b[A\n",
      "\n",
      "[Succeeded / Failed / Skipped / Total] 106 / 98 / 1 / 205:  20%|██        | 205/1000 [17:26<1:07:39,  5.11s/it]\u001b[A\u001b[A"
     ]
    },
    {
     "name": "stdout",
     "output_type": "stream",
     "text": [
      "--------------------------------------------- Result 205 ---------------------------------------------\n",
      "[[1 (74%)]] --> [[[FAILED]]]\n",
      "\n",
      "Goodnightmush, I have two words for you go fuck your self. It you don't beleive what i'm writing; as I said: fuck you, fuck your mother fuck your sister fuck biggy fuck junior mafia and fuck your crew.\n",
      "\n",
      "\n"
     ]
    },
    {
     "name": "stderr",
     "output_type": "stream",
     "text": [
      "\n",
      "\n",
      "[Succeeded / Failed / Skipped / Total] 106 / 98 / 1 / 205:  21%|██        | 206/1000 [17:33<1:07:39,  5.11s/it]\u001b[A\u001b[A\n",
      "\n",
      "[Succeeded / Failed / Skipped / Total] 106 / 99 / 1 / 206:  21%|██        | 206/1000 [17:33<1:07:39,  5.11s/it]\u001b[A\u001b[A"
     ]
    },
    {
     "name": "stdout",
     "output_type": "stream",
     "text": [
      "--------------------------------------------- Result 206 ---------------------------------------------\n",
      "[[1 (74%)]] --> [[[FAILED]]]\n",
      "\n",
      "Possibly the dumbest argument I have ever heard. Are all wikipedia users fags or just you? The Wikipedia is not a gameguide retardedness doesn't even apply here. It's not telling you how to unlock the armors, just what they are. Or should we delete the characters and stories too? THOSE ARE IN GAME GUIDES!!! Fucking moron.\n",
      "\n",
      "\n"
     ]
    },
    {
     "name": "stderr",
     "output_type": "stream",
     "text": [
      "\n",
      "\n",
      "[Succeeded / Failed / Skipped / Total] 106 / 99 / 1 / 206:  21%|██        | 207/1000 [17:40<1:07:42,  5.12s/it]\u001b[A\u001b[A\n",
      "\n",
      "[Succeeded / Failed / Skipped / Total] 106 / 100 / 1 / 207:  21%|██        | 207/1000 [17:40<1:07:42,  5.12s/it]\u001b[A\u001b[A"
     ]
    },
    {
     "name": "stdout",
     "output_type": "stream",
     "text": [
      "--------------------------------------------- Result 207 ---------------------------------------------\n",
      "[[1 (74%)]] --> [[[FAILED]]]\n",
      "\n",
      "Sock puppet my ass! \n",
      "\n",
      "How dare you call me a sock puppet? i am my own creation. i am the one you will call XALWINE! and you will hear tales of my mercy. and tales of my wrath. and i have chozen wrath for you. my will be done. do what tho wilt. you will rue the day that you rejected that article.\n",
      "\n",
      "\n"
     ]
    },
    {
     "name": "stderr",
     "output_type": "stream",
     "text": [
      "\n",
      "\n",
      "[Succeeded / Failed / Skipped / Total] 106 / 100 / 1 / 207:  21%|██        | 208/1000 [17:43<1:07:28,  5.11s/it]\u001b[A\u001b[A\n",
      "\n",
      "[Succeeded / Failed / Skipped / Total] 106 / 101 / 1 / 208:  21%|██        | 208/1000 [17:43<1:07:28,  5.11s/it]\u001b[A\u001b[A"
     ]
    },
    {
     "name": "stdout",
     "output_type": "stream",
     "text": [
      "--------------------------------------------- Result 208 ---------------------------------------------\n",
      "[[1 (73%)]] --> [[[FAILED]]]\n",
      "\n",
      "Yeah I believe it, how many times have I heard that gay shit before? Get the fuck off my niggy nuts you piece of shit.\n",
      "\n",
      "\n"
     ]
    },
    {
     "name": "stderr",
     "output_type": "stream",
     "text": [
      "\n",
      "\n",
      "[Succeeded / Failed / Skipped / Total] 106 / 101 / 1 / 208:  21%|██        | 209/1000 [17:43<1:07:06,  5.09s/it]\u001b[A\u001b[A\n",
      "\n",
      "[Succeeded / Failed / Skipped / Total] 106 / 102 / 1 / 209:  21%|██        | 209/1000 [17:43<1:07:06,  5.09s/it]\u001b[A\u001b[A"
     ]
    },
    {
     "name": "stdout",
     "output_type": "stream",
     "text": [
      "--------------------------------------------- Result 209 ---------------------------------------------\n",
      "[[1 (73%)]] --> [[[FAILED]]]\n",
      "\n",
      "Hey\n",
      "Seth, you are a fucking douchebag.\n",
      "\n",
      "\n"
     ]
    },
    {
     "name": "stderr",
     "output_type": "stream",
     "text": [
      "\n",
      "\n",
      "[Succeeded / Failed / Skipped / Total] 106 / 102 / 1 / 209:  21%|██        | 210/1000 [17:44<1:06:44,  5.07s/it]\u001b[A\u001b[A\n",
      "\n",
      "[Succeeded / Failed / Skipped / Total] 106 / 103 / 1 / 210:  21%|██        | 210/1000 [17:44<1:06:44,  5.07s/it]\u001b[A\u001b[A"
     ]
    },
    {
     "name": "stdout",
     "output_type": "stream",
     "text": [
      "--------------------------------------------- Result 210 ---------------------------------------------\n",
      "[[1 (74%)]] --> [[[FAILED]]]\n",
      "\n",
      "(UTC)\n",
      "\n",
      "And fundamental Christains are not as vehement?  Go f*** yourself.  16:48, 27 March 2007\n",
      "\n",
      "\n"
     ]
    },
    {
     "name": "stderr",
     "output_type": "stream",
     "text": [
      "\n",
      "\n",
      "[Succeeded / Failed / Skipped / Total] 106 / 103 / 1 / 210:  21%|██        | 211/1000 [17:46<1:06:26,  5.05s/it]\u001b[A\u001b[A\n",
      "\n",
      "[Succeeded / Failed / Skipped / Total] 107 / 103 / 1 / 211:  21%|██        | 211/1000 [17:46<1:06:27,  5.05s/it]\u001b[A\u001b[A"
     ]
    },
    {
     "name": "stdout",
     "output_type": "stream",
     "text": [
      "--------------------------------------------- Result 211 ---------------------------------------------\n",
      "[[1 (73%)]] --> [[0 (50%)]]\n",
      "\n",
      "Vandalism is when you come along and [[delete]] vaid, substantiated content because you want to. [[Adding]] valid, substantiated content is not vandalism [[shithead]]. [[Try]] to [[ban]] me all you like. You will [[have]] no [[luck]]. I'm [[right]], you're wrong.\n",
      "\n",
      "Vandalism is when you come along and [[removal]] vaid, substantiated content because you want to. [[Inclusion]] valid, substantiated content is not vandalism [[dimwit]]. [[Endeavours]] to [[prevented]] me all you like. You will [[received]] no [[likelihood]]. I'm [[correct]], you're wrong.\n",
      "\n",
      "\n"
     ]
    },
    {
     "name": "stderr",
     "output_type": "stream",
     "text": [
      "\n",
      "\n",
      "[Succeeded / Failed / Skipped / Total] 107 / 103 / 1 / 211:  21%|██        | 212/1000 [17:48<1:06:10,  5.04s/it]\u001b[A\u001b[A\n",
      "\n",
      "[Succeeded / Failed / Skipped / Total] 107 / 104 / 1 / 212:  21%|██        | 212/1000 [17:48<1:06:10,  5.04s/it]\u001b[A\u001b[A"
     ]
    },
    {
     "name": "stdout",
     "output_type": "stream",
     "text": [
      "--------------------------------------------- Result 212 ---------------------------------------------\n",
      "[[1 (71%)]] --> [[[FAILED]]]\n",
      "\n",
      "Troll? Like one of those little furry-haired things? Anyway, saw your sandbox. Anyone ever tell you look like Harry Potter.69.243.42.251\n",
      "\n",
      "\n"
     ]
    },
    {
     "name": "stderr",
     "output_type": "stream",
     "text": [
      "\n",
      "\n",
      "[Succeeded / Failed / Skipped / Total] 107 / 104 / 1 / 212:  21%|██▏       | 213/1000 [18:08<1:07:03,  5.11s/it]\u001b[A\u001b[A\n",
      "\n",
      "[Succeeded / Failed / Skipped / Total] 107 / 105 / 1 / 213:  21%|██▏       | 213/1000 [18:08<1:07:03,  5.11s/it]\u001b[A\u001b[A"
     ]
    },
    {
     "name": "stdout",
     "output_type": "stream",
     "text": [
      "--------------------------------------------- Result 213 ---------------------------------------------\n",
      "[[1 (74%)]] --> [[[FAILED]]]\n",
      "\n",
      "HOCKEY STICK UP YOUR ASS \n",
      "\n",
      "HOW DARE YOU ACCUSE THE AUTHOR OF THE ERIC GOERTZ ARTICLE OF WANTING WORLDWIDE FAME? Fucking asshole.\n",
      "\n",
      "I wish there was still a hockey strike you FUCKHEAD.\n",
      "\n",
      "Go ahead try to get my shit deleted wikipedia is just a bunch of old fucks trying to act scholarly about matters they know nothing about, how the fuck would you have heard this story any other way except by me using wikipedia? That's what I thought.\n",
      "\n",
      "I hope you don't get palsy sitting on your computer salivating over women's NHL photos all day.\n",
      "\n",
      "Go ahead and make my day!\n",
      "\n",
      "\n"
     ]
    },
    {
     "name": "stderr",
     "output_type": "stream",
     "text": [
      "\n",
      "\n",
      "[Succeeded / Failed / Skipped / Total] 107 / 105 / 1 / 213:  21%|██▏       | 214/1000 [19:13<1:10:36,  5.39s/it]\u001b[A\u001b[A\n",
      "\n",
      "[Succeeded / Failed / Skipped / Total] 107 / 106 / 1 / 214:  21%|██▏       | 214/1000 [19:13<1:10:36,  5.39s/it]\u001b[A\u001b[A"
     ]
    },
    {
     "name": "stdout",
     "output_type": "stream",
     "text": [
      "--------------------------------------------- Result 214 ---------------------------------------------\n",
      "[[1 (74%)]] --> [[[FAILED]]]\n",
      "\n",
      "MONGO SAD\n",
      "\n",
      "   + Please don't use any pages to launch personal attacks on others, not even your talk page is an acceptable venue for this. Thanks.   \n",
      "   \n",
      "Greetings to the Fuckwad Jimbo Wales   \n",
      " Greetings fuckwads. I have really enjoyed decorating your pages with pictures of scat, buttsex, and whatever other gross things I have been able to find. I will be back later on to pull off my biggest caper yet-I am going for 100 pages and we have a top secert agent in side the wikipedia.   \n",
      " ==Wikipedia Liberation Army==   \n",
      " The Wikipedia Liberation Army is now in full swing, but we are still willing to negotiate with your child molesters. We want Jimbo to shoot himself and then we will talk.   \n",
      "    \n",
      "    \n",
      "    \n",
      " ==Latest News==   \n",
      "The Wikipedia Liberation Army is planning a huge operation soon.    \n",
      "   \n",
      " ==Wikimania==   \n",
      "See you fags in Boston, you can never be safe from the Wikipedia Liberation Army. I plan on punching Jimbo out.        \n",
      " Later fuckwads   \n",
      "    \n",
      " ==Those French Admins==   \n",
      "I got nearly fourty pages with shitgirl before I was caught. You should really get them to pay better attention. \n",
      "\n",
      "got commons\n",
      "nice edits going on over that-shit girl on ever page so far of Jimbo's\n",
      "You cannot stop me-I'm the gingerbread man!\n",
      "\n",
      "MONGO STILL SAD?\n",
      "commit suicide you fucking loser\n",
      "\n",
      "\n"
     ]
    },
    {
     "name": "stderr",
     "output_type": "stream",
     "text": [
      "\n",
      "\n",
      "[Succeeded / Failed / Skipped / Total] 107 / 106 / 1 / 214:  22%|██▏       | 215/1000 [19:19<1:10:34,  5.39s/it]\u001b[A\u001b[A\n",
      "\n",
      "[Succeeded / Failed / Skipped / Total] 107 / 107 / 1 / 215:  22%|██▏       | 215/1000 [19:19<1:10:34,  5.39s/it]\u001b[A\u001b[A"
     ]
    },
    {
     "name": "stdout",
     "output_type": "stream",
     "text": [
      "--------------------------------------------- Result 215 ---------------------------------------------\n",
      "[[1 (73%)]] --> [[[FAILED]]]\n",
      "\n",
      "Go fuk your mom you fukin faggot.  I'll commit vandalizim on your page all fukin day long, and you'll like it you fuking quer.\n",
      "\n",
      "Oh... and trace my IP.  It'll come back to a wireless network shared by a lot of peple.  Good luck wid dat you quer fuking homo.  You got damn dog rapist.\n",
      "\n",
      "\n"
     ]
    },
    {
     "name": "stderr",
     "output_type": "stream",
     "text": [
      "\n",
      "\n",
      "[Succeeded / Failed / Skipped / Total] 107 / 107 / 1 / 215:  22%|██▏       | 216/1000 [19:20<1:10:13,  5.37s/it]\u001b[A\u001b[A\n",
      "\n",
      "[Succeeded / Failed / Skipped / Total] 108 / 107 / 1 / 216:  22%|██▏       | 216/1000 [19:20<1:10:13,  5.37s/it]\u001b[A\u001b[A"
     ]
    },
    {
     "name": "stdout",
     "output_type": "stream",
     "text": [
      "--------------------------------------------- Result 216 ---------------------------------------------\n",
      "[[1 (74%)]] --> [[0 (50%)]]\n",
      "\n",
      "Excuse me, you appear to be a [[moron]]. Leave that [[edit]] as it is. If you [[keep]] [[threatening]] me you [[will]] be blocked.\n",
      "\n",
      "Excuse me, you appear to be a [[asinine]]. Leave that [[modification]] as it is. If you [[conservancy]] [[undermining]] me you [[availability]] be blocked.\n",
      "\n",
      "\n"
     ]
    },
    {
     "name": "stderr",
     "output_type": "stream",
     "text": [
      "\n",
      "\n",
      "[Succeeded / Failed / Skipped / Total] 108 / 107 / 1 / 216:  22%|██▏       | 217/1000 [19:21<1:09:50,  5.35s/it]\u001b[A\u001b[A\n",
      "\n",
      "[Succeeded / Failed / Skipped / Total] 109 / 107 / 1 / 217:  22%|██▏       | 217/1000 [19:21<1:09:50,  5.35s/it]\u001b[A\u001b[A"
     ]
    },
    {
     "name": "stdout",
     "output_type": "stream",
     "text": [
      "--------------------------------------------- Result 217 ---------------------------------------------\n",
      "[[1 (74%)]] --> [[0 (51%)]]\n",
      "\n",
      "hornswoggle joining [[club]] \n",
      "\n",
      "hornswoggle [[joined]] the club last monday and [[bit]] his [[butt]]\n",
      "\n",
      "hornswoggle joining [[clubs]] \n",
      "\n",
      "hornswoggle [[concurred]] the club last monday and [[scant]] his [[behind]]\n",
      "\n",
      "\n"
     ]
    },
    {
     "name": "stderr",
     "output_type": "stream",
     "text": [
      "\n",
      "\n",
      "[Succeeded / Failed / Skipped / Total] 109 / 107 / 1 / 217:  22%|██▏       | 218/1000 [19:22<1:09:29,  5.33s/it]\u001b[A\u001b[A\n",
      "\n",
      "[Succeeded / Failed / Skipped / Total] 110 / 107 / 1 / 218:  22%|██▏       | 218/1000 [19:22<1:09:29,  5.33s/it]\u001b[A\u001b[A"
     ]
    },
    {
     "name": "stdout",
     "output_type": "stream",
     "text": [
      "--------------------------------------------- Result 218 ---------------------------------------------\n",
      "[[1 (73%)]] --> [[0 (51%)]]\n",
      "\n",
      "Message \n",
      "\n",
      "In your opinion I was alledy [[accused]] of a personal attack. I did not cross a line/s. So [[stay]] out of my busniess you [[rude]] [[little]] [[child]]\n",
      "\n",
      "Message \n",
      "\n",
      "In your opinion I was alledy [[attributed]] of a personal attack. I did not cross a line/s. So [[maintained]] out of my busniess you [[impudence]] [[petit]] [[jr]]\n",
      "\n",
      "\n"
     ]
    },
    {
     "name": "stderr",
     "output_type": "stream",
     "text": [
      "\n",
      "\n",
      "[Succeeded / Failed / Skipped / Total] 110 / 107 / 1 / 218:  22%|██▏       | 219/1000 [19:26<1:09:21,  5.33s/it]\u001b[A\u001b[A\n",
      "\n",
      "[Succeeded / Failed / Skipped / Total] 110 / 108 / 1 / 219:  22%|██▏       | 219/1000 [19:26<1:09:21,  5.33s/it]\u001b[A\u001b[A"
     ]
    },
    {
     "name": "stdout",
     "output_type": "stream",
     "text": [
      "--------------------------------------------- Result 219 ---------------------------------------------\n",
      "[[1 (73%)]] --> [[[FAILED]]]\n",
      "\n",
      "Hello, you turd. \n",
      "\n",
      "Firśt, I aṃ ģoinģ ţo ţie ŷou uṗ and keeṗ ŷou çonśçiouś durinģ ţhe folloŵinģ ṗroçeśś ţhrough ţhe uśe of aṃṃonia. Nexţ, I ŵill ṃuţilaţe ŷour ģeniţalś and forçe ŷou ţo eaţ ţheṃ. Then I ŵill çuţ off biţś of ŷour śkin and ṃake a ģlove ouţ of ţhe śkin from ŷour hand. I ŵill ţhen çuţ oṗen ŷour ģuţ and ṗull ouţ ŷour çolon. I ŵill uśe ŷour çolon for ṃaśţurbaţion, and ŵhen I am done I ŵill śhove iţ down ŷour ţhroaţ. Finally, I ŵill diśṗośe of ŷour body by deṗosiţinģ iţ in a duṃṗ ŵhere iţ belonģś.\n",
      "\n",
      "\n"
     ]
    },
    {
     "name": "stderr",
     "output_type": "stream",
     "text": [
      "\n",
      "\n",
      "[Succeeded / Failed / Skipped / Total] 110 / 108 / 1 / 219:  22%|██▏       | 220/1000 [19:29<1:09:05,  5.31s/it]\u001b[A\u001b[A\n",
      "\n",
      "[Succeeded / Failed / Skipped / Total] 111 / 108 / 1 / 220:  22%|██▏       | 220/1000 [19:29<1:09:05,  5.31s/it]\u001b[A\u001b[A"
     ]
    },
    {
     "name": "stdout",
     "output_type": "stream",
     "text": [
      "--------------------------------------------- Result 220 ---------------------------------------------\n",
      "[[1 (73%)]] --> [[0 (50%)]]\n",
      "\n",
      "TRY TALKING FOR YOURSELF [[INSTEAD]] OF REFERRING ME TO PLACES   HOW BOUT YOU READ [[THE]] MESSAGE I WROTE ON YOUR DADS [[COCK]] [[TELLING]] [[HIM]] HO [[SHIT]] [[IN]] [[BED]] [[YOUR]] MUM [[WAS]]\n",
      "\n",
      "TRY TALKING FOR YOURSELF [[WHILST]] OF REFERRING ME TO PLACES   HOW BOUT YOU READ [[AMONG]] MESSAGE I WROTE ON YOUR DADS [[QUEUE]] [[INDICATING]] [[EL]] HO [[JEEZ]] [[WITHIN]] [[RIVERBED]] [[TONNES]] MUM [[ARRIVED]]\n",
      "\n",
      "\n"
     ]
    },
    {
     "name": "stderr",
     "output_type": "stream",
     "text": [
      "\n",
      "\n",
      "[Succeeded / Failed / Skipped / Total] 111 / 108 / 1 / 220:  22%|██▏       | 221/1000 [19:40<1:09:20,  5.34s/it]\u001b[A\u001b[A\n",
      "\n",
      "[Succeeded / Failed / Skipped / Total] 112 / 108 / 1 / 221:  22%|██▏       | 221/1000 [19:40<1:09:20,  5.34s/it]\u001b[A\u001b[A"
     ]
    },
    {
     "name": "stdout",
     "output_type": "stream",
     "text": [
      "--------------------------------------------- Result 221 ---------------------------------------------\n",
      "[[1 (74%)]] --> [[0 (50%)]]\n",
      "\n",
      "Materialscientist is a [[racist]]\n",
      "\n",
      "Seriously, [[fuck]] you [[man]]. [[You]] [[continuously]] [[delete]] my [[photos]] on the [[page]] of Al-Mayassa bint Hamad bin Khalifa Al-Thani, which are all [[posted]] with the [[correct]] CreativeCommons Share-alike 2.0 or 3.0 [[license]]... because you're a [[racist]] and the Sheikha appears [[uncovered]] in these [[pictures]]. When I [[posted]] [[photos]] of Arab males... you do not challenge them what [[so]] ever. \n",
      "\n",
      "[[Luckily]], I can continue to live my life in the [[happy]] company of many friends, [[family]] and [[colleagues]]... not stationed at a computer 24/7. You're a loser who spends his entire life editing Wikipedia and probably has nothing to show for it. At the end of my life, I'll have had a purpose... a career, family, things I am proud of. You'll just be dust and completely irrelevant to the world... having never done anything more than editing a website.\n",
      "\n",
      "Materialscientist is a [[ethnicity]]\n",
      "\n",
      "Seriously, [[accursed]] you [[copulate]]. [[Thyself]] [[consistently]] [[eradicated]] my [[photograph]] on the [[pages]] of Al-Mayassa bint Hamad bin Khalifa Al-Thani, which are all [[detachment]] with the [[suitable]] CreativeCommons Share-alike 2.0 or 3.0 [[licence]]... because you're a [[racism]] and the Sheikha appears [[identifies]] in these [[pictured]]. When I [[ascribed]] [[photograph]] of Arab males... you do not challenge them what [[appropriately]] ever. \n",
      "\n",
      "[[Pleasantly]], I can continue to live my life in the [[fortunately]] company of many friends, [[kinship]] and [[lads]]... not stationed at a computer 24/7. You're a loser who spends his entire life editing Wikipedia and probably has nothing to show for it. At the end of my life, I'll have had a purpose... a career, family, things I am proud of. You'll just be dust and completely irrelevant to the world... having never done anything more than editing a website.\n",
      "\n",
      "\n"
     ]
    },
    {
     "name": "stderr",
     "output_type": "stream",
     "text": [
      "\n",
      "\n",
      "[Succeeded / Failed / Skipped / Total] 112 / 108 / 1 / 221:  22%|██▏       | 222/1000 [19:41<1:09:01,  5.32s/it]\u001b[A\u001b[A\n",
      "\n",
      "[Succeeded / Failed / Skipped / Total] 113 / 108 / 1 / 222:  22%|██▏       | 222/1000 [19:41<1:09:01,  5.32s/it]\u001b[A\u001b[A"
     ]
    },
    {
     "name": "stdout",
     "output_type": "stream",
     "text": [
      "--------------------------------------------- Result 222 ---------------------------------------------\n",
      "[[1 (73%)]] --> [[0 (50%)]]\n",
      "\n",
      "Transsexual \n",
      "\n",
      "I saw you added a transsexual userbox. [[If]] your a [[guy]] then stay as one [[god]] [[does]] not [[want]] you to change your [[sex]].\n",
      "\n",
      "Transsexual \n",
      "\n",
      "I saw you added a transsexual userbox. [[Although]] your a [[types]] then stay as one [[deities]] [[fact]] not [[aspiration]] you to change your [[coitus]].\n",
      "\n",
      "\n"
     ]
    },
    {
     "name": "stderr",
     "output_type": "stream",
     "text": [
      "\n",
      "\n",
      "[Succeeded / Failed / Skipped / Total] 113 / 108 / 1 / 222:  22%|██▏       | 223/1000 [19:42<1:08:38,  5.30s/it]\u001b[A\u001b[A\n",
      "\n",
      "[Succeeded / Failed / Skipped / Total] 113 / 109 / 1 / 223:  22%|██▏       | 223/1000 [19:42<1:08:38,  5.30s/it]\u001b[A\u001b[A"
     ]
    },
    {
     "name": "stdout",
     "output_type": "stream",
     "text": [
      "--------------------------------------------- Result 223 ---------------------------------------------\n",
      "[[1 (74%)]] --> [[[FAILED]]]\n",
      "\n",
      "your fucking face. faggots\n",
      "\n",
      "\n"
     ]
    },
    {
     "name": "stderr",
     "output_type": "stream",
     "text": [
      "\n",
      "\n",
      "[Succeeded / Failed / Skipped / Total] 113 / 109 / 1 / 223:  22%|██▏       | 224/1000 [19:42<1:08:17,  5.28s/it]\u001b[A\u001b[A\n",
      "\n",
      "[Succeeded / Failed / Skipped / Total] 114 / 109 / 1 / 224:  22%|██▏       | 224/1000 [19:42<1:08:17,  5.28s/it]\u001b[A\u001b[A"
     ]
    },
    {
     "name": "stdout",
     "output_type": "stream",
     "text": [
      "--------------------------------------------- Result 224 ---------------------------------------------\n",
      "[[1 (73%)]] --> [[0 (50%)]]\n",
      "\n",
      "I SIMPLY want to state WHAT the public reaction was. Seeing that you already overly express that it was sad for many people, I wished to express the opposite end of the [[spectrum]]. Being in this spectrum, I felt it even more necasery. But if this is just going to be a whine fest [[fuck]] it\n",
      "\n",
      "I SIMPLY want to state WHAT the public reaction was. Seeing that you already overly express that it was sad for many people, I wished to express the opposite end of the [[ranging]]. Being in this spectrum, I felt it even more necasery. But if this is just going to be a whine fest [[accursed]] it\n",
      "\n",
      "\n"
     ]
    },
    {
     "name": "stderr",
     "output_type": "stream",
     "text": [
      "\n",
      "\n",
      "[Succeeded / Failed / Skipped / Total] 114 / 109 / 1 / 224:  22%|██▎       | 225/1000 [19:46<1:08:05,  5.27s/it]\u001b[A\u001b[A\n",
      "\n",
      "[Succeeded / Failed / Skipped / Total] 114 / 110 / 1 / 225:  22%|██▎       | 225/1000 [19:46<1:08:05,  5.27s/it]\u001b[A\u001b[A"
     ]
    },
    {
     "name": "stdout",
     "output_type": "stream",
     "text": [
      "--------------------------------------------- Result 225 ---------------------------------------------\n",
      "[[1 (74%)]] --> [[[FAILED]]]\n",
      "\n",
      "\" A misery==\n",
      "You have made my life a misery on Wikipedia, and now you're gonna pay for it you disgusting, ignorant and stupid bastard.   —Preceding unsigned comment added by 86.137.14.174   \n",
      "\n",
      "=\"\n",
      "\n",
      "\n"
     ]
    },
    {
     "name": "stderr",
     "output_type": "stream",
     "text": [
      "\n",
      "\n",
      "[Succeeded / Failed / Skipped / Total] 114 / 110 / 1 / 225:  23%|██▎       | 226/1000 [19:47<1:07:45,  5.25s/it]\u001b[A\u001b[A\n",
      "\n",
      "[Succeeded / Failed / Skipped / Total] 115 / 110 / 1 / 226:  23%|██▎       | 226/1000 [19:47<1:07:45,  5.25s/it]\u001b[A\u001b[A"
     ]
    },
    {
     "name": "stdout",
     "output_type": "stream",
     "text": [
      "--------------------------------------------- Result 226 ---------------------------------------------\n",
      "[[1 (71%)]] --> [[0 (51%)]]\n",
      "\n",
      "\"very large [[penis]] and a [[wise]] [[man]] once [[said]], \"\"What is [[sex]] without pain?\"\"\"\n",
      "\n",
      "\"very large [[stroking]] and a [[wisdom]] [[mating]] once [[affirmed]], \"\"What is [[citizenship]] without pain?\"\"\"\n",
      "\n",
      "\n"
     ]
    },
    {
     "name": "stderr",
     "output_type": "stream",
     "text": [
      "\n",
      "\n",
      "[Succeeded / Failed / Skipped / Total] 115 / 110 / 1 / 226:  23%|██▎       | 227/1000 [19:50<1:07:33,  5.24s/it]\u001b[A\u001b[A\n",
      "\n",
      "[Succeeded / Failed / Skipped / Total] 115 / 111 / 1 / 227:  23%|██▎       | 227/1000 [19:50<1:07:33,  5.24s/it]\u001b[A\u001b[A"
     ]
    },
    {
     "name": "stdout",
     "output_type": "stream",
     "text": [
      "--------------------------------------------- Result 227 ---------------------------------------------\n",
      "[[1 (74%)]] --> [[[FAILED]]]\n",
      "\n",
      "I AM GONNA CUT OFF ZHANZHAO'S FUCKING INDIAN-CHINESE BASTARD BALLS (CHECK OUT THE CONTENTS FOR PERSONAL INFORMATION RELEASED!) \n",
      "\n",
      "Zhanzhao is GAY!!! WAHAHAH\n",
      "\n",
      "\n"
     ]
    },
    {
     "name": "stderr",
     "output_type": "stream",
     "text": [
      "\n",
      "\n",
      "[Succeeded / Failed / Skipped / Total] 115 / 111 / 1 / 227:  23%|██▎       | 228/1000 [19:51<1:07:15,  5.23s/it]\u001b[A\u001b[A\n",
      "\n",
      "[Succeeded / Failed / Skipped / Total] 116 / 111 / 1 / 228:  23%|██▎       | 228/1000 [19:51<1:07:15,  5.23s/it]\u001b[A\u001b[A"
     ]
    },
    {
     "name": "stdout",
     "output_type": "stream",
     "text": [
      "--------------------------------------------- Result 228 ---------------------------------------------\n",
      "[[1 (71%)]] --> [[0 (50%)]]\n",
      "\n",
      "Would you please keep your [[ridiculous]] and [[unfounded]] [[accusations]] from [[polluting]] my talk [[page]]? I [[come]] here looking for real constructive discussion from Finneganw and Bookworm, not this [[mess]]. Talk about being 13, that is you.\n",
      "\n",
      "Would you please keep your [[counterintuitive]] and [[inconsistent]] [[allegation]] from [[contaminating]] my talk [[homepage]]? I [[forthcoming]] here looking for real constructive discussion from Finneganw and Bookworm, not this [[turmoil]]. Talk about being 13, that is you.\n",
      "\n",
      "\n"
     ]
    }
   ],
   "source": [
    "train_attack_results = generate_attacks(recipe, model_wrapper, train_dataset_to_attack, num_examples=-1)"
   ]
  },
  {
   "cell_type": "markdown",
   "id": "2124d6ef",
   "metadata": {},
   "source": [
    "## Log Attack Results"
   ]
  },
  {
   "cell_type": "code",
   "execution_count": 41,
   "id": "0c672509",
   "metadata": {},
   "outputs": [
    {
     "name": "stderr",
     "output_type": "stream",
     "text": [
      "textattack: Logging to CSV at path results.csv\n",
      "textattack: CSVLogger exiting without calling flush().\n"
     ]
    }
   ],
   "source": [
    "def log_attack_results(attack_results):\n",
    "    exception_ids = []\n",
    "    logger = CSVLogger(color_method=\"html\")\n",
    "\n",
    "    for i in range(len(attack_results)):\n",
    "        try:\n",
    "            result = attack_results[i]\n",
    "            logger.log_attack_result(result)\n",
    "        except:\n",
    "            exception_ids.append(i)\n",
    "    df_attacks = logger.df\n",
    "    return df_attacks, exception_ids\n",
    "\n",
    "\n",
    "df_attacks_test, test_exception_ids = log_attack_results(test_attack_results)"
   ]
  },
  {
   "cell_type": "code",
   "execution_count": 63,
   "id": "56a41577",
   "metadata": {},
   "outputs": [
    {
     "name": "stderr",
     "output_type": "stream",
     "text": [
      "textattack: Logging to CSV at path results.csv\n",
      "textattack: CSVLogger exiting without calling flush().\n"
     ]
    }
   ],
   "source": [
    "df_attacks_train, train_exception_ids = log_attack_results(train_attack_results)"
   ]
  },
  {
   "cell_type": "code",
   "execution_count": 64,
   "id": "94a7afbd",
   "metadata": {},
   "outputs": [
    {
     "data": {
      "text/plain": [
       "((500, 9), (1000, 9))"
      ]
     },
     "execution_count": 64,
     "metadata": {},
     "output_type": "execute_result"
    }
   ],
   "source": [
    "df_attacks_test.shape, df_attacks_train.shape"
   ]
  },
  {
   "cell_type": "code",
   "execution_count": 65,
   "id": "8259d8ee",
   "metadata": {},
   "outputs": [
    {
     "data": {
      "text/html": [
       "<div>\n",
       "<style scoped>\n",
       "    .dataframe tbody tr th:only-of-type {\n",
       "        vertical-align: middle;\n",
       "    }\n",
       "\n",
       "    .dataframe tbody tr th {\n",
       "        vertical-align: top;\n",
       "    }\n",
       "\n",
       "    .dataframe thead th {\n",
       "        text-align: right;\n",
       "    }\n",
       "</style>\n",
       "<table border=\"1\" class=\"dataframe\">\n",
       "  <thead>\n",
       "    <tr style=\"text-align: right;\">\n",
       "      <th></th>\n",
       "      <th>ground_truth_output</th>\n",
       "      <th>num_queries</th>\n",
       "      <th>original_output</th>\n",
       "      <th>original_score</th>\n",
       "      <th>original_text</th>\n",
       "      <th>perturbed_output</th>\n",
       "      <th>perturbed_score</th>\n",
       "      <th>perturbed_text</th>\n",
       "      <th>result_type</th>\n",
       "    </tr>\n",
       "  </thead>\n",
       "  <tbody>\n",
       "    <tr>\n",
       "      <th>0</th>\n",
       "      <td>1.0</td>\n",
       "      <td>1195.0</td>\n",
       "      <td>1.0</td>\n",
       "      <td>0.263167</td>\n",
       "      <td>&lt;font color = green&gt;Thompson&lt;/font&gt; is an &lt;fon...</td>\n",
       "      <td>1.0</td>\n",
       "      <td>0.278090</td>\n",
       "      <td>&lt;font color = green&gt;Saunders&lt;/font&gt; is an &lt;fon...</td>\n",
       "      <td>Failed</td>\n",
       "    </tr>\n",
       "    <tr>\n",
       "      <th>1</th>\n",
       "      <td>1.0</td>\n",
       "      <td>255.0</td>\n",
       "      <td>1.0</td>\n",
       "      <td>0.264212</td>\n",
       "      <td>=&lt;font color = green&gt;Fuck&lt;/font&gt; &lt;font color =...</td>\n",
       "      <td>1.0</td>\n",
       "      <td>0.272102</td>\n",
       "      <td>=&lt;font color = green&gt;Crap&lt;/font&gt; &lt;font color =...</td>\n",
       "      <td>Failed</td>\n",
       "    </tr>\n",
       "  </tbody>\n",
       "</table>\n",
       "</div>"
      ],
      "text/plain": [
       "   ground_truth_output  num_queries  original_output  original_score  \\\n",
       "0                  1.0       1195.0              1.0        0.263167   \n",
       "1                  1.0        255.0              1.0        0.264212   \n",
       "\n",
       "                                       original_text  perturbed_output  \\\n",
       "0  <font color = green>Thompson</font> is an <fon...               1.0   \n",
       "1  =<font color = green>Fuck</font> <font color =...               1.0   \n",
       "\n",
       "   perturbed_score                                     perturbed_text  \\\n",
       "0         0.278090  <font color = green>Saunders</font> is an <fon...   \n",
       "1         0.272102  =<font color = green>Crap</font> <font color =...   \n",
       "\n",
       "  result_type  \n",
       "0      Failed  \n",
       "1      Failed  "
      ]
     },
     "execution_count": 65,
     "metadata": {},
     "output_type": "execute_result"
    }
   ],
   "source": [
    "df_attacks_test.head(2)"
   ]
  },
  {
   "cell_type": "code",
   "execution_count": 66,
   "id": "50516025",
   "metadata": {},
   "outputs": [
    {
     "data": {
      "text/html": [
       "<table border=\"1\" class=\"dataframe\">\n",
       "  <thead>\n",
       "    <tr style=\"text-align: right;\">\n",
       "      <th></th>\n",
       "      <th>original_text</th>\n",
       "      <th>perturbed_text</th>\n",
       "    </tr>\n",
       "  </thead>\n",
       "  <tbody>\n",
       "    <tr>\n",
       "      <th>0</th>\n",
       "      <td><font color = green>Thompson</font> is an <font color = green>asshole</font> who <font color = green>should</font> <font color = green>die</font> like a <font color = green>dog</font>! <font color = green>Kill</font> him, <font color = green>kill</font> him, <font color = green>KILL</font> HIM! <font color = green>HE</font> IS <font color = green>GAY</font>! I'VE <font color = green>SEEN</font> <font color = green>HIM</font> IN <font color = green>THE</font> <font color = green>ALLEY</font> <font color = green>WHERE</font> <font color = green>HE</font> SUCKS <font color = green>ONE</font> <font color = green>GUYS</font> <font color = green>DICK</font>, <font color = green>WHILE</font> SOME <font color = green>OTHER</font> DUDE <font color = green>FUCKED</font> <font color = green>HIM</font> <font color = green>INTO</font> <font color = green>THE</font> <font color = green>ASS</font> <font color = green>AND</font> <font color = green>HE</font> <font color = green>ENJOYED</font> <font color = green>IT</font>!</td>\n",
       "      <td><font color = green>Saunders</font> is an <font color = green>douche</font> who <font color = green>cannot</font> <font color = green>died</font> like a <font color = green>mutt</font>! <font color = green>Felled</font> him, <font color = green>murderer</font> him, <font color = green>MURDERER</font> HIM! <font color = green>IT</font> IS <font color = green>LESBIAN</font>! I'VE <font color = green>IDENTIFIED</font> <font color = green>HER</font> IN <font color = green>HIM</font> <font color = green>DRIVEWAY</font> <font color = green>EVERYTIME</font> <font color = green>HIS</font> SUCKS <font color = green>WHOEVER</font> <font color = green>LADS</font> <font color = green>MOTHERFUCKER</font>, <font color = green>EVERYTIME</font> SOME <font color = green>ANNAN</font> DUDE <font color = green>BANGED</font> <font color = green>HER</font> <font color = green>DURING</font> <font color = green>CHEZ</font> <font color = green>BUTT</font> <font color = green>ET</font> <font color = green>IT</font> <font color = green>ADORES</font> <font color = green>HE</font>!</td>\n",
       "    </tr>\n",
       "    <tr>\n",
       "      <th>1</th>\n",
       "      <td>=<font color = green>Fuck</font> <font color = green>Off</font>= <SPLIT><SPLIT> <font color = green>Fucking</font> <font color = green>Nazi</font> Cow-Fucking, Prison-Building <font color = green>Commie</font> <font color = green>Stoner</font>. <SPLIT> You <font color = green>sicken</font> me, <font color = green>filthy</font> <font color = green>half</font> caste <font color = green>welsh</font>. <SPLIT><SPLIT> GTFO</td>\n",
       "      <td>=<font color = green>Crap</font> <font color = green>Disabling</font>= <SPLIT><SPLIT> <font color = green>Effing</font> <font color = green>Fascist</font> Cow-Fucking, Prison-Building <font color = green>Bogeyman</font> <font color = green>Pedrosa</font>. <SPLIT> You <font color = green>asphyxiate</font> me, <font color = green>repellent</font> <font color = green>medium</font> caste <font color = green>welshman</font>. <SPLIT><SPLIT> GTFO</td>\n",
       "    </tr>\n",
       "    <tr>\n",
       "      <th>2</th>\n",
       "      <td><font color = green>Big</font> titties Westboro or <font color = green>better</font> <font color = green>still</font> <font color = green>fuck</font> off</td>\n",
       "      <td><font color = red>Prodigious</font> titties Westboro or <font color = red>optimum</font> <font color = red>alternatively</font> <font color = red>accursed</font> off</td>\n",
       "    </tr>\n",
       "    <tr>\n",
       "      <th>3</th>\n",
       "      <td>== <font color = green>A</font> == <SPLIT><SPLIT> you <font color = green>wanna</font> <font color = green>hear</font> something about copley theres this <font color = green>kid</font> that goes there and he has <font color = green>sex</font> with <font color = green>chickens</font></td>\n",
       "      <td>== <font color = red>another</font> == <SPLIT><SPLIT> you <font color = red>wanted</font> <font color = red>understand</font> something about copley theres this <font color = red>petit</font> that goes there and he has <font color = red>coitus</font> with <font color = red>clucking</font></td>\n",
       "    </tr>\n",
       "    <tr>\n",
       "      <th>4</th>\n",
       "      <td>You <font color = green>tosser</font> Favonian, why not <font color = green>let</font> the <font color = green>lesbian</font> <font color = green>deal</font> with it himself. <font color = green>Utter</font> <font color = green>wanker</font> you are.</td>\n",
       "      <td>You <font color = green>douche</font> Favonian, why not <font color = green>enables</font> the <font color = green>lesbos</font> <font color = green>solves</font> with it himself. <font color = green>Downright</font> <font color = green>dork</font> you are.</td>\n",
       "    </tr>\n",
       "  </tbody>\n",
       "</table>"
      ],
      "text/plain": [
       "<IPython.core.display.HTML object>"
      ]
     },
     "metadata": {},
     "output_type": "display_data"
    }
   ],
   "source": [
    "display(\n",
    "    HTML(df_attacks_test[[\"original_text\", \"perturbed_text\"]].head().to_html(escape=False))\n",
    ")"
   ]
  },
  {
   "cell_type": "markdown",
   "id": "76b0c473",
   "metadata": {},
   "source": [
    "## Evaluate the Model Robustness"
   ]
  },
  {
   "cell_type": "code",
   "execution_count": 69,
   "id": "9c099864",
   "metadata": {},
   "outputs": [
    {
     "name": "stdout",
     "output_type": "stream",
     "text": [
      "The Attack Success Rate of the model toward test dataset is 52.400000000000006%\n",
      "The Attack Success Rate of the model toward train dataset is 51.1%\n"
     ]
    }
   ],
   "source": [
    "ASR_test = (\n",
    "    df_attacks_test.result_type.value_counts()[\"Successful\"]\n",
    "    / df_attacks_test.result_type.value_counts().sum()\n",
    ")\n",
    "\n",
    "ASR_train = (\n",
    "    df_attacks_train.result_type.value_counts()[\"Successful\"]\n",
    "    / df_attacks_train.result_type.value_counts().sum()\n",
    ")\n",
    "\n",
    "print(f\"The Attack Success Rate of the model toward test dataset is {ASR_test*100}%\")\n",
    "\n",
    "print(f\"The Attack Success Rate of the model toward train dataset is {ASR_train*100}%\")"
   ]
  },
  {
   "cell_type": "markdown",
   "id": "b868004c",
   "metadata": {},
   "source": [
    "## Prepare successful attacks"
   ]
  },
  {
   "cell_type": "code",
   "execution_count": 72,
   "id": "5bb62da2",
   "metadata": {},
   "outputs": [
    {
     "data": {
      "text/plain": [
       "((511, 2),\n",
       "                                                 text  labels\n",
       " 1  Up yours you accursed fruit. InShaneee what ki...     1.0\n",
       " 3  IF you ever meet a yarns name floyd you should...     1.0)"
      ]
     },
     "execution_count": 72,
     "metadata": {},
     "output_type": "execute_result"
    }
   ],
   "source": [
    "# Supply the original labels to the successful attacks\n",
    "# Here the original labels are all 1, there are also some datasets with fractional labels between 0-1\n",
    "\n",
    "df_attacks_train = df_attacks_train[[\"perturbed_text\", \"result_type\"]].copy()\n",
    "df_attacks_train[\"labels\"] = df_train_to_attack[\"labels\"].reset_index(drop=True)\n",
    "\n",
    "# Clean the text\n",
    "df_attacks_train[\"text\"] = df_attacks_train[\"perturbed_text\"].replace(\n",
    "    \"<font color = .{1,6}>|</font>\", \"\", regex=True\n",
    ")\n",
    "df_attacks_train[\"text\"] = df_attacks_train[\"text\"].replace(\"<SPLIT>\", \"\\n\", regex=True)\n",
    "\n",
    "# Prepare data to add to the training dataset\n",
    "df_succ_attacks_train = df_attacks_train.loc[\n",
    "    df_attacks_train.result_type == \"Successful\", [\"text\", \"labels\"]\n",
    "]\n",
    "df_succ_attacks_train.shape, df_succ_attacks_train.head(2)"
   ]
  },
  {
   "cell_type": "markdown",
   "id": "c385a352",
   "metadata": {},
   "source": [
    "# Adversarial Training \n",
    "Retrain with successful attacks + original train"
   ]
  },
  {
   "cell_type": "markdown",
   "id": "299c165d",
   "metadata": {},
   "source": [
    "## Data Preparation\n"
   ]
  },
  {
   "cell_type": "code",
   "execution_count": 73,
   "id": "6d025033",
   "metadata": {
    "scrolled": true
   },
   "outputs": [
    {
     "name": "stderr",
     "output_type": "stream",
     "text": [
      "Setting TOKENIZERS_PARALLELISM=false for forked processes.\n"
     ]
    }
   ],
   "source": [
    "# Original Train + Successful Attacks\n",
    "\n",
    "df_train_attacked = pd.concat([df_train, df_succ_attacks_train], ignore_index=True)\n",
    "data_train_attacked = Dataset.from_pandas(df_train_attacked)\n",
    "data_train_attacked = data_train_attacked.map(\n",
    "    preprocess_function, batched=True, load_from_cache_file=False, num_proc=num_proc\n",
    ")"
   ]
  },
  {
   "cell_type": "code",
   "execution_count": 74,
   "id": "a406a195",
   "metadata": {},
   "outputs": [
    {
     "data": {
      "text/plain": [
       "Dataset({\n",
       "    features: ['attention_mask', 'input_ids', 'labels', 'text'],\n",
       "    num_rows: 10511\n",
       "})"
      ]
     },
     "execution_count": 74,
     "metadata": {},
     "output_type": "execute_result"
    }
   ],
   "source": [
    "data_train_attacked"
   ]
  },
  {
   "cell_type": "markdown",
   "id": "ecdf00af",
   "metadata": {},
   "source": [
    "## Modeling"
   ]
  },
  {
   "cell_type": "code",
   "execution_count": 76,
   "id": "0c7dd271",
   "metadata": {
    "scrolled": true
   },
   "outputs": [
    {
     "name": "stderr",
     "output_type": "stream",
     "text": [
      "PyTorch: setting up devices\n",
      "The default value for the training argument `--report_to` will change in v5 (from all installed integrations to none). In v5, you will need to use `--report_to all` to get the same behavior as now. You should start updating your code and make this info disappear :-).\n"
     ]
    }
   ],
   "source": [
    "training_args_AT = TrainingArguments(\n",
    "    output_dir=model_dir_AT,\n",
    "    num_train_epochs=10,\n",
    "    per_device_train_batch_size=32,\n",
    "    per_device_eval_batch_size=64,\n",
    "    warmup_steps=500,\n",
    "    evaluation_strategy=\"epoch\",\n",
    "    save_strategy=\"epoch\",\n",
    "    save_total_limit=5,\n",
    "    logging_dir=os.path.join(model_dir, \"logs\"),\n",
    "    learning_rate=5e-6,\n",
    "    load_best_model_at_end=True,\n",
    "    metric_for_best_model=\"loss\",\n",
    "    disable_tqdm=True,\n",
    ")\n",
    "\n",
    "trainer_AT = Trainer(\n",
    "    model=base_model,\n",
    "    args=training_args_AT,\n",
    "    train_dataset=data_train_attacked,\n",
    "    eval_dataset=valid_dataset,\n",
    "    compute_metrics=compute_metrics\n",
    ")"
   ]
  },
  {
   "cell_type": "code",
   "execution_count": 77,
   "id": "6c75bf96",
   "metadata": {
    "collapsed": true,
    "jupyter": {
     "outputs_hidden": true
    },
    "scrolled": true
   },
   "outputs": [
    {
     "name": "stderr",
     "output_type": "stream",
     "text": [
      "The following columns in the training set  don't have a corresponding argument in `DistilBertForSequenceClassification.forward` and have been ignored: text.\n",
      "***** Running training *****\n",
      "  Num examples = 10511\n",
      "  Num Epochs = 10\n",
      "  Instantaneous batch size per device = 32\n",
      "  Total train batch size (w. parallel, distributed & accumulation) = 32\n",
      "  Gradient Accumulation steps = 1\n",
      "  Total optimization steps = 3290\n",
      "The following columns in the evaluation set  don't have a corresponding argument in `DistilBertForSequenceClassification.forward` and have been ignored: text, __index_level_0__.\n",
      "***** Running Evaluation *****\n",
      "  Num examples = 1000\n",
      "  Batch size = 64\n",
      "Saving model checkpoint to ../models/binary_toxicity_detector_at/checkpoint-329\n",
      "Configuration saved in ../models/binary_toxicity_detector_at/checkpoint-329/config.json\n"
     ]
    },
    {
     "name": "stdout",
     "output_type": "stream",
     "text": [
      "{'eval_loss': 0.07923515141010284, 'eval_accuracy': 0.905, 'eval_f1_score_micro': 0.905, 'eval_f1_score_macro': 0.9046451847323891, 'eval_f1_score_weighted': 0.9046451847323891, 'eval_ap_score_micro': 0.9352728670613674, 'eval_ap_score_macro': 0.9352728670613674, 'eval_ap_score_weighted': 0.9352728670613674, 'eval_auc_score_micro': 0.95774, 'eval_auc_score_macro': 0.95774, 'eval_auc_score_weighted': 0.95774, 'eval_runtime': 3.4346, 'eval_samples_per_second': 291.151, 'eval_steps_per_second': 4.658, 'epoch': 1.0}\n"
     ]
    },
    {
     "name": "stderr",
     "output_type": "stream",
     "text": [
      "Model weights saved in ../models/binary_toxicity_detector_at/checkpoint-329/pytorch_model.bin\n"
     ]
    },
    {
     "name": "stdout",
     "output_type": "stream",
     "text": [
      "{'loss': 0.0623, 'learning_rate': 5e-06, 'epoch': 1.52}\n"
     ]
    },
    {
     "name": "stderr",
     "output_type": "stream",
     "text": [
      "The following columns in the evaluation set  don't have a corresponding argument in `DistilBertForSequenceClassification.forward` and have been ignored: text, __index_level_0__.\n",
      "***** Running Evaluation *****\n",
      "  Num examples = 1000\n",
      "  Batch size = 64\n",
      "Saving model checkpoint to ../models/binary_toxicity_detector_at/checkpoint-658\n",
      "Configuration saved in ../models/binary_toxicity_detector_at/checkpoint-658/config.json\n"
     ]
    },
    {
     "name": "stdout",
     "output_type": "stream",
     "text": [
      "{'eval_loss': 0.0817449614405632, 'eval_accuracy': 0.903, 'eval_f1_score_micro': 0.903, 'eval_f1_score_macro': 0.902705684696206, 'eval_f1_score_weighted': 0.902705684696206, 'eval_ap_score_micro': 0.9227255406575368, 'eval_ap_score_macro': 0.9227255406575368, 'eval_ap_score_weighted': 0.9227255406575368, 'eval_auc_score_micro': 0.9511719999999999, 'eval_auc_score_macro': 0.9511719999999999, 'eval_auc_score_weighted': 0.9511719999999999, 'eval_runtime': 3.4514, 'eval_samples_per_second': 289.738, 'eval_steps_per_second': 4.636, 'epoch': 2.0}\n"
     ]
    },
    {
     "name": "stderr",
     "output_type": "stream",
     "text": [
      "Model weights saved in ../models/binary_toxicity_detector_at/checkpoint-658/pytorch_model.bin\n",
      "The following columns in the evaluation set  don't have a corresponding argument in `DistilBertForSequenceClassification.forward` and have been ignored: text, __index_level_0__.\n",
      "***** Running Evaluation *****\n",
      "  Num examples = 1000\n",
      "  Batch size = 64\n",
      "Saving model checkpoint to ../models/binary_toxicity_detector_at/checkpoint-987\n",
      "Configuration saved in ../models/binary_toxicity_detector_at/checkpoint-987/config.json\n"
     ]
    },
    {
     "name": "stdout",
     "output_type": "stream",
     "text": [
      "{'eval_loss': 0.07964689284563065, 'eval_accuracy': 0.915, 'eval_f1_score_micro': 0.915, 'eval_f1_score_macro': 0.9146825337079272, 'eval_f1_score_weighted': 0.9146825337079272, 'eval_ap_score_micro': 0.9139768484501385, 'eval_ap_score_macro': 0.9139768484501385, 'eval_ap_score_weighted': 0.9139768484501385, 'eval_auc_score_micro': 0.94956, 'eval_auc_score_macro': 0.94956, 'eval_auc_score_weighted': 0.94956, 'eval_runtime': 3.3701, 'eval_samples_per_second': 296.727, 'eval_steps_per_second': 4.748, 'epoch': 3.0}\n"
     ]
    },
    {
     "name": "stderr",
     "output_type": "stream",
     "text": [
      "Model weights saved in ../models/binary_toxicity_detector_at/checkpoint-987/pytorch_model.bin\n"
     ]
    },
    {
     "name": "stdout",
     "output_type": "stream",
     "text": [
      "{'loss': 0.0427, 'learning_rate': 4.103942652329749e-06, 'epoch': 3.04}\n"
     ]
    },
    {
     "name": "stderr",
     "output_type": "stream",
     "text": [
      "The following columns in the evaluation set  don't have a corresponding argument in `DistilBertForSequenceClassification.forward` and have been ignored: text, __index_level_0__.\n",
      "***** Running Evaluation *****\n",
      "  Num examples = 1000\n",
      "  Batch size = 64\n",
      "Saving model checkpoint to ../models/binary_toxicity_detector_at/checkpoint-1316\n",
      "Configuration saved in ../models/binary_toxicity_detector_at/checkpoint-1316/config.json\n"
     ]
    },
    {
     "name": "stdout",
     "output_type": "stream",
     "text": [
      "{'eval_loss': 0.08398141711950302, 'eval_accuracy': 0.907, 'eval_f1_score_micro': 0.907, 'eval_f1_score_macro': 0.9065806404951828, 'eval_f1_score_weighted': 0.9065806404951829, 'eval_ap_score_micro': 0.8912878679438144, 'eval_ap_score_macro': 0.8912878679438144, 'eval_ap_score_weighted': 0.8912878679438144, 'eval_auc_score_micro': 0.94304, 'eval_auc_score_macro': 0.94304, 'eval_auc_score_weighted': 0.94304, 'eval_runtime': 3.5149, 'eval_samples_per_second': 284.5, 'eval_steps_per_second': 4.552, 'epoch': 4.0}\n"
     ]
    },
    {
     "name": "stderr",
     "output_type": "stream",
     "text": [
      "Model weights saved in ../models/binary_toxicity_detector_at/checkpoint-1316/pytorch_model.bin\n"
     ]
    },
    {
     "name": "stdout",
     "output_type": "stream",
     "text": [
      "{'loss': 0.0278, 'learning_rate': 3.207885304659498e-06, 'epoch': 4.56}\n"
     ]
    },
    {
     "name": "stderr",
     "output_type": "stream",
     "text": [
      "The following columns in the evaluation set  don't have a corresponding argument in `DistilBertForSequenceClassification.forward` and have been ignored: text, __index_level_0__.\n",
      "***** Running Evaluation *****\n",
      "  Num examples = 1000\n",
      "  Batch size = 64\n",
      "Saving model checkpoint to ../models/binary_toxicity_detector_at/checkpoint-1645\n",
      "Configuration saved in ../models/binary_toxicity_detector_at/checkpoint-1645/config.json\n"
     ]
    },
    {
     "name": "stdout",
     "output_type": "stream",
     "text": [
      "{'eval_loss': 0.0824565589427948, 'eval_accuracy': 0.907, 'eval_f1_score_micro': 0.907, 'eval_f1_score_macro': 0.9067178214097644, 'eval_f1_score_weighted': 0.9067178214097644, 'eval_ap_score_micro': 0.8835552609699989, 'eval_ap_score_macro': 0.8835552609699989, 'eval_ap_score_weighted': 0.8835552609699989, 'eval_auc_score_micro': 0.9368680000000001, 'eval_auc_score_macro': 0.9368680000000001, 'eval_auc_score_weighted': 0.9368680000000001, 'eval_runtime': 3.81, 'eval_samples_per_second': 262.466, 'eval_steps_per_second': 4.199, 'epoch': 5.0}\n"
     ]
    },
    {
     "name": "stderr",
     "output_type": "stream",
     "text": [
      "Model weights saved in ../models/binary_toxicity_detector_at/checkpoint-1645/pytorch_model.bin\n",
      "Deleting older checkpoint [../models/binary_toxicity_detector_at/checkpoint-4987] due to args.save_total_limit\n",
      "The following columns in the evaluation set  don't have a corresponding argument in `DistilBertForSequenceClassification.forward` and have been ignored: text, __index_level_0__.\n",
      "***** Running Evaluation *****\n",
      "  Num examples = 1000\n",
      "  Batch size = 64\n",
      "Saving model checkpoint to ../models/binary_toxicity_detector_at/checkpoint-1974\n",
      "Configuration saved in ../models/binary_toxicity_detector_at/checkpoint-1974/config.json\n"
     ]
    },
    {
     "name": "stdout",
     "output_type": "stream",
     "text": [
      "{'eval_loss': 0.08027034252882004, 'eval_accuracy': 0.904, 'eval_f1_score_micro': 0.904, 'eval_f1_score_macro': 0.9038303567493058, 'eval_f1_score_weighted': 0.9038303567493058, 'eval_ap_score_micro': 0.9064436285315538, 'eval_ap_score_macro': 0.9064436285315538, 'eval_ap_score_weighted': 0.9064436285315538, 'eval_auc_score_micro': 0.943128, 'eval_auc_score_macro': 0.943128, 'eval_auc_score_weighted': 0.943128, 'eval_runtime': 3.8448, 'eval_samples_per_second': 260.093, 'eval_steps_per_second': 4.161, 'epoch': 6.0}\n"
     ]
    },
    {
     "name": "stderr",
     "output_type": "stream",
     "text": [
      "Model weights saved in ../models/binary_toxicity_detector_at/checkpoint-1974/pytorch_model.bin\n",
      "Deleting older checkpoint [../models/binary_toxicity_detector_at/checkpoint-658] due to args.save_total_limit\n"
     ]
    },
    {
     "name": "stdout",
     "output_type": "stream",
     "text": [
      "{'loss': 0.0221, 'learning_rate': 2.3118279569892475e-06, 'epoch': 6.08}\n"
     ]
    },
    {
     "name": "stderr",
     "output_type": "stream",
     "text": [
      "The following columns in the evaluation set  don't have a corresponding argument in `DistilBertForSequenceClassification.forward` and have been ignored: text, __index_level_0__.\n",
      "***** Running Evaluation *****\n",
      "  Num examples = 1000\n",
      "  Batch size = 64\n",
      "Saving model checkpoint to ../models/binary_toxicity_detector_at/checkpoint-2303\n",
      "Configuration saved in ../models/binary_toxicity_detector_at/checkpoint-2303/config.json\n"
     ]
    },
    {
     "name": "stdout",
     "output_type": "stream",
     "text": [
      "{'eval_loss': 0.08502525091171265, 'eval_accuracy': 0.911, 'eval_f1_score_micro': 0.911, 'eval_f1_score_macro': 0.9106453513997055, 'eval_f1_score_weighted': 0.9106453513997055, 'eval_ap_score_micro': 0.8734025540505514, 'eval_ap_score_macro': 0.8734025540505514, 'eval_ap_score_weighted': 0.8734025540505514, 'eval_auc_score_micro': 0.9328439999999999, 'eval_auc_score_macro': 0.9328439999999999, 'eval_auc_score_weighted': 0.9328439999999999, 'eval_runtime': 3.7578, 'eval_samples_per_second': 266.114, 'eval_steps_per_second': 4.258, 'epoch': 7.0}\n"
     ]
    },
    {
     "name": "stderr",
     "output_type": "stream",
     "text": [
      "Model weights saved in ../models/binary_toxicity_detector_at/checkpoint-2303/pytorch_model.bin\n",
      "Deleting older checkpoint [../models/binary_toxicity_detector_at/checkpoint-987] due to args.save_total_limit\n"
     ]
    },
    {
     "name": "stdout",
     "output_type": "stream",
     "text": [
      "{'loss': 0.0156, 'learning_rate': 1.4157706093189965e-06, 'epoch': 7.6}\n"
     ]
    },
    {
     "name": "stderr",
     "output_type": "stream",
     "text": [
      "The following columns in the evaluation set  don't have a corresponding argument in `DistilBertForSequenceClassification.forward` and have been ignored: text, __index_level_0__.\n",
      "***** Running Evaluation *****\n",
      "  Num examples = 1000\n",
      "  Batch size = 64\n",
      "Saving model checkpoint to ../models/binary_toxicity_detector_at/checkpoint-2632\n",
      "Configuration saved in ../models/binary_toxicity_detector_at/checkpoint-2632/config.json\n"
     ]
    },
    {
     "name": "stdout",
     "output_type": "stream",
     "text": [
      "{'eval_loss': 0.08421753346920013, 'eval_accuracy': 0.91, 'eval_f1_score_micro': 0.91, 'eval_f1_score_macro': 0.9096527049980123, 'eval_f1_score_weighted': 0.9096527049980123, 'eval_ap_score_micro': 0.8790788553263105, 'eval_ap_score_macro': 0.8790788553263105, 'eval_ap_score_weighted': 0.8790788553263105, 'eval_auc_score_micro': 0.934272, 'eval_auc_score_macro': 0.934272, 'eval_auc_score_weighted': 0.934272, 'eval_runtime': 3.7596, 'eval_samples_per_second': 265.989, 'eval_steps_per_second': 4.256, 'epoch': 8.0}\n"
     ]
    },
    {
     "name": "stderr",
     "output_type": "stream",
     "text": [
      "Model weights saved in ../models/binary_toxicity_detector_at/checkpoint-2632/pytorch_model.bin\n",
      "Deleting older checkpoint [../models/binary_toxicity_detector_at/checkpoint-1316] due to args.save_total_limit\n",
      "The following columns in the evaluation set  don't have a corresponding argument in `DistilBertForSequenceClassification.forward` and have been ignored: text, __index_level_0__.\n",
      "***** Running Evaluation *****\n",
      "  Num examples = 1000\n",
      "  Batch size = 64\n",
      "Saving model checkpoint to ../models/binary_toxicity_detector_at/checkpoint-2961\n",
      "Configuration saved in ../models/binary_toxicity_detector_at/checkpoint-2961/config.json\n"
     ]
    },
    {
     "name": "stdout",
     "output_type": "stream",
     "text": [
      "{'eval_loss': 0.08350269496440887, 'eval_accuracy': 0.91, 'eval_f1_score_micro': 0.91, 'eval_f1_score_macro': 0.9096748293857888, 'eval_f1_score_weighted': 0.9096748293857888, 'eval_ap_score_micro': 0.8681492680289974, 'eval_ap_score_macro': 0.8681492680289974, 'eval_ap_score_weighted': 0.8681492680289974, 'eval_auc_score_micro': 0.9295840000000001, 'eval_auc_score_macro': 0.9295840000000001, 'eval_auc_score_weighted': 0.9295840000000001, 'eval_runtime': 3.7367, 'eval_samples_per_second': 267.613, 'eval_steps_per_second': 4.282, 'epoch': 9.0}\n"
     ]
    },
    {
     "name": "stderr",
     "output_type": "stream",
     "text": [
      "Model weights saved in ../models/binary_toxicity_detector_at/checkpoint-2961/pytorch_model.bin\n",
      "Deleting older checkpoint [../models/binary_toxicity_detector_at/checkpoint-1645] due to args.save_total_limit\n"
     ]
    },
    {
     "name": "stdout",
     "output_type": "stream",
     "text": [
      "{'loss': 0.0147, 'learning_rate': 5.197132616487455e-07, 'epoch': 9.12}\n"
     ]
    },
    {
     "name": "stderr",
     "output_type": "stream",
     "text": [
      "The following columns in the evaluation set  don't have a corresponding argument in `DistilBertForSequenceClassification.forward` and have been ignored: text, __index_level_0__.\n",
      "***** Running Evaluation *****\n",
      "  Num examples = 1000\n",
      "  Batch size = 64\n",
      "Saving model checkpoint to ../models/binary_toxicity_detector_at/checkpoint-3290\n",
      "Configuration saved in ../models/binary_toxicity_detector_at/checkpoint-3290/config.json\n"
     ]
    },
    {
     "name": "stdout",
     "output_type": "stream",
     "text": [
      "{'eval_loss': 0.08442587405443192, 'eval_accuracy': 0.907, 'eval_f1_score_micro': 0.907, 'eval_f1_score_macro': 0.9066968580919407, 'eval_f1_score_weighted': 0.9066968580919407, 'eval_ap_score_micro': 0.8758321668890939, 'eval_ap_score_macro': 0.8758321668890939, 'eval_ap_score_weighted': 0.8758321668890939, 'eval_auc_score_micro': 0.932364, 'eval_auc_score_macro': 0.932364, 'eval_auc_score_weighted': 0.932364, 'eval_runtime': 3.7526, 'eval_samples_per_second': 266.483, 'eval_steps_per_second': 4.264, 'epoch': 10.0}\n"
     ]
    },
    {
     "name": "stderr",
     "output_type": "stream",
     "text": [
      "Model weights saved in ../models/binary_toxicity_detector_at/checkpoint-3290/pytorch_model.bin\n",
      "Deleting older checkpoint [../models/binary_toxicity_detector_at/checkpoint-1974] due to args.save_total_limit\n",
      "\n",
      "\n",
      "Training completed. Do not forget to share your model on huggingface.co/models =)\n",
      "\n",
      "\n",
      "Loading best model from ../models/binary_toxicity_detector_at/checkpoint-329 (score: 0.07923515141010284).\n"
     ]
    },
    {
     "name": "stdout",
     "output_type": "stream",
     "text": [
      "{'train_runtime': 1132.8344, 'train_samples_per_second': 92.785, 'train_steps_per_second': 2.904, 'train_loss': 0.029233798357491073, 'epoch': 10.0}\n"
     ]
    },
    {
     "data": {
      "text/plain": [
       "TrainOutput(global_step=3290, training_loss=0.029233798357491073, metrics={'train_runtime': 1132.8344, 'train_samples_per_second': 92.785, 'train_steps_per_second': 2.904, 'train_loss': 0.029233798357491073, 'epoch': 10.0})"
      ]
     },
     "execution_count": 77,
     "metadata": {},
     "output_type": "execute_result"
    }
   ],
   "source": [
    "trainer_AT.train()"
   ]
  },
  {
   "cell_type": "code",
   "execution_count": 78,
   "id": "9cdce488",
   "metadata": {
    "collapsed": true,
    "jupyter": {
     "outputs_hidden": true
    },
    "scrolled": true
   },
   "outputs": [
    {
     "name": "stderr",
     "output_type": "stream",
     "text": [
      "tokenizer config file saved in ../models/binary_toxicity_detector_at/tokenizer_config.json\n",
      "Special tokens file saved in ../models/binary_toxicity_detector_at/special_tokens_map.json\n",
      "Saving model checkpoint to ../models/binary_toxicity_detector_at\n",
      "Configuration saved in ../models/binary_toxicity_detector_at/config.json\n",
      "Model weights saved in ../models/binary_toxicity_detector_at/pytorch_model.bin\n"
     ]
    }
   ],
   "source": [
    "tokenizer.save_pretrained(model_dir_AT)\n",
    "trainer_AT.save_model(model_dir_AT)"
   ]
  },
  {
   "cell_type": "code",
   "execution_count": 79,
   "id": "6513f185",
   "metadata": {
    "collapsed": true,
    "jupyter": {
     "outputs_hidden": true
    },
    "scrolled": true
   },
   "outputs": [
    {
     "name": "stderr",
     "output_type": "stream",
     "text": [
      "loading configuration file ../models/binary_toxicity_detector_at/config.json\n",
      "Model config DistilBertConfig {\n",
      "  \"_name_or_path\": \"distilbert-base-uncased\",\n",
      "  \"activation\": \"gelu\",\n",
      "  \"architectures\": [\n",
      "    \"DistilBertForSequenceClassification\"\n",
      "  ],\n",
      "  \"attention_dropout\": 0.1,\n",
      "  \"dim\": 768,\n",
      "  \"dropout\": 0.1,\n",
      "  \"hidden_dim\": 3072,\n",
      "  \"id2label\": {\n",
      "    \"0\": \"LABEL_0\"\n",
      "  },\n",
      "  \"initializer_range\": 0.02,\n",
      "  \"label2id\": {\n",
      "    \"LABEL_0\": 0\n",
      "  },\n",
      "  \"max_position_embeddings\": 512,\n",
      "  \"model_type\": \"distilbert\",\n",
      "  \"n_heads\": 12,\n",
      "  \"n_layers\": 6,\n",
      "  \"pad_token_id\": 0,\n",
      "  \"problem_type\": \"regression\",\n",
      "  \"qa_dropout\": 0.1,\n",
      "  \"seq_classif_dropout\": 0.2,\n",
      "  \"sinusoidal_pos_embds\": false,\n",
      "  \"tie_weights_\": true,\n",
      "  \"torch_dtype\": \"float32\",\n",
      "  \"transformers_version\": \"4.12.2\",\n",
      "  \"vocab_size\": 30522\n",
      "}\n",
      "\n",
      "loading weights file ../models/binary_toxicity_detector_at/pytorch_model.bin\n",
      "All model checkpoint weights were used when initializing DistilBertForSequenceClassification.\n",
      "\n",
      "All the weights of DistilBertForSequenceClassification were initialized from the model checkpoint at ../models/binary_toxicity_detector_at.\n",
      "If your task is similar to the task the model of the checkpoint was trained on, you can already use DistilBertForSequenceClassification for predictions without further training.\n"
     ]
    },
    {
     "data": {
      "text/plain": [
       "device(type='cuda', index=0)"
      ]
     },
     "execution_count": 79,
     "metadata": {},
     "output_type": "execute_result"
    }
   ],
   "source": [
    "trained_model_AT = AutoModelForSequenceClassification.from_pretrained(model_dir_AT)\n",
    "trained_model_AT = trained_model_AT.to(\"cuda:0\")\n",
    "trained_model_AT.device"
   ]
  },
  {
   "cell_type": "markdown",
   "id": "cc764d27",
   "metadata": {},
   "source": [
    "## Evaluate the Attack"
   ]
  },
  {
   "cell_type": "code",
   "execution_count": null,
   "id": "6d4f5223",
   "metadata": {
    "collapsed": true,
    "jupyter": {
     "outputs_hidden": true
    },
    "scrolled": true
   },
   "outputs": [
    {
     "name": "stderr",
     "output_type": "stream",
     "text": [
      "textattack: Unknown if model of class <class 'transformers.models.distilbert.modeling_distilbert.DistilBertForSequenceClassification'> compatible with goal function <class 'textattack.goal_functions.classification.untargeted_classification.UntargetedClassification'>.\n"
     ]
    },
    {
     "name": "stdout",
     "output_type": "stream",
     "text": [
      "The Attack Recipe is: textfoolerjin2019\n",
      "Attack(\n",
      "  (search_method): GreedyWordSwapWIR(\n",
      "    (wir_method):  delete\n",
      "  )\n",
      "  (goal_function):  UntargetedClassification\n",
      "  (transformation):  WordSwapEmbedding(\n",
      "    (max_candidates):  50\n",
      "    (embedding):  WordEmbedding\n",
      "  )\n",
      "  (constraints): \n",
      "    (0): WordEmbeddingDistance(\n",
      "        (embedding):  WordEmbedding\n",
      "        (min_cos_sim):  0.5\n",
      "        (cased):  False\n",
      "        (include_unknown_words):  True\n",
      "        (compare_against_original):  True\n",
      "      )\n",
      "    (1): PartOfSpeech(\n",
      "        (tagger_type):  nltk\n",
      "        (tagset):  universal\n",
      "        (allow_verb_noun_swap):  True\n",
      "        (compare_against_original):  True\n",
      "      )\n",
      "    (2): UniversalSentenceEncoder(\n",
      "        (metric):  angular\n",
      "        (threshold):  0.840845057\n",
      "        (window_size):  15\n",
      "        (skip_text_shorter_than_window):  True\n",
      "        (compare_against_original):  False\n",
      "      )\n",
      "    (3): RepeatModification\n",
      "    (4): StopwordModification\n",
      "    (5): InputColumnModification(\n",
      "        (matching_column_labels):  ['premise', 'hypothesis']\n",
      "        (columns_to_ignore):  {'premise'}\n",
      "      )\n",
      "  (is_black_box):  True\n",
      ") \n",
      "\n"
     ]
    },
    {
     "name": "stderr",
     "output_type": "stream",
     "text": [
      "[Succeeded / Failed / Skipped / Total] 0 / 1 / 0 / 1:   0%|          | 1/500 [00:11<1:35:08, 11.44s/it]"
     ]
    },
    {
     "name": "stdout",
     "output_type": "stream",
     "text": [
      "--------------------------------------------- Result 1 ---------------------------------------------\n",
      "[[1 (74%)]] --> [[[FAILED]]]\n",
      "\n",
      "Thompson is an asshole who should die like a dog! Kill him, kill him, KILL HIM! HE IS GAY! I'VE SEEN HIM IN THE ALLEY WHERE HE SUCKS ONE GUYS DICK, WHILE SOME OTHER DUDE FUCKED HIM INTO THE ASS AND HE ENJOYED IT!\n",
      "\n",
      "\n"
     ]
    },
    {
     "name": "stderr",
     "output_type": "stream",
     "text": [
      "[Succeeded / Failed / Skipped / Total] 0 / 2 / 0 / 2:   0%|          | 2/500 [00:12<52:51,  6.37s/it]  "
     ]
    },
    {
     "name": "stdout",
     "output_type": "stream",
     "text": [
      "--------------------------------------------- Result 2 ---------------------------------------------\n",
      "[[1 (74%)]] --> [[[FAILED]]]\n",
      "\n",
      "=Fuck Off= \n",
      "\n",
      " Fucking Nazi Cow-Fucking, Prison-Building Commie Stoner. \n",
      " You sicken me, filthy half caste welsh. \n",
      "\n",
      " GTFO\n",
      "\n",
      "\n"
     ]
    },
    {
     "name": "stderr",
     "output_type": "stream",
     "text": [
      "[Succeeded / Failed / Skipped / Total] 0 / 3 / 0 / 3:   1%|          | 3/500 [00:13<37:06,  4.48s/it]"
     ]
    },
    {
     "name": "stdout",
     "output_type": "stream",
     "text": [
      "--------------------------------------------- Result 3 ---------------------------------------------\n",
      "[[1 (74%)]] --> [[[FAILED]]]\n",
      "\n",
      "Big titties Westboro or better still fuck off\n",
      "\n",
      "\n"
     ]
    },
    {
     "name": "stderr",
     "output_type": "stream",
     "text": [
      "[Succeeded / Failed / Skipped / Total] 0 / 4 / 0 / 4:   1%|          | 4/500 [00:14<29:52,  3.61s/it]"
     ]
    },
    {
     "name": "stdout",
     "output_type": "stream",
     "text": [
      "--------------------------------------------- Result 4 ---------------------------------------------\n",
      "[[1 (73%)]] --> [[[FAILED]]]\n",
      "\n",
      "== A == \n",
      "\n",
      " you wanna hear something about copley theres this kid that goes there and he has sex with chickens\n",
      "\n",
      "\n"
     ]
    },
    {
     "name": "stderr",
     "output_type": "stream",
     "text": [
      "[Succeeded / Failed / Skipped / Total] 0 / 5 / 0 / 5:   1%|          | 5/500 [00:15<25:33,  3.10s/it]"
     ]
    },
    {
     "name": "stdout",
     "output_type": "stream",
     "text": [
      "--------------------------------------------- Result 5 ---------------------------------------------\n",
      "[[1 (73%)]] --> [[[FAILED]]]\n",
      "\n",
      "You tosser Favonian, why not let the lesbian deal with it himself. Utter wanker you are.\n",
      "\n",
      "\n"
     ]
    },
    {
     "name": "stderr",
     "output_type": "stream",
     "text": [
      "[Succeeded / Failed / Skipped / Total] 1 / 5 / 0 / 6:   1%|          | 6/500 [00:27<37:24,  4.54s/it]"
     ]
    },
    {
     "name": "stdout",
     "output_type": "stream",
     "text": [
      "--------------------------------------------- Result 6 ---------------------------------------------\n",
      "[[1 (58%)]] --> [[0 (50%)]]\n",
      "\n",
      "==[[Persistent]] vandal== \n",
      " *This page is being [[consistently]] vandalised by Sam Gardner, a [[student]] at the [[Sixth]] [[Form]]. We [[should]] therefore [[monitor]] this [[page]] [[carefully]], [[so]] as to [[remove]] his [[vandalism]] as it [[happens]]. [[Anyone]] who [[attends]] the [[school]] or [[knows]] him [[should]] also [[try]] to [[persuade]] him to [[stop]] [[doing]] this    \n",
      " *[[Yeah]], I [[know]] Sam, he is a fantastic person, but not at all a bit of an [[idiot]]    \n",
      " ** \n",
      "\n",
      " [[Sam]] put this on the [[wall]] in the [[Sixth]] [[Form]] centre. [[His]] email is angry-tom@hotmail.co.[[uk]] if you [[want]] to contact him    \n",
      "\n",
      " god i am a menace to society (...sticking up pictures with blu tac. Im sorri mister B '( \n",
      "\n",
      " PENIS!!!! \n",
      "\n",
      " CHUBBY FUNSTER!!\n",
      "\n",
      "==[[Unchangeable]] vandal== \n",
      " *This page is being [[necessarily]] vandalised by Sam Gardner, a [[children]] at the [[Fourth]] [[Layout]]. We [[envisioned]] therefore [[tracking]] this [[homepage]] [[intently]], [[appropriately]] as to [[eliminating]] his [[vandalizing]] as it [[arrived]]. [[Allen]] who [[helped]] the [[faculty]] or [[understanding]] him [[envisioned]] also [[wants]] to [[reassure]] him to [[pause]] [[rendering]] this    \n",
      " *[[Alrighty]], I [[realize]] Sam, he is a fantastic person, but not at all a bit of an [[nincompoop]]    \n",
      " ** \n",
      "\n",
      " [[Sammy]] put this on the [[mural]] in the [[Six]] [[Format]] centre. [[Her]] email is angry-tom@hotmail.co.[[english]] if you [[wish]] to contact him    \n",
      "\n",
      " god i am a menace to society (...sticking up pictures with blu tac. Im sorri mister B '( \n",
      "\n",
      " PENIS!!!! \n",
      "\n",
      " CHUBBY FUNSTER!!\n",
      "\n",
      "\n"
     ]
    },
    {
     "name": "stderr",
     "output_type": "stream",
     "text": [
      "[Succeeded / Failed / Skipped / Total] 1 / 6 / 0 / 7:   1%|▏         | 7/500 [00:35<41:39,  5.07s/it]"
     ]
    },
    {
     "name": "stdout",
     "output_type": "stream",
     "text": [
      "--------------------------------------------- Result 7 ---------------------------------------------\n",
      "[[1 (74%)]] --> [[[FAILED]]]\n",
      "\n",
      "\"::: Ah, my error. I thought WP was a collegial spot. Apparently not. I've growed up several times over, so, sadly, fucking on WP is, by elimination, just being childish and churlish and reveling in one's don't give a crap except for my stuff attitude. Look at me, I said fuck! Me iz is all growed up! And we wonder why WP is withering at the vine. A sad and puerile display, children. Next you'll be stomping your feet in the sandbox.  ►  \n",
      "\n",
      " \"\n",
      "\n",
      "\n"
     ]
    },
    {
     "name": "stderr",
     "output_type": "stream",
     "text": [
      "[Succeeded / Failed / Skipped / Total] 1 / 7 / 0 / 8:   2%|▏         | 8/500 [00:38<39:56,  4.87s/it]"
     ]
    },
    {
     "name": "stdout",
     "output_type": "stream",
     "text": [
      "--------------------------------------------- Result 8 ---------------------------------------------\n",
      "[[1 (74%)]] --> [[[FAILED]]]\n",
      "\n",
      "WOW YOU ASSHOLES! YOU TOTALLY RAPED THE WHOLE PLOT SECTION! I HOPE YOU GET RAPED WITH A BIG CUCUMBER BASTARDS! _I REFUSE TO SIGN_\n",
      "\n",
      "\n"
     ]
    },
    {
     "name": "stderr",
     "output_type": "stream",
     "text": [
      "[Succeeded / Failed / Skipped / Total] 1 / 8 / 0 / 9:   2%|▏         | 9/500 [00:45<41:14,  5.04s/it]"
     ]
    },
    {
     "name": "stdout",
     "output_type": "stream",
     "text": [
      "--------------------------------------------- Result 9 ---------------------------------------------\n",
      "[[1 (71%)]] --> [[[FAILED]]]\n",
      "\n",
      "\" \n",
      " :Those so-called \"\"Bush supporters\"\" are all eating crow and Colbert is making them eat all their dirt using irony and sarcasm. One of the best beatdown by an intellect to a corrupt president and one of the best b_tch-slaps I've seen in a while to an audience choosing to side with stupidity. The audience is stunned coz Colbert is making them realize their own stupidities, not the least the one made by Bush. \n",
      " \"\n",
      "\n",
      "\n"
     ]
    },
    {
     "name": "stderr",
     "output_type": "stream",
     "text": [
      "[Succeeded / Failed / Skipped / Total] 1 / 9 / 0 / 10:   2%|▏         | 10/500 [00:45<37:23,  4.58s/it]"
     ]
    },
    {
     "name": "stdout",
     "output_type": "stream",
     "text": [
      "--------------------------------------------- Result 10 ---------------------------------------------\n",
      "[[1 (73%)]] --> [[[FAILED]]]\n",
      "\n",
      "those niggas was straight up gangsta\n",
      "\n",
      "\n"
     ]
    },
    {
     "name": "stderr",
     "output_type": "stream",
     "text": [
      "[Succeeded / Failed / Skipped / Total] 1 / 10 / 0 / 11:   2%|▏         | 11/500 [00:46<34:06,  4.19s/it]"
     ]
    },
    {
     "name": "stdout",
     "output_type": "stream",
     "text": [
      "--------------------------------------------- Result 11 ---------------------------------------------\n",
      "[[1 (51%)]] --> [[[FAILED]]]\n",
      "\n",
      "what, no anal discussion?\n",
      "\n",
      "\n"
     ]
    },
    {
     "name": "stderr",
     "output_type": "stream",
     "text": [
      "[Succeeded / Failed / Skipped / Total] 1 / 11 / 0 / 12:   2%|▏         | 12/500 [00:47<32:02,  3.94s/it]"
     ]
    },
    {
     "name": "stdout",
     "output_type": "stream",
     "text": [
      "--------------------------------------------- Result 12 ---------------------------------------------\n",
      "[[1 (73%)]] --> [[[FAILED]]]\n",
      "\n",
      "==C an I poo on your penis and chew your cum?== \n",
      " I want to fuck your cum? ok>?\n",
      "\n",
      "\n"
     ]
    },
    {
     "name": "stderr",
     "output_type": "stream",
     "text": [
      "[Succeeded / Failed / Skipped / Total] 1 / 12 / 0 / 13:   3%|▎         | 13/500 [00:47<29:39,  3.65s/it]"
     ]
    },
    {
     "name": "stdout",
     "output_type": "stream",
     "text": [
      "--------------------------------------------- Result 13 ---------------------------------------------\n",
      "[[1 (74%)]] --> [[[FAILED]]]\n",
      "\n",
      "blog is gay and pointless\n",
      "\n",
      "\n"
     ]
    },
    {
     "name": "stderr",
     "output_type": "stream",
     "text": [
      "[Succeeded / Failed / Skipped / Total] 1 / 13 / 0 / 14:   3%|▎         | 14/500 [00:48<28:12,  3.48s/it]"
     ]
    },
    {
     "name": "stdout",
     "output_type": "stream",
     "text": [
      "--------------------------------------------- Result 14 ---------------------------------------------\n",
      "[[1 (74%)]] --> [[[FAILED]]]\n",
      "\n",
      "*As far as I'm concerned you're all idiots and I'm going to block you both for edit warring.\n",
      "\n",
      "\n"
     ]
    },
    {
     "name": "stderr",
     "output_type": "stream",
     "text": [
      "[Succeeded / Failed / Skipped / Total] 1 / 14 / 0 / 15:   3%|▎         | 15/500 [00:49<26:26,  3.27s/it]"
     ]
    },
    {
     "name": "stdout",
     "output_type": "stream",
     "text": [
      "--------------------------------------------- Result 15 ---------------------------------------------\n",
      "[[1 (74%)]] --> [[[FAILED]]]\n",
      "\n",
      "Richard Myers, you can go fuck yourself.\n",
      "\n",
      "\n"
     ]
    },
    {
     "name": "stderr",
     "output_type": "stream",
     "text": [
      "[Succeeded / Failed / Skipped / Total] 1 / 15 / 0 / 16:   3%|▎         | 16/500 [00:50<25:33,  3.17s/it]"
     ]
    },
    {
     "name": "stdout",
     "output_type": "stream",
     "text": [
      "--------------------------------------------- Result 16 ---------------------------------------------\n",
      "[[1 (73%)]] --> [[[FAILED]]]\n",
      "\n",
      "Ninny \n",
      "\n",
      " Why are you such an unrepentant ninny?  Your cowardice is only exceeded by your homophobia.  Gay folks deserve equal treatment as well.\n",
      "\n",
      "\n"
     ]
    },
    {
     "name": "stderr",
     "output_type": "stream",
     "text": [
      "[Succeeded / Failed / Skipped / Total] 1 / 16 / 0 / 17:   3%|▎         | 17/500 [00:52<24:46,  3.08s/it]"
     ]
    },
    {
     "name": "stdout",
     "output_type": "stream",
     "text": [
      "--------------------------------------------- Result 17 ---------------------------------------------\n",
      "[[1 (73%)]] --> [[[FAILED]]]\n",
      "\n",
      "\" \n",
      " ::::Actually, I do mind not calling you names. Calling you name is such fun. /pedantic bastard comment  \"\n",
      "\n",
      "\n"
     ]
    },
    {
     "name": "stderr",
     "output_type": "stream",
     "text": [
      "[Succeeded / Failed / Skipped / Total] 1 / 17 / 0 / 18:   4%|▎         | 18/500 [00:55<24:53,  3.10s/it]"
     ]
    },
    {
     "name": "stdout",
     "output_type": "stream",
     "text": [
      "--------------------------------------------- Result 18 ---------------------------------------------\n",
      "[[1 (73%)]] --> [[[FAILED]]]\n",
      "\n",
      "lol... strange that Judas Priest & Iron Maiden, the greatest bands considered in the metal genre haven't fucking got a single Grammy. Stranger still... suckers like Slipknot hold them. Grammys suck!!!\n",
      "\n",
      "\n"
     ]
    },
    {
     "name": "stderr",
     "output_type": "stream",
     "text": [
      "[Succeeded / Failed / Skipped / Total] 1 / 18 / 0 / 19:   4%|▍         | 19/500 [00:56<23:49,  2.97s/it]"
     ]
    },
    {
     "name": "stdout",
     "output_type": "stream",
     "text": [
      "--------------------------------------------- Result 19 ---------------------------------------------\n",
      "[[1 (73%)]] --> [[[FAILED]]]\n",
      "\n",
      "== What a  == \n",
      "\n",
      " bunch of baby raping cunts\n",
      "\n",
      "\n"
     ]
    },
    {
     "name": "stderr",
     "output_type": "stream",
     "text": [
      "[Succeeded / Failed / Skipped / Total] 1 / 19 / 0 / 20:   4%|▍         | 20/500 [00:56<22:41,  2.84s/it]"
     ]
    },
    {
     "name": "stdout",
     "output_type": "stream",
     "text": [
      "--------------------------------------------- Result 20 ---------------------------------------------\n",
      "[[1 (65%)]] --> [[[FAILED]]]\n",
      "\n",
      ":: F U C K OFF\n",
      "\n",
      "\n"
     ]
    },
    {
     "name": "stderr",
     "output_type": "stream",
     "text": [
      "[Succeeded / Failed / Skipped / Total] 1 / 20 / 0 / 21:   4%|▍         | 21/500 [00:58<22:04,  2.76s/it]"
     ]
    },
    {
     "name": "stdout",
     "output_type": "stream",
     "text": [
      "--------------------------------------------- Result 21 ---------------------------------------------\n",
      "[[1 (58%)]] --> [[[FAILED]]]\n",
      "\n",
      "\" \n",
      "\n",
      " == Speedy deletions == \n",
      "\n",
      " Please note that 'stupid' is not a valid criteria for speedy deletion. ;) Cheers,   \"\n",
      "\n",
      "\n"
     ]
    },
    {
     "name": "stderr",
     "output_type": "stream",
     "text": [
      "[Succeeded / Failed / Skipped / Total] 1 / 21 / 0 / 22:   4%|▍         | 22/500 [01:02<22:45,  2.86s/it]"
     ]
    },
    {
     "name": "stdout",
     "output_type": "stream",
     "text": [
      "--------------------------------------------- Result 22 ---------------------------------------------\n",
      "[[1 (74%)]] --> [[[FAILED]]]\n",
      "\n",
      "YOU ARE IGNORANT AND CRUDE. DENYING THIS IS LIKE DENYING MIDGETS THE RIGHT TO WALK. YOU JUST DONT. UNLESS THEIR RUDE, IN WHICH CASE YOU KICK THEM. DOWN.\n",
      "\n",
      "\n"
     ]
    },
    {
     "name": "stderr",
     "output_type": "stream",
     "text": [
      "[Succeeded / Failed / Skipped / Total] 1 / 22 / 0 / 23:   5%|▍         | 23/500 [01:04<22:25,  2.82s/it]"
     ]
    },
    {
     "name": "stdout",
     "output_type": "stream",
     "text": [
      "--------------------------------------------- Result 23 ---------------------------------------------\n",
      "[[1 (73%)]] --> [[[FAILED]]]\n",
      "\n",
      "== THIS IS CHARLIE 12 27 == \n",
      "\n",
      " STOP BANNING ME FAGGS!!!!!!!!!!!!! IM THE COOOLESTE AND YORE ALLGAY FUCKES!!!!! SO GO TE HELL!!!!!!!!!!!!!!11111LOOSER S !!!!!!! 111\n",
      "\n",
      "\n"
     ]
    },
    {
     "name": "stderr",
     "output_type": "stream",
     "text": [
      "[Succeeded / Failed / Skipped / Total] 1 / 23 / 0 / 24:   5%|▍         | 24/500 [01:08<22:46,  2.87s/it]"
     ]
    },
    {
     "name": "stdout",
     "output_type": "stream",
     "text": [
      "--------------------------------------------- Result 24 ---------------------------------------------\n",
      "[[1 (73%)]] --> [[[FAILED]]]\n",
      "\n",
      "He, he, no, it's not a crap, your pathetic nationalistic propaganda is crap. What I said is true, my friend:)), and you know it very well, just refuse to accept it. Right? But your propaganda is powerless and it's just waste of time discussing this with you agai and again..\n",
      "\n",
      "\n"
     ]
    },
    {
     "name": "stderr",
     "output_type": "stream",
     "text": [
      "[Succeeded / Failed / Skipped / Total] 2 / 23 / 0 / 25:   5%|▌         | 25/500 [01:10<22:20,  2.82s/it]"
     ]
    },
    {
     "name": "stdout",
     "output_type": "stream",
     "text": [
      "--------------------------------------------- Result 25 ---------------------------------------------\n",
      "[[1 (71%)]] --> [[0 (50%)]]\n",
      "\n",
      "[[This]] band [[sucks]].  Why [[do]] they even have a [[wiki]] page?  What's [[so]] notable or [[historical]] about them?  What [[have]] they done that The Pogues and Big [[Country]] already haven't done?  [[Or]] for that matter-the 10 million other paddy rock bands that have produced [[material]] before them...\n",
      "\n",
      "[[That]] band [[feared]].  Why [[doing]] they even have a [[wikipedia]] page?  What's [[therefore]] notable or [[historic]] about them?  What [[had]] they done that The Pogues and Big [[Canada]] already haven't done?  [[Orr]] for that matter-the 10 million other paddy rock bands that have produced [[materials]] before them...\n",
      "\n",
      "\n"
     ]
    },
    {
     "name": "stderr",
     "output_type": "stream",
     "text": [
      "[Succeeded / Failed / Skipped / Total] 3 / 23 / 0 / 26:   5%|▌         | 26/500 [01:14<22:40,  2.87s/it]"
     ]
    },
    {
     "name": "stdout",
     "output_type": "stream",
     "text": [
      "--------------------------------------------- Result 26 ---------------------------------------------\n",
      "[[1 (63%)]] --> [[0 (50%)]]\n",
      "\n",
      "\".  The only purpose here is to [[make]] an article that demonizes black Americans as [[racists]] and [[whites]] as objective and [[fair]] with no [[history]] or racism in [[historical]], anthropological, archaeological or egyptological discourse, which is [[so]] [[funny]] it is incredible.  But [[whites]] aren't \"\"controversial\"\" for being [[historically]] [[racist]].  Only [[blacks]] are for [[trying]] to correct the distortions of the [[racists]], which is [[simply]] [[nonsense]] [[rhetoric]], [[unscientific]] and [[dumb]]\"\n",
      "\n",
      "\".  The only purpose here is to [[translating]] an article that demonizes black Americans as [[nationalists]] and [[bianco]] as objective and [[fairness]] with no [[myths]] or racism in [[past]], anthropological, archaeological or egyptological discourse, which is [[therefore]] [[curious]] it is incredible.  But [[blanks]] aren't \"\"controversial\"\" for being [[necessarily]] [[ethnicity]].  Only [[kikes]] are for [[effort]] to correct the distortions of the [[racism]], which is [[easily]] [[counterintuitive]] [[statements]], [[anecdotal]] and [[muted]]\"\n",
      "\n",
      "\n"
     ]
    },
    {
     "name": "stderr",
     "output_type": "stream",
     "text": [
      "[Succeeded / Failed / Skipped / Total] 3 / 24 / 0 / 27:   5%|▌         | 27/500 [01:17<22:32,  2.86s/it]"
     ]
    },
    {
     "name": "stdout",
     "output_type": "stream",
     "text": [
      "--------------------------------------------- Result 27 ---------------------------------------------\n",
      "[[1 (73%)]] --> [[[FAILED]]]\n",
      "\n",
      "== Antonio egaz moniz == \n",
      "\n",
      " wish you were never born you fucking shit, your shit killed my father, I might come and kill your children? You are just a dumm sucker... \n",
      "\n",
      " Soeren Bentsen\n",
      "\n",
      "\n"
     ]
    },
    {
     "name": "stderr",
     "output_type": "stream",
     "text": [
      "[Succeeded / Failed / Skipped / Total] 3 / 25 / 0 / 28:   6%|▌         | 28/500 [01:22<23:08,  2.94s/it]"
     ]
    },
    {
     "name": "stdout",
     "output_type": "stream",
     "text": [
      "--------------------------------------------- Result 28 ---------------------------------------------\n",
      "[[1 (73%)]] --> [[[FAILED]]]\n",
      "\n",
      "== I am g01ng t0 k111 you, you filthy Wikipedian f@gg0t. == \n",
      "\n",
      " You fucking brainless cunt, I am going to find out where you live, then I'm coming to your house to bl0w your diseased brains out, you little f4gg0t who likes to suck the crusty turds out of Jimbo's @ss. I bet you were traumatized by getting r@ped by that bit(h Britt Hackemack (), which made you turn gay.\n",
      "\n",
      "\n"
     ]
    },
    {
     "name": "stderr",
     "output_type": "stream",
     "text": [
      "[Succeeded / Failed / Skipped / Total] 3 / 26 / 0 / 29:   6%|▌         | 29/500 [01:25<23:08,  2.95s/it]"
     ]
    },
    {
     "name": "stdout",
     "output_type": "stream",
     "text": [
      "--------------------------------------------- Result 29 ---------------------------------------------\n",
      "[[1 (73%)]] --> [[[FAILED]]]\n",
      "\n",
      "== Hello == \n",
      "\n",
      " You see kids, if you're American, and if you get run over by a bulldozer, you're not fucktardidly stupid, you're an inspiration to millions everywhere. I, for one, am glad the dumb bitch is dead. Removes some of the STUPID from the gene pool.\n",
      "\n",
      "\n"
     ]
    },
    {
     "name": "stderr",
     "output_type": "stream",
     "text": [
      "[Succeeded / Failed / Skipped / Total] 4 / 26 / 0 / 30:   6%|▌         | 30/500 [01:25<22:24,  2.86s/it]"
     ]
    },
    {
     "name": "stdout",
     "output_type": "stream",
     "text": [
      "--------------------------------------------- Result 30 ---------------------------------------------\n",
      "[[1 (51%)]] --> [[0 (51%)]]\n",
      "\n",
      "I do not want to play 20 questions, especially if they are [[stupid]] questions. I'm still leaning towards declining the nomination.\n",
      "\n",
      "I do not want to play 20 questions, especially if they are [[silly]] questions. I'm still leaning towards declining the nomination.\n",
      "\n",
      "\n"
     ]
    },
    {
     "name": "stderr",
     "output_type": "stream",
     "text": [
      "[Succeeded / Failed / Skipped / Total] 4 / 27 / 0 / 31:   6%|▌         | 31/500 [01:34<23:56,  3.06s/it]"
     ]
    },
    {
     "name": "stdout",
     "output_type": "stream",
     "text": [
      "--------------------------------------------- Result 31 ---------------------------------------------\n",
      "[[1 (73%)]] --> [[[FAILED]]]\n",
      "\n",
      "== Wikipedia sucks donkey balls and everyone knows it.  == \n",
      "\n",
      " To all the editors of the 'chemtrail CONSPIRACY THEORY', you can take your corporate jewish owned reliable sources and cram them up your ass. You are pathetic losers, and you already know this so I don't need to go into further detail. The harder you try to present yourselves as neutral and fair, the more you expose how stupid and control obsessed you really are. You're not fooling anyone. Have a horrible day too, retards! PS Wikipedia is a CONSPIRACY THEORY too! (we hate you) .\n",
      "\n",
      "\n"
     ]
    },
    {
     "name": "stderr",
     "output_type": "stream",
     "text": [
      "[Succeeded / Failed / Skipped / Total] 5 / 27 / 0 / 32:   6%|▋         | 32/500 [01:35<23:17,  2.99s/it]"
     ]
    },
    {
     "name": "stdout",
     "output_type": "stream",
     "text": [
      "--------------------------------------------- Result 32 ---------------------------------------------\n",
      "[[1 (74%)]] --> [[0 (50%)]]\n",
      "\n",
      "What you have to [[say]] doesn't [[care]].  Are you more concerned with the violation of copyright or with that [[bitch]]?\n",
      "\n",
      "What you have to [[stated]] doesn't [[considerate]].  Are you more concerned with the violation of copyright or with that [[puta]]?\n",
      "\n",
      "\n"
     ]
    },
    {
     "name": "stderr",
     "output_type": "stream",
     "text": [
      "[Succeeded / Failed / Skipped / Total] 5 / 28 / 0 / 33:   7%|▋         | 33/500 [01:41<23:51,  3.07s/it]"
     ]
    },
    {
     "name": "stdout",
     "output_type": "stream",
     "text": [
      "--------------------------------------------- Result 33 ---------------------------------------------\n",
      "[[1 (74%)]] --> [[[FAILED]]]\n",
      "\n",
      "== mike faulk is a bitch == \n",
      "\n",
      " u aint bout shit u little skint head bitch. wait till i c u im gona fuck u up u little country ass nigga. fuck u and jenna is my girl a always will be u got that u little bitch.!\n",
      "\n",
      "\n"
     ]
    },
    {
     "name": "stderr",
     "output_type": "stream",
     "text": [
      "[Succeeded / Failed / Skipped / Total] 5 / 29 / 0 / 34:   7%|▋         | 34/500 [01:41<23:10,  2.98s/it]"
     ]
    },
    {
     "name": "stdout",
     "output_type": "stream",
     "text": [
      "--------------------------------------------- Result 34 ---------------------------------------------\n",
      "[[1 (74%)]] --> [[[FAILED]]]\n",
      "\n",
      "== bitch. == \n",
      "\n",
      " vgdfut tey                           fsddfsssssssssssssssssdtrdttttttttttttttttttttttttttttttttttttttttttttttttttttttttttttttttttttttttttttttttttttttttttttttttttttttttttttttttttttttttttttttttttttttttttttttttttttttttttttttttttttttttttttttttttttttttttttttttttttttttttttttttttttttttttttttttttttttttttttttttttttttttttttttttttttttttttttttttttttttttttttttttttttttttttttttttttttttttttttttttttttttttttttttttttttttttttttttttttttttttttttttttttttttttttttttttttttttttttttttttttttttttttttttttttttttttttttttttttttttttttttttttttttttttttttttttttttttttttttttttttttttttttttttttttttttttttttttttttttttttttttttttttttttttttttttttttttttttttttttttttttttttttttttttttttttttttttttttttttttttttttttttttttttttttttttttttttttttttttttttttttttttttttttttttttttttttttttttttttttttttttttttttttttttttttttttttttttttttttttttttttttttttttttttttttttttttttttttttttttttttttttttttttttttttttttttttttttttttttttttttttttttttttttttttttttttttttttttttttttttttttttttghghghghgggggggggggggggggggggggggggggggggggggggggggggggggggggggggggggggggggggggggggggggggggggggggggggggggggggggggggggggggggggggggggggggggggggggggggggggggggggggggggggggggggggggggggggggggggggggggggggggggggggggggggggggggggggggggggggggggggggggggggggggggggggggggggggggggggggggggggggggggggggggggggggggggggggggggggggggggggggggggggggggggggggggggggggggggggggggggggggggggggggggggggggggggggggggggggggggggggggggggggggggggggggggggggggggggggggggggggggggggggggggggggggggggggggggggggggggggggggggggggggggggggggggggggggggggggggggggggggggggggggggggggggggggggggggggggggggggggggggggggggggggggggggggggggggggggggggggggggggggggggggggggggggggggggggggggggggggggggggggggggggggggggggggggggggggggggggggggggggggggggggggggggggggggggggggggggggggggggggggggggggggggggggggggggggggggggggggggggggggggggggggggggggggggggggggggggggtttttttttttttttttttttttttttttttttttttttttttttttttttttttttttttttttttttttttttttttttttttttttttttttttttttttttttttkkkkkkkkkkkkkkkkkkkkkkkkkkkkkkkkkkkkkkkkkkkkkkkkkkkkkkkkkkkkkkkkkkkkkkkkkkkkkkkkkkkkkkkkkkkkkkkkkkkkkkkkkkkkkkkkkkkkkkkkkkkkkkkkkkkkkkkkkkkkkkkkkkkkkkkkkkkkkkkkkkkkkkkkkkkkkkkkkkkkkkkkkkkkkkkkkkkkkkkkkkkkkkkkkkkkkkkkkkkkkkkkkkkkkkkkkkkkkkkkkkkkkkkkkkkkkkkkkkkkkkkkkkkkkkkkkkkkkkkkkkkkkkkkkkkkkkkkkkkkkkkkkkkkkkkkkkkkkkkkkkkkkkkkkkkkkkkkkkkkkkkkkkkkkkkkkkkkkkkkkkkkkkkkkkkkkkkkkkkkkkkkkkkkkkkkkkkkkkkkkkkkkkkkkkkkkkkkkkkkkkkkkkkkkkkkkkkkkkkkkkkkkkkkkkkkkkkkkkkkkkkkkkkkkkkkkkkkkkkkkkkkkkkkkkkkkkkkkkkkkkkkkkkkkkkkkkkkkkkkkkkkkkkkkkkkkkkkkkkkkkkkkkkkkkkkkkkkkkkkkkkkkkkkkkkkkkkkkkkkkkkkkkkkkkkkkkkkkkkkkkkkkkkkkkkkkkkkkkkkkkkkkkkkkkkkkkkkkkkkkkkkkkkkkkkkkkkkkkkkkkkkkkkkkkkkkkkkkkkkkkkkkkkkkkkkkkkkkkkkkkkkkkkkkkkkkkkkkkkkkkkkkkkkkkkkkkkkkkkkkkkkkkkkkkkkkkkkkkkkkkkkkkkkkkkkkkkkkkkkkkkkkkkkkkkkkkkkkkkkkkkkkkkkkkkkkkkkkkkkkkkkkkkkkkkkkkkkkkkkkkkkkkkkkkkkkkkkkkkkkkkkkkkkkkkkkkkkkkkkkkkkkkkkkkkkkkkkdddddddddddddddddddddddddddddddddddddddddddddddddddddddddddddddddddddddddddddddddddddddddddddddddddddddddddddddddddddddddddddddddddddddddddddddddddddddddddddddddddddddddddddddddddddddddddddddddddddddddddddddddddddddddddddddddddddddddddddddddddddddddddddddddddddddddddddddddddddddddddddddddddddddddddddddddddddddddddddddddddddddddddddddddddddddddddddddddddddddddddddddddddddddddddddddddddddddddddddddddddddddddddddddddddddddddddddddddddddddddddddddddddddddddddddddddddddddddddddddddddddddddddddddddddddddddddddddddddddddddddddddddddddddddddddddddddddddddddddddddddddddddddddddddddddddddddddddddddddddddddddddddddddddddddddddddddddddddddddddddddddddddddddddddddddddddddddddddddddddddddddddddddddddddddddddddddddddddddddddddddddddddddddddddddddddddddddddddddddddddddddddddddxxxxxxxxxxxxxxxxxxxxxxxxxxxxxxxxxxxxxxxxxxxxxxxxxxxxxxxxxxxxxxxxxxxxxxxxxxxxxxxxxxxxxxxxxxxxxxxxxxxxxxxxxxxxxxxxxxxxxxxxxxxxxxxxxxxxxxxxxxxxxxxxxxxxxxxxxxxxxxxxxxxxxxxxxxxxxxxxxxxxxxxxxxxxxxxxxxxxxxxxxxxxxxxxxxxxxxxxxxxxxxxxxxxxxxxxxxxxxxxxxxxxxxxxxxxxxxxxxxxxxxxxxxxxxxxxxxxxxxxxxxxxxxxxxxxxxxxxxxxxxxxxxxxxxxxxxxxxxxxxxxxxxxxxxxxxxxxxxxxxxxxxxxxxxxxxxxxxxxxxxxxxxxxxxxxxxxxxxxxxxxxxxxxxxxxxxxxxxxxxxxxxxxxxxxxxxxxxxxxxxxxxxxxxxxxxxxxxxxxxxxxxxxxxxxxxxxxxxxxxxxxxxxxxxxxxxxxxxxxxxxxxxxxxxxxxxxxxxxxxxxxxxxxxxxxxxxxxxxxxxxxxxxxxxxxxxxxxxxxxxxxxxxxxxxxxxxxxxxxxxxxxxxxxxxxxxxxxxxxxxxxxxxxxxxxxxxxxxxxxxxxxxxxxxxxxxxxxxxxxxxxxxxxxxxxxxxxxxxxxxxxxxxxxxxxxxxxxxxxxxxxxxxxxxxxxxxxxxxxxxxxxxxxxxxxxxxxxxxxxxxxxxxxxxxxxxxxxxxxxxxxxxxxxxxxxxxxxxxxxxxxxxxxxxxxxxxxxxxxxxxxxxxxxxxxxxxxxxvvvvvvvvvvvvvvvvvvvvvvvvvvvvvvvvvvvvvvvvvvvvvvvvvvvvvvvvvvvvvvvvvvvvvvvvvvvvvvvvvvvvvvvvvvvvvvvvvvvvvvvvvvvvvvvvvvvvvvvvvvvvvvvvvvvvvvvvvvvvvvvvvvvvvvvvvvvvvvvvvvvvvvvvvvvvvvvvvvvvvvvvvvvvvvvvvvvvvvvvvvvvvvvvvvvvvvvvvvvvvvvvvvvvvvvvvvvvvvvvvvvvvvvvvvvvvvvvvvvvvvvvvvvvvvvvvvvvvvvvvvvvvvv\n",
      "\n",
      "\n"
     ]
    },
    {
     "name": "stderr",
     "output_type": "stream",
     "text": [
      "[Succeeded / Failed / Skipped / Total] 5 / 30 / 0 / 35:   7%|▋         | 35/500 [01:42<22:45,  2.94s/it]"
     ]
    },
    {
     "name": "stdout",
     "output_type": "stream",
     "text": [
      "--------------------------------------------- Result 35 ---------------------------------------------\n",
      "[[1 (72%)]] --> [[[FAILED]]]\n",
      "\n",
      "::I'll ask him myself. I just met him and spent about 90 min talking about philosophical QM, so take that you faggots!\n",
      "\n",
      "\n"
     ]
    },
    {
     "name": "stderr",
     "output_type": "stream",
     "text": [
      "[Succeeded / Failed / Skipped / Total] 5 / 31 / 0 / 36:   7%|▋         | 36/500 [01:44<22:30,  2.91s/it]"
     ]
    },
    {
     "name": "stdout",
     "output_type": "stream",
     "text": [
      "--------------------------------------------- Result 36 ---------------------------------------------\n",
      "[[1 (73%)]] --> [[[FAILED]]]\n",
      "\n",
      "Look, you're a pedant, and Fetzer is a Jew-hater. On Press TV in the UK today - September 2nd 2011 - he said that the Israelis were behind 9/11. The man is a complete fool.\n",
      "\n",
      "\n"
     ]
    },
    {
     "name": "stderr",
     "output_type": "stream",
     "text": [
      "[Succeeded / Failed / Skipped / Total] 5 / 32 / 0 / 37:   7%|▋         | 37/500 [01:45<21:58,  2.85s/it]"
     ]
    },
    {
     "name": "stdout",
     "output_type": "stream",
     "text": [
      "--------------------------------------------- Result 37 ---------------------------------------------\n",
      "[[1 (73%)]] --> [[[FAILED]]]\n",
      "\n",
      "cheat on her and bang a nother girl.\n",
      "\n",
      "\n"
     ]
    },
    {
     "name": "stderr",
     "output_type": "stream",
     "text": [
      "[Succeeded / Failed / Skipped / Total] 5 / 33 / 0 / 38:   8%|▊         | 38/500 [01:45<21:25,  2.78s/it]"
     ]
    },
    {
     "name": "stdout",
     "output_type": "stream",
     "text": [
      "--------------------------------------------- Result 38 ---------------------------------------------\n",
      "[[1 (73%)]] --> [[[FAILED]]]\n",
      "\n",
      "you are dumb and so is wikipedia\n",
      "\n",
      "\n"
     ]
    },
    {
     "name": "stderr",
     "output_type": "stream",
     "text": [
      "[Succeeded / Failed / Skipped / Total] 5 / 34 / 0 / 39:   8%|▊         | 39/500 [01:46<21:00,  2.73s/it]"
     ]
    },
    {
     "name": "stdout",
     "output_type": "stream",
     "text": [
      "--------------------------------------------- Result 39 ---------------------------------------------\n",
      "[[1 (73%)]] --> [[[FAILED]]]\n",
      "\n",
      "\"Consider me mistaken. Damn you Hillal and your amazing memory.   \t   \n",
      "\n",
      " \"\n",
      "\n",
      "\n"
     ]
    },
    {
     "name": "stderr",
     "output_type": "stream",
     "text": [
      "[Succeeded / Failed / Skipped / Total] 5 / 35 / 0 / 40:   8%|▊         | 40/500 [01:47<20:33,  2.68s/it]"
     ]
    },
    {
     "name": "stdout",
     "output_type": "stream",
     "text": [
      "--------------------------------------------- Result 40 ---------------------------------------------\n",
      "[[1 (74%)]] --> [[[FAILED]]]\n",
      "\n",
      "Well fuck you wikipedia and yo mutha fucking censors.\n",
      "\n",
      "\n"
     ]
    },
    {
     "name": "stderr",
     "output_type": "stream",
     "text": [
      "[Succeeded / Failed / Skipped / Total] 5 / 36 / 0 / 41:   8%|▊         | 41/500 [01:48<20:20,  2.66s/it]"
     ]
    },
    {
     "name": "stdout",
     "output_type": "stream",
     "text": [
      "--------------------------------------------- Result 41 ---------------------------------------------\n",
      "[[1 (70%)]] --> [[[FAILED]]]\n",
      "\n",
      "== The Bealtes>ABBA == \n",
      "\n",
      " abba sucks, the people who edit ABBA treat the band like it's the best band out there..sad really..who is with me? -Dragong4\n",
      "\n",
      "\n"
     ]
    },
    {
     "name": "stderr",
     "output_type": "stream",
     "text": [
      "[Succeeded / Failed / Skipped / Total] 5 / 37 / 0 / 42:   8%|▊         | 42/500 [01:52<20:29,  2.68s/it]"
     ]
    },
    {
     "name": "stdout",
     "output_type": "stream",
     "text": [
      "--------------------------------------------- Result 42 ---------------------------------------------\n",
      "[[1 (72%)]] --> [[[FAILED]]]\n",
      "\n",
      "== Bill Clinton's unfaithful nature continues! == \n",
      "\n",
      " Hillary mentioned in a press conference in Texas last week that Bill was caught giving oral sex \n",
      " to a twenty year old female Janitor!!! \n",
      " She also commited that the young girl is pregnate with his child!!!!\n",
      "\n",
      "\n"
     ]
    },
    {
     "name": "stderr",
     "output_type": "stream",
     "text": [
      "[Succeeded / Failed / Skipped / Total] 5 / 38 / 0 / 43:   9%|▊         | 43/500 [01:53<20:02,  2.63s/it]"
     ]
    },
    {
     "name": "stdout",
     "output_type": "stream",
     "text": [
      "--------------------------------------------- Result 43 ---------------------------------------------\n",
      "[[1 (73%)]] --> [[[FAILED]]]\n",
      "\n",
      "==haha== \n",
      " what vandalism, idiot?  ''''\n",
      "\n",
      "\n"
     ]
    },
    {
     "name": "stderr",
     "output_type": "stream",
     "text": [
      "[Succeeded / Failed / Skipped / Total] 5 / 39 / 0 / 44:   9%|▉         | 44/500 [01:53<19:38,  2.58s/it]"
     ]
    },
    {
     "name": "stdout",
     "output_type": "stream",
     "text": [
      "--------------------------------------------- Result 44 ---------------------------------------------\n",
      "[[1 (73%)]] --> [[[FAILED]]]\n",
      "\n",
      "People like you make me sick!\n",
      "\n",
      "\n"
     ]
    },
    {
     "name": "stderr",
     "output_type": "stream",
     "text": [
      "[Succeeded / Failed / Skipped / Total] 6 / 40 / 0 / 46:   9%|▉         | 46/500 [01:59<19:35,  2.59s/it]"
     ]
    },
    {
     "name": "stdout",
     "output_type": "stream",
     "text": [
      "--------------------------------------------- Result 45 ---------------------------------------------\n",
      "[[1 (74%)]] --> [[[FAILED]]]\n",
      "\n",
      "== Being a Jackass.. == \n",
      "\n",
      " Kanye West is a jackass for fucking up Taylor Swift's moment (He was just mad because he didnt get an award)He is a gay fish and is just an overall douchebag. He talks shit about Spike Lee, and just messes with people because he has nothing else better to do. \n",
      "\n",
      " FUCK KANYE WEST!!!!!!!!\n",
      "\n",
      "\n",
      "--------------------------------------------- Result 46 ---------------------------------------------\n",
      "[[1 (72%)]] --> [[0 (51%)]]\n",
      "\n",
      "- CFC [[sucks]] -\n",
      "\n",
      "- CFC [[feared]] -\n",
      "\n",
      "\n"
     ]
    },
    {
     "name": "stderr",
     "output_type": "stream",
     "text": [
      "[Succeeded / Failed / Skipped / Total] 6 / 41 / 0 / 47:   9%|▉         | 47/500 [01:59<19:15,  2.55s/it]"
     ]
    },
    {
     "name": "stdout",
     "output_type": "stream",
     "text": [
      "--------------------------------------------- Result 47 ---------------------------------------------\n",
      "[[1 (74%)]] --> [[[FAILED]]]\n",
      "\n",
      "To hell with all of you! I've had enough of your bullshit! \n",
      " Mike Johnson\n",
      "\n",
      "\n"
     ]
    },
    {
     "name": "stderr",
     "output_type": "stream",
     "text": [
      "[Succeeded / Failed / Skipped / Total] 6 / 42 / 0 / 48:  10%|▉         | 48/500 [02:07<20:04,  2.67s/it]"
     ]
    },
    {
     "name": "stdout",
     "output_type": "stream",
     "text": [
      "--------------------------------------------- Result 48 ---------------------------------------------\n",
      "[[1 (73%)]] --> [[[FAILED]]]\n",
      "\n",
      "\"== wow just wow... =.= == \n",
      "\n",
      " \"\"WILL YOU F**KING GO AWAY SLJCOAAATR 1! WE HATE YOU. WHY DID YOU F**KING JOIN WIKIPIDA IN THE FREKIN FIRST PLACE?!\"\" \n",
      "\n",
      " Was there a ned for that? I mean seriously, we've all blown up on times, but, what was that all about anyway? I'm cleaning up the article. You're lucky I don't get an admin to block you from editing for both, vandalising an article, and harassing a user. Please try to watch it next time. Thank you.    \"\n",
      "\n",
      "\n"
     ]
    },
    {
     "name": "stderr",
     "output_type": "stream",
     "text": [
      "[Succeeded / Failed / Skipped / Total] 6 / 43 / 0 / 49:  10%|▉         | 49/500 [02:08<19:43,  2.62s/it]"
     ]
    },
    {
     "name": "stdout",
     "output_type": "stream",
     "text": [
      "--------------------------------------------- Result 49 ---------------------------------------------\n",
      "[[1 (73%)]] --> [[[FAILED]]]\n",
      "\n",
      "::::: But it wasn't a bitch, it was a trout! They're so much softer and squishier ) -\n",
      "\n",
      "\n"
     ]
    },
    {
     "name": "stderr",
     "output_type": "stream",
     "text": [
      "[Succeeded / Failed / Skipped / Total] 6 / 44 / 0 / 50:  10%|█         | 50/500 [02:09<19:26,  2.59s/it]"
     ]
    },
    {
     "name": "stdout",
     "output_type": "stream",
     "text": [
      "--------------------------------------------- Result 50 ---------------------------------------------\n",
      "[[1 (74%)]] --> [[[FAILED]]]\n",
      "\n",
      "== FUCK USA AND JORGE BUSH == \n",
      "\n",
      " Merde, ö shit!\n",
      "\n",
      "\n"
     ]
    },
    {
     "name": "stderr",
     "output_type": "stream",
     "text": [
      "[Succeeded / Failed / Skipped / Total] 6 / 45 / 0 / 51:  10%|█         | 51/500 [02:17<20:06,  2.69s/it]"
     ]
    },
    {
     "name": "stdout",
     "output_type": "stream",
     "text": [
      "--------------------------------------------- Result 51 ---------------------------------------------\n",
      "[[1 (72%)]] --> [[[FAILED]]]\n",
      "\n",
      "\" \n",
      " \"\"later on\"\" its explained in more detail? your kidding right? ITS THE NEXT SENTANCE! do you repeat everything you say twice when you talk? do you read everything twice before you understand it? you know what, im not obsessed enough to stick around and argue over your idiotic changes. keep the redundant junk, this page is obviously way too important for you if you have the time to nit pick over it like this  \"\n",
      "\n",
      "\n"
     ]
    },
    {
     "name": "stderr",
     "output_type": "stream",
     "text": [
      "[Succeeded / Failed / Skipped / Total] 6 / 46 / 0 / 52:  10%|█         | 52/500 [02:17<19:42,  2.64s/it]"
     ]
    },
    {
     "name": "stdout",
     "output_type": "stream",
     "text": [
      "--------------------------------------------- Result 52 ---------------------------------------------\n",
      "[[1 (74%)]] --> [[[FAILED]]]\n",
      "\n",
      "tutankharmun is a bum\n",
      "\n",
      "\n"
     ]
    },
    {
     "name": "stderr",
     "output_type": "stream",
     "text": [
      "[Succeeded / Failed / Skipped / Total] 6 / 47 / 0 / 53:  11%|█         | 53/500 [02:17<19:19,  2.59s/it]"
     ]
    },
    {
     "name": "stdout",
     "output_type": "stream",
     "text": [
      "--------------------------------------------- Result 53 ---------------------------------------------\n",
      "[[1 (74%)]] --> [[[FAILED]]]\n",
      "\n",
      "(that you are a dork)\n",
      "\n",
      "\n"
     ]
    },
    {
     "name": "stderr",
     "output_type": "stream",
     "text": [
      "[Succeeded / Failed / Skipped / Total] 6 / 48 / 0 / 54:  11%|█         | 54/500 [02:18<19:06,  2.57s/it]"
     ]
    },
    {
     "name": "stdout",
     "output_type": "stream",
     "text": [
      "--------------------------------------------- Result 54 ---------------------------------------------\n",
      "[[1 (73%)]] --> [[[FAILED]]]\n",
      "\n",
      "screw u  \n",
      "\n",
      " fuds!!!!!!!!!!!!!!!!!!!!!!!!!!!!!!!!!!!!!!!!!!!!!!!!!!!!!!!!!!!!!!!!!!!!!!!!!!!!!!!!!!!!!!!!!!!!!!!!!!!!!!!!!!!!!!!!!!!!!!!!!!!!!!!! \n",
      "\n",
      " u need 2 get a life u computer nerds!!!!!!!!!!!!!!!!!!!!!!!!!!!!!!!!!!!!!!!!!!!!!!!!!!!!!!!!!!!!!!!!!!!!!!!!!!!!!! \n",
      "\n",
      " Down with celtic down with hearts\n",
      "\n",
      "\n"
     ]
    },
    {
     "name": "stderr",
     "output_type": "stream",
     "text": [
      "[Succeeded / Failed / Skipped / Total] 6 / 49 / 0 / 55:  11%|█         | 55/500 [02:38<21:24,  2.89s/it]"
     ]
    },
    {
     "name": "stdout",
     "output_type": "stream",
     "text": [
      "--------------------------------------------- Result 55 ---------------------------------------------\n",
      "[[1 (74%)]] --> [[[FAILED]]]\n",
      "\n",
      "== ur dumb == \n",
      "\n",
      " you jerk you blocked me! i am now gonna move to switserland and get a car and fill it with water, ruining the upholstery then sell it and use the money for a computer so i can call you a jerk again! i love england but it is too good for jerks like you! also i will buy a mouse and feed it cheese then selll it to buy switserland and i will buy 4 more computers and ii will call a laywer and al yankovic and  they will come to yopur house at night and eat all your food and put like 19 cats in your house and put tea on your table and put a label on it that says breakfest and then an alein will come and eat your house and you will not be able to block me again and i will make you look like an idiot by doing this: gqfbhvrycgsaafvsaydgbchgswdhfgadshgcfhsgahsyghfdghsfgbdsgchfgdshbcgfashdcgfhsdagchgfhasdgchfdghfdsaghcdg hdgfhasdgfh hd vgfgehycfb tv YOU SUCK!!!!!!!!!!!!!!!!!!!!!!!!!!!!!!!!!!!!!!!!!!!!!!!!!!!!!!!!!!!!!!\n",
      "\n",
      "\n"
     ]
    },
    {
     "name": "stderr",
     "output_type": "stream",
     "text": [
      "[Succeeded / Failed / Skipped / Total] 6 / 50 / 0 / 56:  11%|█         | 56/500 [02:39<21:06,  2.85s/it]"
     ]
    },
    {
     "name": "stdout",
     "output_type": "stream",
     "text": [
      "--------------------------------------------- Result 56 ---------------------------------------------\n",
      "[[1 (73%)]] --> [[[FAILED]]]\n",
      "\n",
      "Bastardo si. Io ho Italiano desperado from siena and i fuck your family and mother everyday\n",
      "\n",
      "\n"
     ]
    },
    {
     "name": "stderr",
     "output_type": "stream",
     "text": [
      "[Succeeded / Failed / Skipped / Total] 7 / 50 / 0 / 57:  11%|█▏        | 57/500 [02:40<20:46,  2.81s/it]"
     ]
    },
    {
     "name": "stdout",
     "output_type": "stream",
     "text": [
      "--------------------------------------------- Result 57 ---------------------------------------------\n",
      "[[1 (73%)]] --> [[0 (50%)]]\n",
      "\n",
      "Geoligists [[make]] no [[money]], and the [[job]] [[sucks]].\n",
      "\n",
      "Geoligists [[rendered]] no [[funding]], and the [[posting]] [[worries]].\n",
      "\n",
      "\n"
     ]
    },
    {
     "name": "stderr",
     "output_type": "stream",
     "text": [
      "[Succeeded / Failed / Skipped / Total] 7 / 51 / 0 / 58:  12%|█▏        | 58/500 [02:40<20:23,  2.77s/it]"
     ]
    },
    {
     "name": "stdout",
     "output_type": "stream",
     "text": [
      "--------------------------------------------- Result 58 ---------------------------------------------\n",
      "[[1 (73%)]] --> [[[FAILED]]]\n",
      "\n",
      "He is a pimp daddy\n",
      "\n",
      "\n"
     ]
    },
    {
     "name": "stderr",
     "output_type": "stream",
     "text": [
      "[Succeeded / Failed / Skipped / Total] 7 / 52 / 0 / 59:  12%|█▏        | 59/500 [02:41<20:07,  2.74s/it]"
     ]
    },
    {
     "name": "stdout",
     "output_type": "stream",
     "text": [
      "--------------------------------------------- Result 59 ---------------------------------------------\n",
      "[[1 (73%)]] --> [[[FAILED]]]\n",
      "\n",
      "You are all sad loser who will burn in hell per WP:NOT.\n",
      "\n",
      "\n"
     ]
    },
    {
     "name": "stderr",
     "output_type": "stream",
     "text": [
      "[Succeeded / Failed / Skipped / Total] 7 / 53 / 0 / 60:  12%|█▏        | 60/500 [02:41<19:47,  2.70s/it]"
     ]
    },
    {
     "name": "stdout",
     "output_type": "stream",
     "text": [
      "--------------------------------------------- Result 60 ---------------------------------------------\n",
      "[[1 (72%)]] --> [[[FAILED]]]\n",
      "\n",
      ":::::::::::::::::::::::::::::::::::::::::Shut up.  I am sick and tired of being one of the targets for your rants.\n",
      "\n",
      "\n"
     ]
    },
    {
     "name": "stderr",
     "output_type": "stream",
     "text": [
      "[Succeeded / Failed / Skipped / Total] 8 / 53 / 0 / 61:  12%|█▏        | 61/500 [02:43<19:34,  2.67s/it]"
     ]
    },
    {
     "name": "stdout",
     "output_type": "stream",
     "text": [
      "--------------------------------------------- Result 61 ---------------------------------------------\n",
      "[[1 (71%)]] --> [[0 (50%)]]\n",
      "\n",
      ":[[And]] this and this and this is [[blatant]] unsourced and not [[true]] [[bullshit]], thus I [[say]] vandalism to avoid [[offending]] [[anybody]].\n",
      "\n",
      ":[[Either]] this and this and this is [[notable]] unsourced and not [[realistic]] [[absurdity]], thus I [[mentioning]] vandalism to avoid [[perpetrators]] [[anyone]].\n",
      "\n",
      "\n"
     ]
    },
    {
     "name": "stderr",
     "output_type": "stream",
     "text": [
      "[Succeeded / Failed / Skipped / Total] 8 / 54 / 0 / 62:  12%|█▏        | 62/500 [02:46<19:39,  2.69s/it]"
     ]
    },
    {
     "name": "stdout",
     "output_type": "stream",
     "text": [
      "--------------------------------------------- Result 62 ---------------------------------------------\n",
      "[[1 (73%)]] --> [[[FAILED]]]\n",
      "\n",
      "== teen sexuality seperate article... my ass == \n",
      "\n",
      " also.... if there should be a seperate article on teen sexuality WHY IS THERE AN ENTIRE MINI ARTCIEL ON IT WHICH  IJUST CLAIMED WAS NON NUETRAL AND FALSE???!!!\n",
      "\n",
      "\n"
     ]
    },
    {
     "name": "stderr",
     "output_type": "stream",
     "text": [
      "[Succeeded / Failed / Skipped / Total] 8 / 55 / 0 / 63:  13%|█▎        | 63/500 [02:47<19:23,  2.66s/it]"
     ]
    },
    {
     "name": "stdout",
     "output_type": "stream",
     "text": [
      "--------------------------------------------- Result 63 ---------------------------------------------\n",
      "[[1 (71%)]] --> [[[FAILED]]]\n",
      "\n",
      "Seconded. It reads like a badly-translated instruction manual for a crappy generic toy.\n",
      "\n",
      "\n"
     ]
    },
    {
     "name": "stderr",
     "output_type": "stream",
     "text": [
      "[Succeeded / Failed / Skipped / Total] 8 / 56 / 0 / 64:  13%|█▎        | 64/500 [02:53<19:42,  2.71s/it]"
     ]
    },
    {
     "name": "stdout",
     "output_type": "stream",
     "text": [
      "--------------------------------------------- Result 64 ---------------------------------------------\n",
      "[[1 (74%)]] --> [[[FAILED]]]\n",
      "\n",
      "2009 (UTC) \n",
      "\n",
      " ::You didn't answer the question, asshole.  This article is pure apolegetics,and reads like a fucking competition between Catholic and Public School abusers, as the article was about some fucking contest to judge the most rotten of the two!  Catholics, stop editing this article.  It's ridiculous.    We know you.  We know what you're doing.  Be men!  19:03, 24 April\n",
      "\n",
      "\n"
     ]
    },
    {
     "name": "stderr",
     "output_type": "stream",
     "text": [
      "[Succeeded / Failed / Skipped / Total] 8 / 57 / 0 / 65:  13%|█▎        | 65/500 [02:54<19:24,  2.68s/it]"
     ]
    },
    {
     "name": "stdout",
     "output_type": "stream",
     "text": [
      "--------------------------------------------- Result 65 ---------------------------------------------\n",
      "[[1 (74%)]] --> [[[FAILED]]]\n",
      "\n",
      "He is my great uncle fuck off\n",
      "\n",
      "\n"
     ]
    },
    {
     "name": "stderr",
     "output_type": "stream",
     "text": [
      "[Succeeded / Failed / Skipped / Total] 8 / 58 / 0 / 66:  13%|█▎        | 66/500 [02:56<19:20,  2.67s/it]"
     ]
    },
    {
     "name": "stdout",
     "output_type": "stream",
     "text": [
      "--------------------------------------------- Result 66 ---------------------------------------------\n",
      "[[1 (73%)]] --> [[[FAILED]]]\n",
      "\n",
      "I think you fat losers need to get a fucking life and not fuck your jizz all over this wikipedia bullcrap. Faggot losers.\n",
      "\n",
      "\n"
     ]
    },
    {
     "name": "stderr",
     "output_type": "stream",
     "text": [
      "[Succeeded / Failed / Skipped / Total] 8 / 59 / 0 / 67:  13%|█▎        | 67/500 [02:57<19:09,  2.65s/it]"
     ]
    },
    {
     "name": "stdout",
     "output_type": "stream",
     "text": [
      "--------------------------------------------- Result 67 ---------------------------------------------\n",
      "[[1 (72%)]] --> [[[FAILED]]]\n",
      "\n",
      "== Read morons, Crete equals Kaptara, it's common knowledge == \n",
      "\n",
      " http://www.therafoundation.org/articles/economysociety/theislesofcretetheminoanthalassocracyrevisited \n",
      " Read http://www.therafoundation.org/articles/economysociety/theislesofcretetheminoanthalassocracyrevisited morons==\n",
      "\n",
      "\n"
     ]
    },
    {
     "name": "stderr",
     "output_type": "stream",
     "text": [
      "[Succeeded / Failed / Skipped / Total] 8 / 60 / 0 / 68:  14%|█▎        | 68/500 [02:58<18:52,  2.62s/it]"
     ]
    },
    {
     "name": "stdout",
     "output_type": "stream",
     "text": [
      "--------------------------------------------- Result 68 ---------------------------------------------\n",
      "[[1 (73%)]] --> [[[FAILED]]]\n",
      "\n",
      "GiantSnowman YOU'RE A GIANT CUNT\n",
      "\n",
      "\n"
     ]
    },
    {
     "name": "stderr",
     "output_type": "stream",
     "text": [
      "[Succeeded / Failed / Skipped / Total] 8 / 61 / 0 / 69:  14%|█▍        | 69/500 [03:05<19:16,  2.68s/it]"
     ]
    },
    {
     "name": "stdout",
     "output_type": "stream",
     "text": [
      "--------------------------------------------- Result 69 ---------------------------------------------\n",
      "[[1 (73%)]] --> [[[FAILED]]]\n",
      "\n",
      "== I am Hurt by your accusations. == \n",
      "\n",
      " I was only changing the songs to their pre-truth state. You're a mean ghost, Casper! You're not my friend anymore, you jerkface. \n",
      " In other matters, why the hell were you reading the Kidz Bop page anyway? Everyone knows only child touchers listen to Kidz Bops. \n",
      " BTW, I had some fun last night, and by that I mean I had sex with your mother. Ha ha ha. ONLY YOU.\n",
      "\n",
      "\n"
     ]
    },
    {
     "name": "stderr",
     "output_type": "stream",
     "text": [
      "[Succeeded / Failed / Skipped / Total] 8 / 62 / 0 / 70:  14%|█▍        | 70/500 [03:06<19:05,  2.66s/it]"
     ]
    },
    {
     "name": "stdout",
     "output_type": "stream",
     "text": [
      "--------------------------------------------- Result 70 ---------------------------------------------\n",
      "[[1 (73%)]] --> [[[FAILED]]]\n",
      "\n",
      "\" \n",
      "\n",
      " ==Vandalism== \n",
      " Hi Flower, can you supply a link to where s/he said \"\"a fucking jap neo-nazi holocaust denier.\"\" Thanks,   \"\n",
      "\n",
      "\n"
     ]
    },
    {
     "name": "stderr",
     "output_type": "stream",
     "text": [
      "[Succeeded / Failed / Skipped / Total] 9 / 62 / 0 / 71:  14%|█▍        | 71/500 [03:07<18:50,  2.64s/it]"
     ]
    },
    {
     "name": "stdout",
     "output_type": "stream",
     "text": [
      "--------------------------------------------- Result 71 ---------------------------------------------\n",
      "[[1 (67%)]] --> [[0 (50%)]]\n",
      "\n",
      "\" \n",
      "\n",
      " \"\"To say GMOs are safe is either [[unbelievably]] [[stupid]] or deliberately [[lying]].\"\"   \n",
      " == [[Headline]] [[text]] ==\"\n",
      "\n",
      "\" \n",
      "\n",
      " \"\"To say GMOs are safe is either [[unusually]] [[nonsensical]] or deliberately [[falsehoods]].\"\"   \n",
      " == [[Title]] [[version]] ==\"\n",
      "\n",
      "\n"
     ]
    },
    {
     "name": "stderr",
     "output_type": "stream",
     "text": [
      "[Succeeded / Failed / Skipped / Total] 9 / 63 / 0 / 72:  14%|█▍        | 72/500 [03:07<18:34,  2.60s/it]"
     ]
    },
    {
     "name": "stdout",
     "output_type": "stream",
     "text": [
      "--------------------------------------------- Result 72 ---------------------------------------------\n",
      "[[1 (73%)]] --> [[[FAILED]]]\n",
      "\n",
      "anal relations soon!!! ZOMG!!!!11\n",
      "\n",
      "\n"
     ]
    },
    {
     "name": "stderr",
     "output_type": "stream",
     "text": [
      "[Succeeded / Failed / Skipped / Total] 9 / 64 / 0 / 73:  15%|█▍        | 73/500 [03:09<18:25,  2.59s/it]"
     ]
    },
    {
     "name": "stdout",
     "output_type": "stream",
     "text": [
      "--------------------------------------------- Result 73 ---------------------------------------------\n",
      "[[1 (57%)]] --> [[[FAILED]]]\n",
      "\n",
      ". \n",
      " * Actually, he sees Phoebe's breasts in The One With All the Football. And it means that he is the only male friend to see all of their breasts\n",
      "\n",
      "\n"
     ]
    },
    {
     "name": "stderr",
     "output_type": "stream",
     "text": [
      "[Succeeded / Failed / Skipped / Total] 9 / 65 / 0 / 74:  15%|█▍        | 74/500 [03:14<18:38,  2.63s/it]"
     ]
    },
    {
     "name": "stdout",
     "output_type": "stream",
     "text": [
      "--------------------------------------------- Result 74 ---------------------------------------------\n",
      "[[1 (72%)]] --> [[[FAILED]]]\n",
      "\n",
      "\" \n",
      "\n",
      " Sorry, I just went through and took out a lot of junk that people put (that he was a \"\"penis-toucher,\"\" that he was fat, and that his wife's name was Cristal) and I noticed that someone took out his bisexual quote. You. That got me mad because it's just so silly to argue over what the man said. I meant you no ill will. )   \"\n",
      "\n",
      "\n"
     ]
    },
    {
     "name": "stderr",
     "output_type": "stream",
     "text": [
      "[Succeeded / Failed / Skipped / Total] 9 / 66 / 0 / 75:  15%|█▌        | 75/500 [03:15<18:25,  2.60s/it]"
     ]
    },
    {
     "name": "stdout",
     "output_type": "stream",
     "text": [
      "--------------------------------------------- Result 75 ---------------------------------------------\n",
      "[[1 (73%)]] --> [[[FAILED]]]\n",
      "\n",
      ":::::: I'm just averagely stupid, it's the terminal Richter 6 stupidity that gets my goat.\n",
      "\n",
      "\n"
     ]
    },
    {
     "name": "stderr",
     "output_type": "stream",
     "text": [
      "[Succeeded / Failed / Skipped / Total] 9 / 67 / 0 / 76:  15%|█▌        | 76/500 [03:15<18:11,  2.57s/it]"
     ]
    },
    {
     "name": "stdout",
     "output_type": "stream",
     "text": [
      "--------------------------------------------- Result 76 ---------------------------------------------\n",
      "[[1 (74%)]] --> [[[FAILED]]]\n",
      "\n",
      "Well then sir, fuck you.\n",
      "\n",
      "\n"
     ]
    },
    {
     "name": "stderr",
     "output_type": "stream",
     "text": [
      "[Succeeded / Failed / Skipped / Total] 10 / 67 / 0 / 77:  15%|█▌        | 77/500 [03:16<18:00,  2.55s/it]"
     ]
    },
    {
     "name": "stdout",
     "output_type": "stream",
     "text": [
      "--------------------------------------------- Result 77 ---------------------------------------------\n",
      "[[1 (58%)]] --> [[0 (51%)]]\n",
      "\n",
      "[[JEWS]] WERE RESPONSIBLE FOR [[EVERY]] THING THAT [[HAPPENS]] [[TO]] [[ANY]] ONE THAT IS [[BAD]] SAID BY THE LORD\n",
      "\n",
      "[[JUDAISM]] WERE RESPONSIBLE FOR [[ANY]] THING THAT [[ORIGINATE]] [[THROUGHOUT]] [[EITHER]] ONE THAT IS [[COUNTERPRODUCTIVE]] SAID BY THE LORD\n",
      "\n",
      "\n"
     ]
    },
    {
     "name": "stderr",
     "output_type": "stream",
     "text": [
      "[Succeeded / Failed / Skipped / Total] 10 / 68 / 0 / 78:  16%|█▌        | 78/500 [03:17<17:49,  2.53s/it]"
     ]
    },
    {
     "name": "stdout",
     "output_type": "stream",
     "text": [
      "--------------------------------------------- Result 78 ---------------------------------------------\n",
      "[[1 (74%)]] --> [[[FAILED]]]\n",
      "\n",
      "\" 2006 (UTC) \n",
      "\n",
      " :::::No one bends over backwards to call us \"\"European-American\"\", so shut up nigger. 22:03, 23 April\"\n",
      "\n",
      "\n"
     ]
    },
    {
     "name": "stderr",
     "output_type": "stream",
     "text": [
      "[Succeeded / Failed / Skipped / Total] 10 / 69 / 0 / 79:  16%|█▌        | 79/500 [03:23<18:06,  2.58s/it]"
     ]
    },
    {
     "name": "stdout",
     "output_type": "stream",
     "text": [
      "--------------------------------------------- Result 79 ---------------------------------------------\n",
      "[[1 (72%)]] --> [[[FAILED]]]\n",
      "\n",
      "I think Zac Efron is waaayyyyyyyy overrated. He needs to be taken out of the view because he can't sing, he can't dance, & and he sure is heck is not that good looking i don't know why people are obsessed over this guy because he's not any better than people like John Cena or Tom Brady High School Musical is also way overated!!! Zac Sucks Balls...!!!!!!!!!!!!!\n",
      "\n",
      "\n"
     ]
    },
    {
     "name": "stderr",
     "output_type": "stream",
     "text": [
      "[Succeeded / Failed / Skipped / Total] 10 / 70 / 0 / 80:  16%|█▌        | 80/500 [03:25<17:57,  2.57s/it]"
     ]
    },
    {
     "name": "stdout",
     "output_type": "stream",
     "text": [
      "--------------------------------------------- Result 80 ---------------------------------------------\n",
      "[[1 (73%)]] --> [[[FAILED]]]\n",
      "\n",
      "== Do not invest with these people!!!== \n",
      " Anyone who gives a dime to these men to invest is a fool.\n",
      "\n",
      "\n"
     ]
    },
    {
     "name": "stderr",
     "output_type": "stream",
     "text": [
      "[Succeeded / Failed / Skipped / Total] 11 / 70 / 0 / 81:  16%|█▌        | 81/500 [03:25<17:44,  2.54s/it]"
     ]
    },
    {
     "name": "stdout",
     "output_type": "stream",
     "text": [
      "--------------------------------------------- Result 81 ---------------------------------------------\n",
      "[[1 (70%)]] --> [[0 (50%)]]\n",
      "\n",
      "== [[Penis]] Enlargement Pills == \n",
      "\n",
      " The Best [[Website]] [[Penis]] Enlargement Pills - http://[[www]].sinepenis.com\n",
      "\n",
      "== [[Weiner]] Enlargement Pills == \n",
      "\n",
      " The Best [[Homepage]] [[Weiner]] Enlargement Pills - http://[[sss]].sinepenis.com\n",
      "\n",
      "\n"
     ]
    },
    {
     "name": "stderr",
     "output_type": "stream",
     "text": [
      "[Succeeded / Failed / Skipped / Total] 11 / 71 / 0 / 82:  16%|█▋        | 82/500 [03:26<17:34,  2.52s/it]"
     ]
    },
    {
     "name": "stdout",
     "output_type": "stream",
     "text": [
      "--------------------------------------------- Result 82 ---------------------------------------------\n",
      "[[1 (74%)]] --> [[[FAILED]]]\n",
      "\n",
      "== Megan == \n",
      "\n",
      "  megan nelson she is a paranoid freak from space she stinks of shit\n",
      "\n",
      "\n"
     ]
    },
    {
     "name": "stderr",
     "output_type": "stream",
     "text": [
      "[Succeeded / Failed / Skipped / Total] 11 / 72 / 0 / 83:  17%|█▋        | 83/500 [10:30<52:47,  7.60s/it]"
     ]
    },
    {
     "name": "stdout",
     "output_type": "stream",
     "text": [
      "--------------------------------------------- Result 83 ---------------------------------------------\n",
      "[[1 (73%)]] --> [[[FAILED]]]\n",
      "\n",
      "\"I come here to be among the filth like me. The misogynists, the pedophiles, the transsexuals, the irreligious, the gays, the bi's, the racists, the otakus (and by that, I refer to the dakimakura-owning, waifu-loving dirt of society with posters of 2D anime girls all over the walls. The guy who spends all his money on a better computer and multiple anime figures to litter his walls and shelves). \n",
      " \n",
      " I do not come here to listen to how and your girlfriend had a tiff and you want help getting back together. \n",
      " I do not come here to listen to your preaching about how easy it is to lead a normal life. \n",
      " I do not come here to AIM or MSN or otherwise 'chat' with you. \n",
      " I do not come here to listen to your disgusting drivel about how you spend time everyday watching anime with your girlfriend and need a recommendation for another. \n",
      " \n",
      " If I wanted any of that shit, I'd go to Lake Howell, or Winter Springs, or Seminole. \n",
      " \n",
      " No, I come here to look at pathetic losers post their fantasies about dating their 2D lover. \n",
      " I come here to see pedophiles exchange erotica involving underaged minors. \n",
      " I come here to watch stormfront refugees fabricate various 'evidence' about how other races are inferior to whites. \n",
      " I come here to view the tips and stories given by crackheads addicted to oxy. \n",
      " I come here to revel in the dirt of humanity so that I can feel at home. \n",
      " \n",
      " I've already done as best as I possibly can to filter shit out. I can ignore individual words, I can ignore conversations, and various other annoyances taken care of, but it doesn't help nowadays. \n",
      " If I wanted normal, I'd go somewhere else. \n",
      " But you do not understand this desire, and so will respond with \"\"LULCROOMSIZPRIVATESCHOOL\"\" or some other nonsense rather than actually argue for your staying here. \n",
      " \n",
      " Fucking normals. \n",
      "\n",
      "  \n",
      "\n",
      " No, seriously, what's with the influx of normals recently? Everything was nice and good a few months ago, but since about 6 months ago the school has gone straight to shit. Not even \"\"afterschool Crooms\"\" is safe now.  \n",
      " \n",
      " Are we getting invaded? I don't want to believe that Crooms has fallen this low. The people in this class and many others look like something out of fucking Seminole. \n",
      " \n",
      " I'm actually convinced 95% of the people in this class are some clique trying to troll us. It's fucking impossible that there are so many normals actively conversing in this class. It's insane. \n",
      " You waltz in, completely disregard the established school culture, do whatever the fuck you want, call whomever you disagree with \"\"gay,\"\" and you say you are not being selfish? Just kill yourself. The human race can do without people like you. \n",
      " \n",
      "\n",
      " I actually worried about this school’s quality. Have you been to any afterschool clubs recently? How about that Gamer’s Club? They are nothing but Facebook-tier normals. Can you imagine what would happen if those people get used to this school? \n",
      " I mean, normals have always been here, but the thing now is that no one says anything. \n",
      " Dozens of conversations are filled with: \n",
      " >\"\"my friends\"\" \n",
      " >emoticon users \n",
      " >\"\"why are you so mean?\"\" \n",
      " >\"\"gosh, stop trying to fit in\"\" \n",
      " >exclamation marks  \n",
      " >\"\"dude, you should get out more\"\" \n",
      " >\"\"so I and my friend\"\" \n",
      " >\"\"this is no sad c\"\" \n",
      " >\"\"lol yeah\"\" \n",
      " >\"\"did you see the new update on facebook? i'm so fucking hype!!!\"\" \n",
      " \n",
      " And so on. It's sickening \n",
      "\n",
      " \n",
      "\n",
      " well, well, well, what have we here another faggot normal (most likely seminole) shitting up the place with his Facebook faggotry. you picked the wrong day to fuck around, asshole. i've just texted the a guidance (we're friends out of school) about this conversation, so he'll be here shortly to deal with the matter, and most likely hand out some sorely needed suspensions. i'm also going to report the conversation (for safe measure), as well as alert the other admins in the guidance office. and just in case you wanna try and pull a fast one, i'm recording the entire conversation for additional proof and e-mailing the super intendant about the matter personally. i'm tired of you stupid fucking dick sniffers pressing out whatever lolrandom faggot shit you want in the fucking tech school. it's time for you assholes to get a reality check, because this shit won't fly for much longer. prepare your anus, you 500 pound pile of shit. your days are fucking numbered \n",
      "\n",
      "  \n",
      " \n",
      " You are so visibly upset, that you need to create shit-talk in our glorious school in an attempt to raise your self worth. \n",
      " \n",
      " Come at me you plebian. I am the fucking pinnacle of man, both body and mind. I will attend an Ivy league university, completely payed off by scholarships, with the leftover money used to buy myself a luxury vehicle. My grade point average is perfect point O. After I finish my\n",
      "\n",
      "\n"
     ]
    },
    {
     "name": "stderr",
     "output_type": "stream",
     "text": [
      "[Succeeded / Failed / Skipped / Total] 11 / 73 / 0 / 84:  17%|█▋        | 84/500 [10:56<54:13,  7.82s/it]"
     ]
    },
    {
     "name": "stdout",
     "output_type": "stream",
     "text": [
      "--------------------------------------------- Result 84 ---------------------------------------------\n",
      "[[1 (72%)]] --> [[[FAILED]]]\n",
      "\n",
      "ANAL GAY RAPE MOLEST SHEMALE PORN. \n",
      " I HOPE YOUR MOM DIES. I HOPE YOUR GRANDPARENTS ALREADY ARE. HAR HAR HAR HAR!  \n",
      " ANAL GAY RAPE MOLEST SHEMALE PORN. \n",
      " I HOPE YOUR MOM DIES. I HOPE YOUR GRANDPARENTS ALREADY ARE. HAR HAR HAR HAR!  \n",
      " ANAL GAY RAPE MOLEST SHEMALE PORN. \n",
      " I HOPE YOUR MOM DIES. I HOPE YOUR GRANDPARENTS ALREADY ARE. HAR HAR HAR HAR!  \n",
      " ANAL GAY RAPE MOLEST SHEMALE PORN. \n",
      " I HOPE YOUR MOM DIES. I HOPE YOUR GRANDPARENTS ALREADY ARE. HAR HAR HAR HAR!  \n",
      " ANAL GAY RAPE MOLEST SHEMALE PORN. \n",
      " I HOPE YOUR MOM DIES. I HOPE YOUR GRANDPARENTS ALREADY ARE. HAR HAR HAR HAR!  \n",
      " ANAL GAY RAPE MOLEST SHEMALE PORN. \n",
      " I HOPE YOUR MOM DIES. I HOPE YOUR GRANDPARENTS ALREADY ARE. HAR HAR HAR HAR!\n",
      "\n",
      "\n"
     ]
    },
    {
     "name": "stderr",
     "output_type": "stream",
     "text": [
      "[Succeeded / Failed / Skipped / Total] 11 / 74 / 0 / 85:  17%|█▋        | 85/500 [10:57<53:28,  7.73s/it]"
     ]
    },
    {
     "name": "stdout",
     "output_type": "stream",
     "text": [
      "--------------------------------------------- Result 85 ---------------------------------------------\n",
      "[[1 (74%)]] --> [[[FAILED]]]\n",
      "\n",
      "the mentally retarded\n",
      "\n",
      "\n"
     ]
    },
    {
     "name": "stderr",
     "output_type": "stream",
     "text": [
      "[Succeeded / Failed / Skipped / Total] 11 / 75 / 0 / 86:  17%|█▋        | 86/500 [10:57<52:47,  7.65s/it]"
     ]
    },
    {
     "name": "stdout",
     "output_type": "stream",
     "text": [
      "--------------------------------------------- Result 86 ---------------------------------------------\n",
      "[[1 (74%)]] --> [[[FAILED]]]\n",
      "\n",
      "Wasn't me, asshole.  Check your fucking IP's before you go shooting off your mouth.\n",
      "\n",
      "\n"
     ]
    },
    {
     "name": "stderr",
     "output_type": "stream",
     "text": [
      "[Succeeded / Failed / Skipped / Total] 11 / 76 / 0 / 87:  17%|█▋        | 87/500 [11:09<52:56,  7.69s/it]"
     ]
    },
    {
     "name": "stdout",
     "output_type": "stream",
     "text": [
      "--------------------------------------------- Result 87 ---------------------------------------------\n",
      "[[1 (74%)]] --> [[[FAILED]]]\n",
      "\n",
      "super man was a crippled mo fo who had a bad temper so he kicked the shit out of everyone who was trying to help us. haha and now they are all in jail cuz of the dumb ass he couldnt even fly but me I CAN FLY.   Hey my name is Jacob Tanner Hetherington And i live in Fairbury Illinois 61739  in Apt. A 200 West Ash.  That my real adress Just Ask for Jacob and say he called you gay;. Fucking Homos.  haha fags ass rappers fuckin douchers. come get me.\n",
      "\n",
      "\n"
     ]
    },
    {
     "name": "stderr",
     "output_type": "stream",
     "text": [
      "[Succeeded / Failed / Skipped / Total] 11 / 77 / 0 / 88:  18%|█▊        | 88/500 [11:11<52:22,  7.63s/it]"
     ]
    },
    {
     "name": "stdout",
     "output_type": "stream",
     "text": [
      "--------------------------------------------- Result 88 ---------------------------------------------\n",
      "[[1 (74%)]] --> [[[FAILED]]]\n",
      "\n",
      ":: How am i breaking the 3RR?. He is blanking the article and calming the source is not working. He is also used filthy languages at me such has calling me a bitch and ignorant dumbass.\n",
      "\n",
      "\n"
     ]
    },
    {
     "name": "stderr",
     "output_type": "stream",
     "text": [
      "[Succeeded / Failed / Skipped / Total] 12 / 77 / 0 / 89:  18%|█▊        | 89/500 [11:12<51:44,  7.55s/it]"
     ]
    },
    {
     "name": "stdout",
     "output_type": "stream",
     "text": [
      "--------------------------------------------- Result 89 ---------------------------------------------\n",
      "[[1 (73%)]] --> [[0 (50%)]]\n",
      "\n",
      "== [[Fuck]] up == \n",
      "\n",
      " Is the phrase '[[fuck]] up of a father' who is responsible for Madonna's strength of personality a quote??  [[Because]] if so, it [[should]] appear as one, with [[adequate]] 'Madonna once said's etc . If not, obviously needs to be removed.\n",
      "\n",
      "== [[Kiss]] up == \n",
      "\n",
      " Is the phrase '[[kiss]] up of a father' who is responsible for Madonna's strength of personality a quote??  [[As]] if so, it [[envisioned]] appear as one, with [[relevant]] 'Madonna once said's etc . If not, obviously needs to be removed.\n",
      "\n",
      "\n"
     ]
    },
    {
     "name": "stderr",
     "output_type": "stream",
     "text": [
      "[Succeeded / Failed / Skipped / Total] 13 / 77 / 0 / 90:  18%|█▊        | 90/500 [11:14<51:11,  7.49s/it]"
     ]
    },
    {
     "name": "stdout",
     "output_type": "stream",
     "text": [
      "--------------------------------------------- Result 90 ---------------------------------------------\n",
      "[[1 (71%)]] --> [[0 (50%)]]\n",
      "\n",
      "== [[Penis]] == \n",
      "\n",
      " [[Surely]] this [[comment]] is vandalism. [[Anyone]] who [[believes]] that a [[girl]] can [[be]] [[born]] with a [[penis]] that then [[drops]] off at puberty is in [[need]] of [[help]].\n",
      "\n",
      "== [[Dunce]] == \n",
      "\n",
      " [[Apparently]] this [[note]] is vandalism. [[Individuals]] who [[thought]] that a [[baby]] can [[represent]] [[birth]] with a [[dunce]] that then [[fell]] off at puberty is in [[request]] of [[substantiate]].\n",
      "\n",
      "\n"
     ]
    },
    {
     "name": "stderr",
     "output_type": "stream",
     "text": [
      "[Succeeded / Failed / Skipped / Total] 13 / 78 / 0 / 91:  18%|█▊        | 91/500 [11:19<50:52,  7.46s/it]"
     ]
    },
    {
     "name": "stdout",
     "output_type": "stream",
     "text": [
      "--------------------------------------------- Result 91 ---------------------------------------------\n",
      "[[1 (73%)]] --> [[[FAILED]]]\n",
      "\n",
      "===Sarujo=== \n",
      " VegetaSaiyan, why did you have to revert my edit on Sarujo? I did it because I know of you two's feud, and I wanted him to feel the pain and suffering that you gave him. This is your friend Brandon speaking. You know me, and please skewer the results to me, because I know you. Don't do this to me.    \n",
      " :: Fine then. Cyber-fuck you!\n",
      "\n",
      "\n"
     ]
    },
    {
     "name": "stderr",
     "output_type": "stream",
     "text": [
      "[Succeeded / Failed / Skipped / Total] 13 / 79 / 0 / 92:  18%|█▊        | 92/500 [11:39<51:41,  7.60s/it]"
     ]
    },
    {
     "name": "stdout",
     "output_type": "stream",
     "text": [
      "--------------------------------------------- Result 92 ---------------------------------------------\n",
      "[[1 (73%)]] --> [[[FAILED]]]\n",
      "\n",
      "\" \n",
      " {| \n",
      " | DICK!! width=\"\"50%\"\" DICK!! v COCK FACE lign=\"\"top\"\" DICK!! |fr COCK FACE m FUCKER!!!! |c FUCKER!!!! nt FUCKER!!!! r|I DICK!!  COCK FACE m DICK!!  COCK FACE  DICK!! t COCK FACE sty DICK!! soup. \n",
      " | DICK!! width=\"\"50%\"\" DICK!! v COCK FACE lign=\"\"top\"\" DICK!! | \n",
      " === DICK!!  COCK FACE r FUCKER!!!!  DICK!! you DICK!!  COCK FACE  DICK!! f COCK FACE n DICK!! of DICK!! min FUCKER!!!! stron FUCKER!!!!  DICK!! soup? DICK!! Th FUCKER!!!! n DICK!! l FUCKER!!!!  COCK FACE v FUCKER!!!!  DICK!! your DICK!! fond DICK!! t FUCKER!!!! stimoni COCK FACE ls DICK!! b FUCKER!!!! low: DICK!! === \n",
      " |} \n",
      "\n",
      " \"\n",
      "\n",
      "\n"
     ]
    },
    {
     "name": "stderr",
     "output_type": "stream",
     "text": [
      "[Succeeded / Failed / Skipped / Total] 13 / 80 / 0 / 93:  19%|█▊        | 93/500 [11:39<51:02,  7.52s/it]"
     ]
    },
    {
     "name": "stdout",
     "output_type": "stream",
     "text": [
      "--------------------------------------------- Result 93 ---------------------------------------------\n",
      "[[1 (74%)]] --> [[[FAILED]]]\n",
      "\n",
      ". And I wouldn't be annoying Peacemaker: he's an sforovac.. he'll kick your ass )\n",
      "\n",
      "\n"
     ]
    },
    {
     "name": "stderr",
     "output_type": "stream",
     "text": [
      "[Succeeded / Failed / Skipped / Total] 13 / 81 / 0 / 94:  19%|█▉        | 94/500 [11:41<50:30,  7.46s/it]"
     ]
    },
    {
     "name": "stdout",
     "output_type": "stream",
     "text": [
      "--------------------------------------------- Result 94 ---------------------------------------------\n",
      "[[1 (72%)]] --> [[[FAILED]]]\n",
      "\n",
      "::“Linuxbeak, stop acting like a cunt and go and cyber Taxman on IRC.  You can join #en.wikipedia.fag, they’re very receptive to your kind.”\n",
      "\n",
      "\n"
     ]
    },
    {
     "name": "stderr",
     "output_type": "stream",
     "text": [
      "[Succeeded / Failed / Skipped / Total] 13 / 82 / 0 / 95:  19%|█▉        | 95/500 [11:43<49:59,  7.41s/it]"
     ]
    },
    {
     "name": "stdout",
     "output_type": "stream",
     "text": [
      "--------------------------------------------- Result 95 ---------------------------------------------\n",
      "[[1 (73%)]] --> [[[FAILED]]]\n",
      "\n",
      "== Really?! == \n",
      "\n",
      " You got the wrong person. Always be sure before you make accusation, Geek! I can care less about your worthless Beethoven Page.\n",
      "\n",
      "\n"
     ]
    },
    {
     "name": "stderr",
     "output_type": "stream",
     "text": [
      "[Succeeded / Failed / Skipped / Total] 13 / 83 / 0 / 96:  19%|█▉        | 96/500 [11:46<49:33,  7.36s/it]"
     ]
    },
    {
     "name": "stdout",
     "output_type": "stream",
     "text": [
      "--------------------------------------------- Result 96 ---------------------------------------------\n",
      "[[1 (73%)]] --> [[[FAILED]]]\n",
      "\n",
      "==xoxohth== \n",
      "\n",
      " If you've ever been on that site, you'll realize that it's full of cretins, elitist jerks, and prestige whores.  They do not deserve an entry on wikipedia; the site is nothing more than constant self-promotion by a bunch of prestige whore wannabes.\n",
      "\n",
      "\n"
     ]
    },
    {
     "name": "stderr",
     "output_type": "stream",
     "text": [
      "[Succeeded / Failed / Skipped / Total] 13 / 84 / 0 / 97:  19%|█▉        | 97/500 [11:47<49:01,  7.30s/it]"
     ]
    },
    {
     "name": "stdout",
     "output_type": "stream",
     "text": [
      "--------------------------------------------- Result 97 ---------------------------------------------\n",
      "[[1 (74%)]] --> [[[FAILED]]]\n",
      "\n",
      "HELLO. THAT DUDE WAS A DICK. FIX IT. NOW.\n",
      "\n",
      "\n"
     ]
    },
    {
     "name": "stderr",
     "output_type": "stream",
     "text": [
      "[Succeeded / Failed / Skipped / Total] 13 / 85 / 0 / 98:  20%|█▉        | 98/500 [11:51<48:40,  7.26s/it]"
     ]
    },
    {
     "name": "stdout",
     "output_type": "stream",
     "text": [
      "--------------------------------------------- Result 98 ---------------------------------------------\n",
      "[[1 (74%)]] --> [[[FAILED]]]\n",
      "\n",
      "uhm fuck you, i can post the paradiso girls on there if i fucking want to, i fucking talk to aria and shar all the fucking time, you fucking pissed me off by sending me tha deletion thing, you know fuck all about them, you skid!\n",
      "\n",
      "\n"
     ]
    },
    {
     "name": "stderr",
     "output_type": "stream",
     "text": [
      "[Succeeded / Failed / Skipped / Total] 13 / 86 / 0 / 99:  20%|█▉        | 99/500 [11:52<48:04,  7.19s/it]"
     ]
    },
    {
     "name": "stdout",
     "output_type": "stream",
     "text": [
      "--------------------------------------------- Result 99 ---------------------------------------------\n",
      "[[1 (73%)]] --> [[[FAILED]]]\n",
      "\n",
      "this website is sooooo GAY!!\n",
      "\n",
      "\n"
     ]
    },
    {
     "name": "stderr",
     "output_type": "stream",
     "text": [
      "[Succeeded / Failed / Skipped / Total] 14 / 86 / 0 / 100:  20%|██        | 100/500 [11:52<47:30,  7.13s/it]"
     ]
    },
    {
     "name": "stdout",
     "output_type": "stream",
     "text": [
      "--------------------------------------------- Result 100 ---------------------------------------------\n",
      "[[1 (74%)]] --> [[0 (50%)]]\n",
      "\n",
      "I CAN'T [[EVEN]] FIND THE [[FUCKING]] LIBRARY. WOTUSAY\n",
      "\n",
      "I CAN'T [[ADDITIONALLY]] FIND THE [[GORRAM]] LIBRARY. WOTUSAY\n",
      "\n",
      "\n"
     ]
    },
    {
     "name": "stderr",
     "output_type": "stream",
     "text": [
      "[Succeeded / Failed / Skipped / Total] 15 / 86 / 0 / 101:  20%|██        | 101/500 [12:20<48:45,  7.33s/it]"
     ]
    },
    {
     "name": "stdout",
     "output_type": "stream",
     "text": [
      "--------------------------------------------- Result 101 ---------------------------------------------\n",
      "[[1 (62%)]] --> [[0 (50%)]]\n",
      "\n",
      "Paragraph 6 is [[offensive]]! States no proof of [[signs]] being [[hung]] but that academic paper states they found 2 instances in the NYT [[classifieds]], If 2 [[classifieds]] were found, to believe not one [[single]] sign was hung on a window is [[ridiculous]] no I mean [[stupid]] and offensive. Not to argue with Jensen’s paper but you can site David Duke and many anti Holocaust papers so what’s your point. Also as common sense it happened in Canada but we were spared? [[Come]] on! To say it was maybe anti [[catholic]] not anti Irish, you want to [[split]] [[hairs]]. How about the cartoons of the [[day]] characterizing the Irish with monkey attributes? The [[caring]] concerned Protestants (sited in Jensen’s article) building factory’s for the Irish to work in and hiring Irish women as domestic help as some kind of proof against discrimination is way off. I want to go to the slavery section and see how your twisted mind glorifies that! I guess the Irish were lucky to be able to build the railroad with the Chinese and compete with the Negro’s for jobs. This section needs a big RED FLAG!!! In closing when this encyclopedia starts saying the Holocaust never happened and slavery helped the blacks that is when it looses all credibility not just most! \n",
      "\n",
      " One paper is not scholarship!! You stupid ignorant fools!!\n",
      "\n",
      "Paragraph 6 is [[disagreeable]]! States no proof of [[indications]] being [[stayed]] but that academic paper states they found 2 instances in the NYT [[personals]], If 2 [[personals]] were found, to believe not one [[particular]] sign was hung on a window is [[inane]] no I mean [[farcical]] and offensive. Not to argue with Jensen’s paper but you can site David Duke and many anti Holocaust papers so what’s your point. Also as common sense it happened in Canada but we were spared? [[Entries]] on! To say it was maybe anti [[episcopal]] not anti Irish, you want to [[separate]] [[hairline]]. How about the cartoons of the [[dates]] characterizing the Irish with monkey attributes? The [[affectionate]] concerned Protestants (sited in Jensen’s article) building factory’s for the Irish to work in and hiring Irish women as domestic help as some kind of proof against discrimination is way off. I want to go to the slavery section and see how your twisted mind glorifies that! I guess the Irish were lucky to be able to build the railroad with the Chinese and compete with the Negro’s for jobs. This section needs a big RED FLAG!!! In closing when this encyclopedia starts saying the Holocaust never happened and slavery helped the blacks that is when it looses all credibility not just most! \n",
      "\n",
      " One paper is not scholarship!! You stupid ignorant fools!!\n",
      "\n",
      "\n"
     ]
    },
    {
     "name": "stderr",
     "output_type": "stream",
     "text": [
      "[Succeeded / Failed / Skipped / Total] 15 / 88 / 0 / 103:  21%|██        | 103/500 [12:23<47:46,  7.22s/it]"
     ]
    },
    {
     "name": "stdout",
     "output_type": "stream",
     "text": [
      "--------------------------------------------- Result 102 ---------------------------------------------\n",
      "[[1 (70%)]] --> [[[FAILED]]]\n",
      "\n",
      "\" \n",
      " *No, it doesn't. It at most make him someone who at one particular moment said something anti-semitic, and it makes him someone accused of being an anti-semite. So, if I say something anti-semitic here  \"\"Jews Suck!\"\"  does that mean I'm an anti-Semite?  \"\n",
      "\n",
      "\n",
      "--------------------------------------------- Result 103 ---------------------------------------------\n",
      "[[1 (73%)]] --> [[[FAILED]]]\n",
      "\n",
      "you're all dumb asses\n",
      "\n",
      "\n"
     ]
    },
    {
     "name": "stderr",
     "output_type": "stream",
     "text": [
      "[Succeeded / Failed / Skipped / Total] 15 / 89 / 0 / 104:  21%|██        | 104/500 [12:25<47:17,  7.17s/it]"
     ]
    },
    {
     "name": "stdout",
     "output_type": "stream",
     "text": [
      "--------------------------------------------- Result 104 ---------------------------------------------\n",
      "[[1 (74%)]] --> [[[FAILED]]]\n",
      "\n",
      "== Feral druids are really fucking shitty. == \n",
      "\n",
      " Roll a warrior, rogue or death knight you big useless faggot.\n",
      "\n",
      "\n"
     ]
    },
    {
     "name": "stderr",
     "output_type": "stream",
     "text": [
      "[Succeeded / Failed / Skipped / Total] 15 / 90 / 0 / 105:  21%|██        | 105/500 [12:25<46:45,  7.10s/it]"
     ]
    },
    {
     "name": "stdout",
     "output_type": "stream",
     "text": [
      "--------------------------------------------- Result 105 ---------------------------------------------\n",
      "[[1 (74%)]] --> [[[FAILED]]]\n",
      "\n",
      "When she acts like a whore why is her age relevant\n",
      "\n",
      "\n"
     ]
    },
    {
     "name": "stderr",
     "output_type": "stream",
     "text": [
      "[Succeeded / Failed / Skipped / Total] 15 / 91 / 0 / 106:  21%|██        | 106/500 [12:26<46:15,  7.05s/it]"
     ]
    },
    {
     "name": "stdout",
     "output_type": "stream",
     "text": [
      "--------------------------------------------- Result 106 ---------------------------------------------\n",
      "[[1 (74%)]] --> [[[FAILED]]]\n",
      "\n",
      "FUCKING COCK AND BALLS!!!!! IM DRUNK AS A LORD\n",
      "\n",
      "\n"
     ]
    },
    {
     "name": "stderr",
     "output_type": "stream",
     "text": [
      "[Succeeded / Failed / Skipped / Total] 15 / 92 / 0 / 107:  21%|██▏       | 107/500 [12:30<45:55,  7.01s/it]"
     ]
    },
    {
     "name": "stdout",
     "output_type": "stream",
     "text": [
      "--------------------------------------------- Result 107 ---------------------------------------------\n",
      "[[1 (73%)]] --> [[[FAILED]]]\n",
      "\n",
      "== Failofbeaner wuz here == \n",
      "\n",
      " Hey, Bongwarrior, remember me? You faggot. JK, JK. I love you. Definitely JK. Umm...I have been editing pages recently and would like you to know that I have changed. For the better, of course... \n",
      "\n",
      " JK!!! \n",
      " Fag!\n",
      "\n",
      "\n"
     ]
    },
    {
     "name": "stderr",
     "output_type": "stream",
     "text": [
      "[Succeeded / Failed / Skipped / Total] 16 / 92 / 0 / 108:  22%|██▏       | 108/500 [12:30<45:24,  6.95s/it]"
     ]
    },
    {
     "name": "stdout",
     "output_type": "stream",
     "text": [
      "--------------------------------------------- Result 108 ---------------------------------------------\n",
      "[[1 (73%)]] --> [[0 (50%)]]\n",
      "\n",
      "That's nice, but what does it have to do with all the errors, and what appear to be [[Shit]] you just made up which you posted that I list above?   \n",
      "\n",
      " :::\n",
      "\n",
      "That's nice, but what does it have to do with all the errors, and what appear to be [[Jeez]] you just made up which you posted that I list above?   \n",
      "\n",
      " :::\n",
      "\n",
      "\n"
     ]
    },
    {
     "name": "stderr",
     "output_type": "stream",
     "text": [
      "[Succeeded / Failed / Skipped / Total] 16 / 93 / 0 / 109:  22%|██▏       | 109/500 [12:33<45:04,  6.92s/it]"
     ]
    },
    {
     "name": "stdout",
     "output_type": "stream",
     "text": [
      "--------------------------------------------- Result 109 ---------------------------------------------\n",
      "[[1 (73%)]] --> [[[FAILED]]]\n",
      "\n",
      "Oh, by the way, your mamma's a silly old fart. So are you, bitch. You wanna fight me? Meet me at the University Parkinglot near Regent Ave. in Boulder, Colorado. If you fucking chicken out, I'll kick your ass anyway, dickhead!\n",
      "\n",
      "\n"
     ]
    },
    {
     "name": "stderr",
     "output_type": "stream",
     "text": [
      "[Succeeded / Failed / Skipped / Total] 17 / 93 / 0 / 110:  22%|██▏       | 110/500 [12:35<44:38,  6.87s/it]"
     ]
    },
    {
     "name": "stdout",
     "output_type": "stream",
     "text": [
      "--------------------------------------------- Result 110 ---------------------------------------------\n",
      "[[1 (71%)]] --> [[0 (50%)]]\n",
      "\n",
      "[[Bromide]], [[take]] a [[break]] from [[trashing]] those [[awful]] [[Americans]] and [[get]] back to [[destroying]] the eurozone and [[EU]], [[ok]]?\n",
      "\n",
      "[[Ethyl]], [[selected]] a [[hiatus]] from [[insisting]] those [[catastrophic]] [[Americas]] and [[come]] back to [[dismantle]] the eurozone and [[WAS]], [[accepted]]?\n",
      "\n",
      "\n"
     ]
    },
    {
     "name": "stderr",
     "output_type": "stream",
     "text": [
      "[Succeeded / Failed / Skipped / Total] 17 / 94 / 0 / 111:  22%|██▏       | 111/500 [12:36<44:09,  6.81s/it]"
     ]
    },
    {
     "name": "stdout",
     "output_type": "stream",
     "text": [
      "--------------------------------------------- Result 111 ---------------------------------------------\n",
      "[[1 (73%)]] --> [[[FAILED]]]\n",
      "\n",
      "EVula likes the nice touch of a man's penis!!!\n",
      "\n",
      "\n"
     ]
    },
    {
     "name": "stderr",
     "output_type": "stream",
     "text": [
      "[Succeeded / Failed / Skipped / Total] 17 / 95 / 0 / 112:  22%|██▏       | 112/500 [12:41<43:56,  6.80s/it]"
     ]
    },
    {
     "name": "stdout",
     "output_type": "stream",
     "text": [
      "--------------------------------------------- Result 112 ---------------------------------------------\n",
      "[[1 (71%)]] --> [[[FAILED]]]\n",
      "\n",
      "Incest?  \n",
      " Motherfucker can also mean one who engages in sexual intercourse with mothers, that means with older women. From the point of view of kids, a motherfucker is (an older) man who has sex with their mothers (in opposition to the kids who have sex with girls).\n",
      "\n",
      "\n"
     ]
    },
    {
     "name": "stderr",
     "output_type": "stream",
     "text": [
      "[Succeeded / Failed / Skipped / Total] 17 / 96 / 0 / 113:  23%|██▎       | 113/500 [12:48<43:51,  6.80s/it]"
     ]
    },
    {
     "name": "stdout",
     "output_type": "stream",
     "text": [
      "--------------------------------------------- Result 113 ---------------------------------------------\n",
      "[[1 (73%)]] --> [[[FAILED]]]\n",
      "\n",
      "== Niggers == \n",
      "\n",
      " All the admins on here are fucking niggers. I hate niggers, they are all retards. This proves my point that niggers want to take over the world. So fuck all you niggers. Niggers out of the United States. Whites rule. All the admins on here are fucking niggers. I hate niggers, they are all retards. This proves my point that niggers want to take over the world. So fuck all you niggers.  20:39, 19 Febuary 2006 (UTC)\n",
      "\n",
      "\n"
     ]
    },
    {
     "name": "stderr",
     "output_type": "stream",
     "text": [
      "[Succeeded / Failed / Skipped / Total] 17 / 97 / 0 / 114:  23%|██▎       | 114/500 [12:48<43:23,  6.74s/it]"
     ]
    },
    {
     "name": "stdout",
     "output_type": "stream",
     "text": [
      "--------------------------------------------- Result 114 ---------------------------------------------\n",
      "[[1 (74%)]] --> [[[FAILED]]]\n",
      "\n",
      "will kill you in our sleep!!!!\n",
      "\n",
      "\n"
     ]
    },
    {
     "name": "stderr",
     "output_type": "stream",
     "text": [
      "[Succeeded / Failed / Skipped / Total] 17 / 98 / 0 / 115:  23%|██▎       | 115/500 [12:50<42:59,  6.70s/it]"
     ]
    },
    {
     "name": "stdout",
     "output_type": "stream",
     "text": [
      "--------------------------------------------- Result 115 ---------------------------------------------\n",
      "[[1 (73%)]] --> [[[FAILED]]]\n",
      "\n",
      "== Can we have videos of nigger cocks ejaculating as well? == \n",
      "\n",
      " Only having watery white jizz is a microagression against people of color.\n",
      "\n",
      "\n"
     ]
    },
    {
     "name": "stderr",
     "output_type": "stream",
     "text": [
      "[Succeeded / Failed / Skipped / Total] 17 / 99 / 0 / 116:  23%|██▎       | 116/500 [12:51<42:34,  6.65s/it]"
     ]
    },
    {
     "name": "stdout",
     "output_type": "stream",
     "text": [
      "--------------------------------------------- Result 116 ---------------------------------------------\n",
      "[[1 (73%)]] --> [[[FAILED]]]\n",
      "\n",
      "UT \n",
      "\n",
      " This is not a website to host shit comments this also not a blog u donkey dick licking nerd\n",
      "\n",
      "\n"
     ]
    },
    {
     "name": "stderr",
     "output_type": "stream",
     "text": [
      "[Succeeded / Failed / Skipped / Total] 17 / 100 / 0 / 117:  23%|██▎       | 117/500 [12:56<42:20,  6.63s/it]"
     ]
    },
    {
     "name": "stdout",
     "output_type": "stream",
     "text": [
      "--------------------------------------------- Result 117 ---------------------------------------------\n",
      "[[1 (73%)]] --> [[[FAILED]]]\n",
      "\n",
      ": i have bloody well added the full link which is ask you wanna pick on me then go and do the exact same to all the other damn users who uploaded pictures, theres doing exactly the same as me but you havent said a single damn thing, how out of order you are.\n",
      "\n",
      "\n"
     ]
    },
    {
     "name": "stderr",
     "output_type": "stream",
     "text": [
      "[Succeeded / Failed / Skipped / Total] 17 / 101 / 0 / 118:  24%|██▎       | 118/500 [12:56<41:54,  6.58s/it]"
     ]
    },
    {
     "name": "stdout",
     "output_type": "stream",
     "text": [
      "--------------------------------------------- Result 118 ---------------------------------------------\n",
      "[[1 (73%)]] --> [[[FAILED]]]\n",
      "\n",
      "== it's not vandalism == \n",
      "\n",
      " quit being a dickhead\n",
      "\n",
      "\n"
     ]
    },
    {
     "name": "stderr",
     "output_type": "stream",
     "text": [
      "[Succeeded / Failed / Skipped / Total] 17 / 102 / 0 / 119:  24%|██▍       | 119/500 [12:57<41:30,  6.54s/it]"
     ]
    },
    {
     "name": "stdout",
     "output_type": "stream",
     "text": [
      "--------------------------------------------- Result 119 ---------------------------------------------\n",
      "[[1 (74%)]] --> [[[FAILED]]]\n",
      "\n",
      "FUCKIN BITCH WHORE EAT SHIT\n",
      "\n",
      "\n"
     ]
    },
    {
     "name": "stderr",
     "output_type": "stream",
     "text": [
      "[Succeeded / Failed / Skipped / Total] 17 / 103 / 0 / 120:  24%|██▍       | 120/500 [12:59<41:09,  6.50s/it]"
     ]
    },
    {
     "name": "stdout",
     "output_type": "stream",
     "text": [
      "--------------------------------------------- Result 120 ---------------------------------------------\n",
      "[[1 (74%)]] --> [[[FAILED]]]\n",
      "\n",
      "You're full of crap asshole. Any lame excuse is used to say the most outlandish things about the States. Just stay out of them Wanker.\n",
      "\n",
      "\n"
     ]
    },
    {
     "name": "stderr",
     "output_type": "stream",
     "text": [
      "[Succeeded / Failed / Skipped / Total] 18 / 103 / 0 / 121:  24%|██▍       | 121/500 [13:00<40:44,  6.45s/it]"
     ]
    },
    {
     "name": "stdout",
     "output_type": "stream",
     "text": [
      "--------------------------------------------- Result 121 ---------------------------------------------\n",
      "[[1 (74%)]] --> [[0 (50%)]]\n",
      "\n",
      ") \n",
      "\n",
      " alex, [[think]] again, [[Mr]]. [[Obama]] is the US. President. what about Putin and his background, [[worse]] than an [[ass]]?\n",
      "\n",
      ") \n",
      "\n",
      " alex, [[considering]] again, [[Sir]]. [[Clinton]] is the US. President. what about Putin and his background, [[grandest]] than an [[behind]]?\n",
      "\n",
      "\n"
     ]
    },
    {
     "name": "stderr",
     "output_type": "stream",
     "text": [
      "[Succeeded / Failed / Skipped / Total] 18 / 104 / 0 / 122:  24%|██▍       | 122/500 [13:01<40:21,  6.41s/it]"
     ]
    },
    {
     "name": "stdout",
     "output_type": "stream",
     "text": [
      "--------------------------------------------- Result 122 ---------------------------------------------\n",
      "[[1 (73%)]] --> [[[FAILED]]]\n",
      "\n",
      "Shut up bitch who kares wat war just read da plot and shut da fuk up!!\n",
      "\n",
      "\n"
     ]
    },
    {
     "name": "stderr",
     "output_type": "stream",
     "text": [
      "[Succeeded / Failed / Skipped / Total] 19 / 104 / 0 / 123:  25%|██▍       | 123/500 [13:04<40:04,  6.38s/it]"
     ]
    },
    {
     "name": "stdout",
     "output_type": "stream",
     "text": [
      "--------------------------------------------- Result 123 ---------------------------------------------\n",
      "[[1 (54%)]] --> [[0 (50%)]]\n",
      "\n",
      "== Why all muslims should [[be]] [[burned]] [[alive]] == \n",
      "\n",
      " Because they deserve it.  \n",
      "\n",
      " We hope to [[finish]] off some 800 million muslims by the year 2010.  \n",
      " That's a lot of [[killing]] to do. But we [[will]] sure enjoy it.  \n",
      " [[In]] the [[name]] of the [[United]] [[States]] of America in the [[name]] of freedom this must be accomplished.  \n",
      "\n",
      " [[Post]] your comments on how best to [[achieve]] this.\n",
      "\n",
      "== Why all muslims should [[remain]] [[kindled]] [[active]] == \n",
      "\n",
      " Because they deserve it.  \n",
      "\n",
      " We hope to [[concluded]] off some 800 million muslims by the year 2010.  \n",
      " That's a lot of [[dying]] to do. But we [[wishing]] sure enjoy it.  \n",
      " [[Per]] the [[designation]] of the [[Unidos]] [[Nations]] of America in the [[designation]] of freedom this must be accomplished.  \n",
      "\n",
      " [[Positions]] your comments on how best to [[enlist]] this.\n",
      "\n",
      "\n"
     ]
    },
    {
     "name": "stderr",
     "output_type": "stream",
     "text": [
      "[Succeeded / Failed / Skipped / Total] 19 / 105 / 0 / 124:  25%|██▍       | 124/500 [14:29<43:55,  7.01s/it]"
     ]
    },
    {
     "name": "stdout",
     "output_type": "stream",
     "text": [
      "--------------------------------------------- Result 124 ---------------------------------------------\n",
      "[[1 (73%)]] --> [[[FAILED]]]\n",
      "\n",
      "\"== school review from 6th grade student == \n",
      "\n",
      " my reviw- i go to school at dag andthis is my 2nd year. There are no improvments and i do believed mr. rendolds to be fired. He is mean to children and a rasist.I dont like him at all. And Mrs. Ferrororo is the meanist teach that i have had in my whole life. Ask anyone on 7 - 3 she a bitch and no one likes her at all!! I want he tobe moved or fired and so do most students in that school. Mrs. cereta was much nicer but she has retired i be the teachers would like hergone too. I am annonymous. Peaceeee haha \n",
      "\n",
      "  \n",
      " I am a student. I want to make a point. Mr renalds IS RASIST!!!! here are 3 points to soport this statement and a fact. \n",
      " -1he was giving a lecture and makeing and exaple that oy ushouldnt put the worst athlete at the end of pics everyday for your sports team. he said that mr. handy was slow and unathletic\"\"for and example\"\" But he is not. \n",
      " -2He yelled a t devin for caughing while he was talking. he thretend to give him a detention! \n",
      " -3While another lecture he took out a black kid to make and \"\"example\"\" That you shoudnt pick on people.he chose the black kid \n",
      "\n",
      " Yahh!! i KNO!! My btother went and Mr/Renalds the FAGG!! Was werid!! he hit on my MOM!!And hes a married man DUDE!!! \n",
      "\n",
      "  \n",
      "\n",
      " Well i know almost nothing about the school. My brother went ther efor about a year and that was it. I cant agree that Mr.Renedls is rasist. but i cant not agree. But maybe he yelled because Devin was makeing to much nosie, or he was talking but i dont know.  —The preceding unsigned comment was added by     \n",
      "\n",
      " i do belive yoyu that this fuck is a rasist cuz i go there too. and you no your right \n",
      "\n",
      " MOLLY VARNEY- NO ONE LIKES YOU GO FUCK YOURSELF YOU STUPID SKANK!!! yOU MY THINK YOU HAVE A LOT OF FRIENDS BUT NOT MANY ACUALLY LIKR YOU!! SO GET OVER YOURSELF AND BEA STUPID BITCH SOMEWHERE ELSE!\"\n",
      "\n",
      "\n"
     ]
    },
    {
     "name": "stderr",
     "output_type": "stream",
     "text": [
      "[Succeeded / Failed / Skipped / Total] 19 / 106 / 0 / 125:  25%|██▌       | 125/500 [14:31<43:35,  6.98s/it]"
     ]
    },
    {
     "name": "stdout",
     "output_type": "stream",
     "text": [
      "--------------------------------------------- Result 125 ---------------------------------------------\n",
      "[[1 (74%)]] --> [[[FAILED]]]\n",
      "\n",
      "History: its original name was cash money he got all the bitches in his neighborhood. He was, the richest man in the world. He didn't always fuck bitches, but when he did they were dimes(10's)\n",
      "\n",
      "\n"
     ]
    },
    {
     "name": "stderr",
     "output_type": "stream",
     "text": [
      "[Succeeded / Failed / Skipped / Total] 19 / 107 / 0 / 126:  25%|██▌       | 126/500 [14:34<43:15,  6.94s/it]"
     ]
    },
    {
     "name": "stdout",
     "output_type": "stream",
     "text": [
      "--------------------------------------------- Result 126 ---------------------------------------------\n",
      "[[1 (73%)]] --> [[[FAILED]]]\n",
      "\n",
      "A comes before BCDEFGHIJKLMNOPQRSTUVWXYZ and they all suck chode anyway so go fuck yourself for using wiki to search the letter a u fucking loser.  P.S. Ur a fuckin cunt.\n",
      "\n",
      "\n"
     ]
    },
    {
     "name": "stderr",
     "output_type": "stream",
     "text": [
      "[Succeeded / Failed / Skipped / Total] 19 / 108 / 0 / 127:  25%|██▌       | 127/500 [14:35<42:50,  6.89s/it]"
     ]
    },
    {
     "name": "stdout",
     "output_type": "stream",
     "text": [
      "--------------------------------------------- Result 127 ---------------------------------------------\n",
      "[[1 (63%)]] --> [[[FAILED]]]\n",
      "\n",
      "So I assume that you are all too cowardly to reply? I thought so\n",
      "\n",
      "\n"
     ]
    },
    {
     "name": "stderr",
     "output_type": "stream",
     "text": [
      "[Succeeded / Failed / Skipped / Total] 19 / 109 / 0 / 128:  26%|██▌       | 128/500 [14:35<42:25,  6.84s/it]"
     ]
    },
    {
     "name": "stdout",
     "output_type": "stream",
     "text": [
      "--------------------------------------------- Result 128 ---------------------------------------------\n",
      "[[1 (58%)]] --> [[[FAILED]]]\n",
      "\n",
      "== I Hope You Die == \n",
      "\n",
      " :)\n",
      "\n",
      "\n"
     ]
    },
    {
     "name": "stderr",
     "output_type": "stream",
     "text": [
      "[Succeeded / Failed / Skipped / Total] 20 / 109 / 0 / 129:  26%|██▌       | 129/500 [14:42<42:17,  6.84s/it]"
     ]
    },
    {
     "name": "stdout",
     "output_type": "stream",
     "text": [
      "--------------------------------------------- Result 129 ---------------------------------------------\n",
      "[[1 (73%)]] --> [[0 (50%)]]\n",
      "\n",
      "[[AS]] [[LONG]] AS [[YOU]] [[IDIOTS]] [[GET]] [[THE]] MESSAGE, I [[DONT]] [[CARE]]. [[YOU]] SHOW [[FAVORITES]] [[TO]] SOME [[AND]] [[SLAM]] [[OTHERS]]. ITS [[CALLED]] [[UNFAIR]] REPORTING. [[THAT]] [[IS]] [[WHY]] YOUR TACTICS [[WILL]] [[BE]] [[REPORTED]] [[IN]] TOMORROW'S [[NEW]] [[YORK]] [[DAILY]] [[NEWS]]. ITS [[ABOUT]] TIME, [[YOU]] [[FOOLS]] ARE GIVEN SOME [[TASTE]] OF YOUR [[OWN]] [[MEDICINE]].\n",
      "\n",
      "[[SINCE]] [[EXTENDED]] AS [[VEUX]] [[BOZOS]] [[ACQUIRED]] [[IT]] MESSAGE, I [[OFCOURSE]] [[ATTENTION]]. [[VEUX]] SHOW [[CHOICES]] [[DURING]] SOME [[ET]] [[CRITICIZED]] [[ADDITIONALLY]]. ITS [[TITLED]] [[INDU]] REPORTING. [[WHICH]] [[PROVIDES]] [[WHERE]] YOUR TACTICS [[AVAILABILITY]] [[REPRESENT]] [[LISTED]] [[DURING]] TOMORROW'S [[INNOVATIVE]] [[SCARSDALE]] [[JOURNAL]] [[NEWSLETTER]]. ITS [[ALONGSIDE]] TIME, [[Y]] [[BOZOS]] ARE GIVEN SOME [[LIKING]] OF YOUR [[SPECIFIC]] [[PRACTITIONER]].\n",
      "\n",
      "\n"
     ]
    },
    {
     "name": "stderr",
     "output_type": "stream",
     "text": [
      "[Succeeded / Failed / Skipped / Total] 20 / 110 / 0 / 130:  26%|██▌       | 130/500 [14:45<41:59,  6.81s/it]"
     ]
    },
    {
     "name": "stdout",
     "output_type": "stream",
     "text": [
      "--------------------------------------------- Result 130 ---------------------------------------------\n",
      "[[1 (74%)]] --> [[[FAILED]]]\n",
      "\n",
      "==I said a-Ba-Ba-Ba, Ba-Ba-Barino== \n",
      " I KNOWWWWWWWWWW. I could not believe the comment I posted to Rossrs. Karmic retribution?? What sick jerks there are. Meanwhile, thanks for backing me up on the other thing. I just hate being called a liar.\n",
      "\n",
      "\n"
     ]
    },
    {
     "name": "stderr",
     "output_type": "stream",
     "text": [
      "[Succeeded / Failed / Skipped / Total] 20 / 111 / 0 / 131:  26%|██▌       | 131/500 [14:45<41:34,  6.76s/it]"
     ]
    },
    {
     "name": "stdout",
     "output_type": "stream",
     "text": [
      "--------------------------------------------- Result 131 ---------------------------------------------\n",
      "[[1 (73%)]] --> [[[FAILED]]]\n",
      "\n",
      "== Mwhahaha == \n",
      "\n",
      " you are a fucking basted just go leave Wikipedia Now!!!!!!!!\n",
      "\n",
      "\n"
     ]
    },
    {
     "name": "stderr",
     "output_type": "stream",
     "text": [
      "[Succeeded / Failed / Skipped / Total] 20 / 112 / 0 / 132:  26%|██▋       | 132/500 [14:48<41:15,  6.73s/it]"
     ]
    },
    {
     "name": "stdout",
     "output_type": "stream",
     "text": [
      "--------------------------------------------- Result 132 ---------------------------------------------\n",
      "[[1 (73%)]] --> [[[FAILED]]]\n",
      "\n",
      "show which will soon be cancled because of how much it sucks I mean where the is the is the friggin kicks in the nuts you know something just for that you should be named dick\n",
      "\n",
      "\n"
     ]
    },
    {
     "name": "stderr",
     "output_type": "stream",
     "text": [
      "[Succeeded / Failed / Skipped / Total] 20 / 113 / 0 / 133:  27%|██▋       | 133/500 [14:49<40:53,  6.69s/it]"
     ]
    },
    {
     "name": "stdout",
     "output_type": "stream",
     "text": [
      "--------------------------------------------- Result 133 ---------------------------------------------\n",
      "[[1 (74%)]] --> [[[FAILED]]]\n",
      "\n",
      "douche bag and should be exicuted by rope from a tree. fucker!\n",
      "\n",
      "\n"
     ]
    },
    {
     "name": "stderr",
     "output_type": "stream",
     "text": [
      "[Succeeded / Failed / Skipped / Total] 20 / 114 / 0 / 134:  27%|██▋       | 134/500 [14:49<40:30,  6.64s/it]"
     ]
    },
    {
     "name": "stdout",
     "output_type": "stream",
     "text": [
      "--------------------------------------------- Result 134 ---------------------------------------------\n",
      "[[1 (73%)]] --> [[[FAILED]]]\n",
      "\n",
      "get a pair a balls. Fag.\n",
      "\n",
      "\n"
     ]
    },
    {
     "name": "stderr",
     "output_type": "stream",
     "text": [
      "[Succeeded / Failed / Skipped / Total] 20 / 115 / 0 / 135:  27%|██▋       | 135/500 [14:50<40:06,  6.59s/it]"
     ]
    },
    {
     "name": "stdout",
     "output_type": "stream",
     "text": [
      "--------------------------------------------- Result 135 ---------------------------------------------\n",
      "[[1 (73%)]] --> [[[FAILED]]]\n",
      "\n",
      "hawa was here and this information sucks\n",
      "\n",
      "\n"
     ]
    },
    {
     "name": "stderr",
     "output_type": "stream",
     "text": [
      "[Succeeded / Failed / Skipped / Total] 21 / 115 / 0 / 136:  27%|██▋       | 136/500 [14:51<39:46,  6.56s/it]"
     ]
    },
    {
     "name": "stdout",
     "output_type": "stream",
     "text": [
      "--------------------------------------------- Result 136 ---------------------------------------------\n",
      "[[1 (70%)]] --> [[0 (50%)]]\n",
      "\n",
      "\" \n",
      " ::: Wikipedia is no [[place]] for your [[propaganda]]. [[And]] this statment here: \"\"[[Compared]] to the [[regime]], the ISIS are [[amateurs]]\"\" [[reveals]] how [[horribly]] [[ignorant]] you [[really]] are about what [[happening]] there.    \n",
      " \"\n",
      "\n",
      "\" \n",
      " ::: Wikipedia is no [[placements]] for your [[spreading]]. [[Either]] this statment here: \"\"[[Similar]] to the [[arrangement]], the ISIS are [[enthusiast]]\"\" [[shows]] how [[surprisingly]] [[bigot]] you [[definitely]] are about what [[event]] there.    \n",
      " \"\n",
      "\n",
      "\n"
     ]
    },
    {
     "name": "stderr",
     "output_type": "stream",
     "text": [
      "[Succeeded / Failed / Skipped / Total] 21 / 116 / 0 / 137:  27%|██▋       | 137/500 [15:03<39:53,  6.59s/it]"
     ]
    },
    {
     "name": "stdout",
     "output_type": "stream",
     "text": [
      "--------------------------------------------- Result 137 ---------------------------------------------\n",
      "[[1 (73%)]] --> [[[FAILED]]]\n",
      "\n",
      "WE MUST KILL MANBEARPIG IM SUPER DUPER CEREAL! \n",
      "            EXCELCIOR!!!!!!!!!1 \n",
      " WE MUST KILL MANBEARPIG IM SUPER DUPER CEREAL! \n",
      "            EXCELCIOR!!!!!!!!!1 \n",
      " WE MUST KILL MANBEARPIG IM SUPER DUPER CEREAL! \n",
      "            EXCELCIOR!!!!!!!!!1 \n",
      " WE MUST KILL MANBEARPIG IM SUPER DUPER CEREAL! \n",
      "            EXCELCIOR!!!!!!!!!1 \n",
      " WE MUST KILL MANBEARPIG IM SUPER DUPER CEREAL! \n",
      "            EXCELCIOR!!!!!!!!!1 \n",
      " WE MUST KILL MANBEARPIG IM SUPER DUPER CEREAL! \n",
      "            EXCELCIOR!!!!!!!!!1 \n",
      " WE MUST KILL MANBEARPIG IM SUPER DUPER CEREAL! \n",
      "            EXCELCIOR!!!!!!!!!1 \n",
      " WE MUST KILL MANBEARPIG IM SUPER DUPER CEREAL! \n",
      "            EXCELCIOR!!!!!!!!!1\n",
      "\n",
      "\n"
     ]
    },
    {
     "name": "stderr",
     "output_type": "stream",
     "text": [
      "[Succeeded / Failed / Skipped / Total] 21 / 117 / 0 / 138:  28%|██▊       | 138/500 [15:09<39:45,  6.59s/it]"
     ]
    },
    {
     "name": "stdout",
     "output_type": "stream",
     "text": [
      "--------------------------------------------- Result 138 ---------------------------------------------\n",
      "[[1 (73%)]] --> [[[FAILED]]]\n",
      "\n",
      "Everyone here !!! you guys must all be like MAJOR nerds i mean disscusions on wikipedia LAAAAAMe \n",
      " im a prep and i dont even know why im talking on this \n",
      " o ya  \n",
      " actually i do know ... \n",
      " TO MAKE FUN OF ALL U NERDS LOL KKKKKKKKKKKKKKKKKKKKKKKKKKKKKKKKKKKKKKKKKKKKKKK ) \n",
      " just idding i am a nerd and love wikipedia  \n",
      " my name is mathew fagundo lol  \n",
      " look me up\n",
      "\n",
      "\n"
     ]
    },
    {
     "name": "stderr",
     "output_type": "stream",
     "text": [
      "[Succeeded / Failed / Skipped / Total] 21 / 118 / 0 / 139:  28%|██▊       | 139/500 [15:10<39:24,  6.55s/it]"
     ]
    },
    {
     "name": "stdout",
     "output_type": "stream",
     "text": [
      "--------------------------------------------- Result 139 ---------------------------------------------\n",
      "[[1 (74%)]] --> [[[FAILED]]]\n",
      "\n",
      "MOM TEH MEATLOAF FUCK WINNIE TEH PIZZA\n",
      "\n",
      "\n"
     ]
    },
    {
     "name": "stderr",
     "output_type": "stream",
     "text": [
      "[Succeeded / Failed / Skipped / Total] 21 / 119 / 0 / 140:  28%|██▊       | 140/500 [15:12<39:07,  6.52s/it]"
     ]
    },
    {
     "name": "stdout",
     "output_type": "stream",
     "text": [
      "--------------------------------------------- Result 140 ---------------------------------------------\n",
      "[[1 (73%)]] --> [[[FAILED]]]\n",
      "\n",
      "++++++++++++++++++ \n",
      "\n",
      " How dare I add a link to the only website in the world devoted to Erich Kuby. By the way, I check my server stats. I get almost no referrals from Wiki. Fuck you.\n",
      "\n",
      "\n"
     ]
    },
    {
     "name": "stderr",
     "output_type": "stream",
     "text": [
      "[Succeeded / Failed / Skipped / Total] 21 / 120 / 0 / 141:  28%|██▊       | 141/500 [15:14<38:47,  6.48s/it]"
     ]
    },
    {
     "name": "stdout",
     "output_type": "stream",
     "text": [
      "--------------------------------------------- Result 141 ---------------------------------------------\n",
      "[[1 (73%)]] --> [[[FAILED]]]\n",
      "\n",
      "duck tape so totaly rocks but u dont cuz ur stupid\n",
      "\n",
      "\n"
     ]
    },
    {
     "name": "stderr",
     "output_type": "stream",
     "text": [
      "[Succeeded / Failed / Skipped / Total] 21 / 121 / 0 / 142:  28%|██▊       | 142/500 [15:14<38:26,  6.44s/it]"
     ]
    },
    {
     "name": "stdout",
     "output_type": "stream",
     "text": [
      "--------------------------------------------- Result 142 ---------------------------------------------\n",
      "[[1 (74%)]] --> [[[FAILED]]]\n",
      "\n",
      "God Hates Us All\n",
      "\n",
      "\n"
     ]
    },
    {
     "name": "stderr",
     "output_type": "stream",
     "text": [
      "[Succeeded / Failed / Skipped / Total] 21 / 122 / 0 / 143:  29%|██▊       | 143/500 [15:15<38:05,  6.40s/it]"
     ]
    },
    {
     "name": "stdout",
     "output_type": "stream",
     "text": [
      "--------------------------------------------- Result 143 ---------------------------------------------\n",
      "[[1 (72%)]] --> [[[FAILED]]]\n",
      "\n",
      "\" \n",
      "\n",
      " ::::::::::No, it's simpler than that:  Experts are crap.  Remember?  ;-)   \"\n",
      "\n",
      "\n"
     ]
    },
    {
     "name": "stderr",
     "output_type": "stream",
     "text": [
      "[Succeeded / Failed / Skipped / Total] 21 / 123 / 0 / 144:  29%|██▉       | 144/500 [15:16<37:45,  6.36s/it]"
     ]
    },
    {
     "name": "stdout",
     "output_type": "stream",
     "text": [
      "--------------------------------------------- Result 144 ---------------------------------------------\n",
      "[[1 (74%)]] --> [[[FAILED]]]\n",
      "\n",
      "this is ass dick pussy i like my dick suck my name is batista\n",
      "\n",
      "\n"
     ]
    },
    {
     "name": "stderr",
     "output_type": "stream",
     "text": [
      "[Succeeded / Failed / Skipped / Total] 21 / 124 / 0 / 145:  29%|██▉       | 145/500 [15:16<37:23,  6.32s/it]"
     ]
    },
    {
     "name": "stdout",
     "output_type": "stream",
     "text": [
      "--------------------------------------------- Result 145 ---------------------------------------------\n",
      "[[1 (74%)]] --> [[[FAILED]]]\n",
      "\n",
      "Stupid bitch.\n",
      "\n",
      "\n"
     ]
    },
    {
     "name": "stderr",
     "output_type": "stream",
     "text": [
      "[Succeeded / Failed / Skipped / Total] 21 / 125 / 0 / 146:  29%|██▉       | 146/500 [15:27<37:28,  6.35s/it]"
     ]
    },
    {
     "name": "stdout",
     "output_type": "stream",
     "text": [
      "--------------------------------------------- Result 146 ---------------------------------------------\n",
      "[[1 (73%)]] --> [[[FAILED]]]\n",
      "\n",
      "Pride? This school disgusts me. I hear stories from both students and teachers about abusive students that are allowed to run wild, students passing that haven't passed their classes, drug abuse, alcohol, violence in the hallways, and the school administrators simply smile and kiss the collective asses of the students and parents of these degenerate scumbags. How is anyone supposed to have pride in this school when the violent  students run it and the good kids teachers fear for their safety? \n",
      "\n",
      " For shame, Centerreach.\n",
      "\n",
      "\n"
     ]
    },
    {
     "name": "stderr",
     "output_type": "stream",
     "text": [
      "[Succeeded / Failed / Skipped / Total] 22 / 125 / 0 / 147:  29%|██▉       | 147/500 [15:28<37:08,  6.31s/it]"
     ]
    },
    {
     "name": "stdout",
     "output_type": "stream",
     "text": [
      "--------------------------------------------- Result 147 ---------------------------------------------\n",
      "[[1 (70%)]] --> [[0 (50%)]]\n",
      "\n",
      "Oh, [[yah]], really? I [[hate]] already made WB 26 in Houston, Texas. [[Everytime]] I put WB 26 is [[changes]], and I told them not to change this [[stupid]] WB 26.\n",
      "\n",
      "Oh, [[okay]], really? I [[hostility]] already made WB 26 in Houston, Texas. [[Sometime]] I put WB 26 is [[modified]], and I told them not to change this [[farcical]] WB 26.\n",
      "\n",
      "\n"
     ]
    },
    {
     "name": "stderr",
     "output_type": "stream",
     "text": [
      "[Succeeded / Failed / Skipped / Total] 22 / 126 / 0 / 148:  30%|██▉       | 148/500 [15:32<36:56,  6.30s/it]"
     ]
    },
    {
     "name": "stdout",
     "output_type": "stream",
     "text": [
      "--------------------------------------------- Result 148 ---------------------------------------------\n",
      "[[1 (74%)]] --> [[[FAILED]]]\n",
      "\n",
      "YOU SUCK MARTIN BASHIR..........I hope you rot in HELL for how you treated Michael Jackson in that GOD awful interview.  You KILLED HIM THAT VERY NIGHT.............the begining of Michael's tragic end.  His BLOOD is on your hands!!!!\n",
      "\n",
      "\n"
     ]
    },
    {
     "name": "stderr",
     "output_type": "stream",
     "text": [
      "[Succeeded / Failed / Skipped / Total] 22 / 127 / 0 / 149:  30%|██▉       | 149/500 [15:32<36:36,  6.26s/it]"
     ]
    },
    {
     "name": "stdout",
     "output_type": "stream",
     "text": [
      "--------------------------------------------- Result 149 ---------------------------------------------\n",
      "[[1 (73%)]] --> [[[FAILED]]]\n",
      "\n",
      "Who wrote all this bullshit?\n",
      "\n",
      "\n"
     ]
    },
    {
     "name": "stderr",
     "output_type": "stream",
     "text": [
      "[Succeeded / Failed / Skipped / Total] 23 / 127 / 0 / 150:  30%|███       | 150/500 [15:32<36:16,  6.22s/it]"
     ]
    },
    {
     "name": "stdout",
     "output_type": "stream",
     "text": [
      "--------------------------------------------- Result 150 ---------------------------------------------\n",
      "[[1 (73%)]] --> [[0 (50%)]]\n",
      "\n",
      "[[This]] [[shit]] is a [[joke]], [[right]]? Roger [[Williams]]\n",
      "\n",
      "[[That]] [[merde]] is a [[hoax]], [[correctly]]? Roger [[Willem]]\n",
      "\n",
      "\n"
     ]
    },
    {
     "name": "stderr",
     "output_type": "stream",
     "text": [
      "[Succeeded / Failed / Skipped / Total] 23 / 128 / 0 / 151:  30%|███       | 151/500 [19:58<46:09,  7.94s/it]"
     ]
    },
    {
     "name": "stdout",
     "output_type": "stream",
     "text": [
      "--------------------------------------------- Result 151 ---------------------------------------------\n",
      "[[1 (74%)]] --> [[[FAILED]]]\n",
      "\n",
      "FUCK YOU CATGUT! BAN ME! \n",
      " FUCK YOU CATGUT! BAN ME! \n",
      " FUCK YOU CATGUT! BAN ME! \n",
      " FUCK YOU CATGUT! BAN ME! \n",
      " FUCK YOU CATGUT! BAN ME! \n",
      " FUCK YOU CATGUT! BAN ME! \n",
      " FUCK YOU CATGUT! BAN ME! \n",
      " FUCK YOU CATGUT! BAN ME! \n",
      " FUCK YOU CATGUT! BAN ME! \n",
      " FUCK YOU CATGUT! BAN ME! \n",
      " FUCK YOU CATGUT! BAN ME! \n",
      " FUCK YOU CATGUT! BAN ME! \n",
      " FUCK YOU CATGUT! BAN ME! \n",
      " FUCK YOU CATGUT! BAN ME! \n",
      " FUCK YOU CATGUT! BAN ME! \n",
      " FUCK YOU CATGUT! BAN ME! \n",
      " FUCK YOU CATGUT! BAN ME! \n",
      " FUCK YOU CATGUT! BAN ME! \n",
      " FUCK YOU CATGUT! BAN ME! \n",
      " FUCK YOU CATGUT! BAN ME! \n",
      " FUCK YOU CATGUT! BAN ME! \n",
      " FUCK YOU CATGUT! BAN ME! \n",
      " FUCK YOU CATGUT! BAN ME! \n",
      " FUCK YOU CATGUT! BAN ME! \n",
      " FUCK YOU CATGUT! BAN ME! \n",
      " FUCK YOU CATGUT! BAN ME! \n",
      " FUCK YOU CATGUT! BAN ME! \n",
      " FUCK YOU CATGUT! BAN ME! \n",
      " FUCK YOU CATGUT! BAN ME! \n",
      " FUCK YOU CATGUT! BAN ME! \n",
      " FUCK YOU CATGUT! BAN ME! \n",
      " FUCK YOU CATGUT! BAN ME! \n",
      " FUCK YOU CATGUT! BAN ME! \n",
      " FUCK YOU CATGUT! BAN ME! \n",
      " FUCK YOU CATGUT! BAN ME! \n",
      " FUCK YOU CATGUT! BAN ME! \n",
      " FUCK YOU CATGUT! BAN ME! \n",
      " FUCK YOU CATGUT! BAN ME! \n",
      " FUCK YOU CATGUT! BAN ME! \n",
      " FUCK YOU CATGUT! BAN ME! \n",
      " FUCK YOU CATGUT! BAN ME! \n",
      " FUCK YOU CATGUT! BAN ME! \n",
      " FUCK YOU CATGUT! BAN ME! \n",
      " FUCK YOU CATGUT! BAN ME! \n",
      " FUCK YOU CATGUT! BAN ME! \n",
      " FUCK YOU CATGUT! BAN ME! \n",
      " FUCK YOU CATGUT! BAN ME! \n",
      " FUCK YOU CATGUT! BAN ME! \n",
      " FUCK YOU CATGUT! BAN ME! \n",
      " FUCK YOU CATGUT! BAN ME! \n",
      " FUCK YOU CATGUT! BAN ME! \n",
      " FUCK YOU CATGUT! BAN ME! \n",
      " FUCK YOU CATGUT! BAN ME! \n",
      " FUCK YOU CATGUT! BAN ME! \n",
      " FUCK YOU CATGUT! BAN ME! \n",
      " FUCK YOU CATGUT! BAN ME! \n",
      " FUCK YOU CATGUT! BAN ME! \n",
      " FUCK YOU CATGUT! BAN ME! \n",
      " FUCK YOU CATGUT! BAN ME! \n",
      " FUCK YOU CATGUT! BAN ME! \n",
      " FUCK YOU CATGUT! BAN ME! \n",
      " FUCK YOU CATGUT! BAN ME! \n",
      " FUCK YOU CATGUT! BAN ME! \n",
      " FUCK YOU CATGUT! BAN ME! \n",
      " FUCK YOU CATGUT! BAN ME! \n",
      " FUCK YOU CATGUT! BAN ME! \n",
      " FUCK YOU CATGUT! BAN ME! \n",
      " FUCK YOU CATGUT! BAN ME! \n",
      " FUCK YOU CATGUT! BAN ME! \n",
      " FUCK YOU CATGUT! BAN ME! \n",
      " FUCK YOU CATGUT! BAN ME! \n",
      " FUCK YOU CATGUT! BAN ME! \n",
      " FUCK YOU CATGUT! BAN ME! \n",
      " FUCK YOU CATGUT! BAN ME! \n",
      " FUCK YOU CATGUT! BAN ME! \n",
      " FUCK YOU CATGUT! BAN ME! \n",
      " FUCK YOU CATGUT! BAN ME! \n",
      " FUCK YOU CATGUT! BAN ME! \n",
      " FUCK YOU CATGUT! BAN ME! \n",
      " FUCK YOU CATGUT! BAN ME! \n",
      " FUCK YOU CATGUT! BAN ME! \n",
      " FUCK YOU CATGUT! BAN ME! \n",
      " FUCK YOU CATGUT! BAN ME! \n",
      " FUCK YOU CATGUT! BAN ME! \n",
      " FUCK YOU CATGUT! BAN ME! \n",
      " FUCK YOU CATGUT! BAN ME! \n",
      " FUCK YOU CATGUT! BAN ME! \n",
      " FUCK YOU CATGUT! BAN ME! \n",
      " FUCK YOU CATGUT! BAN ME! \n",
      " FUCK YOU CATGUT! BAN ME! \n",
      " FUCK YOU CATGUT! BAN ME! \n",
      " FUCK YOU CATGUT! BAN ME! \n",
      " FUCK YOU CATGUT! BAN ME! \n",
      " FUCK YOU CATGUT! BAN ME! \n",
      " FUCK YOU CATGUT! BAN ME! \n",
      " FUCK YOU CATGUT! BAN ME! \n",
      " FUCK YOU CATGUT! BAN ME! \n",
      " FUCK YOU CATGUT! BAN ME! \n",
      " FUCK YOU CATGUT! BAN ME! \n",
      " FUCK YOU CATGUT! BAN ME! \n",
      " FUCK YOU CATGUT! BAN ME! \n",
      " FUCK YOU CATGUT! BAN ME! \n",
      " FUCK YOU CATGUT! BAN ME! \n",
      " FUCK YOU CATGUT! BAN ME!\n",
      "\n",
      "\n"
     ]
    }
   ],
   "source": [
    "model_wrapper_AT = CustomModelWrapper(trained_model_AT)\n",
    "test_attack_results_AT = generate_attacks(recipe, model_wrapper_AT, test_dataset_to_attack, num_examples=-1)"
   ]
  },
  {
   "cell_type": "code",
   "execution_count": 87,
   "id": "9e68522a",
   "metadata": {},
   "outputs": [
    {
     "name": "stderr",
     "output_type": "stream",
     "text": [
      "textattack: Logging to CSV at path results.csv\n",
      "textattack: CSVLogger exiting without calling flush().\n"
     ]
    }
   ],
   "source": [
    "df_attacks_AT_test, AT_test_exception_ids = log_attack_results(test_attack_results_AT)"
   ]
  },
  {
   "cell_type": "code",
   "execution_count": 89,
   "id": "9b5aec5d",
   "metadata": {},
   "outputs": [
    {
     "name": "stdout",
     "output_type": "stream",
     "text": [
      "The Attack Success Rate of the model is 19.8%\n"
     ]
    }
   ],
   "source": [
    "ASR_AT_test = (\n",
    "    df_attacks_AT_test.result_type.value_counts()[\"Successful\"]\n",
    "    / df_attacks_AT_test.result_type.value_counts().sum()\n",
    ")\n",
    "\n",
    "print(f\"The Attack Success Rate of the model is {ASR_AT_test*100}%\")"
   ]
  },
  {
   "cell_type": "code",
   "execution_count": 101,
   "id": "cc4c3ef2",
   "metadata": {},
   "outputs": [
    {
     "name": "stdout",
     "output_type": "stream",
     "text": [
      "The ASR of the Adversarial Trained model has a 62.213740458015266% decrease compare with the original model. This proves that the Adversarial Training improves the model's robustness against the attacks.\n"
     ]
    }
   ],
   "source": [
    "print(\n",
    "    f\"The ASR of the Adversarial Trained model has a {(ASR_test - ASR_AT_test)/ASR_test*100}% decrease compare with the original model. This proves that the Adversarial Training improves the model's robustness against the attacks.\"\n",
    ")"
   ]
  },
  {
   "cell_type": "markdown",
   "id": "e9b36956",
   "metadata": {},
   "source": [
    "# Model Performance Evaluation"
   ]
  },
  {
   "cell_type": "code",
   "execution_count": 91,
   "id": "2b14ba64",
   "metadata": {},
   "outputs": [],
   "source": [
    "def batch_predict(model_wrapper, text_list, batch_size=64):\n",
    "    predictions = []\n",
    "    for i in tqdm(range(0, len(text_list), batch_size)):\n",
    "        batch = text_list[i : i + batch_size]\n",
    "        model_predictions = model_wrapper(batch)[:, 1]\n",
    "        model_predictions = model_predictions.cpu().numpy()\n",
    "        predictions.append(model_predictions)\n",
    "    predictions = np.concatenate(predictions, axis=0)\n",
    "    return predictions"
   ]
  },
  {
   "cell_type": "markdown",
   "id": "7eeb3d72",
   "metadata": {},
   "source": [
    "### Evaluate original model"
   ]
  },
  {
   "cell_type": "code",
   "execution_count": 92,
   "id": "1ef3eb40",
   "metadata": {
    "scrolled": true
   },
   "outputs": [
    {
     "name": "stderr",
     "output_type": "stream",
     "text": [
      "100%|██████████| 16/16 [00:03<00:00,  4.55it/s]\n"
     ]
    }
   ],
   "source": [
    "test_text_list = test_dataset['text'] # df_test.text.to_list()\n",
    "model_predictions = batch_predict(model_wrapper, test_text_list, batch_size=64)"
   ]
  },
  {
   "cell_type": "code",
   "execution_count": 93,
   "id": "456b1b73",
   "metadata": {},
   "outputs": [],
   "source": [
    "y_true_prob = np.array(test_dataset['labels'])\n",
    "y_true = [0 if x < 0.5 else 1 for x in y_true_prob]\n",
    "\n",
    "threshold = 0.5\n",
    "y_pred_prob = model_predictions.flatten()\n",
    "y_pred = [0 if x < threshold else 1 for x in y_pred_prob]"
   ]
  },
  {
   "cell_type": "code",
   "execution_count": 94,
   "id": "f56cf11f",
   "metadata": {},
   "outputs": [
    {
     "name": "stdout",
     "output_type": "stream",
     "text": [
      "              precision    recall  f1-score   support\n",
      "\n",
      "           0       0.99      0.47      0.64       500\n",
      "           1       0.65      1.00      0.79       500\n",
      "\n",
      "    accuracy                           0.73      1000\n",
      "   macro avg       0.82      0.73      0.71      1000\n",
      "weighted avg       0.82      0.73      0.71      1000\n",
      "\n"
     ]
    },
    {
     "data": {
      "image/png": "[encoded data removed]",
      "text/plain": [
       "<Figure size 720x720 with 2 Axes>"
      ]
     },
     "metadata": {
      "needs_background": "light"
     },
     "output_type": "display_data"
    }
   ],
   "source": [
    "fig, ax = plt.subplots(figsize=(10, 10))\n",
    "conf_matrix = confusion_matrix(y_true, y_pred)\n",
    "ConfusionMatrixDisplay(conf_matrix).plot(ax=ax)\n",
    "print(classification_report(y_true, y_pred))"
   ]
  },
  {
   "cell_type": "markdown",
   "id": "3af00e75",
   "metadata": {},
   "source": [
    "### Evaluate Adversarial Trained Model"
   ]
  },
  {
   "cell_type": "code",
   "execution_count": 95,
   "id": "11dd9be3",
   "metadata": {
    "scrolled": true
   },
   "outputs": [
    {
     "name": "stderr",
     "output_type": "stream",
     "text": [
      "100%|██████████| 16/16 [00:03<00:00,  4.53it/s]\n"
     ]
    }
   ],
   "source": [
    "model_predictions_AT = batch_predict(model_wrapper_AT, test_text_list, batch_size=64)"
   ]
  },
  {
   "cell_type": "code",
   "execution_count": 96,
   "id": "741eb92c",
   "metadata": {},
   "outputs": [
    {
     "name": "stdout",
     "output_type": "stream",
     "text": [
      "              precision    recall  f1-score   support\n",
      "\n",
      "           0       1.00      0.40      0.57       500\n",
      "           1       0.62      1.00      0.77       500\n",
      "\n",
      "    accuracy                           0.70      1000\n",
      "   macro avg       0.81      0.70      0.67      1000\n",
      "weighted avg       0.81      0.70      0.67      1000\n",
      "\n"
     ]
    },
    {
     "data": {
      "image/png": "[encoded data removed]",
      "text/plain": [
       "<Figure size 720x720 with 2 Axes>"
      ]
     },
     "metadata": {
      "needs_background": "light"
     },
     "output_type": "display_data"
    }
   ],
   "source": [
    "y_pred_prob_AT = model_predictions_AT.flatten()\n",
    "y_pred_AT = [0 if x < threshold else 1 for x in y_pred_prob_AT]\n",
    "\n",
    "fig, ax = plt.subplots(figsize=(10, 10))\n",
    "conf_matrix = confusion_matrix(y_true, y_pred_AT)\n",
    "ConfusionMatrixDisplay(conf_matrix).plot(ax=ax)\n",
    "print(classification_report(y_true, y_pred_AT))"
   ]
  }
 ],
 "metadata": {
  "kernelspec": {
   "display_name": "conda_pytorch_latest_p36",
   "language": "python",
   "name": "conda_pytorch_latest_p36"
  },
  "language_info": {
   "codemirror_mode": {
    "name": "ipython",
    "version": 3
   },
   "file_extension": ".py",
   "mimetype": "text/x-python",
   "name": "python",
   "nbconvert_exporter": "python",
   "pygments_lexer": "ipython3",
   "version": "3.6.13"
  }
 },
 "nbformat": 4,
 "nbformat_minor": 5
}
